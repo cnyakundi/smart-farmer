{
  "nbformat": 4,
  "nbformat_minor": 2,
  "metadata": {
    "colab": {
      "name": "Group Project. ipynb",
      "provenance": [],
      "collapsed_sections": [
        "GRbL2iRPoElM"
      ]
    },
    "kernelspec": {
      "name": "python3",
      "display_name": "Python 3"
    },
    "language_info": {
      "name": "python"
    }
  },
  "cells": [
    {
      "cell_type": "markdown",
      "source": [
        "## Importing our libraries"
      ],
      "metadata": {
        "id": "9SWWGCtGn2AA"
      }
    },
    {
      "cell_type": "code",
      "execution_count": null,
      "source": [],
      "outputs": [],
      "metadata": {}
    },
    {
      "cell_type": "code",
      "execution_count": null,
      "source": [],
      "outputs": [],
      "metadata": {
        "id": "yXywqh4WM-dd"
      }
    },
    {
      "cell_type": "code",
      "execution_count": null,
      "source": [
        "import pandas as pd\r\n",
        "import numpy as np\r\n",
        "import requests"
      ],
      "outputs": [],
      "metadata": {
        "id": "ULUf6M1ul1cx"
      }
    },
    {
      "cell_type": "markdown",
      "source": [
        "### Importing Visualizations \n"
      ],
      "metadata": {
        "id": "BR0WOjGrfRe_"
      }
    },
    {
      "cell_type": "code",
      "execution_count": null,
      "source": [],
      "outputs": [],
      "metadata": {}
    },
    {
      "cell_type": "code",
      "execution_count": null,
      "source": [
        "#For visalizations \r\n",
        "\r\n",
        "import cufflinks as cf\r\n",
        "\r\n",
        "from plotly.offline import download_plotlyjs, init_notebook_mode, plot, iplot\r\n",
        "\r\n",
        "init_notebook_mode(connected=True)\r\n",
        "\r\n",
        "cf.go_offline()\r\n",
        "\r\n",
        "%matplotlib inline"
      ],
      "outputs": [
        {
          "output_type": "display_data",
          "data": {
            "text/html": [
              "        <script type=\"text/javascript\">\n",
              "        window.PlotlyConfig = {MathJaxConfig: 'local'};\n",
              "        if (window.MathJax) {MathJax.Hub.Config({SVG: {font: \"STIX-Web\"}});}\n",
              "        if (typeof require !== 'undefined') {\n",
              "        require.undef(\"plotly\");\n",
              "        requirejs.config({\n",
              "            paths: {\n",
              "                'plotly': ['https://cdn.plot.ly/plotly-latest.min']\n",
              "            }\n",
              "        });\n",
              "        require(['plotly'], function(Plotly) {\n",
              "            window._Plotly = Plotly;\n",
              "        });\n",
              "        }\n",
              "        </script>\n",
              "        "
            ]
          },
          "metadata": {
            "tags": []
          }
        },
        {
          "output_type": "display_data",
          "data": {
            "text/html": [
              "        <script type=\"text/javascript\">\n",
              "        window.PlotlyConfig = {MathJaxConfig: 'local'};\n",
              "        if (window.MathJax) {MathJax.Hub.Config({SVG: {font: \"STIX-Web\"}});}\n",
              "        if (typeof require !== 'undefined') {\n",
              "        require.undef(\"plotly\");\n",
              "        requirejs.config({\n",
              "            paths: {\n",
              "                'plotly': ['https://cdn.plot.ly/plotly-latest.min']\n",
              "            }\n",
              "        });\n",
              "        require(['plotly'], function(Plotly) {\n",
              "            window._Plotly = Plotly;\n",
              "        });\n",
              "        }\n",
              "        </script>\n",
              "        "
            ]
          },
          "metadata": {
            "tags": []
          }
        }
      ],
      "metadata": {
        "id": "bZx0NdoWfWUo",
        "colab": {
          "base_uri": "https://localhost:8080/",
          "height": 17
        },
        "outputId": "afeec323-f8cd-4024-ce01-fd9434b066a9"
      }
    },
    {
      "cell_type": "markdown",
      "source": [
        "## Uploading the data"
      ],
      "metadata": {
        "id": "GRbL2iRPoElM"
      }
    },
    {
      "cell_type": "code",
      "execution_count": null,
      "source": [
        "crops=pd.read_csv(\"crops.csv\")\r\n",
        "crops.head()"
      ],
      "outputs": [
        {
          "output_type": "execute_result",
          "data": {
            "text/plain": [
              "  Produce_Variety   Commodity_Type  ...                    Date  OBJECTID\n",
              "0    Horticulture         Cabbages  ...  01/01/2012 12:00:00 AM         0\n",
              "1    Horticulture  Cooking Bananas  ...  01/01/2012 12:00:00 AM         1\n",
              "2    Horticulture     Ripe Bananas  ...  01/01/2012 12:00:00 AM         2\n",
              "3    Horticulture          Carrots  ...  01/01/2012 12:00:00 AM         3\n",
              "4    Horticulture         Tomatoes  ...  01/01/2012 12:00:00 AM         4\n",
              "\n",
              "[5 rows x 7 columns]"
            ],
            "text/html": [
              "<div>\n",
              "<style scoped>\n",
              "    .dataframe tbody tr th:only-of-type {\n",
              "        vertical-align: middle;\n",
              "    }\n",
              "\n",
              "    .dataframe tbody tr th {\n",
              "        vertical-align: top;\n",
              "    }\n",
              "\n",
              "    .dataframe thead th {\n",
              "        text-align: right;\n",
              "    }\n",
              "</style>\n",
              "<table border=\"1\" class=\"dataframe\">\n",
              "  <thead>\n",
              "    <tr style=\"text-align: right;\">\n",
              "      <th></th>\n",
              "      <th>Produce_Variety</th>\n",
              "      <th>Commodity_Type</th>\n",
              "      <th>Unit</th>\n",
              "      <th>Volume_in_Kgs</th>\n",
              "      <th>Values_in_Ksh</th>\n",
              "      <th>Date</th>\n",
              "      <th>OBJECTID</th>\n",
              "    </tr>\n",
              "  </thead>\n",
              "  <tbody>\n",
              "    <tr>\n",
              "      <th>0</th>\n",
              "      <td>Horticulture</td>\n",
              "      <td>Cabbages</td>\n",
              "      <td>Ext Bag</td>\n",
              "      <td>126</td>\n",
              "      <td>KES2205.00</td>\n",
              "      <td>01/01/2012 12:00:00 AM</td>\n",
              "      <td>0</td>\n",
              "    </tr>\n",
              "    <tr>\n",
              "      <th>1</th>\n",
              "      <td>Horticulture</td>\n",
              "      <td>Cooking Bananas</td>\n",
              "      <td>Med Bunch</td>\n",
              "      <td>22</td>\n",
              "      <td>KES511.00</td>\n",
              "      <td>01/01/2012 12:00:00 AM</td>\n",
              "      <td>1</td>\n",
              "    </tr>\n",
              "    <tr>\n",
              "      <th>2</th>\n",
              "      <td>Horticulture</td>\n",
              "      <td>Ripe Bananas</td>\n",
              "      <td>Med Bunch</td>\n",
              "      <td>14</td>\n",
              "      <td>KES616.00</td>\n",
              "      <td>01/01/2012 12:00:00 AM</td>\n",
              "      <td>2</td>\n",
              "    </tr>\n",
              "    <tr>\n",
              "      <th>3</th>\n",
              "      <td>Horticulture</td>\n",
              "      <td>Carrots</td>\n",
              "      <td>Ext Bag</td>\n",
              "      <td>138</td>\n",
              "      <td>KES2833.00</td>\n",
              "      <td>01/01/2012 12:00:00 AM</td>\n",
              "      <td>3</td>\n",
              "    </tr>\n",
              "    <tr>\n",
              "      <th>4</th>\n",
              "      <td>Horticulture</td>\n",
              "      <td>Tomatoes</td>\n",
              "      <td>Lg Box</td>\n",
              "      <td>64</td>\n",
              "      <td>KES3411.00</td>\n",
              "      <td>01/01/2012 12:00:00 AM</td>\n",
              "      <td>4</td>\n",
              "    </tr>\n",
              "  </tbody>\n",
              "</table>\n",
              "</div>"
            ]
          },
          "metadata": {
            "tags": []
          },
          "execution_count": 3
        }
      ],
      "metadata": {
        "id": "LthO7aVIfPu0",
        "colab": {
          "base_uri": "https://localhost:8080/",
          "height": 204
        },
        "outputId": "63b0db5d-3c13-4fae-86c5-97c25c463c3c"
      }
    },
    {
      "cell_type": "code",
      "execution_count": null,
      "source": [
        "#Upload data set 2 for main food crops per counties "
      ],
      "outputs": [],
      "metadata": {
        "id": "LFb8kY-TIrX3"
      }
    },
    {
      "cell_type": "code",
      "execution_count": null,
      "source": [
        "counties = pd.read_csv('counties.csv')\r\n",
        "counties.head()"
      ],
      "outputs": [
        {
          "output_type": "execute_result",
          "data": {
            "text/plain": [
              "            County   CROP Area  (HA) Production  (Tons)  Yield ( Tons/HA)\n",
              "0          BARINGO  Beans      15669              11034               0.7\n",
              "1            BOMET  Beans      39002           50140.76               1.3\n",
              "2          BUNGOMA  Beans      77367           61051.12               0.8\n",
              "3            BUSIA  Beans      27351              36422               1.3\n",
              "4  ELGEYO MARAKWET  Beans      14873           16354.62               1.1"
            ],
            "text/html": [
              "<div>\n",
              "<style scoped>\n",
              "    .dataframe tbody tr th:only-of-type {\n",
              "        vertical-align: middle;\n",
              "    }\n",
              "\n",
              "    .dataframe tbody tr th {\n",
              "        vertical-align: top;\n",
              "    }\n",
              "\n",
              "    .dataframe thead th {\n",
              "        text-align: right;\n",
              "    }\n",
              "</style>\n",
              "<table border=\"1\" class=\"dataframe\">\n",
              "  <thead>\n",
              "    <tr style=\"text-align: right;\">\n",
              "      <th></th>\n",
              "      <th>County</th>\n",
              "      <th>CROP</th>\n",
              "      <th>Area  (HA)</th>\n",
              "      <th>Production  (Tons)</th>\n",
              "      <th>Yield ( Tons/HA)</th>\n",
              "    </tr>\n",
              "  </thead>\n",
              "  <tbody>\n",
              "    <tr>\n",
              "      <th>0</th>\n",
              "      <td>BARINGO</td>\n",
              "      <td>Beans</td>\n",
              "      <td>15669</td>\n",
              "      <td>11034</td>\n",
              "      <td>0.7</td>\n",
              "    </tr>\n",
              "    <tr>\n",
              "      <th>1</th>\n",
              "      <td>BOMET</td>\n",
              "      <td>Beans</td>\n",
              "      <td>39002</td>\n",
              "      <td>50140.76</td>\n",
              "      <td>1.3</td>\n",
              "    </tr>\n",
              "    <tr>\n",
              "      <th>2</th>\n",
              "      <td>BUNGOMA</td>\n",
              "      <td>Beans</td>\n",
              "      <td>77367</td>\n",
              "      <td>61051.12</td>\n",
              "      <td>0.8</td>\n",
              "    </tr>\n",
              "    <tr>\n",
              "      <th>3</th>\n",
              "      <td>BUSIA</td>\n",
              "      <td>Beans</td>\n",
              "      <td>27351</td>\n",
              "      <td>36422</td>\n",
              "      <td>1.3</td>\n",
              "    </tr>\n",
              "    <tr>\n",
              "      <th>4</th>\n",
              "      <td>ELGEYO MARAKWET</td>\n",
              "      <td>Beans</td>\n",
              "      <td>14873</td>\n",
              "      <td>16354.62</td>\n",
              "      <td>1.1</td>\n",
              "    </tr>\n",
              "  </tbody>\n",
              "</table>\n",
              "</div>"
            ]
          },
          "metadata": {
            "tags": []
          },
          "execution_count": 5
        }
      ],
      "metadata": {
        "colab": {
          "base_uri": "https://localhost:8080/",
          "height": 204
        },
        "id": "4Poufvm1g4f4",
        "outputId": "328178ee-92d3-4ecd-e295-95b0e3222fe5"
      }
    },
    {
      "cell_type": "code",
      "execution_count": null,
      "source": [
        "# prices dataset\r\n",
        "prices = pd.read_excel('prices.xlsx')\r\n",
        "prices.head()"
      ],
      "outputs": [
        {
          "output_type": "execute_result",
          "data": {
            "text/plain": [
              "  Unnamed: 0      COMMODITY     Unit  ...      Average  Maximum.     Minimum.\n",
              "0     CEREAL      Dry Maize      Bag  ...  2953.561508    3600.0  2261.111111\n",
              "1        NaN    Green Maize  Ext Bag  ...  2682.976190    6100.0  1000.000000\n",
              "2        NaN  Finger Millet      Bag  ...  6161.057692    7800.0  4500.000000\n",
              "3        NaN        Sorghum      Bag  ...  3667.986111    6500.0  1830.000000\n",
              "4        NaN          Wheat      Bag  ...  3969.166667    5500.0  2800.000000\n",
              "\n",
              "[5 rows x 21 columns]"
            ],
            "text/html": [
              "<div>\n",
              "<style scoped>\n",
              "    .dataframe tbody tr th:only-of-type {\n",
              "        vertical-align: middle;\n",
              "    }\n",
              "\n",
              "    .dataframe tbody tr th {\n",
              "        vertical-align: top;\n",
              "    }\n",
              "\n",
              "    .dataframe thead th {\n",
              "        text-align: right;\n",
              "    }\n",
              "</style>\n",
              "<table border=\"1\" class=\"dataframe\">\n",
              "  <thead>\n",
              "    <tr style=\"text-align: right;\">\n",
              "      <th></th>\n",
              "      <th>Unnamed: 0</th>\n",
              "      <th>COMMODITY</th>\n",
              "      <th>Unit</th>\n",
              "      <th>Kg</th>\n",
              "      <th>Nairobi</th>\n",
              "      <th>Mombasa</th>\n",
              "      <th>Kisumu</th>\n",
              "      <th>Nakuru</th>\n",
              "      <th>Eldoret</th>\n",
              "      <th>Malindi</th>\n",
              "      <th>Kitale</th>\n",
              "      <th>Kisii</th>\n",
              "      <th>Kitui</th>\n",
              "      <th>Busia</th>\n",
              "      <th>Loitoktok</th>\n",
              "      <th>Garissa</th>\n",
              "      <th>Karatina</th>\n",
              "      <th>Embu</th>\n",
              "      <th>Average</th>\n",
              "      <th>Maximum.</th>\n",
              "      <th>Minimum.</th>\n",
              "    </tr>\n",
              "  </thead>\n",
              "  <tbody>\n",
              "    <tr>\n",
              "      <th>0</th>\n",
              "      <td>CEREAL</td>\n",
              "      <td>Dry Maize</td>\n",
              "      <td>Bag</td>\n",
              "      <td>90.0</td>\n",
              "      <td>2995.000000</td>\n",
              "      <td>3100.000000</td>\n",
              "      <td>3200.000000</td>\n",
              "      <td>2380.000000</td>\n",
              "      <td>2600.0</td>\n",
              "      <td>3240.0</td>\n",
              "      <td>2261.111111</td>\n",
              "      <td>3200.0</td>\n",
              "      <td>3400.0</td>\n",
              "      <td>2373.75</td>\n",
              "      <td>3200.0</td>\n",
              "      <td>3600.0</td>\n",
              "      <td>2800.0</td>\n",
              "      <td>3000.0</td>\n",
              "      <td>2953.561508</td>\n",
              "      <td>3600.0</td>\n",
              "      <td>2261.111111</td>\n",
              "    </tr>\n",
              "    <tr>\n",
              "      <th>1</th>\n",
              "      <td>NaN</td>\n",
              "      <td>Green Maize</td>\n",
              "      <td>Ext Bag</td>\n",
              "      <td>115.0</td>\n",
              "      <td>3199.583333</td>\n",
              "      <td>5155.416667</td>\n",
              "      <td>1990.000000</td>\n",
              "      <td>1941.666667</td>\n",
              "      <td>1725.0</td>\n",
              "      <td>3000.0</td>\n",
              "      <td>1200.000000</td>\n",
              "      <td>3500.0</td>\n",
              "      <td>2000.0</td>\n",
              "      <td>1500.00</td>\n",
              "      <td>3250.0</td>\n",
              "      <td>6100.0</td>\n",
              "      <td>1000.0</td>\n",
              "      <td>2000.0</td>\n",
              "      <td>2682.976190</td>\n",
              "      <td>6100.0</td>\n",
              "      <td>1000.000000</td>\n",
              "    </tr>\n",
              "    <tr>\n",
              "      <th>2</th>\n",
              "      <td>NaN</td>\n",
              "      <td>Finger Millet</td>\n",
              "      <td>Bag</td>\n",
              "      <td>90.0</td>\n",
              "      <td>5530.000000</td>\n",
              "      <td>6525.000000</td>\n",
              "      <td>7200.000000</td>\n",
              "      <td>5311.250000</td>\n",
              "      <td>7200.0</td>\n",
              "      <td>5602.5</td>\n",
              "      <td>4500.000000</td>\n",
              "      <td>7300.0</td>\n",
              "      <td>7800.0</td>\n",
              "      <td>4725.00</td>\n",
              "      <td>NaN</td>\n",
              "      <td>7200.0</td>\n",
              "      <td>6000.0</td>\n",
              "      <td>5200.0</td>\n",
              "      <td>6161.057692</td>\n",
              "      <td>7800.0</td>\n",
              "      <td>4500.000000</td>\n",
              "    </tr>\n",
              "    <tr>\n",
              "      <th>3</th>\n",
              "      <td>NaN</td>\n",
              "      <td>Sorghum</td>\n",
              "      <td>Bag</td>\n",
              "      <td>90.0</td>\n",
              "      <td>3470.000000</td>\n",
              "      <td>3366.666667</td>\n",
              "      <td>3416.666667</td>\n",
              "      <td>3100.000000</td>\n",
              "      <td>3200.0</td>\n",
              "      <td>4357.5</td>\n",
              "      <td>1830.000000</td>\n",
              "      <td>NaN</td>\n",
              "      <td>4500.0</td>\n",
              "      <td>2475.00</td>\n",
              "      <td>NaN</td>\n",
              "      <td>6500.0</td>\n",
              "      <td>3000.0</td>\n",
              "      <td>4800.0</td>\n",
              "      <td>3667.986111</td>\n",
              "      <td>6500.0</td>\n",
              "      <td>1830.000000</td>\n",
              "    </tr>\n",
              "    <tr>\n",
              "      <th>4</th>\n",
              "      <td>NaN</td>\n",
              "      <td>Wheat</td>\n",
              "      <td>Bag</td>\n",
              "      <td>90.0</td>\n",
              "      <td>NaN</td>\n",
              "      <td>NaN</td>\n",
              "      <td>NaN</td>\n",
              "      <td>3515.000000</td>\n",
              "      <td>2800.0</td>\n",
              "      <td>4500.0</td>\n",
              "      <td>NaN</td>\n",
              "      <td>NaN</td>\n",
              "      <td>NaN</td>\n",
              "      <td>NaN</td>\n",
              "      <td>NaN</td>\n",
              "      <td>5500.0</td>\n",
              "      <td>3500.0</td>\n",
              "      <td>4000.0</td>\n",
              "      <td>3969.166667</td>\n",
              "      <td>5500.0</td>\n",
              "      <td>2800.000000</td>\n",
              "    </tr>\n",
              "  </tbody>\n",
              "</table>\n",
              "</div>"
            ]
          },
          "metadata": {
            "tags": []
          },
          "execution_count": 55
        }
      ],
      "metadata": {
        "colab": {
          "base_uri": "https://localhost:8080/",
          "height": 275
        },
        "id": "YH9jwfPxH5Na",
        "outputId": "2dfd01fd-66ee-430b-dfd3-832d61667a97"
      }
    },
    {
      "cell_type": "code",
      "execution_count": null,
      "source": [
        "crops.head(5)"
      ],
      "outputs": [
        {
          "output_type": "execute_result",
          "data": {
            "text/plain": [
              "  Produce_Variety   Commodity_Type  ...                    Date  OBJECTID\n",
              "0    Horticulture         Cabbages  ...  01/01/2012 12:00:00 AM         0\n",
              "1    Horticulture  Cooking Bananas  ...  01/01/2012 12:00:00 AM         1\n",
              "2    Horticulture     Ripe Bananas  ...  01/01/2012 12:00:00 AM         2\n",
              "3    Horticulture          Carrots  ...  01/01/2012 12:00:00 AM         3\n",
              "4    Horticulture         Tomatoes  ...  01/01/2012 12:00:00 AM         4\n",
              "\n",
              "[5 rows x 7 columns]"
            ],
            "text/html": [
              "<div>\n",
              "<style scoped>\n",
              "    .dataframe tbody tr th:only-of-type {\n",
              "        vertical-align: middle;\n",
              "    }\n",
              "\n",
              "    .dataframe tbody tr th {\n",
              "        vertical-align: top;\n",
              "    }\n",
              "\n",
              "    .dataframe thead th {\n",
              "        text-align: right;\n",
              "    }\n",
              "</style>\n",
              "<table border=\"1\" class=\"dataframe\">\n",
              "  <thead>\n",
              "    <tr style=\"text-align: right;\">\n",
              "      <th></th>\n",
              "      <th>Produce_Variety</th>\n",
              "      <th>Commodity_Type</th>\n",
              "      <th>Unit</th>\n",
              "      <th>Volume_in_Kgs</th>\n",
              "      <th>Values_in_Ksh</th>\n",
              "      <th>Date</th>\n",
              "      <th>OBJECTID</th>\n",
              "    </tr>\n",
              "  </thead>\n",
              "  <tbody>\n",
              "    <tr>\n",
              "      <th>0</th>\n",
              "      <td>Horticulture</td>\n",
              "      <td>Cabbages</td>\n",
              "      <td>Ext Bag</td>\n",
              "      <td>126</td>\n",
              "      <td>KES2205.00</td>\n",
              "      <td>01/01/2012 12:00:00 AM</td>\n",
              "      <td>0</td>\n",
              "    </tr>\n",
              "    <tr>\n",
              "      <th>1</th>\n",
              "      <td>Horticulture</td>\n",
              "      <td>Cooking Bananas</td>\n",
              "      <td>Med Bunch</td>\n",
              "      <td>22</td>\n",
              "      <td>KES511.00</td>\n",
              "      <td>01/01/2012 12:00:00 AM</td>\n",
              "      <td>1</td>\n",
              "    </tr>\n",
              "    <tr>\n",
              "      <th>2</th>\n",
              "      <td>Horticulture</td>\n",
              "      <td>Ripe Bananas</td>\n",
              "      <td>Med Bunch</td>\n",
              "      <td>14</td>\n",
              "      <td>KES616.00</td>\n",
              "      <td>01/01/2012 12:00:00 AM</td>\n",
              "      <td>2</td>\n",
              "    </tr>\n",
              "    <tr>\n",
              "      <th>3</th>\n",
              "      <td>Horticulture</td>\n",
              "      <td>Carrots</td>\n",
              "      <td>Ext Bag</td>\n",
              "      <td>138</td>\n",
              "      <td>KES2833.00</td>\n",
              "      <td>01/01/2012 12:00:00 AM</td>\n",
              "      <td>3</td>\n",
              "    </tr>\n",
              "    <tr>\n",
              "      <th>4</th>\n",
              "      <td>Horticulture</td>\n",
              "      <td>Tomatoes</td>\n",
              "      <td>Lg Box</td>\n",
              "      <td>64</td>\n",
              "      <td>KES3411.00</td>\n",
              "      <td>01/01/2012 12:00:00 AM</td>\n",
              "      <td>4</td>\n",
              "    </tr>\n",
              "  </tbody>\n",
              "</table>\n",
              "</div>"
            ]
          },
          "metadata": {
            "tags": []
          },
          "execution_count": 6
        }
      ],
      "metadata": {
        "colab": {
          "base_uri": "https://localhost:8080/",
          "height": 204
        },
        "id": "J-k0_Q8Vk7sM",
        "outputId": "71349859-a399-4a9f-a522-1b3eb7501c3e"
      }
    },
    {
      "cell_type": "markdown",
      "source": [
        "## Getting information on our dataset"
      ],
      "metadata": {
        "id": "yqCCii63oq9d"
      }
    },
    {
      "cell_type": "code",
      "execution_count": null,
      "source": [
        "crops.info()"
      ],
      "outputs": [
        {
          "output_type": "stream",
          "name": "stdout",
          "text": [
            "<class 'pandas.core.frame.DataFrame'>\n",
            "RangeIndex: 1145 entries, 0 to 1144\n",
            "Data columns (total 7 columns):\n",
            " #   Column           Non-Null Count  Dtype \n",
            "---  ------           --------------  ----- \n",
            " 0   Produce_Variety  1145 non-null   object\n",
            " 1   Commodity_Type   1145 non-null   object\n",
            " 2   Unit             1145 non-null   object\n",
            " 3   Volume_in_Kgs    1145 non-null   int64 \n",
            " 4   Values_in_Ksh    1143 non-null   object\n",
            " 5   Date             1145 non-null   object\n",
            " 6   OBJECTID         1145 non-null   int64 \n",
            "dtypes: int64(2), object(5)\n",
            "memory usage: 62.7+ KB\n"
          ]
        }
      ],
      "metadata": {
        "colab": {
          "base_uri": "https://localhost:8080/"
        },
        "id": "tomHzIW8njGt",
        "outputId": "a740ee00-73d2-4917-ebb1-09a655f901c1"
      }
    },
    {
      "cell_type": "markdown",
      "source": [
        "## Functions"
      ],
      "metadata": {
        "id": "LLteXuqWfguF"
      }
    },
    {
      "cell_type": "code",
      "execution_count": null,
      "source": [
        "#We will define all our functions here to use\r\n",
        "def means(values):\r\n",
        "  the_mean = sum(values)/len(values)\r\n",
        "  return the_mean\r\n",
        "\r\n",
        "#Function to take in columns with spaces bewteen and retutn striped\r\n",
        "def strip(val):\r\n",
        "  striped = val.str.strip()\r\n",
        "  return striped\r\n",
        "\r\n",
        "#checking for null\r\n",
        "\r\n",
        "def nuls(val):\r\n",
        "  no_null = val.isnull().sum()\r\n",
        "  return no_null\r\n",
        "\r\n",
        "# Check for duplicates \r\n",
        "def duplicates(val):\r\n",
        "  no_duplicate=val.duplicated().sum()\r\n",
        "  return no_duplicate"
      ],
      "outputs": [],
      "metadata": {
        "id": "MhF9kuM4flfu"
      }
    },
    {
      "cell_type": "markdown",
      "source": [
        "## Data cleaning"
      ],
      "metadata": {
        "id": "ZMKeivhEoyRA"
      }
    },
    {
      "cell_type": "markdown",
      "source": [
        "### Validity "
      ],
      "metadata": {
        "id": "fXgSKY9hFRRL"
      }
    },
    {
      "cell_type": "code",
      "execution_count": null,
      "source": [],
      "outputs": [],
      "metadata": {
        "id": "pAceKYcsw22j"
      }
    },
    {
      "cell_type": "code",
      "execution_count": null,
      "source": [
        "counties.head()"
      ],
      "outputs": [
        {
          "output_type": "execute_result",
          "data": {
            "text/plain": [
              "            County   CROP Area  (HA) Production  (Tons)  Yield ( Tons/HA)\n",
              "0          BARINGO  Beans      15669              11034               0.7\n",
              "1            BOMET  Beans      39002           50140.76               1.3\n",
              "2          BUNGOMA  Beans      77367           61051.12               0.8\n",
              "3            BUSIA  Beans      27351              36422               1.3\n",
              "4  ELGEYO MARAKWET  Beans      14873           16354.62               1.1"
            ],
            "text/html": [
              "<div>\n",
              "<style scoped>\n",
              "    .dataframe tbody tr th:only-of-type {\n",
              "        vertical-align: middle;\n",
              "    }\n",
              "\n",
              "    .dataframe tbody tr th {\n",
              "        vertical-align: top;\n",
              "    }\n",
              "\n",
              "    .dataframe thead th {\n",
              "        text-align: right;\n",
              "    }\n",
              "</style>\n",
              "<table border=\"1\" class=\"dataframe\">\n",
              "  <thead>\n",
              "    <tr style=\"text-align: right;\">\n",
              "      <th></th>\n",
              "      <th>County</th>\n",
              "      <th>CROP</th>\n",
              "      <th>Area  (HA)</th>\n",
              "      <th>Production  (Tons)</th>\n",
              "      <th>Yield ( Tons/HA)</th>\n",
              "    </tr>\n",
              "  </thead>\n",
              "  <tbody>\n",
              "    <tr>\n",
              "      <th>0</th>\n",
              "      <td>BARINGO</td>\n",
              "      <td>Beans</td>\n",
              "      <td>15669</td>\n",
              "      <td>11034</td>\n",
              "      <td>0.7</td>\n",
              "    </tr>\n",
              "    <tr>\n",
              "      <th>1</th>\n",
              "      <td>BOMET</td>\n",
              "      <td>Beans</td>\n",
              "      <td>39002</td>\n",
              "      <td>50140.76</td>\n",
              "      <td>1.3</td>\n",
              "    </tr>\n",
              "    <tr>\n",
              "      <th>2</th>\n",
              "      <td>BUNGOMA</td>\n",
              "      <td>Beans</td>\n",
              "      <td>77367</td>\n",
              "      <td>61051.12</td>\n",
              "      <td>0.8</td>\n",
              "    </tr>\n",
              "    <tr>\n",
              "      <th>3</th>\n",
              "      <td>BUSIA</td>\n",
              "      <td>Beans</td>\n",
              "      <td>27351</td>\n",
              "      <td>36422</td>\n",
              "      <td>1.3</td>\n",
              "    </tr>\n",
              "    <tr>\n",
              "      <th>4</th>\n",
              "      <td>ELGEYO MARAKWET</td>\n",
              "      <td>Beans</td>\n",
              "      <td>14873</td>\n",
              "      <td>16354.62</td>\n",
              "      <td>1.1</td>\n",
              "    </tr>\n",
              "  </tbody>\n",
              "</table>\n",
              "</div>"
            ]
          },
          "metadata": {
            "tags": []
          },
          "execution_count": 9
        }
      ],
      "metadata": {
        "colab": {
          "base_uri": "https://localhost:8080/",
          "height": 204
        },
        "id": "FIIN0_VVw2tq",
        "outputId": "8226566b-743d-4239-ade4-511028d96d74"
      }
    },
    {
      "cell_type": "code",
      "execution_count": null,
      "source": [
        "# Ronald\r\n",
        "#Drop illerevant columns, remove spaces at the beginign and end of  the columns\r\n",
        "\r\n",
        "#Strip spaces within\r\n",
        "strip((crops.Produce_Variety))\r\n",
        "strip((crops.Commodity_Type))\r\n",
        "#strip counties dataset\r\n",
        "strip((counties.County))\r\n",
        "strip((counties.CROP))\r\n",
        "#Replace KES with empty \r\n",
        "\r\n",
        "crops['Values_in_Ksh'] = crops['Values_in_Ksh'].str.replace(\"KES\",\"\")\r\n",
        "\r\n",
        "#Dataset 2 \r\n",
        "counties['County']= counties['County'].str.strip()\r\n"
      ],
      "outputs": [],
      "metadata": {
        "id": "O_oceJiYGwPr"
      }
    },
    {
      "cell_type": "markdown",
      "source": [
        "### Accuracy "
      ],
      "metadata": {
        "id": "Q2nqhf44Gapq"
      }
    },
    {
      "cell_type": "code",
      "execution_count": null,
      "source": [
        "#checking if related columns match"
      ],
      "outputs": [],
      "metadata": {
        "id": "RPfpR99EGxcw"
      }
    },
    {
      "cell_type": "markdown",
      "source": [
        "### Completeness "
      ],
      "metadata": {
        "id": "OrQpkEFKF5_n"
      }
    },
    {
      "cell_type": "code",
      "execution_count": null,
      "source": [
        "# check for null values and either drop or fill"
      ],
      "outputs": [],
      "metadata": {
        "id": "HlD833SXGyo7"
      }
    },
    {
      "cell_type": "markdown",
      "source": [
        "#### checking for null values"
      ],
      "metadata": {
        "id": "b-raTyU2o63d"
      }
    },
    {
      "cell_type": "code",
      "execution_count": null,
      "source": [
        "#checking nulls on crops dataset\r\n",
        "#crops.isnull().sum()\r\n",
        "nuls(crops)"
      ],
      "outputs": [
        {
          "output_type": "execute_result",
          "data": {
            "text/plain": [
              "Produce_Variety    0\n",
              "Commodity_Type     0\n",
              "Unit               0\n",
              "Volume_in_Kgs      0\n",
              "Values_in_Ksh      2\n",
              "Date               0\n",
              "OBJECTID           0\n",
              "dtype: int64"
            ]
          },
          "metadata": {
            "tags": []
          },
          "execution_count": 13
        }
      ],
      "metadata": {
        "colab": {
          "base_uri": "https://localhost:8080/"
        },
        "id": "gEoFbuaBo1kZ",
        "outputId": "dc0744e0-9a72-4e7a-993d-9b56b8dcb81e"
      }
    },
    {
      "cell_type": "code",
      "execution_count": null,
      "source": [
        "#checking nulls on counties dataset\r\n",
        "nuls(counties)"
      ],
      "outputs": [
        {
          "output_type": "execute_result",
          "data": {
            "text/plain": [
              "County                0\n",
              "CROP                  0\n",
              "Area  (HA)            1\n",
              "Production  (Tons)    1\n",
              "Yield ( Tons/HA)      1\n",
              "dtype: int64"
            ]
          },
          "metadata": {
            "tags": []
          },
          "execution_count": 14
        }
      ],
      "metadata": {
        "colab": {
          "base_uri": "https://localhost:8080/"
        },
        "id": "5PJUQ4Q8yKN3",
        "outputId": "90378da6-fb56-4d1f-f45f-cefb7e81bb4a"
      }
    },
    {
      "cell_type": "markdown",
      "source": [
        "###Consistency "
      ],
      "metadata": {
        "id": "klZRAxYWGGBO"
      }
    },
    {
      "cell_type": "code",
      "execution_count": null,
      "source": [
        "#dealing with duplicates \r\n",
        "#checking for duplicates in crops\r\n",
        "duplicates(crops)\r\n",
        "\r\n",
        "\r\n",
        "#No duplicates in the two datasets \r\n"
      ],
      "outputs": [
        {
          "output_type": "execute_result",
          "data": {
            "text/plain": [
              "0"
            ]
          },
          "metadata": {
            "tags": []
          },
          "execution_count": 15
        }
      ],
      "metadata": {
        "id": "L3bTep87G0Qb",
        "colab": {
          "base_uri": "https://localhost:8080/"
        },
        "outputId": "9f94572d-9c7d-44cc-e07d-1da2fa503989"
      }
    },
    {
      "cell_type": "code",
      "execution_count": null,
      "source": [
        "#checking for duplicates in counties\r\n",
        "duplicates(counties)"
      ],
      "outputs": [
        {
          "output_type": "execute_result",
          "data": {
            "text/plain": [
              "0"
            ]
          },
          "metadata": {
            "tags": []
          },
          "execution_count": 16
        }
      ],
      "metadata": {
        "colab": {
          "base_uri": "https://localhost:8080/"
        },
        "id": "nibDIEd8zCml",
        "outputId": "02c8d070-5449-497a-bee7-226b8013d76c"
      }
    },
    {
      "cell_type": "markdown",
      "source": [
        "### Uniformity "
      ],
      "metadata": {
        "id": "pSbYLNVXGOIA"
      }
    },
    {
      "cell_type": "markdown",
      "source": [
        "#### Columns"
      ],
      "metadata": {
        "id": "YUmlKftBlQxX"
      }
    },
    {
      "cell_type": "code",
      "execution_count": null,
      "source": [
        "# Standaridization to fix messy columns to rename \r\n",
        "# example; officials_data.columns = officials_data.columns.str.strip().str.lower().str.replace(' ', '_').str.replace('(', '').str.replace(')','') \r\n",
        "# data type conversions like to pd.to_datetime \r\n",
        "counties.columns = counties.columns.str.strip().str.replace('(','').str.replace(')',\"\").str.replace(')',\"\").str.replace('/',\"_per_\").str.replace(' ',\"_\") "
      ],
      "outputs": [],
      "metadata": {
        "id": "aX4zb1mLG1Rc"
      }
    },
    {
      "cell_type": "markdown",
      "source": [
        "#### Data type conversion"
      ],
      "metadata": {
        "id": "oFg09AatlVEy"
      }
    },
    {
      "cell_type": "code",
      "execution_count": null,
      "source": [
        "# "
      ],
      "outputs": [],
      "metadata": {
        "id": "6luBqfoRlakY"
      }
    },
    {
      "cell_type": "code",
      "execution_count": null,
      "source": [
        "#removing KES from Values in Ksh column\r\n",
        "crops[\"Values_in_Ksh\"]=crops[\"Values_in_Ksh\"].str.replace(\"KES\",\"\")"
      ],
      "outputs": [],
      "metadata": {
        "id": "eQPKzYRmpfY5"
      }
    },
    {
      "cell_type": "code",
      "execution_count": null,
      "source": [
        "crops.head(5)"
      ],
      "outputs": [
        {
          "output_type": "execute_result",
          "data": {
            "text/plain": [
              "  Produce_Variety   Commodity_Type  ...                    Date  OBJECTID\n",
              "0    Horticulture         Cabbages  ...  01/01/2012 12:00:00 AM         0\n",
              "1    Horticulture  Cooking Bananas  ...  01/01/2012 12:00:00 AM         1\n",
              "2    Horticulture     Ripe Bananas  ...  01/01/2012 12:00:00 AM         2\n",
              "3    Horticulture          Carrots  ...  01/01/2012 12:00:00 AM         3\n",
              "4    Horticulture         Tomatoes  ...  01/01/2012 12:00:00 AM         4\n",
              "\n",
              "[5 rows x 7 columns]"
            ],
            "text/html": [
              "<div>\n",
              "<style scoped>\n",
              "    .dataframe tbody tr th:only-of-type {\n",
              "        vertical-align: middle;\n",
              "    }\n",
              "\n",
              "    .dataframe tbody tr th {\n",
              "        vertical-align: top;\n",
              "    }\n",
              "\n",
              "    .dataframe thead th {\n",
              "        text-align: right;\n",
              "    }\n",
              "</style>\n",
              "<table border=\"1\" class=\"dataframe\">\n",
              "  <thead>\n",
              "    <tr style=\"text-align: right;\">\n",
              "      <th></th>\n",
              "      <th>Produce_Variety</th>\n",
              "      <th>Commodity_Type</th>\n",
              "      <th>Unit</th>\n",
              "      <th>Volume_in_Kgs</th>\n",
              "      <th>Values_in_Ksh</th>\n",
              "      <th>Date</th>\n",
              "      <th>OBJECTID</th>\n",
              "    </tr>\n",
              "  </thead>\n",
              "  <tbody>\n",
              "    <tr>\n",
              "      <th>0</th>\n",
              "      <td>Horticulture</td>\n",
              "      <td>Cabbages</td>\n",
              "      <td>Ext Bag</td>\n",
              "      <td>126</td>\n",
              "      <td>2205.00</td>\n",
              "      <td>01/01/2012 12:00:00 AM</td>\n",
              "      <td>0</td>\n",
              "    </tr>\n",
              "    <tr>\n",
              "      <th>1</th>\n",
              "      <td>Horticulture</td>\n",
              "      <td>Cooking Bananas</td>\n",
              "      <td>Med Bunch</td>\n",
              "      <td>22</td>\n",
              "      <td>511.00</td>\n",
              "      <td>01/01/2012 12:00:00 AM</td>\n",
              "      <td>1</td>\n",
              "    </tr>\n",
              "    <tr>\n",
              "      <th>2</th>\n",
              "      <td>Horticulture</td>\n",
              "      <td>Ripe Bananas</td>\n",
              "      <td>Med Bunch</td>\n",
              "      <td>14</td>\n",
              "      <td>616.00</td>\n",
              "      <td>01/01/2012 12:00:00 AM</td>\n",
              "      <td>2</td>\n",
              "    </tr>\n",
              "    <tr>\n",
              "      <th>3</th>\n",
              "      <td>Horticulture</td>\n",
              "      <td>Carrots</td>\n",
              "      <td>Ext Bag</td>\n",
              "      <td>138</td>\n",
              "      <td>2833.00</td>\n",
              "      <td>01/01/2012 12:00:00 AM</td>\n",
              "      <td>3</td>\n",
              "    </tr>\n",
              "    <tr>\n",
              "      <th>4</th>\n",
              "      <td>Horticulture</td>\n",
              "      <td>Tomatoes</td>\n",
              "      <td>Lg Box</td>\n",
              "      <td>64</td>\n",
              "      <td>3411.00</td>\n",
              "      <td>01/01/2012 12:00:00 AM</td>\n",
              "      <td>4</td>\n",
              "    </tr>\n",
              "  </tbody>\n",
              "</table>\n",
              "</div>"
            ]
          },
          "metadata": {
            "tags": []
          },
          "execution_count": 20
        }
      ],
      "metadata": {
        "colab": {
          "base_uri": "https://localhost:8080/",
          "height": 204
        },
        "id": "VACwQrFaqZF_",
        "outputId": "4d3febb7-bdd5-4567-e693-93b5ac619ca6"
      }
    },
    {
      "cell_type": "code",
      "execution_count": null,
      "source": [
        "#convert crops value in ksh to integer\r\n",
        "crops[\"Values_in_Ksh\"]=crops[\"Values_in_Ksh\"].astype(float)"
      ],
      "outputs": [],
      "metadata": {
        "id": "RoOAEuqoq1DJ"
      }
    },
    {
      "cell_type": "code",
      "execution_count": null,
      "source": [
        "crops.head(5)"
      ],
      "outputs": [
        {
          "output_type": "execute_result",
          "data": {
            "text/plain": [
              "  Produce_Variety   Commodity_Type  ...                    Date  OBJECTID\n",
              "0    Horticulture         Cabbages  ...  01/01/2012 12:00:00 AM         0\n",
              "1    Horticulture  Cooking Bananas  ...  01/01/2012 12:00:00 AM         1\n",
              "2    Horticulture     Ripe Bananas  ...  01/01/2012 12:00:00 AM         2\n",
              "3    Horticulture          Carrots  ...  01/01/2012 12:00:00 AM         3\n",
              "4    Horticulture         Tomatoes  ...  01/01/2012 12:00:00 AM         4\n",
              "\n",
              "[5 rows x 7 columns]"
            ],
            "text/html": [
              "<div>\n",
              "<style scoped>\n",
              "    .dataframe tbody tr th:only-of-type {\n",
              "        vertical-align: middle;\n",
              "    }\n",
              "\n",
              "    .dataframe tbody tr th {\n",
              "        vertical-align: top;\n",
              "    }\n",
              "\n",
              "    .dataframe thead th {\n",
              "        text-align: right;\n",
              "    }\n",
              "</style>\n",
              "<table border=\"1\" class=\"dataframe\">\n",
              "  <thead>\n",
              "    <tr style=\"text-align: right;\">\n",
              "      <th></th>\n",
              "      <th>Produce_Variety</th>\n",
              "      <th>Commodity_Type</th>\n",
              "      <th>Unit</th>\n",
              "      <th>Volume_in_Kgs</th>\n",
              "      <th>Values_in_Ksh</th>\n",
              "      <th>Date</th>\n",
              "      <th>OBJECTID</th>\n",
              "    </tr>\n",
              "  </thead>\n",
              "  <tbody>\n",
              "    <tr>\n",
              "      <th>0</th>\n",
              "      <td>Horticulture</td>\n",
              "      <td>Cabbages</td>\n",
              "      <td>Ext Bag</td>\n",
              "      <td>126</td>\n",
              "      <td>2205.0</td>\n",
              "      <td>01/01/2012 12:00:00 AM</td>\n",
              "      <td>0</td>\n",
              "    </tr>\n",
              "    <tr>\n",
              "      <th>1</th>\n",
              "      <td>Horticulture</td>\n",
              "      <td>Cooking Bananas</td>\n",
              "      <td>Med Bunch</td>\n",
              "      <td>22</td>\n",
              "      <td>511.0</td>\n",
              "      <td>01/01/2012 12:00:00 AM</td>\n",
              "      <td>1</td>\n",
              "    </tr>\n",
              "    <tr>\n",
              "      <th>2</th>\n",
              "      <td>Horticulture</td>\n",
              "      <td>Ripe Bananas</td>\n",
              "      <td>Med Bunch</td>\n",
              "      <td>14</td>\n",
              "      <td>616.0</td>\n",
              "      <td>01/01/2012 12:00:00 AM</td>\n",
              "      <td>2</td>\n",
              "    </tr>\n",
              "    <tr>\n",
              "      <th>3</th>\n",
              "      <td>Horticulture</td>\n",
              "      <td>Carrots</td>\n",
              "      <td>Ext Bag</td>\n",
              "      <td>138</td>\n",
              "      <td>2833.0</td>\n",
              "      <td>01/01/2012 12:00:00 AM</td>\n",
              "      <td>3</td>\n",
              "    </tr>\n",
              "    <tr>\n",
              "      <th>4</th>\n",
              "      <td>Horticulture</td>\n",
              "      <td>Tomatoes</td>\n",
              "      <td>Lg Box</td>\n",
              "      <td>64</td>\n",
              "      <td>3411.0</td>\n",
              "      <td>01/01/2012 12:00:00 AM</td>\n",
              "      <td>4</td>\n",
              "    </tr>\n",
              "  </tbody>\n",
              "</table>\n",
              "</div>"
            ]
          },
          "metadata": {
            "tags": []
          },
          "execution_count": 22
        }
      ],
      "metadata": {
        "colab": {
          "base_uri": "https://localhost:8080/",
          "height": 204
        },
        "id": "ILJmYVeprYRO",
        "outputId": "114fa27c-e44e-47c9-ca17-982d694a65f1"
      }
    },
    {
      "cell_type": "code",
      "execution_count": null,
      "source": [
        "crops.info()"
      ],
      "outputs": [
        {
          "output_type": "stream",
          "name": "stdout",
          "text": [
            "<class 'pandas.core.frame.DataFrame'>\n",
            "RangeIndex: 1145 entries, 0 to 1144\n",
            "Data columns (total 7 columns):\n",
            " #   Column           Non-Null Count  Dtype  \n",
            "---  ------           --------------  -----  \n",
            " 0   Produce_Variety  1145 non-null   object \n",
            " 1   Commodity_Type   1145 non-null   object \n",
            " 2   Unit             1145 non-null   object \n",
            " 3   Volume_in_Kgs    1145 non-null   int64  \n",
            " 4   Values_in_Ksh    1143 non-null   float64\n",
            " 5   Date             1145 non-null   object \n",
            " 6   OBJECTID         1145 non-null   int64  \n",
            "dtypes: float64(1), int64(2), object(4)\n",
            "memory usage: 62.7+ KB\n"
          ]
        }
      ],
      "metadata": {
        "colab": {
          "base_uri": "https://localhost:8080/"
        },
        "id": "vIhlX60irYJL",
        "outputId": "06578a81-667a-45b7-cf73-6f921f7dd341"
      }
    },
    {
      "cell_type": "code",
      "execution_count": null,
      "source": [
        "#changing date\r\n",
        "crops['Date'] =  pd.to_datetime(crops['Date'])"
      ],
      "outputs": [],
      "metadata": {
        "id": "q-EY9rbVrmS6"
      }
    },
    {
      "cell_type": "code",
      "execution_count": null,
      "source": [
        "crops.info()"
      ],
      "outputs": [
        {
          "output_type": "stream",
          "name": "stdout",
          "text": [
            "<class 'pandas.core.frame.DataFrame'>\n",
            "RangeIndex: 1145 entries, 0 to 1144\n",
            "Data columns (total 7 columns):\n",
            " #   Column           Non-Null Count  Dtype         \n",
            "---  ------           --------------  -----         \n",
            " 0   Produce_Variety  1145 non-null   object        \n",
            " 1   Commodity_Type   1145 non-null   object        \n",
            " 2   Unit             1145 non-null   object        \n",
            " 3   Volume_in_Kgs    1145 non-null   int64         \n",
            " 4   Values_in_Ksh    1143 non-null   float64       \n",
            " 5   Date             1145 non-null   datetime64[ns]\n",
            " 6   OBJECTID         1145 non-null   int64         \n",
            "dtypes: datetime64[ns](1), float64(1), int64(2), object(3)\n",
            "memory usage: 62.7+ KB\n"
          ]
        }
      ],
      "metadata": {
        "id": "IDTauYpvtFgM",
        "colab": {
          "base_uri": "https://localhost:8080/"
        },
        "outputId": "c6dc4775-c796-465e-ec09-aa707f18f238"
      }
    },
    {
      "cell_type": "markdown",
      "source": [
        "### Filling N/A Values with Average"
      ],
      "metadata": {
        "id": "ZwP8SD4DnycJ"
      }
    },
    {
      "cell_type": "code",
      "execution_count": null,
      "source": [
        "crops['Values_in_Ksh'].fillna(0)"
      ],
      "outputs": [
        {
          "output_type": "execute_result",
          "data": {
            "text/plain": [
              "0        2205.0\n",
              "1         511.0\n",
              "2         616.0\n",
              "3        2833.0\n",
              "4        3411.0\n",
              "         ...   \n",
              "1140    12986.0\n",
              "1141     2805.0\n",
              "1142     2885.0\n",
              "1143     2097.0\n",
              "1144     3067.0\n",
              "Name: Values_in_Ksh, Length: 1145, dtype: float64"
            ]
          },
          "metadata": {
            "tags": []
          },
          "execution_count": 26
        }
      ],
      "metadata": {
        "colab": {
          "base_uri": "https://localhost:8080/"
        },
        "id": "EZ5utgpWwvVj",
        "outputId": "4a24df91-63b9-4901-c728-9b1820cce49d"
      }
    },
    {
      "cell_type": "code",
      "execution_count": null,
      "source": [
        "crops.isnull().sum()"
      ],
      "outputs": [
        {
          "output_type": "execute_result",
          "data": {
            "text/plain": [
              "Produce_Variety    0\n",
              "Commodity_Type     0\n",
              "Unit               0\n",
              "Volume_in_Kgs      0\n",
              "Values_in_Ksh      2\n",
              "Date               0\n",
              "OBJECTID           0\n",
              "dtype: int64"
            ]
          },
          "metadata": {
            "tags": []
          },
          "execution_count": 27
        }
      ],
      "metadata": {
        "colab": {
          "base_uri": "https://localhost:8080/"
        },
        "id": "PV9vf7h-xDRW",
        "outputId": "f3ad31fe-a750-47ec-d315-edcd1867c9bb"
      }
    },
    {
      "cell_type": "code",
      "execution_count": null,
      "source": [
        "crops['Values_in_Ksh'].ffill(0)"
      ],
      "outputs": [
        {
          "output_type": "execute_result",
          "data": {
            "text/plain": [
              "0        2205.0\n",
              "1         511.0\n",
              "2         616.0\n",
              "3        2833.0\n",
              "4        3411.0\n",
              "         ...   \n",
              "1140    12986.0\n",
              "1141     2805.0\n",
              "1142     2885.0\n",
              "1143     2097.0\n",
              "1144     3067.0\n",
              "Name: Values_in_Ksh, Length: 1145, dtype: float64"
            ]
          },
          "metadata": {
            "tags": []
          },
          "execution_count": 28
        }
      ],
      "metadata": {
        "colab": {
          "base_uri": "https://localhost:8080/"
        },
        "id": "QQDyCTj8301Q",
        "outputId": "45bf3c35-a5b8-4c5b-da52-c1f7dd270e3b"
      }
    },
    {
      "cell_type": "code",
      "execution_count": null,
      "source": [
        "crops['Values_in_Ksh'] = crops['Values_in_Ksh'].ffill(0)"
      ],
      "outputs": [],
      "metadata": {
        "id": "UgPyOK6H4Uau"
      }
    },
    {
      "cell_type": "code",
      "execution_count": null,
      "source": [
        "crops.isnull().sum()"
      ],
      "outputs": [
        {
          "output_type": "execute_result",
          "data": {
            "text/plain": [
              "Produce_Variety    0\n",
              "Commodity_Type     0\n",
              "Unit               0\n",
              "Volume_in_Kgs      0\n",
              "Values_in_Ksh      0\n",
              "Date               0\n",
              "OBJECTID           0\n",
              "dtype: int64"
            ]
          },
          "metadata": {
            "tags": []
          },
          "execution_count": 30
        }
      ],
      "metadata": {
        "colab": {
          "base_uri": "https://localhost:8080/"
        },
        "id": "JlFQy-r138iI",
        "outputId": "3b34f3ec-a8da-49d3-e91d-85cd722239b7"
      }
    },
    {
      "cell_type": "code",
      "execution_count": null,
      "source": [
        "counties"
      ],
      "outputs": [
        {
          "output_type": "execute_result",
          "data": {
            "text/plain": [
              "              County   CROP Area__HA Production__Tons  Yield__Tons_per_HA\n",
              "0            BARINGO  Beans    15669            11034                 0.7\n",
              "1              BOMET  Beans    39002         50140.76                 1.3\n",
              "2            BUNGOMA  Beans    77367         61051.12                 0.8\n",
              "3              BUSIA  Beans    27351            36422                 1.3\n",
              "4    ELGEYO MARAKWET  Beans    14873         16354.62                 1.1\n",
              "..               ...    ...      ...              ...                 ...\n",
              "154     TAITA TAVETA   Rice      380             1320                 3.5\n",
              "155       TANA RIVER   Rice     1210             3855                 3.2\n",
              "156    THARAKA NITHI   Rice       28               79                 2.8\n",
              "157       WEST POKOT   Rice       20               72                 3.6\n",
              "158           VIHIGA   Rice        4               18                 4.5\n",
              "\n",
              "[159 rows x 5 columns]"
            ],
            "text/html": [
              "<div>\n",
              "<style scoped>\n",
              "    .dataframe tbody tr th:only-of-type {\n",
              "        vertical-align: middle;\n",
              "    }\n",
              "\n",
              "    .dataframe tbody tr th {\n",
              "        vertical-align: top;\n",
              "    }\n",
              "\n",
              "    .dataframe thead th {\n",
              "        text-align: right;\n",
              "    }\n",
              "</style>\n",
              "<table border=\"1\" class=\"dataframe\">\n",
              "  <thead>\n",
              "    <tr style=\"text-align: right;\">\n",
              "      <th></th>\n",
              "      <th>County</th>\n",
              "      <th>CROP</th>\n",
              "      <th>Area__HA</th>\n",
              "      <th>Production__Tons</th>\n",
              "      <th>Yield__Tons_per_HA</th>\n",
              "    </tr>\n",
              "  </thead>\n",
              "  <tbody>\n",
              "    <tr>\n",
              "      <th>0</th>\n",
              "      <td>BARINGO</td>\n",
              "      <td>Beans</td>\n",
              "      <td>15669</td>\n",
              "      <td>11034</td>\n",
              "      <td>0.7</td>\n",
              "    </tr>\n",
              "    <tr>\n",
              "      <th>1</th>\n",
              "      <td>BOMET</td>\n",
              "      <td>Beans</td>\n",
              "      <td>39002</td>\n",
              "      <td>50140.76</td>\n",
              "      <td>1.3</td>\n",
              "    </tr>\n",
              "    <tr>\n",
              "      <th>2</th>\n",
              "      <td>BUNGOMA</td>\n",
              "      <td>Beans</td>\n",
              "      <td>77367</td>\n",
              "      <td>61051.12</td>\n",
              "      <td>0.8</td>\n",
              "    </tr>\n",
              "    <tr>\n",
              "      <th>3</th>\n",
              "      <td>BUSIA</td>\n",
              "      <td>Beans</td>\n",
              "      <td>27351</td>\n",
              "      <td>36422</td>\n",
              "      <td>1.3</td>\n",
              "    </tr>\n",
              "    <tr>\n",
              "      <th>4</th>\n",
              "      <td>ELGEYO MARAKWET</td>\n",
              "      <td>Beans</td>\n",
              "      <td>14873</td>\n",
              "      <td>16354.62</td>\n",
              "      <td>1.1</td>\n",
              "    </tr>\n",
              "    <tr>\n",
              "      <th>...</th>\n",
              "      <td>...</td>\n",
              "      <td>...</td>\n",
              "      <td>...</td>\n",
              "      <td>...</td>\n",
              "      <td>...</td>\n",
              "    </tr>\n",
              "    <tr>\n",
              "      <th>154</th>\n",
              "      <td>TAITA TAVETA</td>\n",
              "      <td>Rice</td>\n",
              "      <td>380</td>\n",
              "      <td>1320</td>\n",
              "      <td>3.5</td>\n",
              "    </tr>\n",
              "    <tr>\n",
              "      <th>155</th>\n",
              "      <td>TANA RIVER</td>\n",
              "      <td>Rice</td>\n",
              "      <td>1210</td>\n",
              "      <td>3855</td>\n",
              "      <td>3.2</td>\n",
              "    </tr>\n",
              "    <tr>\n",
              "      <th>156</th>\n",
              "      <td>THARAKA NITHI</td>\n",
              "      <td>Rice</td>\n",
              "      <td>28</td>\n",
              "      <td>79</td>\n",
              "      <td>2.8</td>\n",
              "    </tr>\n",
              "    <tr>\n",
              "      <th>157</th>\n",
              "      <td>WEST POKOT</td>\n",
              "      <td>Rice</td>\n",
              "      <td>20</td>\n",
              "      <td>72</td>\n",
              "      <td>3.6</td>\n",
              "    </tr>\n",
              "    <tr>\n",
              "      <th>158</th>\n",
              "      <td>VIHIGA</td>\n",
              "      <td>Rice</td>\n",
              "      <td>4</td>\n",
              "      <td>18</td>\n",
              "      <td>4.5</td>\n",
              "    </tr>\n",
              "  </tbody>\n",
              "</table>\n",
              "<p>159 rows × 5 columns</p>\n",
              "</div>"
            ]
          },
          "metadata": {
            "tags": []
          },
          "execution_count": 31
        }
      ],
      "metadata": {
        "colab": {
          "base_uri": "https://localhost:8080/",
          "height": 419
        },
        "id": "mCHMfMptohBs",
        "outputId": "52f2e754-4ff7-45f6-92d4-37facb667832"
      }
    },
    {
      "cell_type": "code",
      "execution_count": null,
      "source": [
        "counties.info"
      ],
      "outputs": [
        {
          "output_type": "execute_result",
          "data": {
            "text/plain": [
              "<bound method DataFrame.info of               County   CROP Area__HA Production__Tons  Yield__Tons_per_HA\n",
              "0            BARINGO  Beans    15669            11034                 0.7\n",
              "1              BOMET  Beans    39002         50140.76                 1.3\n",
              "2            BUNGOMA  Beans    77367         61051.12                 0.8\n",
              "3              BUSIA  Beans    27351            36422                 1.3\n",
              "4    ELGEYO MARAKWET  Beans    14873         16354.62                 1.1\n",
              "..               ...    ...      ...              ...                 ...\n",
              "154     TAITA TAVETA   Rice      380             1320                 3.5\n",
              "155       TANA RIVER   Rice     1210             3855                 3.2\n",
              "156    THARAKA NITHI   Rice       28               79                 2.8\n",
              "157       WEST POKOT   Rice       20               72                 3.6\n",
              "158           VIHIGA   Rice        4               18                 4.5\n",
              "\n",
              "[159 rows x 5 columns]>"
            ]
          },
          "metadata": {
            "tags": []
          },
          "execution_count": 32
        }
      ],
      "metadata": {
        "colab": {
          "base_uri": "https://localhost:8080/"
        },
        "id": "EcTw_pHzo9xn",
        "outputId": "c64949bf-b58a-4d16-a725-c78c4cca8d26"
      }
    },
    {
      "cell_type": "code",
      "execution_count": null,
      "source": [],
      "outputs": [],
      "metadata": {
        "id": "3iCCPQXBqS4E"
      }
    },
    {
      "cell_type": "markdown",
      "source": [
        "#**Analysis Questions**"
      ],
      "metadata": {
        "id": "n7-NbWnyqQZp"
      }
    },
    {
      "cell_type": "markdown",
      "source": [
        "## 1. What are the average market prices of various products?"
      ],
      "metadata": {
        "id": "pJPr7v5Kqeap"
      }
    },
    {
      "cell_type": "code",
      "execution_count": null,
      "source": [
        "counties['CROP'].nunique\r\n"
      ],
      "outputs": [
        {
          "output_type": "execute_result",
          "data": {
            "text/plain": [
              "<bound method IndexOpsMixin.nunique of 0      Beans\n",
              "1      Beans\n",
              "2      Beans\n",
              "3      Beans\n",
              "4      Beans\n",
              "       ...  \n",
              "154     Rice\n",
              "155     Rice\n",
              "156     Rice\n",
              "157     Rice\n",
              "158     Rice\n",
              "Name: CROP, Length: 159, dtype: object>"
            ]
          },
          "metadata": {
            "tags": []
          },
          "execution_count": 33
        }
      ],
      "metadata": {
        "colab": {
          "base_uri": "https://localhost:8080/"
        },
        "id": "cwsL5pPBq_ZK",
        "outputId": "4ebc5f51-7741-4296-9700-f21a50c8ccb0"
      }
    },
    {
      "cell_type": "code",
      "execution_count": null,
      "source": [
        "uniquecrops = counties.groupby('CROP')\r\n",
        "counties"
      ],
      "outputs": [
        {
          "output_type": "execute_result",
          "data": {
            "text/plain": [
              "              County   CROP Area__HA Production__Tons  Yield__Tons_per_HA\n",
              "0            BARINGO  Beans    15669            11034                 0.7\n",
              "1              BOMET  Beans    39002         50140.76                 1.3\n",
              "2            BUNGOMA  Beans    77367         61051.12                 0.8\n",
              "3              BUSIA  Beans    27351            36422                 1.3\n",
              "4    ELGEYO MARAKWET  Beans    14873         16354.62                 1.1\n",
              "..               ...    ...      ...              ...                 ...\n",
              "154     TAITA TAVETA   Rice      380             1320                 3.5\n",
              "155       TANA RIVER   Rice     1210             3855                 3.2\n",
              "156    THARAKA NITHI   Rice       28               79                 2.8\n",
              "157       WEST POKOT   Rice       20               72                 3.6\n",
              "158           VIHIGA   Rice        4               18                 4.5\n",
              "\n",
              "[159 rows x 5 columns]"
            ],
            "text/html": [
              "<div>\n",
              "<style scoped>\n",
              "    .dataframe tbody tr th:only-of-type {\n",
              "        vertical-align: middle;\n",
              "    }\n",
              "\n",
              "    .dataframe tbody tr th {\n",
              "        vertical-align: top;\n",
              "    }\n",
              "\n",
              "    .dataframe thead th {\n",
              "        text-align: right;\n",
              "    }\n",
              "</style>\n",
              "<table border=\"1\" class=\"dataframe\">\n",
              "  <thead>\n",
              "    <tr style=\"text-align: right;\">\n",
              "      <th></th>\n",
              "      <th>County</th>\n",
              "      <th>CROP</th>\n",
              "      <th>Area__HA</th>\n",
              "      <th>Production__Tons</th>\n",
              "      <th>Yield__Tons_per_HA</th>\n",
              "    </tr>\n",
              "  </thead>\n",
              "  <tbody>\n",
              "    <tr>\n",
              "      <th>0</th>\n",
              "      <td>BARINGO</td>\n",
              "      <td>Beans</td>\n",
              "      <td>15669</td>\n",
              "      <td>11034</td>\n",
              "      <td>0.7</td>\n",
              "    </tr>\n",
              "    <tr>\n",
              "      <th>1</th>\n",
              "      <td>BOMET</td>\n",
              "      <td>Beans</td>\n",
              "      <td>39002</td>\n",
              "      <td>50140.76</td>\n",
              "      <td>1.3</td>\n",
              "    </tr>\n",
              "    <tr>\n",
              "      <th>2</th>\n",
              "      <td>BUNGOMA</td>\n",
              "      <td>Beans</td>\n",
              "      <td>77367</td>\n",
              "      <td>61051.12</td>\n",
              "      <td>0.8</td>\n",
              "    </tr>\n",
              "    <tr>\n",
              "      <th>3</th>\n",
              "      <td>BUSIA</td>\n",
              "      <td>Beans</td>\n",
              "      <td>27351</td>\n",
              "      <td>36422</td>\n",
              "      <td>1.3</td>\n",
              "    </tr>\n",
              "    <tr>\n",
              "      <th>4</th>\n",
              "      <td>ELGEYO MARAKWET</td>\n",
              "      <td>Beans</td>\n",
              "      <td>14873</td>\n",
              "      <td>16354.62</td>\n",
              "      <td>1.1</td>\n",
              "    </tr>\n",
              "    <tr>\n",
              "      <th>...</th>\n",
              "      <td>...</td>\n",
              "      <td>...</td>\n",
              "      <td>...</td>\n",
              "      <td>...</td>\n",
              "      <td>...</td>\n",
              "    </tr>\n",
              "    <tr>\n",
              "      <th>154</th>\n",
              "      <td>TAITA TAVETA</td>\n",
              "      <td>Rice</td>\n",
              "      <td>380</td>\n",
              "      <td>1320</td>\n",
              "      <td>3.5</td>\n",
              "    </tr>\n",
              "    <tr>\n",
              "      <th>155</th>\n",
              "      <td>TANA RIVER</td>\n",
              "      <td>Rice</td>\n",
              "      <td>1210</td>\n",
              "      <td>3855</td>\n",
              "      <td>3.2</td>\n",
              "    </tr>\n",
              "    <tr>\n",
              "      <th>156</th>\n",
              "      <td>THARAKA NITHI</td>\n",
              "      <td>Rice</td>\n",
              "      <td>28</td>\n",
              "      <td>79</td>\n",
              "      <td>2.8</td>\n",
              "    </tr>\n",
              "    <tr>\n",
              "      <th>157</th>\n",
              "      <td>WEST POKOT</td>\n",
              "      <td>Rice</td>\n",
              "      <td>20</td>\n",
              "      <td>72</td>\n",
              "      <td>3.6</td>\n",
              "    </tr>\n",
              "    <tr>\n",
              "      <th>158</th>\n",
              "      <td>VIHIGA</td>\n",
              "      <td>Rice</td>\n",
              "      <td>4</td>\n",
              "      <td>18</td>\n",
              "      <td>4.5</td>\n",
              "    </tr>\n",
              "  </tbody>\n",
              "</table>\n",
              "<p>159 rows × 5 columns</p>\n",
              "</div>"
            ]
          },
          "metadata": {
            "tags": []
          },
          "execution_count": 34
        }
      ],
      "metadata": {
        "colab": {
          "base_uri": "https://localhost:8080/",
          "height": 419
        },
        "id": "VgJMZLR-tHOG",
        "outputId": "94f947ef-132d-4127-af51-aa1cac8f898d"
      }
    },
    {
      "cell_type": "code",
      "execution_count": null,
      "source": [
        "# Grouping each crop by value counts to give the total of each commodity\r\n",
        "\r\n",
        "counties['CROP'].value_counts()"
      ],
      "outputs": [
        {
          "output_type": "execute_result",
          "data": {
            "text/plain": [
              "Sorghum           47\n",
              "Beans             47\n",
              "Irish Potatoes    30\n",
              "Rice              21\n",
              "Wheat             14\n",
              "Name: CROP, dtype: int64"
            ]
          },
          "metadata": {
            "tags": []
          },
          "execution_count": 35
        }
      ],
      "metadata": {
        "colab": {
          "base_uri": "https://localhost:8080/"
        },
        "id": "MPBDtCoEus1J",
        "outputId": "e6561e05-b911-417e-f306-47b11cb4b841"
      }
    },
    {
      "cell_type": "code",
      "execution_count": null,
      "source": [
        "# Out\r\n",
        "\r\n",
        "counties['CROP'] == \"Beans\""
      ],
      "outputs": [
        {
          "output_type": "execute_result",
          "data": {
            "text/plain": [
              "0       True\n",
              "1       True\n",
              "2       True\n",
              "3       True\n",
              "4       True\n",
              "       ...  \n",
              "154    False\n",
              "155    False\n",
              "156    False\n",
              "157    False\n",
              "158    False\n",
              "Name: CROP, Length: 159, dtype: bool"
            ]
          },
          "metadata": {
            "tags": []
          },
          "execution_count": 36
        }
      ],
      "metadata": {
        "colab": {
          "base_uri": "https://localhost:8080/"
        },
        "id": "3TLfRW6R7FYC",
        "outputId": "b5e4313c-90d6-46ad-93df-3ee0bc6fce71"
      }
    },
    {
      "cell_type": "code",
      "execution_count": null,
      "source": [
        "#using plotly here \n",
        "\n",
        "counties.plot(kind='bar', x='County', y='Yield__Tons_per_HA')"
      ],
      "outputs": [
        {
          "output_type": "execute_result",
          "data": {
            "text/plain": [
              "<matplotlib.axes._subplots.AxesSubplot at 0x7f68846368d0>"
            ]
          },
          "metadata": {
            "tags": []
          },
          "execution_count": 37
        },
        {
          "output_type": "display_data",
          "data": {
            "text/plain": [
              "<Figure size 432x288 with 1 Axes>"
            ],
            "image/png": "[encoded data removed]"
          },
          "metadata": {
            "tags": [],
            "needs_background": "light"
          }
        }
      ],
      "metadata": {
        "id": "3kC1qSQrgOzt",
        "colab": {
          "base_uri": "https://localhost:8080/",
          "height": 386
        },
        "outputId": "358410aa-1f5b-461e-cbe4-b57e90241143"
      }
    },
    {
      "cell_type": "code",
      "execution_count": null,
      "source": [
        "# This output is the average value in Ksh per Commodity Type\n",
        "crops.groupby('Commodity_Type').mean()['Values_in_Ksh']"
      ],
      "outputs": [
        {
          "output_type": "execute_result",
          "data": {
            "text/plain": [
              "Commodity_Type\n",
              "Avocado                  2158.064516\n",
              "Beans Canadian           6133.791667\n",
              "Beans Mwitemania         5628.666667\n",
              "Beans Rosecoco           6134.708333\n",
              "Brinjals                 1637.935484\n",
              "Cabbages                 2121.967742\n",
              "Capsicums                2612.838710\n",
              "Carrots                  3565.000000\n",
              "Cassava Fresh            1973.041667\n",
              "Cauliflower              2528.451613\n",
              "Chillies                 2679.838710\n",
              "Cooking Bananas           553.806452\n",
              "Cowpeas                  6094.166667\n",
              "Cucumber                 2072.870968\n",
              "Dolichos (Njahi)         8741.291667\n",
              "Dry Maize                2782.875000\n",
              "Finger Millet            6416.041667\n",
              "Fresh Peas               2928.083333\n",
              "Green Gram               8951.625000\n",
              "Green Maize              2907.000000\n",
              "Groundnuts              11244.416667\n",
              "Kales                    1227.774194\n",
              "Lemons                   1978.322581\n",
              "Lettuce                  3342.419355\n",
              "Limes                     723.838710\n",
              "Mangoes Local            2083.774194\n",
              "Mangoes Ngowe            1025.483871\n",
              "Mwezi Moja               5722.791667\n",
              "Onions Dry                962.935484\n",
              "Oranges                  2966.483871\n",
              "Passion Fruits           3810.129032\n",
              "Pawpaw                   1563.741935\n",
              "Pineapples                775.193548\n",
              "Red Irish Potatoes       2926.791667\n",
              "Ripe Bananas              593.483871\n",
              "Sorghum                  3710.458333\n",
              "Spring Onions            2007.612903\n",
              "Sweet Potatoes           2820.458333\n",
              "Tomatoes                 3637.064516\n",
              "Wheat                    3854.958333\n",
              "White Irish Potatoes     2931.583333\n",
              "Name: Values_in_Ksh, dtype: float64"
            ]
          },
          "metadata": {
            "tags": []
          },
          "execution_count": 38
        }
      ],
      "metadata": {
        "colab": {
          "base_uri": "https://localhost:8080/"
        },
        "id": "ST48XDOd7hv_",
        "outputId": "7c6aee8a-aba1-459e-a0f4-e5b5b53d93c6"
      }
    },
    {
      "cell_type": "code",
      "execution_count": null,
      "source": [
        "# This output is the average value in Ksh per Produce Variety\r\n",
        "\r\n",
        "crops.groupby('Produce_Variety').mean()['Values_in_Ksh']"
      ],
      "outputs": [
        {
          "output_type": "execute_result",
          "data": {
            "text/plain": [
              "Produce_Variety\n",
              "Cereals           3934.266667\n",
              "Horticulture      2027.349229\n",
              "Legumes           6842.171296\n",
              "Roots & Tubers    2662.968750\n",
              "Name: Values_in_Ksh, dtype: float64"
            ]
          },
          "metadata": {
            "tags": []
          },
          "execution_count": 39
        }
      ],
      "metadata": {
        "colab": {
          "base_uri": "https://localhost:8080/"
        },
        "id": "8QDUtVuX_5dA",
        "outputId": "3b0032bc-979c-4ce4-8878-19964457b369"
      }
    },
    {
      "cell_type": "markdown",
      "source": [
        "## 2. What are the best regions to plant various commodities?"
      ],
      "metadata": {
        "id": "7gLHISJ-qlkS"
      }
    },
    {
      "cell_type": "code",
      "execution_count": null,
      "source": [
        "counties.head()"
      ],
      "outputs": [
        {
          "output_type": "execute_result",
          "data": {
            "text/plain": [
              "            County   CROP Area__HA Production__Tons  Yield__Tons_per_HA\n",
              "0          BARINGO  Beans    15669            11034                 0.7\n",
              "1            BOMET  Beans    39002         50140.76                 1.3\n",
              "2          BUNGOMA  Beans    77367         61051.12                 0.8\n",
              "3            BUSIA  Beans    27351            36422                 1.3\n",
              "4  ELGEYO MARAKWET  Beans    14873         16354.62                 1.1"
            ],
            "text/html": [
              "<div>\n",
              "<style scoped>\n",
              "    .dataframe tbody tr th:only-of-type {\n",
              "        vertical-align: middle;\n",
              "    }\n",
              "\n",
              "    .dataframe tbody tr th {\n",
              "        vertical-align: top;\n",
              "    }\n",
              "\n",
              "    .dataframe thead th {\n",
              "        text-align: right;\n",
              "    }\n",
              "</style>\n",
              "<table border=\"1\" class=\"dataframe\">\n",
              "  <thead>\n",
              "    <tr style=\"text-align: right;\">\n",
              "      <th></th>\n",
              "      <th>County</th>\n",
              "      <th>CROP</th>\n",
              "      <th>Area__HA</th>\n",
              "      <th>Production__Tons</th>\n",
              "      <th>Yield__Tons_per_HA</th>\n",
              "    </tr>\n",
              "  </thead>\n",
              "  <tbody>\n",
              "    <tr>\n",
              "      <th>0</th>\n",
              "      <td>BARINGO</td>\n",
              "      <td>Beans</td>\n",
              "      <td>15669</td>\n",
              "      <td>11034</td>\n",
              "      <td>0.7</td>\n",
              "    </tr>\n",
              "    <tr>\n",
              "      <th>1</th>\n",
              "      <td>BOMET</td>\n",
              "      <td>Beans</td>\n",
              "      <td>39002</td>\n",
              "      <td>50140.76</td>\n",
              "      <td>1.3</td>\n",
              "    </tr>\n",
              "    <tr>\n",
              "      <th>2</th>\n",
              "      <td>BUNGOMA</td>\n",
              "      <td>Beans</td>\n",
              "      <td>77367</td>\n",
              "      <td>61051.12</td>\n",
              "      <td>0.8</td>\n",
              "    </tr>\n",
              "    <tr>\n",
              "      <th>3</th>\n",
              "      <td>BUSIA</td>\n",
              "      <td>Beans</td>\n",
              "      <td>27351</td>\n",
              "      <td>36422</td>\n",
              "      <td>1.3</td>\n",
              "    </tr>\n",
              "    <tr>\n",
              "      <th>4</th>\n",
              "      <td>ELGEYO MARAKWET</td>\n",
              "      <td>Beans</td>\n",
              "      <td>14873</td>\n",
              "      <td>16354.62</td>\n",
              "      <td>1.1</td>\n",
              "    </tr>\n",
              "  </tbody>\n",
              "</table>\n",
              "</div>"
            ]
          },
          "metadata": {
            "tags": []
          },
          "execution_count": 40
        }
      ],
      "metadata": {
        "id": "doKa6PL7rGhI",
        "colab": {
          "base_uri": "https://localhost:8080/",
          "height": 204
        },
        "outputId": "f822fc27-0baf-4ec1-b092-6e552eb34042"
      }
    },
    {
      "cell_type": "code",
      "execution_count": null,
      "source": [
        "#Get a dataframe for max values\r\n",
        "maxmum = counties.groupby(['CROP'])['Yield__Tons_per_HA'].transform(max) == counties['Yield__Tons_per_HA']"
      ],
      "outputs": [],
      "metadata": {
        "id": "XejdgYxhA5jv"
      }
    },
    {
      "cell_type": "code",
      "execution_count": null,
      "source": [
        "counties[maxmum]"
      ],
      "outputs": [
        {
          "output_type": "execute_result",
          "data": {
            "text/plain": [
              "       County            CROP Area__HA Production__Tons  Yield__Tons_per_HA\n",
              "1       BOMET           Beans    39002         50140.76                 1.3\n",
              "3       BUSIA           Beans    27351            36422                 1.3\n",
              "54   HOMA BAY         Sorghum   18,925           37,440                 2.0\n",
              "56    KAJIADO         Sorghum       46               93                 2.0\n",
              "98       EMBU  Irish Potatoes      332             6980                21.0\n",
              "129      MERU           Wheat    10180            49475                 4.9\n",
              "158    VIHIGA            Rice        4               18                 4.5"
            ],
            "text/html": [
              "<div>\n",
              "<style scoped>\n",
              "    .dataframe tbody tr th:only-of-type {\n",
              "        vertical-align: middle;\n",
              "    }\n",
              "\n",
              "    .dataframe tbody tr th {\n",
              "        vertical-align: top;\n",
              "    }\n",
              "\n",
              "    .dataframe thead th {\n",
              "        text-align: right;\n",
              "    }\n",
              "</style>\n",
              "<table border=\"1\" class=\"dataframe\">\n",
              "  <thead>\n",
              "    <tr style=\"text-align: right;\">\n",
              "      <th></th>\n",
              "      <th>County</th>\n",
              "      <th>CROP</th>\n",
              "      <th>Area__HA</th>\n",
              "      <th>Production__Tons</th>\n",
              "      <th>Yield__Tons_per_HA</th>\n",
              "    </tr>\n",
              "  </thead>\n",
              "  <tbody>\n",
              "    <tr>\n",
              "      <th>1</th>\n",
              "      <td>BOMET</td>\n",
              "      <td>Beans</td>\n",
              "      <td>39002</td>\n",
              "      <td>50140.76</td>\n",
              "      <td>1.3</td>\n",
              "    </tr>\n",
              "    <tr>\n",
              "      <th>3</th>\n",
              "      <td>BUSIA</td>\n",
              "      <td>Beans</td>\n",
              "      <td>27351</td>\n",
              "      <td>36422</td>\n",
              "      <td>1.3</td>\n",
              "    </tr>\n",
              "    <tr>\n",
              "      <th>54</th>\n",
              "      <td>HOMA BAY</td>\n",
              "      <td>Sorghum</td>\n",
              "      <td>18,925</td>\n",
              "      <td>37,440</td>\n",
              "      <td>2.0</td>\n",
              "    </tr>\n",
              "    <tr>\n",
              "      <th>56</th>\n",
              "      <td>KAJIADO</td>\n",
              "      <td>Sorghum</td>\n",
              "      <td>46</td>\n",
              "      <td>93</td>\n",
              "      <td>2.0</td>\n",
              "    </tr>\n",
              "    <tr>\n",
              "      <th>98</th>\n",
              "      <td>EMBU</td>\n",
              "      <td>Irish Potatoes</td>\n",
              "      <td>332</td>\n",
              "      <td>6980</td>\n",
              "      <td>21.0</td>\n",
              "    </tr>\n",
              "    <tr>\n",
              "      <th>129</th>\n",
              "      <td>MERU</td>\n",
              "      <td>Wheat</td>\n",
              "      <td>10180</td>\n",
              "      <td>49475</td>\n",
              "      <td>4.9</td>\n",
              "    </tr>\n",
              "    <tr>\n",
              "      <th>158</th>\n",
              "      <td>VIHIGA</td>\n",
              "      <td>Rice</td>\n",
              "      <td>4</td>\n",
              "      <td>18</td>\n",
              "      <td>4.5</td>\n",
              "    </tr>\n",
              "  </tbody>\n",
              "</table>\n",
              "</div>"
            ]
          },
          "metadata": {
            "tags": []
          },
          "execution_count": 42
        }
      ],
      "metadata": {
        "id": "KSVC06m6BWMo",
        "colab": {
          "base_uri": "https://localhost:8080/",
          "height": 266
        },
        "outputId": "0fe6fbec-90b3-4c57-8610-082e4e2e77b8"
      }
    },
    {
      "cell_type": "markdown",
      "source": [
        "## 3. Which is the best duration to sell a specific commodity?"
      ],
      "metadata": {
        "id": "RThkGthMqs_C"
      }
    },
    {
      "cell_type": "code",
      "execution_count": null,
      "source": [
        "#Add months column to group by\r\n",
        "crops['Month'] = crops['Date'].dt.month\r\n",
        "crops.head()\r\n"
      ],
      "outputs": [
        {
          "output_type": "execute_result",
          "data": {
            "text/plain": [
              "  Produce_Variety   Commodity_Type       Unit  ...       Date  OBJECTID Month\n",
              "0    Horticulture         Cabbages    Ext Bag  ... 2012-01-01         0     1\n",
              "1    Horticulture  Cooking Bananas  Med Bunch  ... 2012-01-01         1     1\n",
              "2    Horticulture     Ripe Bananas  Med Bunch  ... 2012-01-01         2     1\n",
              "3    Horticulture          Carrots    Ext Bag  ... 2012-01-01         3     1\n",
              "4    Horticulture         Tomatoes     Lg Box  ... 2012-01-01         4     1\n",
              "\n",
              "[5 rows x 8 columns]"
            ],
            "text/html": [
              "<div>\n",
              "<style scoped>\n",
              "    .dataframe tbody tr th:only-of-type {\n",
              "        vertical-align: middle;\n",
              "    }\n",
              "\n",
              "    .dataframe tbody tr th {\n",
              "        vertical-align: top;\n",
              "    }\n",
              "\n",
              "    .dataframe thead th {\n",
              "        text-align: right;\n",
              "    }\n",
              "</style>\n",
              "<table border=\"1\" class=\"dataframe\">\n",
              "  <thead>\n",
              "    <tr style=\"text-align: right;\">\n",
              "      <th></th>\n",
              "      <th>Produce_Variety</th>\n",
              "      <th>Commodity_Type</th>\n",
              "      <th>Unit</th>\n",
              "      <th>Volume_in_Kgs</th>\n",
              "      <th>Values_in_Ksh</th>\n",
              "      <th>Date</th>\n",
              "      <th>OBJECTID</th>\n",
              "      <th>Month</th>\n",
              "    </tr>\n",
              "  </thead>\n",
              "  <tbody>\n",
              "    <tr>\n",
              "      <th>0</th>\n",
              "      <td>Horticulture</td>\n",
              "      <td>Cabbages</td>\n",
              "      <td>Ext Bag</td>\n",
              "      <td>126</td>\n",
              "      <td>2205.0</td>\n",
              "      <td>2012-01-01</td>\n",
              "      <td>0</td>\n",
              "      <td>1</td>\n",
              "    </tr>\n",
              "    <tr>\n",
              "      <th>1</th>\n",
              "      <td>Horticulture</td>\n",
              "      <td>Cooking Bananas</td>\n",
              "      <td>Med Bunch</td>\n",
              "      <td>22</td>\n",
              "      <td>511.0</td>\n",
              "      <td>2012-01-01</td>\n",
              "      <td>1</td>\n",
              "      <td>1</td>\n",
              "    </tr>\n",
              "    <tr>\n",
              "      <th>2</th>\n",
              "      <td>Horticulture</td>\n",
              "      <td>Ripe Bananas</td>\n",
              "      <td>Med Bunch</td>\n",
              "      <td>14</td>\n",
              "      <td>616.0</td>\n",
              "      <td>2012-01-01</td>\n",
              "      <td>2</td>\n",
              "      <td>1</td>\n",
              "    </tr>\n",
              "    <tr>\n",
              "      <th>3</th>\n",
              "      <td>Horticulture</td>\n",
              "      <td>Carrots</td>\n",
              "      <td>Ext Bag</td>\n",
              "      <td>138</td>\n",
              "      <td>2833.0</td>\n",
              "      <td>2012-01-01</td>\n",
              "      <td>3</td>\n",
              "      <td>1</td>\n",
              "    </tr>\n",
              "    <tr>\n",
              "      <th>4</th>\n",
              "      <td>Horticulture</td>\n",
              "      <td>Tomatoes</td>\n",
              "      <td>Lg Box</td>\n",
              "      <td>64</td>\n",
              "      <td>3411.0</td>\n",
              "      <td>2012-01-01</td>\n",
              "      <td>4</td>\n",
              "      <td>1</td>\n",
              "    </tr>\n",
              "  </tbody>\n",
              "</table>\n",
              "</div>"
            ]
          },
          "metadata": {
            "tags": []
          },
          "execution_count": 43
        }
      ],
      "metadata": {
        "id": "z2Qvxw8YrHgI",
        "colab": {
          "base_uri": "https://localhost:8080/",
          "height": 204
        },
        "outputId": "da60e9d8-eafe-4bec-abd2-2989c7732c3c"
      }
    },
    {
      "cell_type": "code",
      "execution_count": null,
      "source": [
        "a=crops.groupby(['Commodity_Type'])['Values_in_Ksh'].transform(max) == crops['Values_in_Ksh']\r\n",
        "b=crops[a].groupby(['Month','Commodity_Type']).max()\r\n",
        "b.drop(columns=['Produce_Variety','Date','OBJECTID'])"
      ],
      "outputs": [
        {
          "output_type": "execute_result",
          "data": {
            "text/plain": [
              "                                 Unit  Volume_in_Kgs  Values_in_Ksh\n",
              "Month Commodity_Type                                               \n",
              "1     Oranges                     Bag             93         3795.0\n",
              "2     Brinjals                    Bag             44         2126.0\n",
              "      Cooking Bananas       Med Bunch             22          629.0\n",
              "      Pawpaw                   Lg Box             54         2005.0\n",
              "      Ripe Bananas          Med Bunch             14          708.0\n",
              "      Sorghum                     Bag             90         4202.0\n",
              "3     Cabbages                Ext Bag            126         3049.0\n",
              "      Capsicums                   Bag             50         3247.0\n",
              "      Cucumber                    Bag             50         2742.0\n",
              "      Kales                       Bag             50         2359.0\n",
              "4     Cauliflower               crate             39         3781.0\n",
              "      Lemons                      Bag             95         2611.0\n",
              "5     Avocado                     Bag             90         2705.0\n",
              "      Beans Mwitemania            Bag             90         6903.0\n",
              "      Beans Rosecoco              Bag             90         7522.0\n",
              "      Cassava Fresh               Bag             99         2350.0\n",
              "      Cowpeas                     Bag             90         7509.0\n",
              "      Finger Millet               Bag             90         7216.0\n",
              "      Fresh Peas                  Bag             51         4343.0\n",
              "      Green Gram                  Bag             90        11905.0\n",
              "      Green Maize             Ext Bag            115         3872.0\n",
              "      Limes                       net             13         1135.0\n",
              "      Red Irish Potatoes          Bag            110         3812.0\n",
              "      Spring Onions               Bag            142         2571.0\n",
              "      Tomatoes                 Lg Box             64         5664.0\n",
              "      White Irish Potatoes        Bag            110         3935.0\n",
              "6     Beans Canadian              Bag             90         7471.0\n",
              "      Carrots                 Ext Bag            138         5715.0\n",
              "      Mwezi Moja                  Bag             90         7279.0\n",
              "      Onions Dry                  net             13         1259.0\n",
              "      Passion Fruits              Bag             57         4675.0\n",
              "      Sweet Potatoes              Bag             98         3259.0\n",
              "      Wheat                       Bag             90         4540.0\n",
              "7     Groundnuts                  Bag            110        13713.0\n",
              "9     Chillies                    Bag             38         3783.0\n",
              "      Lettuce                     Bag             51         4983.0\n",
              "      Mangoes Local               Bag            126         2688.0\n",
              "      Mangoes Ngowe         Sm Basket             25         1262.0\n",
              "      Pineapples                Dozen             13          935.0\n",
              "12    Dolichos (Njahi)            Bag             90        12622.0\n",
              "      Dry Maize                   Bag             90         3037.0"
            ],
            "text/html": [
              "<div>\n",
              "<style scoped>\n",
              "    .dataframe tbody tr th:only-of-type {\n",
              "        vertical-align: middle;\n",
              "    }\n",
              "\n",
              "    .dataframe tbody tr th {\n",
              "        vertical-align: top;\n",
              "    }\n",
              "\n",
              "    .dataframe thead th {\n",
              "        text-align: right;\n",
              "    }\n",
              "</style>\n",
              "<table border=\"1\" class=\"dataframe\">\n",
              "  <thead>\n",
              "    <tr style=\"text-align: right;\">\n",
              "      <th></th>\n",
              "      <th></th>\n",
              "      <th>Unit</th>\n",
              "      <th>Volume_in_Kgs</th>\n",
              "      <th>Values_in_Ksh</th>\n",
              "    </tr>\n",
              "    <tr>\n",
              "      <th>Month</th>\n",
              "      <th>Commodity_Type</th>\n",
              "      <th></th>\n",
              "      <th></th>\n",
              "      <th></th>\n",
              "    </tr>\n",
              "  </thead>\n",
              "  <tbody>\n",
              "    <tr>\n",
              "      <th>1</th>\n",
              "      <th>Oranges</th>\n",
              "      <td>Bag</td>\n",
              "      <td>93</td>\n",
              "      <td>3795.0</td>\n",
              "    </tr>\n",
              "    <tr>\n",
              "      <th rowspan=\"5\" valign=\"top\">2</th>\n",
              "      <th>Brinjals</th>\n",
              "      <td>Bag</td>\n",
              "      <td>44</td>\n",
              "      <td>2126.0</td>\n",
              "    </tr>\n",
              "    <tr>\n",
              "      <th>Cooking Bananas</th>\n",
              "      <td>Med Bunch</td>\n",
              "      <td>22</td>\n",
              "      <td>629.0</td>\n",
              "    </tr>\n",
              "    <tr>\n",
              "      <th>Pawpaw</th>\n",
              "      <td>Lg Box</td>\n",
              "      <td>54</td>\n",
              "      <td>2005.0</td>\n",
              "    </tr>\n",
              "    <tr>\n",
              "      <th>Ripe Bananas</th>\n",
              "      <td>Med Bunch</td>\n",
              "      <td>14</td>\n",
              "      <td>708.0</td>\n",
              "    </tr>\n",
              "    <tr>\n",
              "      <th>Sorghum</th>\n",
              "      <td>Bag</td>\n",
              "      <td>90</td>\n",
              "      <td>4202.0</td>\n",
              "    </tr>\n",
              "    <tr>\n",
              "      <th rowspan=\"4\" valign=\"top\">3</th>\n",
              "      <th>Cabbages</th>\n",
              "      <td>Ext Bag</td>\n",
              "      <td>126</td>\n",
              "      <td>3049.0</td>\n",
              "    </tr>\n",
              "    <tr>\n",
              "      <th>Capsicums</th>\n",
              "      <td>Bag</td>\n",
              "      <td>50</td>\n",
              "      <td>3247.0</td>\n",
              "    </tr>\n",
              "    <tr>\n",
              "      <th>Cucumber</th>\n",
              "      <td>Bag</td>\n",
              "      <td>50</td>\n",
              "      <td>2742.0</td>\n",
              "    </tr>\n",
              "    <tr>\n",
              "      <th>Kales</th>\n",
              "      <td>Bag</td>\n",
              "      <td>50</td>\n",
              "      <td>2359.0</td>\n",
              "    </tr>\n",
              "    <tr>\n",
              "      <th rowspan=\"2\" valign=\"top\">4</th>\n",
              "      <th>Cauliflower</th>\n",
              "      <td>crate</td>\n",
              "      <td>39</td>\n",
              "      <td>3781.0</td>\n",
              "    </tr>\n",
              "    <tr>\n",
              "      <th>Lemons</th>\n",
              "      <td>Bag</td>\n",
              "      <td>95</td>\n",
              "      <td>2611.0</td>\n",
              "    </tr>\n",
              "    <tr>\n",
              "      <th rowspan=\"14\" valign=\"top\">5</th>\n",
              "      <th>Avocado</th>\n",
              "      <td>Bag</td>\n",
              "      <td>90</td>\n",
              "      <td>2705.0</td>\n",
              "    </tr>\n",
              "    <tr>\n",
              "      <th>Beans Mwitemania</th>\n",
              "      <td>Bag</td>\n",
              "      <td>90</td>\n",
              "      <td>6903.0</td>\n",
              "    </tr>\n",
              "    <tr>\n",
              "      <th>Beans Rosecoco</th>\n",
              "      <td>Bag</td>\n",
              "      <td>90</td>\n",
              "      <td>7522.0</td>\n",
              "    </tr>\n",
              "    <tr>\n",
              "      <th>Cassava Fresh</th>\n",
              "      <td>Bag</td>\n",
              "      <td>99</td>\n",
              "      <td>2350.0</td>\n",
              "    </tr>\n",
              "    <tr>\n",
              "      <th>Cowpeas</th>\n",
              "      <td>Bag</td>\n",
              "      <td>90</td>\n",
              "      <td>7509.0</td>\n",
              "    </tr>\n",
              "    <tr>\n",
              "      <th>Finger Millet</th>\n",
              "      <td>Bag</td>\n",
              "      <td>90</td>\n",
              "      <td>7216.0</td>\n",
              "    </tr>\n",
              "    <tr>\n",
              "      <th>Fresh Peas</th>\n",
              "      <td>Bag</td>\n",
              "      <td>51</td>\n",
              "      <td>4343.0</td>\n",
              "    </tr>\n",
              "    <tr>\n",
              "      <th>Green Gram</th>\n",
              "      <td>Bag</td>\n",
              "      <td>90</td>\n",
              "      <td>11905.0</td>\n",
              "    </tr>\n",
              "    <tr>\n",
              "      <th>Green Maize</th>\n",
              "      <td>Ext Bag</td>\n",
              "      <td>115</td>\n",
              "      <td>3872.0</td>\n",
              "    </tr>\n",
              "    <tr>\n",
              "      <th>Limes</th>\n",
              "      <td>net</td>\n",
              "      <td>13</td>\n",
              "      <td>1135.0</td>\n",
              "    </tr>\n",
              "    <tr>\n",
              "      <th>Red Irish Potatoes</th>\n",
              "      <td>Bag</td>\n",
              "      <td>110</td>\n",
              "      <td>3812.0</td>\n",
              "    </tr>\n",
              "    <tr>\n",
              "      <th>Spring Onions</th>\n",
              "      <td>Bag</td>\n",
              "      <td>142</td>\n",
              "      <td>2571.0</td>\n",
              "    </tr>\n",
              "    <tr>\n",
              "      <th>Tomatoes</th>\n",
              "      <td>Lg Box</td>\n",
              "      <td>64</td>\n",
              "      <td>5664.0</td>\n",
              "    </tr>\n",
              "    <tr>\n",
              "      <th>White Irish Potatoes</th>\n",
              "      <td>Bag</td>\n",
              "      <td>110</td>\n",
              "      <td>3935.0</td>\n",
              "    </tr>\n",
              "    <tr>\n",
              "      <th rowspan=\"7\" valign=\"top\">6</th>\n",
              "      <th>Beans Canadian</th>\n",
              "      <td>Bag</td>\n",
              "      <td>90</td>\n",
              "      <td>7471.0</td>\n",
              "    </tr>\n",
              "    <tr>\n",
              "      <th>Carrots</th>\n",
              "      <td>Ext Bag</td>\n",
              "      <td>138</td>\n",
              "      <td>5715.0</td>\n",
              "    </tr>\n",
              "    <tr>\n",
              "      <th>Mwezi Moja</th>\n",
              "      <td>Bag</td>\n",
              "      <td>90</td>\n",
              "      <td>7279.0</td>\n",
              "    </tr>\n",
              "    <tr>\n",
              "      <th>Onions Dry</th>\n",
              "      <td>net</td>\n",
              "      <td>13</td>\n",
              "      <td>1259.0</td>\n",
              "    </tr>\n",
              "    <tr>\n",
              "      <th>Passion Fruits</th>\n",
              "      <td>Bag</td>\n",
              "      <td>57</td>\n",
              "      <td>4675.0</td>\n",
              "    </tr>\n",
              "    <tr>\n",
              "      <th>Sweet Potatoes</th>\n",
              "      <td>Bag</td>\n",
              "      <td>98</td>\n",
              "      <td>3259.0</td>\n",
              "    </tr>\n",
              "    <tr>\n",
              "      <th>Wheat</th>\n",
              "      <td>Bag</td>\n",
              "      <td>90</td>\n",
              "      <td>4540.0</td>\n",
              "    </tr>\n",
              "    <tr>\n",
              "      <th>7</th>\n",
              "      <th>Groundnuts</th>\n",
              "      <td>Bag</td>\n",
              "      <td>110</td>\n",
              "      <td>13713.0</td>\n",
              "    </tr>\n",
              "    <tr>\n",
              "      <th rowspan=\"5\" valign=\"top\">9</th>\n",
              "      <th>Chillies</th>\n",
              "      <td>Bag</td>\n",
              "      <td>38</td>\n",
              "      <td>3783.0</td>\n",
              "    </tr>\n",
              "    <tr>\n",
              "      <th>Lettuce</th>\n",
              "      <td>Bag</td>\n",
              "      <td>51</td>\n",
              "      <td>4983.0</td>\n",
              "    </tr>\n",
              "    <tr>\n",
              "      <th>Mangoes Local</th>\n",
              "      <td>Bag</td>\n",
              "      <td>126</td>\n",
              "      <td>2688.0</td>\n",
              "    </tr>\n",
              "    <tr>\n",
              "      <th>Mangoes Ngowe</th>\n",
              "      <td>Sm Basket</td>\n",
              "      <td>25</td>\n",
              "      <td>1262.0</td>\n",
              "    </tr>\n",
              "    <tr>\n",
              "      <th>Pineapples</th>\n",
              "      <td>Dozen</td>\n",
              "      <td>13</td>\n",
              "      <td>935.0</td>\n",
              "    </tr>\n",
              "    <tr>\n",
              "      <th rowspan=\"2\" valign=\"top\">12</th>\n",
              "      <th>Dolichos (Njahi)</th>\n",
              "      <td>Bag</td>\n",
              "      <td>90</td>\n",
              "      <td>12622.0</td>\n",
              "    </tr>\n",
              "    <tr>\n",
              "      <th>Dry Maize</th>\n",
              "      <td>Bag</td>\n",
              "      <td>90</td>\n",
              "      <td>3037.0</td>\n",
              "    </tr>\n",
              "  </tbody>\n",
              "</table>\n",
              "</div>"
            ]
          },
          "metadata": {
            "tags": []
          },
          "execution_count": 44
        }
      ],
      "metadata": {
        "colab": {
          "base_uri": "https://localhost:8080/",
          "height": 1000
        },
        "id": "VcaN6FNIoO7w",
        "outputId": "e2f1c8a7-1805-4aea-de0a-b8a3245634e0"
      }
    },
    {
      "cell_type": "markdown",
      "source": [
        "## 4. What is the best selling commodity in various counties?"
      ],
      "metadata": {
        "id": "3Gbb7-UxrTnX"
      }
    },
    {
      "cell_type": "code",
      "execution_count": null,
      "source": [
        "\r\n",
        "crops['value_per_kg']= (crops['Values_in_Ksh']/crops['Volume_in_Kgs']).round(2)\r\n",
        "crops.head()"
      ],
      "outputs": [
        {
          "output_type": "execute_result",
          "data": {
            "text/plain": [
              "  Produce_Variety   Commodity_Type       Unit  ...  OBJECTID  Month value_per_kg\n",
              "0    Horticulture         Cabbages    Ext Bag  ...         0      1        17.50\n",
              "1    Horticulture  Cooking Bananas  Med Bunch  ...         1      1        23.23\n",
              "2    Horticulture     Ripe Bananas  Med Bunch  ...         2      1        44.00\n",
              "3    Horticulture          Carrots    Ext Bag  ...         3      1        20.53\n",
              "4    Horticulture         Tomatoes     Lg Box  ...         4      1        53.30\n",
              "\n",
              "[5 rows x 9 columns]"
            ],
            "text/html": [
              "<div>\n",
              "<style scoped>\n",
              "    .dataframe tbody tr th:only-of-type {\n",
              "        vertical-align: middle;\n",
              "    }\n",
              "\n",
              "    .dataframe tbody tr th {\n",
              "        vertical-align: top;\n",
              "    }\n",
              "\n",
              "    .dataframe thead th {\n",
              "        text-align: right;\n",
              "    }\n",
              "</style>\n",
              "<table border=\"1\" class=\"dataframe\">\n",
              "  <thead>\n",
              "    <tr style=\"text-align: right;\">\n",
              "      <th></th>\n",
              "      <th>Produce_Variety</th>\n",
              "      <th>Commodity_Type</th>\n",
              "      <th>Unit</th>\n",
              "      <th>Volume_in_Kgs</th>\n",
              "      <th>Values_in_Ksh</th>\n",
              "      <th>Date</th>\n",
              "      <th>OBJECTID</th>\n",
              "      <th>Month</th>\n",
              "      <th>value_per_kg</th>\n",
              "    </tr>\n",
              "  </thead>\n",
              "  <tbody>\n",
              "    <tr>\n",
              "      <th>0</th>\n",
              "      <td>Horticulture</td>\n",
              "      <td>Cabbages</td>\n",
              "      <td>Ext Bag</td>\n",
              "      <td>126</td>\n",
              "      <td>2205.0</td>\n",
              "      <td>2012-01-01</td>\n",
              "      <td>0</td>\n",
              "      <td>1</td>\n",
              "      <td>17.50</td>\n",
              "    </tr>\n",
              "    <tr>\n",
              "      <th>1</th>\n",
              "      <td>Horticulture</td>\n",
              "      <td>Cooking Bananas</td>\n",
              "      <td>Med Bunch</td>\n",
              "      <td>22</td>\n",
              "      <td>511.0</td>\n",
              "      <td>2012-01-01</td>\n",
              "      <td>1</td>\n",
              "      <td>1</td>\n",
              "      <td>23.23</td>\n",
              "    </tr>\n",
              "    <tr>\n",
              "      <th>2</th>\n",
              "      <td>Horticulture</td>\n",
              "      <td>Ripe Bananas</td>\n",
              "      <td>Med Bunch</td>\n",
              "      <td>14</td>\n",
              "      <td>616.0</td>\n",
              "      <td>2012-01-01</td>\n",
              "      <td>2</td>\n",
              "      <td>1</td>\n",
              "      <td>44.00</td>\n",
              "    </tr>\n",
              "    <tr>\n",
              "      <th>3</th>\n",
              "      <td>Horticulture</td>\n",
              "      <td>Carrots</td>\n",
              "      <td>Ext Bag</td>\n",
              "      <td>138</td>\n",
              "      <td>2833.0</td>\n",
              "      <td>2012-01-01</td>\n",
              "      <td>3</td>\n",
              "      <td>1</td>\n",
              "      <td>20.53</td>\n",
              "    </tr>\n",
              "    <tr>\n",
              "      <th>4</th>\n",
              "      <td>Horticulture</td>\n",
              "      <td>Tomatoes</td>\n",
              "      <td>Lg Box</td>\n",
              "      <td>64</td>\n",
              "      <td>3411.0</td>\n",
              "      <td>2012-01-01</td>\n",
              "      <td>4</td>\n",
              "      <td>1</td>\n",
              "      <td>53.30</td>\n",
              "    </tr>\n",
              "  </tbody>\n",
              "</table>\n",
              "</div>"
            ]
          },
          "metadata": {
            "tags": []
          },
          "execution_count": 49
        }
      ],
      "metadata": {
        "id": "aYpWZj5XrZgg",
        "colab": {
          "base_uri": "https://localhost:8080/",
          "height": 204
        },
        "outputId": "cbe2158d-953d-411a-e379-ec64520b2cd9"
      }
    },
    {
      "cell_type": "code",
      "execution_count": null,
      "source": [
        "counties.head()"
      ],
      "outputs": [
        {
          "output_type": "execute_result",
          "data": {
            "text/plain": [
              "            County   CROP Area__HA Production__Tons  Yield__Tons_per_HA\n",
              "0          BARINGO  Beans    15669            11034                 0.7\n",
              "1            BOMET  Beans    39002         50140.76                 1.3\n",
              "2          BUNGOMA  Beans    77367         61051.12                 0.8\n",
              "3            BUSIA  Beans    27351            36422                 1.3\n",
              "4  ELGEYO MARAKWET  Beans    14873         16354.62                 1.1"
            ],
            "text/html": [
              "<div>\n",
              "<style scoped>\n",
              "    .dataframe tbody tr th:only-of-type {\n",
              "        vertical-align: middle;\n",
              "    }\n",
              "\n",
              "    .dataframe tbody tr th {\n",
              "        vertical-align: top;\n",
              "    }\n",
              "\n",
              "    .dataframe thead th {\n",
              "        text-align: right;\n",
              "    }\n",
              "</style>\n",
              "<table border=\"1\" class=\"dataframe\">\n",
              "  <thead>\n",
              "    <tr style=\"text-align: right;\">\n",
              "      <th></th>\n",
              "      <th>County</th>\n",
              "      <th>CROP</th>\n",
              "      <th>Area__HA</th>\n",
              "      <th>Production__Tons</th>\n",
              "      <th>Yield__Tons_per_HA</th>\n",
              "    </tr>\n",
              "  </thead>\n",
              "  <tbody>\n",
              "    <tr>\n",
              "      <th>0</th>\n",
              "      <td>BARINGO</td>\n",
              "      <td>Beans</td>\n",
              "      <td>15669</td>\n",
              "      <td>11034</td>\n",
              "      <td>0.7</td>\n",
              "    </tr>\n",
              "    <tr>\n",
              "      <th>1</th>\n",
              "      <td>BOMET</td>\n",
              "      <td>Beans</td>\n",
              "      <td>39002</td>\n",
              "      <td>50140.76</td>\n",
              "      <td>1.3</td>\n",
              "    </tr>\n",
              "    <tr>\n",
              "      <th>2</th>\n",
              "      <td>BUNGOMA</td>\n",
              "      <td>Beans</td>\n",
              "      <td>77367</td>\n",
              "      <td>61051.12</td>\n",
              "      <td>0.8</td>\n",
              "    </tr>\n",
              "    <tr>\n",
              "      <th>3</th>\n",
              "      <td>BUSIA</td>\n",
              "      <td>Beans</td>\n",
              "      <td>27351</td>\n",
              "      <td>36422</td>\n",
              "      <td>1.3</td>\n",
              "    </tr>\n",
              "    <tr>\n",
              "      <th>4</th>\n",
              "      <td>ELGEYO MARAKWET</td>\n",
              "      <td>Beans</td>\n",
              "      <td>14873</td>\n",
              "      <td>16354.62</td>\n",
              "      <td>1.1</td>\n",
              "    </tr>\n",
              "  </tbody>\n",
              "</table>\n",
              "</div>"
            ]
          },
          "metadata": {
            "tags": []
          },
          "execution_count": 46
        }
      ],
      "metadata": {
        "colab": {
          "base_uri": "https://localhost:8080/",
          "height": 204
        },
        "id": "qnRvNhZCDyOp",
        "outputId": "a8dfded5-5344-4354-b8e5-a61f03732f3b"
      }
    },
    {
      "cell_type": "code",
      "execution_count": null,
      "source": [
        "counties[maxmum]"
      ],
      "outputs": [
        {
          "output_type": "execute_result",
          "data": {
            "text/plain": [
              "       County            CROP Area__HA Production__Tons  Yield__Tons_per_HA\n",
              "1       BOMET           Beans    39002         50140.76                 1.3\n",
              "3       BUSIA           Beans    27351            36422                 1.3\n",
              "54   HOMA BAY         Sorghum   18,925           37,440                 2.0\n",
              "56    KAJIADO         Sorghum       46               93                 2.0\n",
              "98       EMBU  Irish Potatoes      332             6980                21.0\n",
              "129      MERU           Wheat    10180            49475                 4.9\n",
              "158    VIHIGA            Rice        4               18                 4.5"
            ],
            "text/html": [
              "<div>\n",
              "<style scoped>\n",
              "    .dataframe tbody tr th:only-of-type {\n",
              "        vertical-align: middle;\n",
              "    }\n",
              "\n",
              "    .dataframe tbody tr th {\n",
              "        vertical-align: top;\n",
              "    }\n",
              "\n",
              "    .dataframe thead th {\n",
              "        text-align: right;\n",
              "    }\n",
              "</style>\n",
              "<table border=\"1\" class=\"dataframe\">\n",
              "  <thead>\n",
              "    <tr style=\"text-align: right;\">\n",
              "      <th></th>\n",
              "      <th>County</th>\n",
              "      <th>CROP</th>\n",
              "      <th>Area__HA</th>\n",
              "      <th>Production__Tons</th>\n",
              "      <th>Yield__Tons_per_HA</th>\n",
              "    </tr>\n",
              "  </thead>\n",
              "  <tbody>\n",
              "    <tr>\n",
              "      <th>1</th>\n",
              "      <td>BOMET</td>\n",
              "      <td>Beans</td>\n",
              "      <td>39002</td>\n",
              "      <td>50140.76</td>\n",
              "      <td>1.3</td>\n",
              "    </tr>\n",
              "    <tr>\n",
              "      <th>3</th>\n",
              "      <td>BUSIA</td>\n",
              "      <td>Beans</td>\n",
              "      <td>27351</td>\n",
              "      <td>36422</td>\n",
              "      <td>1.3</td>\n",
              "    </tr>\n",
              "    <tr>\n",
              "      <th>54</th>\n",
              "      <td>HOMA BAY</td>\n",
              "      <td>Sorghum</td>\n",
              "      <td>18,925</td>\n",
              "      <td>37,440</td>\n",
              "      <td>2.0</td>\n",
              "    </tr>\n",
              "    <tr>\n",
              "      <th>56</th>\n",
              "      <td>KAJIADO</td>\n",
              "      <td>Sorghum</td>\n",
              "      <td>46</td>\n",
              "      <td>93</td>\n",
              "      <td>2.0</td>\n",
              "    </tr>\n",
              "    <tr>\n",
              "      <th>98</th>\n",
              "      <td>EMBU</td>\n",
              "      <td>Irish Potatoes</td>\n",
              "      <td>332</td>\n",
              "      <td>6980</td>\n",
              "      <td>21.0</td>\n",
              "    </tr>\n",
              "    <tr>\n",
              "      <th>129</th>\n",
              "      <td>MERU</td>\n",
              "      <td>Wheat</td>\n",
              "      <td>10180</td>\n",
              "      <td>49475</td>\n",
              "      <td>4.9</td>\n",
              "    </tr>\n",
              "    <tr>\n",
              "      <th>158</th>\n",
              "      <td>VIHIGA</td>\n",
              "      <td>Rice</td>\n",
              "      <td>4</td>\n",
              "      <td>18</td>\n",
              "      <td>4.5</td>\n",
              "    </tr>\n",
              "  </tbody>\n",
              "</table>\n",
              "</div>"
            ]
          },
          "metadata": {
            "tags": []
          },
          "execution_count": 50
        }
      ],
      "metadata": {
        "colab": {
          "base_uri": "https://localhost:8080/",
          "height": 266
        },
        "id": "d8B8zj-ID0GM",
        "outputId": "b4c5498d-3864-45e5-d95a-fe0066b4d2e9"
      }
    },
    {
      "cell_type": "code",
      "execution_count": null,
      "source": [
        "pip install streamlit"
      ],
      "outputs": [
        {
          "output_type": "stream",
          "name": "stdout",
          "text": [
            "Requirement already satisfied: streamlit in /usr/local/lib/python3.7/dist-packages (0.86.0)\n",
            "Requirement already satisfied: blinker in /usr/local/lib/python3.7/dist-packages (from streamlit) (1.4)\n",
            "Requirement already satisfied: pillow>=6.2.0 in /usr/local/lib/python3.7/dist-packages (from streamlit) (7.1.2)\n",
            "Requirement already satisfied: pyarrow in /usr/local/lib/python3.7/dist-packages (from streamlit) (3.0.0)\n",
            "Requirement already satisfied: cachetools>=4.0 in /usr/local/lib/python3.7/dist-packages (from streamlit) (4.2.2)\n",
            "Requirement already satisfied: validators in /usr/local/lib/python3.7/dist-packages (from streamlit) (0.18.2)\n",
            "Requirement already satisfied: pydeck>=0.1.dev5 in /usr/local/lib/python3.7/dist-packages (from streamlit) (0.6.2)\n",
            "Requirement already satisfied: altair>=3.2.0 in /usr/local/lib/python3.7/dist-packages (from streamlit) (4.1.0)\n",
            "Requirement already satisfied: python-dateutil in /usr/local/lib/python3.7/dist-packages (from streamlit) (2.8.2)\n",
            "Requirement already satisfied: tornado>=5.0 in /usr/local/lib/python3.7/dist-packages (from streamlit) (5.1.1)\n",
            "Requirement already satisfied: attrs in /usr/local/lib/python3.7/dist-packages (from streamlit) (21.2.0)\n",
            "Requirement already satisfied: numpy in /usr/local/lib/python3.7/dist-packages (from streamlit) (1.19.5)\n",
            "Requirement already satisfied: watchdog in /usr/local/lib/python3.7/dist-packages (from streamlit) (2.1.3)\n",
            "Requirement already satisfied: protobuf!=3.11,>=3.6.0 in /usr/local/lib/python3.7/dist-packages (from streamlit) (3.17.3)\n",
            "Requirement already satisfied: base58 in /usr/local/lib/python3.7/dist-packages (from streamlit) (2.1.0)\n",
            "Requirement already satisfied: requests in /usr/local/lib/python3.7/dist-packages (from streamlit) (2.23.0)\n",
            "Requirement already satisfied: click<8.0,>=7.0 in /usr/local/lib/python3.7/dist-packages (from streamlit) (7.1.2)\n",
            "Requirement already satisfied: packaging in /usr/local/lib/python3.7/dist-packages (from streamlit) (21.0)\n",
            "Requirement already satisfied: astor in /usr/local/lib/python3.7/dist-packages (from streamlit) (0.8.1)\n",
            "Requirement already satisfied: pandas>=0.21.0 in /usr/local/lib/python3.7/dist-packages (from streamlit) (1.1.5)\n",
            "Requirement already satisfied: toml in /usr/local/lib/python3.7/dist-packages (from streamlit) (0.10.2)\n",
            "Requirement already satisfied: gitpython!=3.1.19 in /usr/local/lib/python3.7/dist-packages (from streamlit) (3.1.18)\n",
            "Requirement already satisfied: tzlocal in /usr/local/lib/python3.7/dist-packages (from streamlit) (1.5.1)\n",
            "Requirement already satisfied: jinja2 in /usr/local/lib/python3.7/dist-packages (from altair>=3.2.0->streamlit) (2.11.3)\n",
            "Requirement already satisfied: entrypoints in /usr/local/lib/python3.7/dist-packages (from altair>=3.2.0->streamlit) (0.3)\n",
            "Requirement already satisfied: jsonschema in /usr/local/lib/python3.7/dist-packages (from altair>=3.2.0->streamlit) (2.6.0)\n",
            "Requirement already satisfied: toolz in /usr/local/lib/python3.7/dist-packages (from altair>=3.2.0->streamlit) (0.11.1)\n",
            "Requirement already satisfied: gitdb<5,>=4.0.1 in /usr/local/lib/python3.7/dist-packages (from gitpython!=3.1.19->streamlit) (4.0.7)\n",
            "Requirement already satisfied: typing-extensions>=3.7.4.0 in /usr/local/lib/python3.7/dist-packages (from gitpython!=3.1.19->streamlit) (3.7.4.3)\n",
            "Requirement already satisfied: smmap<5,>=3.0.1 in /usr/local/lib/python3.7/dist-packages (from gitdb<5,>=4.0.1->gitpython!=3.1.19->streamlit) (4.0.0)\n",
            "Requirement already satisfied: pytz>=2017.2 in /usr/local/lib/python3.7/dist-packages (from pandas>=0.21.0->streamlit) (2018.9)\n",
            "Requirement already satisfied: six>=1.9 in /usr/local/lib/python3.7/dist-packages (from protobuf!=3.11,>=3.6.0->streamlit) (1.15.0)\n",
            "Requirement already satisfied: traitlets>=4.3.2 in /usr/local/lib/python3.7/dist-packages (from pydeck>=0.1.dev5->streamlit) (5.0.5)\n",
            "Requirement already satisfied: ipywidgets>=7.0.0 in /usr/local/lib/python3.7/dist-packages (from pydeck>=0.1.dev5->streamlit) (7.6.3)\n",
            "Requirement already satisfied: ipykernel>=5.1.2 in /usr/local/lib/python3.7/dist-packages (from pydeck>=0.1.dev5->streamlit) (6.2.0)\n",
            "Requirement already satisfied: jupyter-client<8.0 in /usr/local/lib/python3.7/dist-packages (from ipykernel>=5.1.2->pydeck>=0.1.dev5->streamlit) (5.3.5)\n",
            "Requirement already satisfied: argcomplete>=1.12.3 in /usr/local/lib/python3.7/dist-packages (from ipykernel>=5.1.2->pydeck>=0.1.dev5->streamlit) (1.12.3)\n",
            "Requirement already satisfied: matplotlib-inline<0.2.0,>=0.1.0 in /usr/local/lib/python3.7/dist-packages (from ipykernel>=5.1.2->pydeck>=0.1.dev5->streamlit) (0.1.2)\n",
            "Requirement already satisfied: ipython<8.0,>=7.23.1 in /usr/local/lib/python3.7/dist-packages (from ipykernel>=5.1.2->pydeck>=0.1.dev5->streamlit) (7.26.0)\n",
            "Requirement already satisfied: importlib-metadata<5 in /usr/local/lib/python3.7/dist-packages (from ipykernel>=5.1.2->pydeck>=0.1.dev5->streamlit) (4.6.3)\n",
            "Requirement already satisfied: debugpy<2.0,>=1.0.0 in /usr/local/lib/python3.7/dist-packages (from ipykernel>=5.1.2->pydeck>=0.1.dev5->streamlit) (1.0.0)\n",
            "Requirement already satisfied: zipp>=0.5 in /usr/local/lib/python3.7/dist-packages (from importlib-metadata<5->ipykernel>=5.1.2->pydeck>=0.1.dev5->streamlit) (3.5.0)\n",
            "Requirement already satisfied: pickleshare in /usr/local/lib/python3.7/dist-packages (from ipython<8.0,>=7.23.1->ipykernel>=5.1.2->pydeck>=0.1.dev5->streamlit) (0.7.5)\n",
            "Requirement already satisfied: jedi>=0.16 in /usr/local/lib/python3.7/dist-packages (from ipython<8.0,>=7.23.1->ipykernel>=5.1.2->pydeck>=0.1.dev5->streamlit) (0.18.0)\n",
            "Requirement already satisfied: setuptools>=18.5 in /usr/local/lib/python3.7/dist-packages (from ipython<8.0,>=7.23.1->ipykernel>=5.1.2->pydeck>=0.1.dev5->streamlit) (57.4.0)\n",
            "Requirement already satisfied: pygments in /usr/local/lib/python3.7/dist-packages (from ipython<8.0,>=7.23.1->ipykernel>=5.1.2->pydeck>=0.1.dev5->streamlit) (2.6.1)\n",
            "Requirement already satisfied: backcall in /usr/local/lib/python3.7/dist-packages (from ipython<8.0,>=7.23.1->ipykernel>=5.1.2->pydeck>=0.1.dev5->streamlit) (0.2.0)\n",
            "Requirement already satisfied: pexpect>4.3 in /usr/local/lib/python3.7/dist-packages (from ipython<8.0,>=7.23.1->ipykernel>=5.1.2->pydeck>=0.1.dev5->streamlit) (4.8.0)\n",
            "Requirement already satisfied: prompt-toolkit!=3.0.0,!=3.0.1,<3.1.0,>=2.0.0 in /usr/local/lib/python3.7/dist-packages (from ipython<8.0,>=7.23.1->ipykernel>=5.1.2->pydeck>=0.1.dev5->streamlit) (3.0.19)\n",
            "Requirement already satisfied: decorator in /usr/local/lib/python3.7/dist-packages (from ipython<8.0,>=7.23.1->ipykernel>=5.1.2->pydeck>=0.1.dev5->streamlit) (4.4.2)\n",
            "Requirement already satisfied: widgetsnbextension~=3.5.0 in /usr/local/lib/python3.7/dist-packages (from ipywidgets>=7.0.0->pydeck>=0.1.dev5->streamlit) (3.5.1)\n",
            "Requirement already satisfied: jupyterlab-widgets>=1.0.0 in /usr/local/lib/python3.7/dist-packages (from ipywidgets>=7.0.0->pydeck>=0.1.dev5->streamlit) (1.0.0)\n",
            "Requirement already satisfied: nbformat>=4.2.0 in /usr/local/lib/python3.7/dist-packages (from ipywidgets>=7.0.0->pydeck>=0.1.dev5->streamlit) (5.1.3)\n",
            "Requirement already satisfied: parso<0.9.0,>=0.8.0 in /usr/local/lib/python3.7/dist-packages (from jedi>=0.16->ipython<8.0,>=7.23.1->ipykernel>=5.1.2->pydeck>=0.1.dev5->streamlit) (0.8.2)\n",
            "Requirement already satisfied: MarkupSafe>=0.23 in /usr/local/lib/python3.7/dist-packages (from jinja2->altair>=3.2.0->streamlit) (2.0.1)\n",
            "Requirement already satisfied: jupyter-core>=4.6.0 in /usr/local/lib/python3.7/dist-packages (from jupyter-client<8.0->ipykernel>=5.1.2->pydeck>=0.1.dev5->streamlit) (4.7.1)\n",
            "Requirement already satisfied: pyzmq>=13 in /usr/local/lib/python3.7/dist-packages (from jupyter-client<8.0->ipykernel>=5.1.2->pydeck>=0.1.dev5->streamlit) (22.2.1)\n",
            "Requirement already satisfied: ipython-genutils in /usr/local/lib/python3.7/dist-packages (from nbformat>=4.2.0->ipywidgets>=7.0.0->pydeck>=0.1.dev5->streamlit) (0.2.0)\n",
            "Requirement already satisfied: ptyprocess>=0.5 in /usr/local/lib/python3.7/dist-packages (from pexpect>4.3->ipython<8.0,>=7.23.1->ipykernel>=5.1.2->pydeck>=0.1.dev5->streamlit) (0.7.0)\n",
            "Requirement already satisfied: wcwidth in /usr/local/lib/python3.7/dist-packages (from prompt-toolkit!=3.0.0,!=3.0.1,<3.1.0,>=2.0.0->ipython<8.0,>=7.23.1->ipykernel>=5.1.2->pydeck>=0.1.dev5->streamlit) (0.2.5)\n",
            "Requirement already satisfied: notebook>=4.4.1 in /usr/local/lib/python3.7/dist-packages (from widgetsnbextension~=3.5.0->ipywidgets>=7.0.0->pydeck>=0.1.dev5->streamlit) (5.3.1)\n",
            "Requirement already satisfied: Send2Trash in /usr/local/lib/python3.7/dist-packages (from notebook>=4.4.1->widgetsnbextension~=3.5.0->ipywidgets>=7.0.0->pydeck>=0.1.dev5->streamlit) (1.8.0)\n",
            "Requirement already satisfied: nbconvert in /usr/local/lib/python3.7/dist-packages (from notebook>=4.4.1->widgetsnbextension~=3.5.0->ipywidgets>=7.0.0->pydeck>=0.1.dev5->streamlit) (5.6.1)\n",
            "Requirement already satisfied: terminado>=0.8.1 in /usr/local/lib/python3.7/dist-packages (from notebook>=4.4.1->widgetsnbextension~=3.5.0->ipywidgets>=7.0.0->pydeck>=0.1.dev5->streamlit) (0.11.0)\n",
            "Requirement already satisfied: bleach in /usr/local/lib/python3.7/dist-packages (from nbconvert->notebook>=4.4.1->widgetsnbextension~=3.5.0->ipywidgets>=7.0.0->pydeck>=0.1.dev5->streamlit) (4.0.0)\n",
            "Requirement already satisfied: defusedxml in /usr/local/lib/python3.7/dist-packages (from nbconvert->notebook>=4.4.1->widgetsnbextension~=3.5.0->ipywidgets>=7.0.0->pydeck>=0.1.dev5->streamlit) (0.7.1)\n",
            "Requirement already satisfied: testpath in /usr/local/lib/python3.7/dist-packages (from nbconvert->notebook>=4.4.1->widgetsnbextension~=3.5.0->ipywidgets>=7.0.0->pydeck>=0.1.dev5->streamlit) (0.5.0)\n",
            "Requirement already satisfied: mistune<2,>=0.8.1 in /usr/local/lib/python3.7/dist-packages (from nbconvert->notebook>=4.4.1->widgetsnbextension~=3.5.0->ipywidgets>=7.0.0->pydeck>=0.1.dev5->streamlit) (0.8.4)\n",
            "Requirement already satisfied: pandocfilters>=1.4.1 in /usr/local/lib/python3.7/dist-packages (from nbconvert->notebook>=4.4.1->widgetsnbextension~=3.5.0->ipywidgets>=7.0.0->pydeck>=0.1.dev5->streamlit) (1.4.3)\n",
            "Requirement already satisfied: webencodings in /usr/local/lib/python3.7/dist-packages (from bleach->nbconvert->notebook>=4.4.1->widgetsnbextension~=3.5.0->ipywidgets>=7.0.0->pydeck>=0.1.dev5->streamlit) (0.5.1)\n",
            "Requirement already satisfied: pyparsing>=2.0.2 in /usr/local/lib/python3.7/dist-packages (from packaging->streamlit) (2.4.7)\n",
            "Requirement already satisfied: chardet<4,>=3.0.2 in /usr/local/lib/python3.7/dist-packages (from requests->streamlit) (3.0.4)\n",
            "Requirement already satisfied: urllib3!=1.25.0,!=1.25.1,<1.26,>=1.21.1 in /usr/local/lib/python3.7/dist-packages (from requests->streamlit) (1.24.3)\n",
            "Requirement already satisfied: certifi>=2017.4.17 in /usr/local/lib/python3.7/dist-packages (from requests->streamlit) (2021.5.30)\n",
            "Requirement already satisfied: idna<3,>=2.5 in /usr/local/lib/python3.7/dist-packages (from requests->streamlit) (2.10)\n"
          ]
        }
      ],
      "metadata": {
        "colab": {
          "base_uri": "https://localhost:8080/"
        },
        "id": "C-_tNGKLJ3ex",
        "outputId": "97da3f08-71f6-43f9-aff8-eb1e77e605c5"
      }
    },
    {
      "cell_type": "code",
      "execution_count": null,
      "source": [
        "!streamlit hello"
      ],
      "outputs": [
        {
          "output_type": "stream",
          "name": "stdout",
          "text": [
            "\u001b[34m  Stopping...\u001b[0m\n"
          ]
        }
      ],
      "metadata": {
        "colab": {
          "base_uri": "https://localhost:8080/"
        },
        "id": "iC9ilK3_KEIT",
        "outputId": "96b2d77a-e561-4efb-9283-4a2ee721d838"
      }
    },
    {
      "cell_type": "code",
      "execution_count": null,
      "source": [
        "import streamlit as st\r\n",
        "# To make things easier later, we're also importing numpy and pandas for\r\n",
        "# working with sample data.\r\n",
        "import numpy as np\r\n",
        "import pandas as pd"
      ],
      "outputs": [],
      "metadata": {
        "id": "wVkO1OeyFrIw"
      }
    },
    {
      "cell_type": "code",
      "execution_count": null,
      "source": [
        "import first_app.py"
      ],
      "outputs": [
        {
          "output_type": "error",
          "ename": "ModuleNotFoundError",
          "evalue": "ignored",
          "traceback": [
            "\u001b[0;31m---------------------------------------------------------------------------\u001b[0m",
            "\u001b[0;31mModuleNotFoundError\u001b[0m                       Traceback (most recent call last)",
            "\u001b[0;32m/tmp/ipykernel_185/4208376964.py\u001b[0m in \u001b[0;36m<module>\u001b[0;34m\u001b[0m\n\u001b[0;32m----> 1\u001b[0;31m \u001b[0;32mimport\u001b[0m \u001b[0mfirst_app\u001b[0m\u001b[0;34m.\u001b[0m\u001b[0mpy\u001b[0m\u001b[0;34m\u001b[0m\u001b[0;34m\u001b[0m\u001b[0m\n\u001b[0m",
            "\u001b[0;31mModuleNotFoundError\u001b[0m: No module named 'first_app'",
            "",
            "\u001b[0;31m---------------------------------------------------------------------------\u001b[0;32m\nNOTE: If your import is failing due to a missing package, you can\nmanually install dependencies using either !pip or !apt.\n\nTo view examples of installing some common dependencies, click the\n\"Open Examples\" button below.\n\u001b[0;31m---------------------------------------------------------------------------\u001b[0m\n"
          ]
        }
      ],
      "metadata": {
        "colab": {
          "base_uri": "https://localhost:8080/",
          "height": 299
        },
        "id": "Vcfl5Xh3Wwhi",
        "outputId": "f61f9a61-3f13-4780-c1d0-a5161f9b5143"
      }
    },
    {
      "cell_type": "code",
      "execution_count": null,
      "source": [
        "!streamlit run first_app.py"
      ],
      "outputs": [
        {
          "output_type": "stream",
          "name": "stdout",
          "text": [
            "Usage: streamlit run [OPTIONS] TARGET [ARGS]...\n",
            "\n",
            "Error: Invalid value: File does not exist: first_app.py\n"
          ]
        }
      ],
      "metadata": {
        "colab": {
          "base_uri": "https://localhost:8080/"
        },
        "id": "9KsDW_EqU0w1",
        "outputId": "ebf97c15-4947-48e1-8b0d-67fe7c93dcc2"
      }
    },
    {
      "cell_type": "code",
      "execution_count": null,
      "source": [],
      "outputs": [],
      "metadata": {
        "id": "IIs6qyTBVEFD"
      }
    }
  ]
}