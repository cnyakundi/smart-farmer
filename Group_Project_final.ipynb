{
  "nbformat": 4,
  "nbformat_minor": 0,
  "metadata": {
    "colab": {
      "name": "Group Project. ipynb",
      "provenance": [],
      "collapsed_sections": [
        "GRbL2iRPoElM"
      ]
    },
    "kernelspec": {
      "display_name": "Python 3",
      "name": "python3"
    },
    "language_info": {
      "name": "python"
    }
  },
  "cells": [
    {
      "cell_type": "markdown",
      "metadata": {
        "id": "9SWWGCtGn2AA"
      },
      "source": [
        "## Importing our libraries"
      ]
    },
    {
      "cell_type": "code",
      "metadata": {
        "id": "yXywqh4WM-dd"
      },
      "source": [
        "from functions import *"
      ],
      "execution_count": 228,
      "outputs": []
    },
    {
      "cell_type": "code",
      "metadata": {
        "id": "ULUf6M1ul1cx"
      },
      "source": [
        "import pandas as pd\n",
        "import numpy as np\n",
        "import requests\n",
        "\n"
      ],
      "execution_count": 229,
      "outputs": []
    },
    {
      "cell_type": "markdown",
      "metadata": {
        "id": "BR0WOjGrfRe_"
      },
      "source": [
        "### Importing Visualizations \n"
      ]
    },
    {
      "cell_type": "code",
      "metadata": {
        "colab": {
          "base_uri": "https://localhost:8080/",
          "height": 17
        },
        "id": "bZx0NdoWfWUo",
        "outputId": "099fe448-160c-4fec-a018-d2d4f31d1359"
      },
      "source": [
        "#For visalizations \n",
        "\n",
        "import cufflinks as cf\n",
        "\n",
        "from plotly.offline import download_plotlyjs, init_notebook_mode, plot, iplot\n",
        "import matplotlib as plt\n",
        "\n",
        "init_notebook_mode(connected=True)\n",
        "\n",
        "cf.go_offline()\n",
        "\n",
        "%matplotlib inline"
      ],
      "execution_count": 230,
      "outputs": [
        {
          "output_type": "display_data",
          "data": {
            "text/html": [
              "        <script type=\"text/javascript\">\n",
              "        window.PlotlyConfig = {MathJaxConfig: 'local'};\n",
              "        if (window.MathJax) {MathJax.Hub.Config({SVG: {font: \"STIX-Web\"}});}\n",
              "        if (typeof require !== 'undefined') {\n",
              "        require.undef(\"plotly\");\n",
              "        requirejs.config({\n",
              "            paths: {\n",
              "                'plotly': ['https://cdn.plot.ly/plotly-latest.min']\n",
              "            }\n",
              "        });\n",
              "        require(['plotly'], function(Plotly) {\n",
              "            window._Plotly = Plotly;\n",
              "        });\n",
              "        }\n",
              "        </script>\n",
              "        "
            ]
          },
          "metadata": {}
        },
        {
          "output_type": "display_data",
          "data": {
            "text/html": [
              "        <script type=\"text/javascript\">\n",
              "        window.PlotlyConfig = {MathJaxConfig: 'local'};\n",
              "        if (window.MathJax) {MathJax.Hub.Config({SVG: {font: \"STIX-Web\"}});}\n",
              "        if (typeof require !== 'undefined') {\n",
              "        require.undef(\"plotly\");\n",
              "        requirejs.config({\n",
              "            paths: {\n",
              "                'plotly': ['https://cdn.plot.ly/plotly-latest.min']\n",
              "            }\n",
              "        });\n",
              "        require(['plotly'], function(Plotly) {\n",
              "            window._Plotly = Plotly;\n",
              "        });\n",
              "        }\n",
              "        </script>\n",
              "        "
            ]
          },
          "metadata": {}
        }
      ]
    },
    {
      "cell_type": "markdown",
      "metadata": {
        "id": "GRbL2iRPoElM"
      },
      "source": [
        "## Uploading the data"
      ]
    },
    {
      "cell_type": "code",
      "metadata": {
        "colab": {
          "base_uri": "https://localhost:8080/",
          "height": 204
        },
        "id": "LthO7aVIfPu0",
        "outputId": "10072afb-a1f9-4c30-8527-feb3e8456353"
      },
      "source": [
        "crops=load_data('crops.csv')\n",
        "crops.head()"
      ],
      "execution_count": 231,
      "outputs": [
        {
          "output_type": "execute_result",
          "data": {
            "text/html": [
              "<div>\n",
              "<style scoped>\n",
              "    .dataframe tbody tr th:only-of-type {\n",
              "        vertical-align: middle;\n",
              "    }\n",
              "\n",
              "    .dataframe tbody tr th {\n",
              "        vertical-align: top;\n",
              "    }\n",
              "\n",
              "    .dataframe thead th {\n",
              "        text-align: right;\n",
              "    }\n",
              "</style>\n",
              "<table border=\"1\" class=\"dataframe\">\n",
              "  <thead>\n",
              "    <tr style=\"text-align: right;\">\n",
              "      <th></th>\n",
              "      <th>Produce_Variety</th>\n",
              "      <th>Commodity_Type</th>\n",
              "      <th>Unit</th>\n",
              "      <th>Volume_in_Kgs</th>\n",
              "      <th>Values_in_Ksh</th>\n",
              "      <th>Date</th>\n",
              "      <th>OBJECTID</th>\n",
              "    </tr>\n",
              "  </thead>\n",
              "  <tbody>\n",
              "    <tr>\n",
              "      <th>0</th>\n",
              "      <td>Horticulture</td>\n",
              "      <td>Cabbages</td>\n",
              "      <td>Ext Bag</td>\n",
              "      <td>126</td>\n",
              "      <td>KES2205.00</td>\n",
              "      <td>01/01/2012 12:00:00 AM</td>\n",
              "      <td>0</td>\n",
              "    </tr>\n",
              "    <tr>\n",
              "      <th>1</th>\n",
              "      <td>Horticulture</td>\n",
              "      <td>Cooking Bananas</td>\n",
              "      <td>Med Bunch</td>\n",
              "      <td>22</td>\n",
              "      <td>KES511.00</td>\n",
              "      <td>01/01/2012 12:00:00 AM</td>\n",
              "      <td>1</td>\n",
              "    </tr>\n",
              "    <tr>\n",
              "      <th>2</th>\n",
              "      <td>Horticulture</td>\n",
              "      <td>Ripe Bananas</td>\n",
              "      <td>Med Bunch</td>\n",
              "      <td>14</td>\n",
              "      <td>KES616.00</td>\n",
              "      <td>01/01/2012 12:00:00 AM</td>\n",
              "      <td>2</td>\n",
              "    </tr>\n",
              "    <tr>\n",
              "      <th>3</th>\n",
              "      <td>Horticulture</td>\n",
              "      <td>Carrots</td>\n",
              "      <td>Ext Bag</td>\n",
              "      <td>138</td>\n",
              "      <td>KES2833.00</td>\n",
              "      <td>01/01/2012 12:00:00 AM</td>\n",
              "      <td>3</td>\n",
              "    </tr>\n",
              "    <tr>\n",
              "      <th>4</th>\n",
              "      <td>Horticulture</td>\n",
              "      <td>Tomatoes</td>\n",
              "      <td>Lg Box</td>\n",
              "      <td>64</td>\n",
              "      <td>KES3411.00</td>\n",
              "      <td>01/01/2012 12:00:00 AM</td>\n",
              "      <td>4</td>\n",
              "    </tr>\n",
              "  </tbody>\n",
              "</table>\n",
              "</div>"
            ],
            "text/plain": [
              "  Produce_Variety   Commodity_Type  ...                    Date  OBJECTID\n",
              "0    Horticulture         Cabbages  ...  01/01/2012 12:00:00 AM         0\n",
              "1    Horticulture  Cooking Bananas  ...  01/01/2012 12:00:00 AM         1\n",
              "2    Horticulture     Ripe Bananas  ...  01/01/2012 12:00:00 AM         2\n",
              "3    Horticulture          Carrots  ...  01/01/2012 12:00:00 AM         3\n",
              "4    Horticulture         Tomatoes  ...  01/01/2012 12:00:00 AM         4\n",
              "\n",
              "[5 rows x 7 columns]"
            ]
          },
          "metadata": {},
          "execution_count": 231
        }
      ]
    },
    {
      "cell_type": "code",
      "metadata": {
        "id": "LFb8kY-TIrX3"
      },
      "source": [
        "#Upload data set 2 for main food crops per counties "
      ],
      "execution_count": 232,
      "outputs": []
    },
    {
      "cell_type": "code",
      "metadata": {
        "colab": {
          "base_uri": "https://localhost:8080/",
          "height": 204
        },
        "id": "4Poufvm1g4f4",
        "outputId": "52284c52-dfb1-4af7-c132-f00eafdce49c"
      },
      "source": [
        "counties = load_data('counties.csv')\n",
        "counties.head()"
      ],
      "execution_count": 233,
      "outputs": [
        {
          "output_type": "execute_result",
          "data": {
            "text/html": [
              "<div>\n",
              "<style scoped>\n",
              "    .dataframe tbody tr th:only-of-type {\n",
              "        vertical-align: middle;\n",
              "    }\n",
              "\n",
              "    .dataframe tbody tr th {\n",
              "        vertical-align: top;\n",
              "    }\n",
              "\n",
              "    .dataframe thead th {\n",
              "        text-align: right;\n",
              "    }\n",
              "</style>\n",
              "<table border=\"1\" class=\"dataframe\">\n",
              "  <thead>\n",
              "    <tr style=\"text-align: right;\">\n",
              "      <th></th>\n",
              "      <th>_id</th>\n",
              "      <th>County</th>\n",
              "      <th>CROP</th>\n",
              "      <th>Area  (HA)</th>\n",
              "      <th>Production  (Tons)</th>\n",
              "      <th>Yield ( Tons/HA)</th>\n",
              "    </tr>\n",
              "  </thead>\n",
              "  <tbody>\n",
              "    <tr>\n",
              "      <th>0</th>\n",
              "      <td>1</td>\n",
              "      <td>BARINGO</td>\n",
              "      <td>Beans</td>\n",
              "      <td>15669</td>\n",
              "      <td>11034</td>\n",
              "      <td>0.7</td>\n",
              "    </tr>\n",
              "    <tr>\n",
              "      <th>1</th>\n",
              "      <td>2</td>\n",
              "      <td>BOMET</td>\n",
              "      <td>Beans</td>\n",
              "      <td>39002</td>\n",
              "      <td>50140.76</td>\n",
              "      <td>1.3</td>\n",
              "    </tr>\n",
              "    <tr>\n",
              "      <th>2</th>\n",
              "      <td>3</td>\n",
              "      <td>BUNGOMA</td>\n",
              "      <td>Beans</td>\n",
              "      <td>77367</td>\n",
              "      <td>61051.12</td>\n",
              "      <td>0.8</td>\n",
              "    </tr>\n",
              "    <tr>\n",
              "      <th>3</th>\n",
              "      <td>4</td>\n",
              "      <td>BUSIA</td>\n",
              "      <td>Beans</td>\n",
              "      <td>27351</td>\n",
              "      <td>36422</td>\n",
              "      <td>1.3</td>\n",
              "    </tr>\n",
              "    <tr>\n",
              "      <th>4</th>\n",
              "      <td>5</td>\n",
              "      <td>ELGEYO MARAKWET</td>\n",
              "      <td>Beans</td>\n",
              "      <td>14873</td>\n",
              "      <td>16354.62</td>\n",
              "      <td>1.1</td>\n",
              "    </tr>\n",
              "  </tbody>\n",
              "</table>\n",
              "</div>"
            ],
            "text/plain": [
              "   _id           County   CROP Area  (HA) Production  (Tons)  Yield ( Tons/HA)\n",
              "0    1          BARINGO  Beans      15669              11034               0.7\n",
              "1    2            BOMET  Beans      39002           50140.76               1.3\n",
              "2    3          BUNGOMA  Beans      77367           61051.12               0.8\n",
              "3    4            BUSIA  Beans      27351              36422               1.3\n",
              "4    5  ELGEYO MARAKWET  Beans      14873           16354.62               1.1"
            ]
          },
          "metadata": {},
          "execution_count": 233
        }
      ]
    },
    {
      "cell_type": "code",
      "metadata": {
        "colab": {
          "base_uri": "https://localhost:8080/",
          "height": 258
        },
        "id": "YH9jwfPxH5Na",
        "outputId": "7ce2121c-bade-44f9-a7f4-60595e859b5e"
      },
      "source": [
        "# prices dataset\n",
        "prices = load_data('prices.csv')\n",
        "prices.head()"
      ],
      "execution_count": 234,
      "outputs": [
        {
          "output_type": "execute_result",
          "data": {
            "text/html": [
              "<div>\n",
              "<style scoped>\n",
              "    .dataframe tbody tr th:only-of-type {\n",
              "        vertical-align: middle;\n",
              "    }\n",
              "\n",
              "    .dataframe tbody tr th {\n",
              "        vertical-align: top;\n",
              "    }\n",
              "\n",
              "    .dataframe thead th {\n",
              "        text-align: right;\n",
              "    }\n",
              "</style>\n",
              "<table border=\"1\" class=\"dataframe\">\n",
              "  <thead>\n",
              "    <tr style=\"text-align: right;\">\n",
              "      <th></th>\n",
              "      <th>COMMODITY</th>\n",
              "      <th>Unit</th>\n",
              "      <th>Kg</th>\n",
              "      <th>Nairobi</th>\n",
              "      <th>Mombasa</th>\n",
              "      <th>Kisumu</th>\n",
              "      <th>Nakuru</th>\n",
              "      <th>Eldoret</th>\n",
              "      <th>Malindi</th>\n",
              "      <th>Kitale</th>\n",
              "      <th>Kisii</th>\n",
              "      <th>Kitui</th>\n",
              "      <th>Busia</th>\n",
              "      <th>Loitoktok</th>\n",
              "      <th>Garissa</th>\n",
              "      <th>Karatina</th>\n",
              "      <th>Embu</th>\n",
              "      <th>Average</th>\n",
              "      <th>Maximum.</th>\n",
              "    </tr>\n",
              "  </thead>\n",
              "  <tbody>\n",
              "    <tr>\n",
              "      <th>0</th>\n",
              "      <td>Dry Maize</td>\n",
              "      <td>Bag</td>\n",
              "      <td>90.0</td>\n",
              "      <td>2995.000000</td>\n",
              "      <td>3100.000000</td>\n",
              "      <td>3200.000000</td>\n",
              "      <td>2380.000000</td>\n",
              "      <td>2600.0</td>\n",
              "      <td>3240.0</td>\n",
              "      <td>2261.111111</td>\n",
              "      <td>3200.0</td>\n",
              "      <td>3400.0</td>\n",
              "      <td>2373.75</td>\n",
              "      <td>3200.0</td>\n",
              "      <td>3600.0</td>\n",
              "      <td>2800.0</td>\n",
              "      <td>3000.0</td>\n",
              "      <td>2953.561508</td>\n",
              "      <td>3600.0</td>\n",
              "    </tr>\n",
              "    <tr>\n",
              "      <th>1</th>\n",
              "      <td>Green Maize</td>\n",
              "      <td>Ext Bag</td>\n",
              "      <td>115.0</td>\n",
              "      <td>3199.583333</td>\n",
              "      <td>5155.416667</td>\n",
              "      <td>1990.000000</td>\n",
              "      <td>1941.666667</td>\n",
              "      <td>1725.0</td>\n",
              "      <td>3000.0</td>\n",
              "      <td>1200.000000</td>\n",
              "      <td>3500.0</td>\n",
              "      <td>2000.0</td>\n",
              "      <td>1500.00</td>\n",
              "      <td>3250.0</td>\n",
              "      <td>6100.0</td>\n",
              "      <td>1000.0</td>\n",
              "      <td>2000.0</td>\n",
              "      <td>2682.976190</td>\n",
              "      <td>6100.0</td>\n",
              "    </tr>\n",
              "    <tr>\n",
              "      <th>2</th>\n",
              "      <td>Finger Millet</td>\n",
              "      <td>Bag</td>\n",
              "      <td>90.0</td>\n",
              "      <td>5530.000000</td>\n",
              "      <td>6525.000000</td>\n",
              "      <td>7200.000000</td>\n",
              "      <td>5311.250000</td>\n",
              "      <td>7200.0</td>\n",
              "      <td>5602.5</td>\n",
              "      <td>4500.000000</td>\n",
              "      <td>7300.0</td>\n",
              "      <td>7800.0</td>\n",
              "      <td>4725.00</td>\n",
              "      <td>NaN</td>\n",
              "      <td>7200.0</td>\n",
              "      <td>6000.0</td>\n",
              "      <td>5200.0</td>\n",
              "      <td>6161.057692</td>\n",
              "      <td>7800.0</td>\n",
              "    </tr>\n",
              "    <tr>\n",
              "      <th>3</th>\n",
              "      <td>Sorghum</td>\n",
              "      <td>Bag</td>\n",
              "      <td>90.0</td>\n",
              "      <td>3470.000000</td>\n",
              "      <td>3366.666667</td>\n",
              "      <td>3416.666667</td>\n",
              "      <td>3100.000000</td>\n",
              "      <td>3200.0</td>\n",
              "      <td>4357.5</td>\n",
              "      <td>1830.000000</td>\n",
              "      <td>NaN</td>\n",
              "      <td>4500.0</td>\n",
              "      <td>2475.00</td>\n",
              "      <td>NaN</td>\n",
              "      <td>6500.0</td>\n",
              "      <td>3000.0</td>\n",
              "      <td>4800.0</td>\n",
              "      <td>3667.986111</td>\n",
              "      <td>6500.0</td>\n",
              "    </tr>\n",
              "    <tr>\n",
              "      <th>4</th>\n",
              "      <td>Wheat</td>\n",
              "      <td>Bag</td>\n",
              "      <td>90.0</td>\n",
              "      <td>NaN</td>\n",
              "      <td>NaN</td>\n",
              "      <td>NaN</td>\n",
              "      <td>3515.000000</td>\n",
              "      <td>2800.0</td>\n",
              "      <td>4500.0</td>\n",
              "      <td>NaN</td>\n",
              "      <td>NaN</td>\n",
              "      <td>NaN</td>\n",
              "      <td>NaN</td>\n",
              "      <td>NaN</td>\n",
              "      <td>5500.0</td>\n",
              "      <td>3500.0</td>\n",
              "      <td>4000.0</td>\n",
              "      <td>3969.166667</td>\n",
              "      <td>5500.0</td>\n",
              "    </tr>\n",
              "  </tbody>\n",
              "</table>\n",
              "</div>"
            ],
            "text/plain": [
              "       COMMODITY     Unit     Kg  ...    Embu      Average  Maximum.\n",
              "0      Dry Maize      Bag   90.0  ...  3000.0  2953.561508    3600.0\n",
              "1    Green Maize  Ext Bag  115.0  ...  2000.0  2682.976190    6100.0\n",
              "2  Finger Millet      Bag   90.0  ...  5200.0  6161.057692    7800.0\n",
              "3        Sorghum      Bag   90.0  ...  4800.0  3667.986111    6500.0\n",
              "4          Wheat      Bag   90.0  ...  4000.0  3969.166667    5500.0\n",
              "\n",
              "[5 rows x 19 columns]"
            ]
          },
          "metadata": {},
          "execution_count": 234
        }
      ]
    },
    {
      "cell_type": "code",
      "metadata": {
        "colab": {
          "base_uri": "https://localhost:8080/",
          "height": 204
        },
        "id": "J-k0_Q8Vk7sM",
        "outputId": "74c6006c-3fb7-43f7-b0ce-c1faf03b4e76"
      },
      "source": [
        "crops.head(5)"
      ],
      "execution_count": 235,
      "outputs": [
        {
          "output_type": "execute_result",
          "data": {
            "text/html": [
              "<div>\n",
              "<style scoped>\n",
              "    .dataframe tbody tr th:only-of-type {\n",
              "        vertical-align: middle;\n",
              "    }\n",
              "\n",
              "    .dataframe tbody tr th {\n",
              "        vertical-align: top;\n",
              "    }\n",
              "\n",
              "    .dataframe thead th {\n",
              "        text-align: right;\n",
              "    }\n",
              "</style>\n",
              "<table border=\"1\" class=\"dataframe\">\n",
              "  <thead>\n",
              "    <tr style=\"text-align: right;\">\n",
              "      <th></th>\n",
              "      <th>Produce_Variety</th>\n",
              "      <th>Commodity_Type</th>\n",
              "      <th>Unit</th>\n",
              "      <th>Volume_in_Kgs</th>\n",
              "      <th>Values_in_Ksh</th>\n",
              "      <th>Date</th>\n",
              "      <th>OBJECTID</th>\n",
              "    </tr>\n",
              "  </thead>\n",
              "  <tbody>\n",
              "    <tr>\n",
              "      <th>0</th>\n",
              "      <td>Horticulture</td>\n",
              "      <td>Cabbages</td>\n",
              "      <td>Ext Bag</td>\n",
              "      <td>126</td>\n",
              "      <td>KES2205.00</td>\n",
              "      <td>01/01/2012 12:00:00 AM</td>\n",
              "      <td>0</td>\n",
              "    </tr>\n",
              "    <tr>\n",
              "      <th>1</th>\n",
              "      <td>Horticulture</td>\n",
              "      <td>Cooking Bananas</td>\n",
              "      <td>Med Bunch</td>\n",
              "      <td>22</td>\n",
              "      <td>KES511.00</td>\n",
              "      <td>01/01/2012 12:00:00 AM</td>\n",
              "      <td>1</td>\n",
              "    </tr>\n",
              "    <tr>\n",
              "      <th>2</th>\n",
              "      <td>Horticulture</td>\n",
              "      <td>Ripe Bananas</td>\n",
              "      <td>Med Bunch</td>\n",
              "      <td>14</td>\n",
              "      <td>KES616.00</td>\n",
              "      <td>01/01/2012 12:00:00 AM</td>\n",
              "      <td>2</td>\n",
              "    </tr>\n",
              "    <tr>\n",
              "      <th>3</th>\n",
              "      <td>Horticulture</td>\n",
              "      <td>Carrots</td>\n",
              "      <td>Ext Bag</td>\n",
              "      <td>138</td>\n",
              "      <td>KES2833.00</td>\n",
              "      <td>01/01/2012 12:00:00 AM</td>\n",
              "      <td>3</td>\n",
              "    </tr>\n",
              "    <tr>\n",
              "      <th>4</th>\n",
              "      <td>Horticulture</td>\n",
              "      <td>Tomatoes</td>\n",
              "      <td>Lg Box</td>\n",
              "      <td>64</td>\n",
              "      <td>KES3411.00</td>\n",
              "      <td>01/01/2012 12:00:00 AM</td>\n",
              "      <td>4</td>\n",
              "    </tr>\n",
              "  </tbody>\n",
              "</table>\n",
              "</div>"
            ],
            "text/plain": [
              "  Produce_Variety   Commodity_Type  ...                    Date  OBJECTID\n",
              "0    Horticulture         Cabbages  ...  01/01/2012 12:00:00 AM         0\n",
              "1    Horticulture  Cooking Bananas  ...  01/01/2012 12:00:00 AM         1\n",
              "2    Horticulture     Ripe Bananas  ...  01/01/2012 12:00:00 AM         2\n",
              "3    Horticulture          Carrots  ...  01/01/2012 12:00:00 AM         3\n",
              "4    Horticulture         Tomatoes  ...  01/01/2012 12:00:00 AM         4\n",
              "\n",
              "[5 rows x 7 columns]"
            ]
          },
          "metadata": {},
          "execution_count": 235
        }
      ]
    },
    {
      "cell_type": "markdown",
      "metadata": {
        "id": "yqCCii63oq9d"
      },
      "source": [
        "## Getting information on our dataset"
      ]
    },
    {
      "cell_type": "code",
      "metadata": {
        "colab": {
          "base_uri": "https://localhost:8080/"
        },
        "id": "tomHzIW8njGt",
        "outputId": "c725a0b3-5477-4acb-b9f1-033dddee822b"
      },
      "source": [
        "crops.info()"
      ],
      "execution_count": 236,
      "outputs": [
        {
          "output_type": "stream",
          "text": [
            "<class 'pandas.core.frame.DataFrame'>\n",
            "RangeIndex: 1145 entries, 0 to 1144\n",
            "Data columns (total 7 columns):\n",
            " #   Column           Non-Null Count  Dtype \n",
            "---  ------           --------------  ----- \n",
            " 0   Produce_Variety  1145 non-null   object\n",
            " 1   Commodity_Type   1145 non-null   object\n",
            " 2   Unit             1145 non-null   object\n",
            " 3   Volume_in_Kgs    1145 non-null   int64 \n",
            " 4   Values_in_Ksh    1143 non-null   object\n",
            " 5   Date             1145 non-null   object\n",
            " 6   OBJECTID         1145 non-null   int64 \n",
            "dtypes: int64(2), object(5)\n",
            "memory usage: 62.7+ KB\n"
          ],
          "name": "stdout"
        }
      ]
    },
    {
      "cell_type": "markdown",
      "metadata": {
        "id": "LLteXuqWfguF"
      },
      "source": [
        "## Functions"
      ]
    },
    {
      "cell_type": "code",
      "metadata": {
        "id": "MhF9kuM4flfu"
      },
      "source": [
        "# #We will define all our functions here to use\n",
        "# def means(values):\n",
        "#   the_mean = sum(values)/len(values)\n",
        "#   return the_mean\n",
        "\n",
        "# #Function to take in columns with spaces bewteen and retutn striped\n",
        "# #def strip(val):\n",
        "#   #striped = val.str.strip()\n",
        "#   #return striped\n",
        "\n",
        "# #checking for null\n",
        "\n",
        "# def nuls(val):\n",
        "#   no_null = val.isnull().sum()\n",
        "#   return no_null\n",
        "\n",
        "# # Check for duplicates \n",
        "# def duplicates(val):\n",
        "#   no_duplicate=val.duplicated().sum()\n",
        "#   return no_duplicate"
      ],
      "execution_count": 237,
      "outputs": []
    },
    {
      "cell_type": "markdown",
      "metadata": {
        "id": "ZMKeivhEoyRA"
      },
      "source": [
        "## Data cleaning"
      ]
    },
    {
      "cell_type": "markdown",
      "metadata": {
        "id": "fXgSKY9hFRRL"
      },
      "source": [
        "### Validity "
      ]
    },
    {
      "cell_type": "code",
      "metadata": {
        "id": "pAceKYcsw22j"
      },
      "source": [
        ""
      ],
      "execution_count": 237,
      "outputs": []
    },
    {
      "cell_type": "code",
      "metadata": {
        "colab": {
          "base_uri": "https://localhost:8080/",
          "height": 204
        },
        "id": "FIIN0_VVw2tq",
        "outputId": "8f9d2ff2-ca50-4f0c-f5ee-8d3e8d0e5207"
      },
      "source": [
        "counties.head()"
      ],
      "execution_count": 238,
      "outputs": [
        {
          "output_type": "execute_result",
          "data": {
            "text/html": [
              "<div>\n",
              "<style scoped>\n",
              "    .dataframe tbody tr th:only-of-type {\n",
              "        vertical-align: middle;\n",
              "    }\n",
              "\n",
              "    .dataframe tbody tr th {\n",
              "        vertical-align: top;\n",
              "    }\n",
              "\n",
              "    .dataframe thead th {\n",
              "        text-align: right;\n",
              "    }\n",
              "</style>\n",
              "<table border=\"1\" class=\"dataframe\">\n",
              "  <thead>\n",
              "    <tr style=\"text-align: right;\">\n",
              "      <th></th>\n",
              "      <th>_id</th>\n",
              "      <th>County</th>\n",
              "      <th>CROP</th>\n",
              "      <th>Area  (HA)</th>\n",
              "      <th>Production  (Tons)</th>\n",
              "      <th>Yield ( Tons/HA)</th>\n",
              "    </tr>\n",
              "  </thead>\n",
              "  <tbody>\n",
              "    <tr>\n",
              "      <th>0</th>\n",
              "      <td>1</td>\n",
              "      <td>BARINGO</td>\n",
              "      <td>Beans</td>\n",
              "      <td>15669</td>\n",
              "      <td>11034</td>\n",
              "      <td>0.7</td>\n",
              "    </tr>\n",
              "    <tr>\n",
              "      <th>1</th>\n",
              "      <td>2</td>\n",
              "      <td>BOMET</td>\n",
              "      <td>Beans</td>\n",
              "      <td>39002</td>\n",
              "      <td>50140.76</td>\n",
              "      <td>1.3</td>\n",
              "    </tr>\n",
              "    <tr>\n",
              "      <th>2</th>\n",
              "      <td>3</td>\n",
              "      <td>BUNGOMA</td>\n",
              "      <td>Beans</td>\n",
              "      <td>77367</td>\n",
              "      <td>61051.12</td>\n",
              "      <td>0.8</td>\n",
              "    </tr>\n",
              "    <tr>\n",
              "      <th>3</th>\n",
              "      <td>4</td>\n",
              "      <td>BUSIA</td>\n",
              "      <td>Beans</td>\n",
              "      <td>27351</td>\n",
              "      <td>36422</td>\n",
              "      <td>1.3</td>\n",
              "    </tr>\n",
              "    <tr>\n",
              "      <th>4</th>\n",
              "      <td>5</td>\n",
              "      <td>ELGEYO MARAKWET</td>\n",
              "      <td>Beans</td>\n",
              "      <td>14873</td>\n",
              "      <td>16354.62</td>\n",
              "      <td>1.1</td>\n",
              "    </tr>\n",
              "  </tbody>\n",
              "</table>\n",
              "</div>"
            ],
            "text/plain": [
              "   _id           County   CROP Area  (HA) Production  (Tons)  Yield ( Tons/HA)\n",
              "0    1          BARINGO  Beans      15669              11034               0.7\n",
              "1    2            BOMET  Beans      39002           50140.76               1.3\n",
              "2    3          BUNGOMA  Beans      77367           61051.12               0.8\n",
              "3    4            BUSIA  Beans      27351              36422               1.3\n",
              "4    5  ELGEYO MARAKWET  Beans      14873           16354.62               1.1"
            ]
          },
          "metadata": {},
          "execution_count": 238
        }
      ]
    },
    {
      "cell_type": "code",
      "metadata": {
        "id": "O_oceJiYGwPr"
      },
      "source": [
        "# Ronald\n",
        "#Drop illerevant columns, remove spaces at the beginign and end of  the columns\n",
        "\n",
        "#Strip spaces within\n",
        "strip((crops.Produce_Variety))\n",
        "strip((crops.Commodity_Type))\n",
        "#strip counties dataset\n",
        "strip((counties.County))\n",
        "strip((counties.CROP))\n",
        "#Replace KES with empty \n",
        "\n",
        "#strip(prices.COMMODITY)\n",
        "\n",
        "crops['Values_in_Ksh'] = crops['Values_in_Ksh'].str.replace(\"KES\",\"\")\n",
        "\n",
        "#Dataset 2 \n",
        "counties['County']= counties['County'].str.strip()\n"
      ],
      "execution_count": 239,
      "outputs": []
    },
    {
      "cell_type": "code",
      "metadata": {
        "colab": {
          "base_uri": "https://localhost:8080/",
          "height": 204
        },
        "id": "-5GzMPq6Lrxy",
        "outputId": "121027a1-f7f2-4ab3-92bc-a496b4aaaea1"
      },
      "source": [
        "counties.head()"
      ],
      "execution_count": 240,
      "outputs": [
        {
          "output_type": "execute_result",
          "data": {
            "text/html": [
              "<div>\n",
              "<style scoped>\n",
              "    .dataframe tbody tr th:only-of-type {\n",
              "        vertical-align: middle;\n",
              "    }\n",
              "\n",
              "    .dataframe tbody tr th {\n",
              "        vertical-align: top;\n",
              "    }\n",
              "\n",
              "    .dataframe thead th {\n",
              "        text-align: right;\n",
              "    }\n",
              "</style>\n",
              "<table border=\"1\" class=\"dataframe\">\n",
              "  <thead>\n",
              "    <tr style=\"text-align: right;\">\n",
              "      <th></th>\n",
              "      <th>_id</th>\n",
              "      <th>County</th>\n",
              "      <th>CROP</th>\n",
              "      <th>Area  (HA)</th>\n",
              "      <th>Production  (Tons)</th>\n",
              "      <th>Yield ( Tons/HA)</th>\n",
              "    </tr>\n",
              "  </thead>\n",
              "  <tbody>\n",
              "    <tr>\n",
              "      <th>0</th>\n",
              "      <td>1</td>\n",
              "      <td>BARINGO</td>\n",
              "      <td>Beans</td>\n",
              "      <td>15669</td>\n",
              "      <td>11034</td>\n",
              "      <td>0.7</td>\n",
              "    </tr>\n",
              "    <tr>\n",
              "      <th>1</th>\n",
              "      <td>2</td>\n",
              "      <td>BOMET</td>\n",
              "      <td>Beans</td>\n",
              "      <td>39002</td>\n",
              "      <td>50140.76</td>\n",
              "      <td>1.3</td>\n",
              "    </tr>\n",
              "    <tr>\n",
              "      <th>2</th>\n",
              "      <td>3</td>\n",
              "      <td>BUNGOMA</td>\n",
              "      <td>Beans</td>\n",
              "      <td>77367</td>\n",
              "      <td>61051.12</td>\n",
              "      <td>0.8</td>\n",
              "    </tr>\n",
              "    <tr>\n",
              "      <th>3</th>\n",
              "      <td>4</td>\n",
              "      <td>BUSIA</td>\n",
              "      <td>Beans</td>\n",
              "      <td>27351</td>\n",
              "      <td>36422</td>\n",
              "      <td>1.3</td>\n",
              "    </tr>\n",
              "    <tr>\n",
              "      <th>4</th>\n",
              "      <td>5</td>\n",
              "      <td>ELGEYO MARAKWET</td>\n",
              "      <td>Beans</td>\n",
              "      <td>14873</td>\n",
              "      <td>16354.62</td>\n",
              "      <td>1.1</td>\n",
              "    </tr>\n",
              "  </tbody>\n",
              "</table>\n",
              "</div>"
            ],
            "text/plain": [
              "   _id           County   CROP Area  (HA) Production  (Tons)  Yield ( Tons/HA)\n",
              "0    1          BARINGO  Beans      15669              11034               0.7\n",
              "1    2            BOMET  Beans      39002           50140.76               1.3\n",
              "2    3          BUNGOMA  Beans      77367           61051.12               0.8\n",
              "3    4            BUSIA  Beans      27351              36422               1.3\n",
              "4    5  ELGEYO MARAKWET  Beans      14873           16354.62               1.1"
            ]
          },
          "metadata": {},
          "execution_count": 240
        }
      ]
    },
    {
      "cell_type": "markdown",
      "metadata": {
        "id": "Q2nqhf44Gapq"
      },
      "source": [
        "### Accuracy "
      ]
    },
    {
      "cell_type": "code",
      "metadata": {
        "id": "RPfpR99EGxcw"
      },
      "source": [
        "#checking if related columns match"
      ],
      "execution_count": 241,
      "outputs": []
    },
    {
      "cell_type": "markdown",
      "metadata": {
        "id": "OrQpkEFKF5_n"
      },
      "source": [
        "### Completeness "
      ]
    },
    {
      "cell_type": "code",
      "metadata": {
        "id": "HlD833SXGyo7"
      },
      "source": [
        "# check for null values and either drop or fill"
      ],
      "execution_count": 242,
      "outputs": []
    },
    {
      "cell_type": "markdown",
      "metadata": {
        "id": "b-raTyU2o63d"
      },
      "source": [
        "#### checking for null values"
      ]
    },
    {
      "cell_type": "code",
      "metadata": {
        "colab": {
          "base_uri": "https://localhost:8080/"
        },
        "id": "gEoFbuaBo1kZ",
        "outputId": "73aba431-a300-481f-db3f-115d84a2ab70"
      },
      "source": [
        "#checking nulls on crops dataset\n",
        "#crops.isnull().sum()\n",
        "nuls(crops)"
      ],
      "execution_count": 243,
      "outputs": [
        {
          "output_type": "execute_result",
          "data": {
            "text/plain": [
              "Produce_Variety    0\n",
              "Commodity_Type     0\n",
              "Unit               0\n",
              "Volume_in_Kgs      0\n",
              "Values_in_Ksh      2\n",
              "Date               0\n",
              "OBJECTID           0\n",
              "dtype: int64"
            ]
          },
          "metadata": {},
          "execution_count": 243
        }
      ]
    },
    {
      "cell_type": "code",
      "metadata": {
        "colab": {
          "base_uri": "https://localhost:8080/"
        },
        "id": "5PJUQ4Q8yKN3",
        "outputId": "552111bf-b504-4d74-84c7-4d0589acf87c"
      },
      "source": [
        "#checking nulls on counties dataset\n",
        "nuls(counties)"
      ],
      "execution_count": 244,
      "outputs": [
        {
          "output_type": "execute_result",
          "data": {
            "text/plain": [
              "_id                   0\n",
              "County                0\n",
              "CROP                  0\n",
              "Area  (HA)            1\n",
              "Production  (Tons)    1\n",
              "Yield ( Tons/HA)      1\n",
              "dtype: int64"
            ]
          },
          "metadata": {},
          "execution_count": 244
        }
      ]
    },
    {
      "cell_type": "markdown",
      "metadata": {
        "id": "klZRAxYWGGBO"
      },
      "source": [
        "###Consistency "
      ]
    },
    {
      "cell_type": "code",
      "metadata": {
        "colab": {
          "base_uri": "https://localhost:8080/"
        },
        "id": "L3bTep87G0Qb",
        "outputId": "9df0aee7-b1fe-426c-9288-19e650f1f0ec"
      },
      "source": [
        "#dealing with duplicates \n",
        "#checking for duplicates in crops\n",
        "duplicates(crops)\n",
        "\n",
        "\n",
        "#No duplicates in the two datasets \n"
      ],
      "execution_count": 245,
      "outputs": [
        {
          "output_type": "execute_result",
          "data": {
            "text/plain": [
              "0"
            ]
          },
          "metadata": {},
          "execution_count": 245
        }
      ]
    },
    {
      "cell_type": "code",
      "metadata": {
        "colab": {
          "base_uri": "https://localhost:8080/"
        },
        "id": "nibDIEd8zCml",
        "outputId": "4a095e47-3387-40d9-c7f8-374623ea6e53"
      },
      "source": [
        "#checking for duplicates in counties\n",
        "duplicates(counties)"
      ],
      "execution_count": 246,
      "outputs": [
        {
          "output_type": "execute_result",
          "data": {
            "text/plain": [
              "0"
            ]
          },
          "metadata": {},
          "execution_count": 246
        }
      ]
    },
    {
      "cell_type": "markdown",
      "metadata": {
        "id": "pSbYLNVXGOIA"
      },
      "source": [
        "### Uniformity "
      ]
    },
    {
      "cell_type": "markdown",
      "metadata": {
        "id": "YUmlKftBlQxX"
      },
      "source": [
        "#### Columns"
      ]
    },
    {
      "cell_type": "code",
      "metadata": {
        "id": "aX4zb1mLG1Rc"
      },
      "source": [
        "# Standaridization to fix messy columns to rename \n",
        "# example; officials_data.columns = officials_data.columns.str.strip().str.lower().str.replace(' ', '_').str.replace('(', '').str.replace(')','') \n",
        "# data type conversions like to pd.to_datetime \n",
        "counties.columns = counties.columns.str.strip().str.replace('(','').str.replace(')',\"\").str.replace(')',\"\").str.replace('/',\"_per_\").str.replace(' ',\"_\") "
      ],
      "execution_count": 247,
      "outputs": []
    },
    {
      "cell_type": "markdown",
      "metadata": {
        "id": "oFg09AatlVEy"
      },
      "source": [
        "#### Data type conversion"
      ]
    },
    {
      "cell_type": "code",
      "metadata": {
        "id": "6luBqfoRlakY"
      },
      "source": [
        "# "
      ],
      "execution_count": 248,
      "outputs": []
    },
    {
      "cell_type": "code",
      "metadata": {
        "id": "eQPKzYRmpfY5"
      },
      "source": [
        "#removing KES from Values in Ksh column\n",
        "crops[\"Values_in_Ksh\"]=crops[\"Values_in_Ksh\"].str.replace(\"KES\",\"\")"
      ],
      "execution_count": 249,
      "outputs": []
    },
    {
      "cell_type": "code",
      "metadata": {
        "id": "SfUwQGm6Hj1d"
      },
      "source": [
        "counties[\"Production__Tons\"]=counties[\"Production__Tons\"].str.replace(\",\",\"\")"
      ],
      "execution_count": 250,
      "outputs": []
    },
    {
      "cell_type": "code",
      "metadata": {
        "colab": {
          "base_uri": "https://localhost:8080/",
          "height": 204
        },
        "id": "VACwQrFaqZF_",
        "outputId": "43905b31-6c76-445e-a8e2-afd170517506"
      },
      "source": [
        "crops.head(5)"
      ],
      "execution_count": 251,
      "outputs": [
        {
          "output_type": "execute_result",
          "data": {
            "text/html": [
              "<div>\n",
              "<style scoped>\n",
              "    .dataframe tbody tr th:only-of-type {\n",
              "        vertical-align: middle;\n",
              "    }\n",
              "\n",
              "    .dataframe tbody tr th {\n",
              "        vertical-align: top;\n",
              "    }\n",
              "\n",
              "    .dataframe thead th {\n",
              "        text-align: right;\n",
              "    }\n",
              "</style>\n",
              "<table border=\"1\" class=\"dataframe\">\n",
              "  <thead>\n",
              "    <tr style=\"text-align: right;\">\n",
              "      <th></th>\n",
              "      <th>Produce_Variety</th>\n",
              "      <th>Commodity_Type</th>\n",
              "      <th>Unit</th>\n",
              "      <th>Volume_in_Kgs</th>\n",
              "      <th>Values_in_Ksh</th>\n",
              "      <th>Date</th>\n",
              "      <th>OBJECTID</th>\n",
              "    </tr>\n",
              "  </thead>\n",
              "  <tbody>\n",
              "    <tr>\n",
              "      <th>0</th>\n",
              "      <td>Horticulture</td>\n",
              "      <td>Cabbages</td>\n",
              "      <td>Ext Bag</td>\n",
              "      <td>126</td>\n",
              "      <td>2205.00</td>\n",
              "      <td>01/01/2012 12:00:00 AM</td>\n",
              "      <td>0</td>\n",
              "    </tr>\n",
              "    <tr>\n",
              "      <th>1</th>\n",
              "      <td>Horticulture</td>\n",
              "      <td>Cooking Bananas</td>\n",
              "      <td>Med Bunch</td>\n",
              "      <td>22</td>\n",
              "      <td>511.00</td>\n",
              "      <td>01/01/2012 12:00:00 AM</td>\n",
              "      <td>1</td>\n",
              "    </tr>\n",
              "    <tr>\n",
              "      <th>2</th>\n",
              "      <td>Horticulture</td>\n",
              "      <td>Ripe Bananas</td>\n",
              "      <td>Med Bunch</td>\n",
              "      <td>14</td>\n",
              "      <td>616.00</td>\n",
              "      <td>01/01/2012 12:00:00 AM</td>\n",
              "      <td>2</td>\n",
              "    </tr>\n",
              "    <tr>\n",
              "      <th>3</th>\n",
              "      <td>Horticulture</td>\n",
              "      <td>Carrots</td>\n",
              "      <td>Ext Bag</td>\n",
              "      <td>138</td>\n",
              "      <td>2833.00</td>\n",
              "      <td>01/01/2012 12:00:00 AM</td>\n",
              "      <td>3</td>\n",
              "    </tr>\n",
              "    <tr>\n",
              "      <th>4</th>\n",
              "      <td>Horticulture</td>\n",
              "      <td>Tomatoes</td>\n",
              "      <td>Lg Box</td>\n",
              "      <td>64</td>\n",
              "      <td>3411.00</td>\n",
              "      <td>01/01/2012 12:00:00 AM</td>\n",
              "      <td>4</td>\n",
              "    </tr>\n",
              "  </tbody>\n",
              "</table>\n",
              "</div>"
            ],
            "text/plain": [
              "  Produce_Variety   Commodity_Type  ...                    Date  OBJECTID\n",
              "0    Horticulture         Cabbages  ...  01/01/2012 12:00:00 AM         0\n",
              "1    Horticulture  Cooking Bananas  ...  01/01/2012 12:00:00 AM         1\n",
              "2    Horticulture     Ripe Bananas  ...  01/01/2012 12:00:00 AM         2\n",
              "3    Horticulture          Carrots  ...  01/01/2012 12:00:00 AM         3\n",
              "4    Horticulture         Tomatoes  ...  01/01/2012 12:00:00 AM         4\n",
              "\n",
              "[5 rows x 7 columns]"
            ]
          },
          "metadata": {},
          "execution_count": 251
        }
      ]
    },
    {
      "cell_type": "code",
      "metadata": {
        "id": "RoOAEuqoq1DJ"
      },
      "source": [
        "#convert crops value in ksh to integer\n",
        "crops[\"Values_in_Ksh\"]=crops[\"Values_in_Ksh\"].astype(float)"
      ],
      "execution_count": 252,
      "outputs": []
    },
    {
      "cell_type": "code",
      "metadata": {
        "colab": {
          "base_uri": "https://localhost:8080/",
          "height": 204
        },
        "id": "ILJmYVeprYRO",
        "outputId": "8328e820-9398-4c67-c797-9e0d864e46bd"
      },
      "source": [
        "crops.head(5)"
      ],
      "execution_count": 253,
      "outputs": [
        {
          "output_type": "execute_result",
          "data": {
            "text/html": [
              "<div>\n",
              "<style scoped>\n",
              "    .dataframe tbody tr th:only-of-type {\n",
              "        vertical-align: middle;\n",
              "    }\n",
              "\n",
              "    .dataframe tbody tr th {\n",
              "        vertical-align: top;\n",
              "    }\n",
              "\n",
              "    .dataframe thead th {\n",
              "        text-align: right;\n",
              "    }\n",
              "</style>\n",
              "<table border=\"1\" class=\"dataframe\">\n",
              "  <thead>\n",
              "    <tr style=\"text-align: right;\">\n",
              "      <th></th>\n",
              "      <th>Produce_Variety</th>\n",
              "      <th>Commodity_Type</th>\n",
              "      <th>Unit</th>\n",
              "      <th>Volume_in_Kgs</th>\n",
              "      <th>Values_in_Ksh</th>\n",
              "      <th>Date</th>\n",
              "      <th>OBJECTID</th>\n",
              "    </tr>\n",
              "  </thead>\n",
              "  <tbody>\n",
              "    <tr>\n",
              "      <th>0</th>\n",
              "      <td>Horticulture</td>\n",
              "      <td>Cabbages</td>\n",
              "      <td>Ext Bag</td>\n",
              "      <td>126</td>\n",
              "      <td>2205.0</td>\n",
              "      <td>01/01/2012 12:00:00 AM</td>\n",
              "      <td>0</td>\n",
              "    </tr>\n",
              "    <tr>\n",
              "      <th>1</th>\n",
              "      <td>Horticulture</td>\n",
              "      <td>Cooking Bananas</td>\n",
              "      <td>Med Bunch</td>\n",
              "      <td>22</td>\n",
              "      <td>511.0</td>\n",
              "      <td>01/01/2012 12:00:00 AM</td>\n",
              "      <td>1</td>\n",
              "    </tr>\n",
              "    <tr>\n",
              "      <th>2</th>\n",
              "      <td>Horticulture</td>\n",
              "      <td>Ripe Bananas</td>\n",
              "      <td>Med Bunch</td>\n",
              "      <td>14</td>\n",
              "      <td>616.0</td>\n",
              "      <td>01/01/2012 12:00:00 AM</td>\n",
              "      <td>2</td>\n",
              "    </tr>\n",
              "    <tr>\n",
              "      <th>3</th>\n",
              "      <td>Horticulture</td>\n",
              "      <td>Carrots</td>\n",
              "      <td>Ext Bag</td>\n",
              "      <td>138</td>\n",
              "      <td>2833.0</td>\n",
              "      <td>01/01/2012 12:00:00 AM</td>\n",
              "      <td>3</td>\n",
              "    </tr>\n",
              "    <tr>\n",
              "      <th>4</th>\n",
              "      <td>Horticulture</td>\n",
              "      <td>Tomatoes</td>\n",
              "      <td>Lg Box</td>\n",
              "      <td>64</td>\n",
              "      <td>3411.0</td>\n",
              "      <td>01/01/2012 12:00:00 AM</td>\n",
              "      <td>4</td>\n",
              "    </tr>\n",
              "  </tbody>\n",
              "</table>\n",
              "</div>"
            ],
            "text/plain": [
              "  Produce_Variety   Commodity_Type  ...                    Date  OBJECTID\n",
              "0    Horticulture         Cabbages  ...  01/01/2012 12:00:00 AM         0\n",
              "1    Horticulture  Cooking Bananas  ...  01/01/2012 12:00:00 AM         1\n",
              "2    Horticulture     Ripe Bananas  ...  01/01/2012 12:00:00 AM         2\n",
              "3    Horticulture          Carrots  ...  01/01/2012 12:00:00 AM         3\n",
              "4    Horticulture         Tomatoes  ...  01/01/2012 12:00:00 AM         4\n",
              "\n",
              "[5 rows x 7 columns]"
            ]
          },
          "metadata": {},
          "execution_count": 253
        }
      ]
    },
    {
      "cell_type": "code",
      "metadata": {
        "colab": {
          "base_uri": "https://localhost:8080/"
        },
        "id": "vIhlX60irYJL",
        "outputId": "0e659a2d-7ed4-422c-acc6-be84deb8c2ed"
      },
      "source": [
        "crops.info()"
      ],
      "execution_count": 254,
      "outputs": [
        {
          "output_type": "stream",
          "text": [
            "<class 'pandas.core.frame.DataFrame'>\n",
            "RangeIndex: 1145 entries, 0 to 1144\n",
            "Data columns (total 7 columns):\n",
            " #   Column           Non-Null Count  Dtype  \n",
            "---  ------           --------------  -----  \n",
            " 0   Produce_Variety  1145 non-null   object \n",
            " 1   Commodity_Type   1145 non-null   object \n",
            " 2   Unit             1145 non-null   object \n",
            " 3   Volume_in_Kgs    1145 non-null   int64  \n",
            " 4   Values_in_Ksh    1143 non-null   float64\n",
            " 5   Date             1145 non-null   object \n",
            " 6   OBJECTID         1145 non-null   int64  \n",
            "dtypes: float64(1), int64(2), object(4)\n",
            "memory usage: 62.7+ KB\n"
          ],
          "name": "stdout"
        }
      ]
    },
    {
      "cell_type": "code",
      "metadata": {
        "id": "q-EY9rbVrmS6"
      },
      "source": [
        "#changing date\n",
        "crops['Date'] =  pd.to_datetime(crops['Date'])"
      ],
      "execution_count": 255,
      "outputs": []
    },
    {
      "cell_type": "code",
      "metadata": {
        "colab": {
          "base_uri": "https://localhost:8080/"
        },
        "id": "IDTauYpvtFgM",
        "outputId": "e0b7c217-55f6-473c-d689-497d0227f4e4"
      },
      "source": [
        "crops.info()"
      ],
      "execution_count": 256,
      "outputs": [
        {
          "output_type": "stream",
          "text": [
            "<class 'pandas.core.frame.DataFrame'>\n",
            "RangeIndex: 1145 entries, 0 to 1144\n",
            "Data columns (total 7 columns):\n",
            " #   Column           Non-Null Count  Dtype         \n",
            "---  ------           --------------  -----         \n",
            " 0   Produce_Variety  1145 non-null   object        \n",
            " 1   Commodity_Type   1145 non-null   object        \n",
            " 2   Unit             1145 non-null   object        \n",
            " 3   Volume_in_Kgs    1145 non-null   int64         \n",
            " 4   Values_in_Ksh    1143 non-null   float64       \n",
            " 5   Date             1145 non-null   datetime64[ns]\n",
            " 6   OBJECTID         1145 non-null   int64         \n",
            "dtypes: datetime64[ns](1), float64(1), int64(2), object(3)\n",
            "memory usage: 62.7+ KB\n"
          ],
          "name": "stdout"
        }
      ]
    },
    {
      "cell_type": "markdown",
      "metadata": {
        "id": "ZwP8SD4DnycJ"
      },
      "source": [
        "### Filling N/A Values with Average"
      ]
    },
    {
      "cell_type": "code",
      "metadata": {
        "colab": {
          "base_uri": "https://localhost:8080/"
        },
        "id": "EZ5utgpWwvVj",
        "outputId": "f568e97e-a7e4-461f-a07a-ee1ce1769f6f"
      },
      "source": [
        "crops['Values_in_Ksh'].fillna(0)"
      ],
      "execution_count": 257,
      "outputs": [
        {
          "output_type": "execute_result",
          "data": {
            "text/plain": [
              "0        2205.0\n",
              "1         511.0\n",
              "2         616.0\n",
              "3        2833.0\n",
              "4        3411.0\n",
              "         ...   \n",
              "1140    12986.0\n",
              "1141     2805.0\n",
              "1142     2885.0\n",
              "1143     2097.0\n",
              "1144     3067.0\n",
              "Name: Values_in_Ksh, Length: 1145, dtype: float64"
            ]
          },
          "metadata": {},
          "execution_count": 257
        }
      ]
    },
    {
      "cell_type": "code",
      "metadata": {
        "colab": {
          "base_uri": "https://localhost:8080/"
        },
        "id": "PV9vf7h-xDRW",
        "outputId": "ebe798fc-80e8-420e-e118-7baa7e073af3"
      },
      "source": [
        "crops.isnull().sum()"
      ],
      "execution_count": 258,
      "outputs": [
        {
          "output_type": "execute_result",
          "data": {
            "text/plain": [
              "Produce_Variety    0\n",
              "Commodity_Type     0\n",
              "Unit               0\n",
              "Volume_in_Kgs      0\n",
              "Values_in_Ksh      2\n",
              "Date               0\n",
              "OBJECTID           0\n",
              "dtype: int64"
            ]
          },
          "metadata": {},
          "execution_count": 258
        }
      ]
    },
    {
      "cell_type": "code",
      "metadata": {
        "colab": {
          "base_uri": "https://localhost:8080/"
        },
        "id": "QQDyCTj8301Q",
        "outputId": "c4608558-782f-45a9-dc82-1babfb269bdb"
      },
      "source": [
        "crops['Values_in_Ksh'].ffill(0)"
      ],
      "execution_count": 259,
      "outputs": [
        {
          "output_type": "execute_result",
          "data": {
            "text/plain": [
              "0        2205.0\n",
              "1         511.0\n",
              "2         616.0\n",
              "3        2833.0\n",
              "4        3411.0\n",
              "         ...   \n",
              "1140    12986.0\n",
              "1141     2805.0\n",
              "1142     2885.0\n",
              "1143     2097.0\n",
              "1144     3067.0\n",
              "Name: Values_in_Ksh, Length: 1145, dtype: float64"
            ]
          },
          "metadata": {},
          "execution_count": 259
        }
      ]
    },
    {
      "cell_type": "code",
      "metadata": {
        "id": "UgPyOK6H4Uau"
      },
      "source": [
        "crops['Values_in_Ksh'] = crops['Values_in_Ksh'].ffill(0)"
      ],
      "execution_count": 260,
      "outputs": []
    },
    {
      "cell_type": "code",
      "metadata": {
        "colab": {
          "base_uri": "https://localhost:8080/"
        },
        "id": "JlFQy-r138iI",
        "outputId": "1df3bedd-8041-403e-9b8e-cd481b930033"
      },
      "source": [
        "crops.isnull().sum()"
      ],
      "execution_count": 261,
      "outputs": [
        {
          "output_type": "execute_result",
          "data": {
            "text/plain": [
              "Produce_Variety    0\n",
              "Commodity_Type     0\n",
              "Unit               0\n",
              "Volume_in_Kgs      0\n",
              "Values_in_Ksh      0\n",
              "Date               0\n",
              "OBJECTID           0\n",
              "dtype: int64"
            ]
          },
          "metadata": {},
          "execution_count": 261
        }
      ]
    },
    {
      "cell_type": "code",
      "metadata": {
        "colab": {
          "base_uri": "https://localhost:8080/",
          "height": 419
        },
        "id": "mCHMfMptohBs",
        "outputId": "d603f748-4a5f-4957-ae78-3437249c8e90"
      },
      "source": [
        "counties"
      ],
      "execution_count": 262,
      "outputs": [
        {
          "output_type": "execute_result",
          "data": {
            "text/html": [
              "<div>\n",
              "<style scoped>\n",
              "    .dataframe tbody tr th:only-of-type {\n",
              "        vertical-align: middle;\n",
              "    }\n",
              "\n",
              "    .dataframe tbody tr th {\n",
              "        vertical-align: top;\n",
              "    }\n",
              "\n",
              "    .dataframe thead th {\n",
              "        text-align: right;\n",
              "    }\n",
              "</style>\n",
              "<table border=\"1\" class=\"dataframe\">\n",
              "  <thead>\n",
              "    <tr style=\"text-align: right;\">\n",
              "      <th></th>\n",
              "      <th>_id</th>\n",
              "      <th>County</th>\n",
              "      <th>CROP</th>\n",
              "      <th>Area__HA</th>\n",
              "      <th>Production__Tons</th>\n",
              "      <th>Yield__Tons_per_HA</th>\n",
              "    </tr>\n",
              "  </thead>\n",
              "  <tbody>\n",
              "    <tr>\n",
              "      <th>0</th>\n",
              "      <td>1</td>\n",
              "      <td>BARINGO</td>\n",
              "      <td>Beans</td>\n",
              "      <td>15669</td>\n",
              "      <td>11034</td>\n",
              "      <td>0.7</td>\n",
              "    </tr>\n",
              "    <tr>\n",
              "      <th>1</th>\n",
              "      <td>2</td>\n",
              "      <td>BOMET</td>\n",
              "      <td>Beans</td>\n",
              "      <td>39002</td>\n",
              "      <td>50140.76</td>\n",
              "      <td>1.3</td>\n",
              "    </tr>\n",
              "    <tr>\n",
              "      <th>2</th>\n",
              "      <td>3</td>\n",
              "      <td>BUNGOMA</td>\n",
              "      <td>Beans</td>\n",
              "      <td>77367</td>\n",
              "      <td>61051.12</td>\n",
              "      <td>0.8</td>\n",
              "    </tr>\n",
              "    <tr>\n",
              "      <th>3</th>\n",
              "      <td>4</td>\n",
              "      <td>BUSIA</td>\n",
              "      <td>Beans</td>\n",
              "      <td>27351</td>\n",
              "      <td>36422</td>\n",
              "      <td>1.3</td>\n",
              "    </tr>\n",
              "    <tr>\n",
              "      <th>4</th>\n",
              "      <td>5</td>\n",
              "      <td>ELGEYO MARAKWET</td>\n",
              "      <td>Beans</td>\n",
              "      <td>14873</td>\n",
              "      <td>16354.62</td>\n",
              "      <td>1.1</td>\n",
              "    </tr>\n",
              "    <tr>\n",
              "      <th>...</th>\n",
              "      <td>...</td>\n",
              "      <td>...</td>\n",
              "      <td>...</td>\n",
              "      <td>...</td>\n",
              "      <td>...</td>\n",
              "      <td>...</td>\n",
              "    </tr>\n",
              "    <tr>\n",
              "      <th>154</th>\n",
              "      <td>155</td>\n",
              "      <td>TAITA TAVETA</td>\n",
              "      <td>Rice</td>\n",
              "      <td>380</td>\n",
              "      <td>1320</td>\n",
              "      <td>3.5</td>\n",
              "    </tr>\n",
              "    <tr>\n",
              "      <th>155</th>\n",
              "      <td>156</td>\n",
              "      <td>TANA RIVER</td>\n",
              "      <td>Rice</td>\n",
              "      <td>1210</td>\n",
              "      <td>3855</td>\n",
              "      <td>3.2</td>\n",
              "    </tr>\n",
              "    <tr>\n",
              "      <th>156</th>\n",
              "      <td>157</td>\n",
              "      <td>THARAKA NITHI</td>\n",
              "      <td>Rice</td>\n",
              "      <td>28</td>\n",
              "      <td>79</td>\n",
              "      <td>2.8</td>\n",
              "    </tr>\n",
              "    <tr>\n",
              "      <th>157</th>\n",
              "      <td>158</td>\n",
              "      <td>WEST POKOT</td>\n",
              "      <td>Rice</td>\n",
              "      <td>20</td>\n",
              "      <td>72</td>\n",
              "      <td>3.6</td>\n",
              "    </tr>\n",
              "    <tr>\n",
              "      <th>158</th>\n",
              "      <td>159</td>\n",
              "      <td>VIHIGA</td>\n",
              "      <td>Rice</td>\n",
              "      <td>4</td>\n",
              "      <td>18</td>\n",
              "      <td>4.5</td>\n",
              "    </tr>\n",
              "  </tbody>\n",
              "</table>\n",
              "<p>159 rows × 6 columns</p>\n",
              "</div>"
            ],
            "text/plain": [
              "     _id           County   CROP Area__HA Production__Tons  Yield__Tons_per_HA\n",
              "0      1          BARINGO  Beans    15669            11034                 0.7\n",
              "1      2            BOMET  Beans    39002         50140.76                 1.3\n",
              "2      3          BUNGOMA  Beans    77367         61051.12                 0.8\n",
              "3      4            BUSIA  Beans    27351            36422                 1.3\n",
              "4      5  ELGEYO MARAKWET  Beans    14873         16354.62                 1.1\n",
              "..   ...              ...    ...      ...              ...                 ...\n",
              "154  155     TAITA TAVETA   Rice      380             1320                 3.5\n",
              "155  156       TANA RIVER   Rice     1210             3855                 3.2\n",
              "156  157    THARAKA NITHI   Rice       28               79                 2.8\n",
              "157  158       WEST POKOT   Rice       20               72                 3.6\n",
              "158  159           VIHIGA   Rice        4               18                 4.5\n",
              "\n",
              "[159 rows x 6 columns]"
            ]
          },
          "metadata": {},
          "execution_count": 262
        }
      ]
    },
    {
      "cell_type": "code",
      "metadata": {
        "colab": {
          "base_uri": "https://localhost:8080/"
        },
        "id": "EcTw_pHzo9xn",
        "outputId": "bc42228b-653d-4a37-9f9d-7b3a581203a8"
      },
      "source": [
        "counties.info"
      ],
      "execution_count": 263,
      "outputs": [
        {
          "output_type": "execute_result",
          "data": {
            "text/plain": [
              "<bound method DataFrame.info of      _id           County   CROP Area__HA Production__Tons  Yield__Tons_per_HA\n",
              "0      1          BARINGO  Beans    15669            11034                 0.7\n",
              "1      2            BOMET  Beans    39002         50140.76                 1.3\n",
              "2      3          BUNGOMA  Beans    77367         61051.12                 0.8\n",
              "3      4            BUSIA  Beans    27351            36422                 1.3\n",
              "4      5  ELGEYO MARAKWET  Beans    14873         16354.62                 1.1\n",
              "..   ...              ...    ...      ...              ...                 ...\n",
              "154  155     TAITA TAVETA   Rice      380             1320                 3.5\n",
              "155  156       TANA RIVER   Rice     1210             3855                 3.2\n",
              "156  157    THARAKA NITHI   Rice       28               79                 2.8\n",
              "157  158       WEST POKOT   Rice       20               72                 3.6\n",
              "158  159           VIHIGA   Rice        4               18                 4.5\n",
              "\n",
              "[159 rows x 6 columns]>"
            ]
          },
          "metadata": {},
          "execution_count": 263
        }
      ]
    },
    {
      "cell_type": "code",
      "metadata": {
        "id": "3iCCPQXBqS4E"
      },
      "source": [
        ""
      ],
      "execution_count": 263,
      "outputs": []
    },
    {
      "cell_type": "markdown",
      "metadata": {
        "id": "n7-NbWnyqQZp"
      },
      "source": [
        "#**Analysis Questions**"
      ]
    },
    {
      "cell_type": "markdown",
      "metadata": {
        "id": "pJPr7v5Kqeap"
      },
      "source": [
        "## 1. What are the average market prices of various products?"
      ]
    },
    {
      "cell_type": "code",
      "metadata": {
        "colab": {
          "base_uri": "https://localhost:8080/"
        },
        "id": "cwsL5pPBq_ZK",
        "outputId": "4046b8da-6a14-4829-b6e0-782a3da6455d"
      },
      "source": [
        "counties['CROP'].nunique\n"
      ],
      "execution_count": 264,
      "outputs": [
        {
          "output_type": "execute_result",
          "data": {
            "text/plain": [
              "<bound method IndexOpsMixin.nunique of 0      Beans\n",
              "1      Beans\n",
              "2      Beans\n",
              "3      Beans\n",
              "4      Beans\n",
              "       ...  \n",
              "154     Rice\n",
              "155     Rice\n",
              "156     Rice\n",
              "157     Rice\n",
              "158     Rice\n",
              "Name: CROP, Length: 159, dtype: object>"
            ]
          },
          "metadata": {},
          "execution_count": 264
        }
      ]
    },
    {
      "cell_type": "code",
      "metadata": {
        "colab": {
          "base_uri": "https://localhost:8080/",
          "height": 258
        },
        "id": "cFxJ6DYHAdV5",
        "outputId": "29ce21b6-47ab-41cd-e533-73de95379a20"
      },
      "source": [
        "prices.head()"
      ],
      "execution_count": 265,
      "outputs": [
        {
          "output_type": "execute_result",
          "data": {
            "text/html": [
              "<div>\n",
              "<style scoped>\n",
              "    .dataframe tbody tr th:only-of-type {\n",
              "        vertical-align: middle;\n",
              "    }\n",
              "\n",
              "    .dataframe tbody tr th {\n",
              "        vertical-align: top;\n",
              "    }\n",
              "\n",
              "    .dataframe thead th {\n",
              "        text-align: right;\n",
              "    }\n",
              "</style>\n",
              "<table border=\"1\" class=\"dataframe\">\n",
              "  <thead>\n",
              "    <tr style=\"text-align: right;\">\n",
              "      <th></th>\n",
              "      <th>COMMODITY</th>\n",
              "      <th>Unit</th>\n",
              "      <th>Kg</th>\n",
              "      <th>Nairobi</th>\n",
              "      <th>Mombasa</th>\n",
              "      <th>Kisumu</th>\n",
              "      <th>Nakuru</th>\n",
              "      <th>Eldoret</th>\n",
              "      <th>Malindi</th>\n",
              "      <th>Kitale</th>\n",
              "      <th>Kisii</th>\n",
              "      <th>Kitui</th>\n",
              "      <th>Busia</th>\n",
              "      <th>Loitoktok</th>\n",
              "      <th>Garissa</th>\n",
              "      <th>Karatina</th>\n",
              "      <th>Embu</th>\n",
              "      <th>Average</th>\n",
              "      <th>Maximum.</th>\n",
              "    </tr>\n",
              "  </thead>\n",
              "  <tbody>\n",
              "    <tr>\n",
              "      <th>0</th>\n",
              "      <td>Dry Maize</td>\n",
              "      <td>Bag</td>\n",
              "      <td>90.0</td>\n",
              "      <td>2995.000000</td>\n",
              "      <td>3100.000000</td>\n",
              "      <td>3200.000000</td>\n",
              "      <td>2380.000000</td>\n",
              "      <td>2600.0</td>\n",
              "      <td>3240.0</td>\n",
              "      <td>2261.111111</td>\n",
              "      <td>3200.0</td>\n",
              "      <td>3400.0</td>\n",
              "      <td>2373.75</td>\n",
              "      <td>3200.0</td>\n",
              "      <td>3600.0</td>\n",
              "      <td>2800.0</td>\n",
              "      <td>3000.0</td>\n",
              "      <td>2953.561508</td>\n",
              "      <td>3600.0</td>\n",
              "    </tr>\n",
              "    <tr>\n",
              "      <th>1</th>\n",
              "      <td>Green Maize</td>\n",
              "      <td>Ext Bag</td>\n",
              "      <td>115.0</td>\n",
              "      <td>3199.583333</td>\n",
              "      <td>5155.416667</td>\n",
              "      <td>1990.000000</td>\n",
              "      <td>1941.666667</td>\n",
              "      <td>1725.0</td>\n",
              "      <td>3000.0</td>\n",
              "      <td>1200.000000</td>\n",
              "      <td>3500.0</td>\n",
              "      <td>2000.0</td>\n",
              "      <td>1500.00</td>\n",
              "      <td>3250.0</td>\n",
              "      <td>6100.0</td>\n",
              "      <td>1000.0</td>\n",
              "      <td>2000.0</td>\n",
              "      <td>2682.976190</td>\n",
              "      <td>6100.0</td>\n",
              "    </tr>\n",
              "    <tr>\n",
              "      <th>2</th>\n",
              "      <td>Finger Millet</td>\n",
              "      <td>Bag</td>\n",
              "      <td>90.0</td>\n",
              "      <td>5530.000000</td>\n",
              "      <td>6525.000000</td>\n",
              "      <td>7200.000000</td>\n",
              "      <td>5311.250000</td>\n",
              "      <td>7200.0</td>\n",
              "      <td>5602.5</td>\n",
              "      <td>4500.000000</td>\n",
              "      <td>7300.0</td>\n",
              "      <td>7800.0</td>\n",
              "      <td>4725.00</td>\n",
              "      <td>NaN</td>\n",
              "      <td>7200.0</td>\n",
              "      <td>6000.0</td>\n",
              "      <td>5200.0</td>\n",
              "      <td>6161.057692</td>\n",
              "      <td>7800.0</td>\n",
              "    </tr>\n",
              "    <tr>\n",
              "      <th>3</th>\n",
              "      <td>Sorghum</td>\n",
              "      <td>Bag</td>\n",
              "      <td>90.0</td>\n",
              "      <td>3470.000000</td>\n",
              "      <td>3366.666667</td>\n",
              "      <td>3416.666667</td>\n",
              "      <td>3100.000000</td>\n",
              "      <td>3200.0</td>\n",
              "      <td>4357.5</td>\n",
              "      <td>1830.000000</td>\n",
              "      <td>NaN</td>\n",
              "      <td>4500.0</td>\n",
              "      <td>2475.00</td>\n",
              "      <td>NaN</td>\n",
              "      <td>6500.0</td>\n",
              "      <td>3000.0</td>\n",
              "      <td>4800.0</td>\n",
              "      <td>3667.986111</td>\n",
              "      <td>6500.0</td>\n",
              "    </tr>\n",
              "    <tr>\n",
              "      <th>4</th>\n",
              "      <td>Wheat</td>\n",
              "      <td>Bag</td>\n",
              "      <td>90.0</td>\n",
              "      <td>NaN</td>\n",
              "      <td>NaN</td>\n",
              "      <td>NaN</td>\n",
              "      <td>3515.000000</td>\n",
              "      <td>2800.0</td>\n",
              "      <td>4500.0</td>\n",
              "      <td>NaN</td>\n",
              "      <td>NaN</td>\n",
              "      <td>NaN</td>\n",
              "      <td>NaN</td>\n",
              "      <td>NaN</td>\n",
              "      <td>5500.0</td>\n",
              "      <td>3500.0</td>\n",
              "      <td>4000.0</td>\n",
              "      <td>3969.166667</td>\n",
              "      <td>5500.0</td>\n",
              "    </tr>\n",
              "  </tbody>\n",
              "</table>\n",
              "</div>"
            ],
            "text/plain": [
              "       COMMODITY     Unit     Kg  ...    Embu      Average  Maximum.\n",
              "0      Dry Maize      Bag   90.0  ...  3000.0  2953.561508    3600.0\n",
              "1    Green Maize  Ext Bag  115.0  ...  2000.0  2682.976190    6100.0\n",
              "2  Finger Millet      Bag   90.0  ...  5200.0  6161.057692    7800.0\n",
              "3        Sorghum      Bag   90.0  ...  4800.0  3667.986111    6500.0\n",
              "4          Wheat      Bag   90.0  ...  4000.0  3969.166667    5500.0\n",
              "\n",
              "[5 rows x 19 columns]"
            ]
          },
          "metadata": {},
          "execution_count": 265
        }
      ]
    },
    {
      "cell_type": "code",
      "metadata": {
        "colab": {
          "base_uri": "https://localhost:8080/",
          "height": 419
        },
        "id": "VgJMZLR-tHOG",
        "outputId": "dbafe72a-0a0e-4254-ecea-c55cfcd0755e"
      },
      "source": [
        "uniquecrops = counties.groupby('CROP')\n",
        "counties"
      ],
      "execution_count": 266,
      "outputs": [
        {
          "output_type": "execute_result",
          "data": {
            "text/html": [
              "<div>\n",
              "<style scoped>\n",
              "    .dataframe tbody tr th:only-of-type {\n",
              "        vertical-align: middle;\n",
              "    }\n",
              "\n",
              "    .dataframe tbody tr th {\n",
              "        vertical-align: top;\n",
              "    }\n",
              "\n",
              "    .dataframe thead th {\n",
              "        text-align: right;\n",
              "    }\n",
              "</style>\n",
              "<table border=\"1\" class=\"dataframe\">\n",
              "  <thead>\n",
              "    <tr style=\"text-align: right;\">\n",
              "      <th></th>\n",
              "      <th>_id</th>\n",
              "      <th>County</th>\n",
              "      <th>CROP</th>\n",
              "      <th>Area__HA</th>\n",
              "      <th>Production__Tons</th>\n",
              "      <th>Yield__Tons_per_HA</th>\n",
              "    </tr>\n",
              "  </thead>\n",
              "  <tbody>\n",
              "    <tr>\n",
              "      <th>0</th>\n",
              "      <td>1</td>\n",
              "      <td>BARINGO</td>\n",
              "      <td>Beans</td>\n",
              "      <td>15669</td>\n",
              "      <td>11034</td>\n",
              "      <td>0.7</td>\n",
              "    </tr>\n",
              "    <tr>\n",
              "      <th>1</th>\n",
              "      <td>2</td>\n",
              "      <td>BOMET</td>\n",
              "      <td>Beans</td>\n",
              "      <td>39002</td>\n",
              "      <td>50140.76</td>\n",
              "      <td>1.3</td>\n",
              "    </tr>\n",
              "    <tr>\n",
              "      <th>2</th>\n",
              "      <td>3</td>\n",
              "      <td>BUNGOMA</td>\n",
              "      <td>Beans</td>\n",
              "      <td>77367</td>\n",
              "      <td>61051.12</td>\n",
              "      <td>0.8</td>\n",
              "    </tr>\n",
              "    <tr>\n",
              "      <th>3</th>\n",
              "      <td>4</td>\n",
              "      <td>BUSIA</td>\n",
              "      <td>Beans</td>\n",
              "      <td>27351</td>\n",
              "      <td>36422</td>\n",
              "      <td>1.3</td>\n",
              "    </tr>\n",
              "    <tr>\n",
              "      <th>4</th>\n",
              "      <td>5</td>\n",
              "      <td>ELGEYO MARAKWET</td>\n",
              "      <td>Beans</td>\n",
              "      <td>14873</td>\n",
              "      <td>16354.62</td>\n",
              "      <td>1.1</td>\n",
              "    </tr>\n",
              "    <tr>\n",
              "      <th>...</th>\n",
              "      <td>...</td>\n",
              "      <td>...</td>\n",
              "      <td>...</td>\n",
              "      <td>...</td>\n",
              "      <td>...</td>\n",
              "      <td>...</td>\n",
              "    </tr>\n",
              "    <tr>\n",
              "      <th>154</th>\n",
              "      <td>155</td>\n",
              "      <td>TAITA TAVETA</td>\n",
              "      <td>Rice</td>\n",
              "      <td>380</td>\n",
              "      <td>1320</td>\n",
              "      <td>3.5</td>\n",
              "    </tr>\n",
              "    <tr>\n",
              "      <th>155</th>\n",
              "      <td>156</td>\n",
              "      <td>TANA RIVER</td>\n",
              "      <td>Rice</td>\n",
              "      <td>1210</td>\n",
              "      <td>3855</td>\n",
              "      <td>3.2</td>\n",
              "    </tr>\n",
              "    <tr>\n",
              "      <th>156</th>\n",
              "      <td>157</td>\n",
              "      <td>THARAKA NITHI</td>\n",
              "      <td>Rice</td>\n",
              "      <td>28</td>\n",
              "      <td>79</td>\n",
              "      <td>2.8</td>\n",
              "    </tr>\n",
              "    <tr>\n",
              "      <th>157</th>\n",
              "      <td>158</td>\n",
              "      <td>WEST POKOT</td>\n",
              "      <td>Rice</td>\n",
              "      <td>20</td>\n",
              "      <td>72</td>\n",
              "      <td>3.6</td>\n",
              "    </tr>\n",
              "    <tr>\n",
              "      <th>158</th>\n",
              "      <td>159</td>\n",
              "      <td>VIHIGA</td>\n",
              "      <td>Rice</td>\n",
              "      <td>4</td>\n",
              "      <td>18</td>\n",
              "      <td>4.5</td>\n",
              "    </tr>\n",
              "  </tbody>\n",
              "</table>\n",
              "<p>159 rows × 6 columns</p>\n",
              "</div>"
            ],
            "text/plain": [
              "     _id           County   CROP Area__HA Production__Tons  Yield__Tons_per_HA\n",
              "0      1          BARINGO  Beans    15669            11034                 0.7\n",
              "1      2            BOMET  Beans    39002         50140.76                 1.3\n",
              "2      3          BUNGOMA  Beans    77367         61051.12                 0.8\n",
              "3      4            BUSIA  Beans    27351            36422                 1.3\n",
              "4      5  ELGEYO MARAKWET  Beans    14873         16354.62                 1.1\n",
              "..   ...              ...    ...      ...              ...                 ...\n",
              "154  155     TAITA TAVETA   Rice      380             1320                 3.5\n",
              "155  156       TANA RIVER   Rice     1210             3855                 3.2\n",
              "156  157    THARAKA NITHI   Rice       28               79                 2.8\n",
              "157  158       WEST POKOT   Rice       20               72                 3.6\n",
              "158  159           VIHIGA   Rice        4               18                 4.5\n",
              "\n",
              "[159 rows x 6 columns]"
            ]
          },
          "metadata": {},
          "execution_count": 266
        }
      ]
    },
    {
      "cell_type": "code",
      "metadata": {
        "colab": {
          "base_uri": "https://localhost:8080/"
        },
        "id": "MPBDtCoEus1J",
        "outputId": "8b65a5bc-1410-410e-8df2-e5223cf44192"
      },
      "source": [
        "# Grouping each crop by value counts to give the total of each commodity\n",
        "\n",
        "counties['CROP'].value_counts()"
      ],
      "execution_count": 267,
      "outputs": [
        {
          "output_type": "execute_result",
          "data": {
            "text/plain": [
              "Beans             47\n",
              "Sorghum           47\n",
              "Irish Potatoes    30\n",
              "Rice              21\n",
              "Wheat             14\n",
              "Name: CROP, dtype: int64"
            ]
          },
          "metadata": {},
          "execution_count": 267
        }
      ]
    },
    {
      "cell_type": "code",
      "metadata": {
        "colab": {
          "base_uri": "https://localhost:8080/"
        },
        "id": "3TLfRW6R7FYC",
        "outputId": "b7cf5193-141b-404c-ddc4-d773b8e9c9c5"
      },
      "source": [
        "# Out\n",
        "\n",
        "counties['CROP'] == \"Beans\""
      ],
      "execution_count": 268,
      "outputs": [
        {
          "output_type": "execute_result",
          "data": {
            "text/plain": [
              "0       True\n",
              "1       True\n",
              "2       True\n",
              "3       True\n",
              "4       True\n",
              "       ...  \n",
              "154    False\n",
              "155    False\n",
              "156    False\n",
              "157    False\n",
              "158    False\n",
              "Name: CROP, Length: 159, dtype: bool"
            ]
          },
          "metadata": {},
          "execution_count": 268
        }
      ]
    },
    {
      "cell_type": "code",
      "metadata": {
        "colab": {
          "base_uri": "https://localhost:8080/",
          "height": 426
        },
        "id": "3kC1qSQrgOzt",
        "outputId": "e048d105-fcd5-4781-e84b-d852a4ac23d3"
      },
      "source": [
        "#using plotly here \n",
        "\n",
        "counties.groupby('CROP').sum().plot(kind='bar')"
      ],
      "execution_count": 269,
      "outputs": [
        {
          "output_type": "stream",
          "text": [
            "/usr/local/lib/python3.7/dist-packages/pandas/plotting/_matplotlib/core.py:584: UserWarning:\n",
            "\n",
            "The handle <BarContainer object of 5 artists> has a label of '_id' which cannot be automatically added to the legend.\n",
            "\n"
          ],
          "name": "stderr"
        },
        {
          "output_type": "execute_result",
          "data": {
            "text/plain": [
              "<matplotlib.axes._subplots.AxesSubplot at 0x7f142c53c5d0>"
            ]
          },
          "metadata": {},
          "execution_count": 269
        },
        {
          "output_type": "display_data",
          "data": {
            "image/png": "[encoded data removed]",
            "text/plain": [
              "<Figure size 432x288 with 1 Axes>"
            ]
          },
          "metadata": {
            "needs_background": "light"
          }
        }
      ]
    },
    {
      "cell_type": "code",
      "metadata": {
        "colab": {
          "base_uri": "https://localhost:8080/"
        },
        "id": "ST48XDOd7hv_",
        "outputId": "c17ef4a6-d1cc-43c5-b3e2-6e835b32c731"
      },
      "source": [
        "# This output is the average value in Ksh per Commodity Type\n",
        "crops.groupby('Commodity_Type').mean()['Values_in_Ksh']"
      ],
      "execution_count": 270,
      "outputs": [
        {
          "output_type": "execute_result",
          "data": {
            "text/plain": [
              "Commodity_Type\n",
              "Avocado                  2158.064516\n",
              "Beans Canadian           6133.791667\n",
              "Beans Mwitemania         5628.666667\n",
              "Beans Rosecoco           6134.708333\n",
              "Brinjals                 1637.935484\n",
              "Cabbages                 2121.967742\n",
              "Capsicums                2612.838710\n",
              "Carrots                  3565.000000\n",
              "Cassava Fresh            1973.041667\n",
              "Cauliflower              2528.451613\n",
              "Chillies                 2679.838710\n",
              "Cooking Bananas           553.806452\n",
              "Cowpeas                  6094.166667\n",
              "Cucumber                 2072.870968\n",
              "Dolichos (Njahi)         8741.291667\n",
              "Dry Maize                2782.875000\n",
              "Finger Millet            6416.041667\n",
              "Fresh Peas               2928.083333\n",
              "Green Gram               8951.625000\n",
              "Green Maize              2907.000000\n",
              "Groundnuts              11244.416667\n",
              "Kales                    1227.774194\n",
              "Lemons                   1978.322581\n",
              "Lettuce                  3342.419355\n",
              "Limes                     723.838710\n",
              "Mangoes Local            2083.774194\n",
              "Mangoes Ngowe            1025.483871\n",
              "Mwezi Moja               5722.791667\n",
              "Onions Dry                962.935484\n",
              "Oranges                  2966.483871\n",
              "Passion Fruits           3810.129032\n",
              "Pawpaw                   1563.741935\n",
              "Pineapples                775.193548\n",
              "Red Irish Potatoes       2926.791667\n",
              "Ripe Bananas              593.483871\n",
              "Sorghum                  3710.458333\n",
              "Spring Onions            2007.612903\n",
              "Sweet Potatoes           2820.458333\n",
              "Tomatoes                 3637.064516\n",
              "Wheat                    3854.958333\n",
              "White Irish Potatoes     2931.583333\n",
              "Name: Values_in_Ksh, dtype: float64"
            ]
          },
          "metadata": {},
          "execution_count": 270
        }
      ]
    },
    {
      "cell_type": "code",
      "metadata": {
        "colab": {
          "base_uri": "https://localhost:8080/",
          "height": 344
        },
        "id": "8QDUtVuX_5dA",
        "outputId": "651b07f3-e600-40d9-f329-7a87af9a9474"
      },
      "source": [
        "# This output is the average value in Ksh per Produce Variety\n",
        "\n",
        "df_crops = crops.groupby('Produce_Variety').mean()['Values_in_Ksh'].plot(kind='bar')\n",
        "\n",
        "\n"
      ],
      "execution_count": 271,
      "outputs": [
        {
          "output_type": "display_data",
          "data": {
            "image/png": "[encoded data removed]",
            "text/plain": [
              "<Figure size 432x288 with 1 Axes>"
            ]
          },
          "metadata": {
            "needs_background": "light"
          }
        }
      ]
    },
    {
      "cell_type": "markdown",
      "metadata": {
        "id": "7gLHISJ-qlkS"
      },
      "source": [
        "## 2. What are the best regions to plant various commodities?"
      ]
    },
    {
      "cell_type": "code",
      "metadata": {
        "id": "tJ8p6LAxM0tP"
      },
      "source": [
        ""
      ],
      "execution_count": 271,
      "outputs": []
    },
    {
      "cell_type": "code",
      "metadata": {
        "colab": {
          "base_uri": "https://localhost:8080/",
          "height": 204
        },
        "id": "EqbL77jPGmD1",
        "outputId": "feb1d916-5aa0-4e75-d1ee-e805bb7347f3"
      },
      "source": [
        "counties.head()"
      ],
      "execution_count": 272,
      "outputs": [
        {
          "output_type": "execute_result",
          "data": {
            "text/html": [
              "<div>\n",
              "<style scoped>\n",
              "    .dataframe tbody tr th:only-of-type {\n",
              "        vertical-align: middle;\n",
              "    }\n",
              "\n",
              "    .dataframe tbody tr th {\n",
              "        vertical-align: top;\n",
              "    }\n",
              "\n",
              "    .dataframe thead th {\n",
              "        text-align: right;\n",
              "    }\n",
              "</style>\n",
              "<table border=\"1\" class=\"dataframe\">\n",
              "  <thead>\n",
              "    <tr style=\"text-align: right;\">\n",
              "      <th></th>\n",
              "      <th>_id</th>\n",
              "      <th>County</th>\n",
              "      <th>CROP</th>\n",
              "      <th>Area__HA</th>\n",
              "      <th>Production__Tons</th>\n",
              "      <th>Yield__Tons_per_HA</th>\n",
              "    </tr>\n",
              "  </thead>\n",
              "  <tbody>\n",
              "    <tr>\n",
              "      <th>0</th>\n",
              "      <td>1</td>\n",
              "      <td>BARINGO</td>\n",
              "      <td>Beans</td>\n",
              "      <td>15669</td>\n",
              "      <td>11034</td>\n",
              "      <td>0.7</td>\n",
              "    </tr>\n",
              "    <tr>\n",
              "      <th>1</th>\n",
              "      <td>2</td>\n",
              "      <td>BOMET</td>\n",
              "      <td>Beans</td>\n",
              "      <td>39002</td>\n",
              "      <td>50140.76</td>\n",
              "      <td>1.3</td>\n",
              "    </tr>\n",
              "    <tr>\n",
              "      <th>2</th>\n",
              "      <td>3</td>\n",
              "      <td>BUNGOMA</td>\n",
              "      <td>Beans</td>\n",
              "      <td>77367</td>\n",
              "      <td>61051.12</td>\n",
              "      <td>0.8</td>\n",
              "    </tr>\n",
              "    <tr>\n",
              "      <th>3</th>\n",
              "      <td>4</td>\n",
              "      <td>BUSIA</td>\n",
              "      <td>Beans</td>\n",
              "      <td>27351</td>\n",
              "      <td>36422</td>\n",
              "      <td>1.3</td>\n",
              "    </tr>\n",
              "    <tr>\n",
              "      <th>4</th>\n",
              "      <td>5</td>\n",
              "      <td>ELGEYO MARAKWET</td>\n",
              "      <td>Beans</td>\n",
              "      <td>14873</td>\n",
              "      <td>16354.62</td>\n",
              "      <td>1.1</td>\n",
              "    </tr>\n",
              "  </tbody>\n",
              "</table>\n",
              "</div>"
            ],
            "text/plain": [
              "   _id           County   CROP Area__HA Production__Tons  Yield__Tons_per_HA\n",
              "0    1          BARINGO  Beans    15669            11034                 0.7\n",
              "1    2            BOMET  Beans    39002         50140.76                 1.3\n",
              "2    3          BUNGOMA  Beans    77367         61051.12                 0.8\n",
              "3    4            BUSIA  Beans    27351            36422                 1.3\n",
              "4    5  ELGEYO MARAKWET  Beans    14873         16354.62                 1.1"
            ]
          },
          "metadata": {},
          "execution_count": 272
        }
      ]
    },
    {
      "cell_type": "code",
      "metadata": {
        "id": "XejdgYxhA5jv"
      },
      "source": [
        "#Get a dataframe for max values\n",
        "maxmum = counties.groupby(['CROP'])['Yield__Tons_per_HA'].transform(max) == counties['Yield__Tons_per_HA']"
      ],
      "execution_count": 273,
      "outputs": []
    },
    {
      "cell_type": "code",
      "metadata": {
        "colab": {
          "base_uri": "https://localhost:8080/",
          "height": 266
        },
        "id": "KSVC06m6BWMo",
        "outputId": "45fa86a3-3835-43a2-8964-04d26ad52ffa"
      },
      "source": [
        "counties[maxmum]"
      ],
      "execution_count": 274,
      "outputs": [
        {
          "output_type": "execute_result",
          "data": {
            "text/html": [
              "<div>\n",
              "<style scoped>\n",
              "    .dataframe tbody tr th:only-of-type {\n",
              "        vertical-align: middle;\n",
              "    }\n",
              "\n",
              "    .dataframe tbody tr th {\n",
              "        vertical-align: top;\n",
              "    }\n",
              "\n",
              "    .dataframe thead th {\n",
              "        text-align: right;\n",
              "    }\n",
              "</style>\n",
              "<table border=\"1\" class=\"dataframe\">\n",
              "  <thead>\n",
              "    <tr style=\"text-align: right;\">\n",
              "      <th></th>\n",
              "      <th>_id</th>\n",
              "      <th>County</th>\n",
              "      <th>CROP</th>\n",
              "      <th>Area__HA</th>\n",
              "      <th>Production__Tons</th>\n",
              "      <th>Yield__Tons_per_HA</th>\n",
              "    </tr>\n",
              "  </thead>\n",
              "  <tbody>\n",
              "    <tr>\n",
              "      <th>1</th>\n",
              "      <td>2</td>\n",
              "      <td>BOMET</td>\n",
              "      <td>Beans</td>\n",
              "      <td>39002</td>\n",
              "      <td>50140.76</td>\n",
              "      <td>1.3</td>\n",
              "    </tr>\n",
              "    <tr>\n",
              "      <th>3</th>\n",
              "      <td>4</td>\n",
              "      <td>BUSIA</td>\n",
              "      <td>Beans</td>\n",
              "      <td>27351</td>\n",
              "      <td>36422</td>\n",
              "      <td>1.3</td>\n",
              "    </tr>\n",
              "    <tr>\n",
              "      <th>54</th>\n",
              "      <td>55</td>\n",
              "      <td>HOMA BAY</td>\n",
              "      <td>Sorghum</td>\n",
              "      <td>18,925</td>\n",
              "      <td>37440</td>\n",
              "      <td>2.0</td>\n",
              "    </tr>\n",
              "    <tr>\n",
              "      <th>56</th>\n",
              "      <td>57</td>\n",
              "      <td>KAJIADO</td>\n",
              "      <td>Sorghum</td>\n",
              "      <td>46</td>\n",
              "      <td>93</td>\n",
              "      <td>2.0</td>\n",
              "    </tr>\n",
              "    <tr>\n",
              "      <th>98</th>\n",
              "      <td>99</td>\n",
              "      <td>EMBU</td>\n",
              "      <td>Irish Potatoes</td>\n",
              "      <td>332</td>\n",
              "      <td>6980</td>\n",
              "      <td>21.0</td>\n",
              "    </tr>\n",
              "    <tr>\n",
              "      <th>129</th>\n",
              "      <td>130</td>\n",
              "      <td>MERU</td>\n",
              "      <td>Wheat</td>\n",
              "      <td>10180</td>\n",
              "      <td>49475</td>\n",
              "      <td>4.9</td>\n",
              "    </tr>\n",
              "    <tr>\n",
              "      <th>158</th>\n",
              "      <td>159</td>\n",
              "      <td>VIHIGA</td>\n",
              "      <td>Rice</td>\n",
              "      <td>4</td>\n",
              "      <td>18</td>\n",
              "      <td>4.5</td>\n",
              "    </tr>\n",
              "  </tbody>\n",
              "</table>\n",
              "</div>"
            ],
            "text/plain": [
              "     _id    County  ... Production__Tons Yield__Tons_per_HA\n",
              "1      2     BOMET  ...         50140.76                1.3\n",
              "3      4     BUSIA  ...            36422                1.3\n",
              "54    55  HOMA BAY  ...            37440                2.0\n",
              "56    57   KAJIADO  ...               93                2.0\n",
              "98    99      EMBU  ...             6980               21.0\n",
              "129  130      MERU  ...            49475                4.9\n",
              "158  159    VIHIGA  ...               18                4.5\n",
              "\n",
              "[7 rows x 6 columns]"
            ]
          },
          "metadata": {},
          "execution_count": 274
        }
      ]
    },
    {
      "cell_type": "code",
      "metadata": {
        "colab": {
          "base_uri": "https://localhost:8080/",
          "height": 359
        },
        "id": "UhJGaPQaP994",
        "outputId": "996bc7d7-8c46-49b4-a2dd-1151c2b3ddf4"
      },
      "source": [
        "counties[maxmum].plot(kind = 'bar')"
      ],
      "execution_count": 281,
      "outputs": [
        {
          "output_type": "stream",
          "text": [
            "/usr/local/lib/python3.7/dist-packages/pandas/plotting/_matplotlib/core.py:584: UserWarning:\n",
            "\n",
            "The handle <BarContainer object of 7 artists> has a label of '_id' which cannot be automatically added to the legend.\n",
            "\n"
          ],
          "name": "stderr"
        },
        {
          "output_type": "execute_result",
          "data": {
            "text/plain": [
              "<matplotlib.axes._subplots.AxesSubplot at 0x7f1428310290>"
            ]
          },
          "metadata": {},
          "execution_count": 281
        },
        {
          "output_type": "display_data",
          "data": {
            "image/png": "[encoded data removed]",
            "text/plain": [
              "<Figure size 432x288 with 1 Axes>"
            ]
          },
          "metadata": {
            "needs_background": "light"
          }
        }
      ]
    },
    {
      "cell_type": "markdown",
      "metadata": {
        "id": "RThkGthMqs_C"
      },
      "source": [
        "## 3. Which is the best duration to sell a specific commodity?"
      ]
    },
    {
      "cell_type": "code",
      "metadata": {
        "colab": {
          "base_uri": "https://localhost:8080/",
          "height": 204
        },
        "id": "z2Qvxw8YrHgI",
        "outputId": "98893dc3-1f90-4b8f-b4e4-649fe10edb2a"
      },
      "source": [
        "#Add months column to group by\n",
        "crops['Month'] = crops['Date'].dt.month\n",
        "crops.head()\n"
      ],
      "execution_count": 275,
      "outputs": [
        {
          "output_type": "execute_result",
          "data": {
            "text/html": [
              "<div>\n",
              "<style scoped>\n",
              "    .dataframe tbody tr th:only-of-type {\n",
              "        vertical-align: middle;\n",
              "    }\n",
              "\n",
              "    .dataframe tbody tr th {\n",
              "        vertical-align: top;\n",
              "    }\n",
              "\n",
              "    .dataframe thead th {\n",
              "        text-align: right;\n",
              "    }\n",
              "</style>\n",
              "<table border=\"1\" class=\"dataframe\">\n",
              "  <thead>\n",
              "    <tr style=\"text-align: right;\">\n",
              "      <th></th>\n",
              "      <th>Produce_Variety</th>\n",
              "      <th>Commodity_Type</th>\n",
              "      <th>Unit</th>\n",
              "      <th>Volume_in_Kgs</th>\n",
              "      <th>Values_in_Ksh</th>\n",
              "      <th>Date</th>\n",
              "      <th>OBJECTID</th>\n",
              "      <th>Month</th>\n",
              "    </tr>\n",
              "  </thead>\n",
              "  <tbody>\n",
              "    <tr>\n",
              "      <th>0</th>\n",
              "      <td>Horticulture</td>\n",
              "      <td>Cabbages</td>\n",
              "      <td>Ext Bag</td>\n",
              "      <td>126</td>\n",
              "      <td>2205.0</td>\n",
              "      <td>2012-01-01</td>\n",
              "      <td>0</td>\n",
              "      <td>1</td>\n",
              "    </tr>\n",
              "    <tr>\n",
              "      <th>1</th>\n",
              "      <td>Horticulture</td>\n",
              "      <td>Cooking Bananas</td>\n",
              "      <td>Med Bunch</td>\n",
              "      <td>22</td>\n",
              "      <td>511.0</td>\n",
              "      <td>2012-01-01</td>\n",
              "      <td>1</td>\n",
              "      <td>1</td>\n",
              "    </tr>\n",
              "    <tr>\n",
              "      <th>2</th>\n",
              "      <td>Horticulture</td>\n",
              "      <td>Ripe Bananas</td>\n",
              "      <td>Med Bunch</td>\n",
              "      <td>14</td>\n",
              "      <td>616.0</td>\n",
              "      <td>2012-01-01</td>\n",
              "      <td>2</td>\n",
              "      <td>1</td>\n",
              "    </tr>\n",
              "    <tr>\n",
              "      <th>3</th>\n",
              "      <td>Horticulture</td>\n",
              "      <td>Carrots</td>\n",
              "      <td>Ext Bag</td>\n",
              "      <td>138</td>\n",
              "      <td>2833.0</td>\n",
              "      <td>2012-01-01</td>\n",
              "      <td>3</td>\n",
              "      <td>1</td>\n",
              "    </tr>\n",
              "    <tr>\n",
              "      <th>4</th>\n",
              "      <td>Horticulture</td>\n",
              "      <td>Tomatoes</td>\n",
              "      <td>Lg Box</td>\n",
              "      <td>64</td>\n",
              "      <td>3411.0</td>\n",
              "      <td>2012-01-01</td>\n",
              "      <td>4</td>\n",
              "      <td>1</td>\n",
              "    </tr>\n",
              "  </tbody>\n",
              "</table>\n",
              "</div>"
            ],
            "text/plain": [
              "  Produce_Variety   Commodity_Type       Unit  ...       Date  OBJECTID Month\n",
              "0    Horticulture         Cabbages    Ext Bag  ... 2012-01-01         0     1\n",
              "1    Horticulture  Cooking Bananas  Med Bunch  ... 2012-01-01         1     1\n",
              "2    Horticulture     Ripe Bananas  Med Bunch  ... 2012-01-01         2     1\n",
              "3    Horticulture          Carrots    Ext Bag  ... 2012-01-01         3     1\n",
              "4    Horticulture         Tomatoes     Lg Box  ... 2012-01-01         4     1\n",
              "\n",
              "[5 rows x 8 columns]"
            ]
          },
          "metadata": {},
          "execution_count": 275
        }
      ]
    },
    {
      "cell_type": "code",
      "metadata": {
        "colab": {
          "base_uri": "https://localhost:8080/",
          "height": 1000
        },
        "id": "VcaN6FNIoO7w",
        "outputId": "8f1f7313-bc68-4071-d723-8fe76b98fdcb"
      },
      "source": [
        "a=crops.groupby(['Commodity_Type'])['Values_in_Ksh'].transform(max) == crops['Values_in_Ksh']\n",
        "b=crops[a].groupby(['Month','Commodity_Type']).max()\n",
        "b.drop(columns=['Produce_Variety','Date','OBJECTID'])"
      ],
      "execution_count": 276,
      "outputs": [
        {
          "output_type": "execute_result",
          "data": {
            "text/html": [
              "<div>\n",
              "<style scoped>\n",
              "    .dataframe tbody tr th:only-of-type {\n",
              "        vertical-align: middle;\n",
              "    }\n",
              "\n",
              "    .dataframe tbody tr th {\n",
              "        vertical-align: top;\n",
              "    }\n",
              "\n",
              "    .dataframe thead th {\n",
              "        text-align: right;\n",
              "    }\n",
              "</style>\n",
              "<table border=\"1\" class=\"dataframe\">\n",
              "  <thead>\n",
              "    <tr style=\"text-align: right;\">\n",
              "      <th></th>\n",
              "      <th></th>\n",
              "      <th>Unit</th>\n",
              "      <th>Volume_in_Kgs</th>\n",
              "      <th>Values_in_Ksh</th>\n",
              "    </tr>\n",
              "    <tr>\n",
              "      <th>Month</th>\n",
              "      <th>Commodity_Type</th>\n",
              "      <th></th>\n",
              "      <th></th>\n",
              "      <th></th>\n",
              "    </tr>\n",
              "  </thead>\n",
              "  <tbody>\n",
              "    <tr>\n",
              "      <th>1</th>\n",
              "      <th>Oranges</th>\n",
              "      <td>Bag</td>\n",
              "      <td>93</td>\n",
              "      <td>3795.0</td>\n",
              "    </tr>\n",
              "    <tr>\n",
              "      <th rowspan=\"5\" valign=\"top\">2</th>\n",
              "      <th>Brinjals</th>\n",
              "      <td>Bag</td>\n",
              "      <td>44</td>\n",
              "      <td>2126.0</td>\n",
              "    </tr>\n",
              "    <tr>\n",
              "      <th>Cooking Bananas</th>\n",
              "      <td>Med Bunch</td>\n",
              "      <td>22</td>\n",
              "      <td>629.0</td>\n",
              "    </tr>\n",
              "    <tr>\n",
              "      <th>Pawpaw</th>\n",
              "      <td>Lg Box</td>\n",
              "      <td>54</td>\n",
              "      <td>2005.0</td>\n",
              "    </tr>\n",
              "    <tr>\n",
              "      <th>Ripe Bananas</th>\n",
              "      <td>Med Bunch</td>\n",
              "      <td>14</td>\n",
              "      <td>708.0</td>\n",
              "    </tr>\n",
              "    <tr>\n",
              "      <th>Sorghum</th>\n",
              "      <td>Bag</td>\n",
              "      <td>90</td>\n",
              "      <td>4202.0</td>\n",
              "    </tr>\n",
              "    <tr>\n",
              "      <th rowspan=\"4\" valign=\"top\">3</th>\n",
              "      <th>Cabbages</th>\n",
              "      <td>Ext Bag</td>\n",
              "      <td>126</td>\n",
              "      <td>3049.0</td>\n",
              "    </tr>\n",
              "    <tr>\n",
              "      <th>Capsicums</th>\n",
              "      <td>Bag</td>\n",
              "      <td>50</td>\n",
              "      <td>3247.0</td>\n",
              "    </tr>\n",
              "    <tr>\n",
              "      <th>Cucumber</th>\n",
              "      <td>Bag</td>\n",
              "      <td>50</td>\n",
              "      <td>2742.0</td>\n",
              "    </tr>\n",
              "    <tr>\n",
              "      <th>Kales</th>\n",
              "      <td>Bag</td>\n",
              "      <td>50</td>\n",
              "      <td>2359.0</td>\n",
              "    </tr>\n",
              "    <tr>\n",
              "      <th rowspan=\"2\" valign=\"top\">4</th>\n",
              "      <th>Cauliflower</th>\n",
              "      <td>crate</td>\n",
              "      <td>39</td>\n",
              "      <td>3781.0</td>\n",
              "    </tr>\n",
              "    <tr>\n",
              "      <th>Lemons</th>\n",
              "      <td>Bag</td>\n",
              "      <td>95</td>\n",
              "      <td>2611.0</td>\n",
              "    </tr>\n",
              "    <tr>\n",
              "      <th rowspan=\"14\" valign=\"top\">5</th>\n",
              "      <th>Avocado</th>\n",
              "      <td>Bag</td>\n",
              "      <td>90</td>\n",
              "      <td>2705.0</td>\n",
              "    </tr>\n",
              "    <tr>\n",
              "      <th>Beans Mwitemania</th>\n",
              "      <td>Bag</td>\n",
              "      <td>90</td>\n",
              "      <td>6903.0</td>\n",
              "    </tr>\n",
              "    <tr>\n",
              "      <th>Beans Rosecoco</th>\n",
              "      <td>Bag</td>\n",
              "      <td>90</td>\n",
              "      <td>7522.0</td>\n",
              "    </tr>\n",
              "    <tr>\n",
              "      <th>Cassava Fresh</th>\n",
              "      <td>Bag</td>\n",
              "      <td>99</td>\n",
              "      <td>2350.0</td>\n",
              "    </tr>\n",
              "    <tr>\n",
              "      <th>Cowpeas</th>\n",
              "      <td>Bag</td>\n",
              "      <td>90</td>\n",
              "      <td>7509.0</td>\n",
              "    </tr>\n",
              "    <tr>\n",
              "      <th>Finger Millet</th>\n",
              "      <td>Bag</td>\n",
              "      <td>90</td>\n",
              "      <td>7216.0</td>\n",
              "    </tr>\n",
              "    <tr>\n",
              "      <th>Fresh Peas</th>\n",
              "      <td>Bag</td>\n",
              "      <td>51</td>\n",
              "      <td>4343.0</td>\n",
              "    </tr>\n",
              "    <tr>\n",
              "      <th>Green Gram</th>\n",
              "      <td>Bag</td>\n",
              "      <td>90</td>\n",
              "      <td>11905.0</td>\n",
              "    </tr>\n",
              "    <tr>\n",
              "      <th>Green Maize</th>\n",
              "      <td>Ext Bag</td>\n",
              "      <td>115</td>\n",
              "      <td>3872.0</td>\n",
              "    </tr>\n",
              "    <tr>\n",
              "      <th>Limes</th>\n",
              "      <td>net</td>\n",
              "      <td>13</td>\n",
              "      <td>1135.0</td>\n",
              "    </tr>\n",
              "    <tr>\n",
              "      <th>Red Irish Potatoes</th>\n",
              "      <td>Bag</td>\n",
              "      <td>110</td>\n",
              "      <td>3812.0</td>\n",
              "    </tr>\n",
              "    <tr>\n",
              "      <th>Spring Onions</th>\n",
              "      <td>Bag</td>\n",
              "      <td>142</td>\n",
              "      <td>2571.0</td>\n",
              "    </tr>\n",
              "    <tr>\n",
              "      <th>Tomatoes</th>\n",
              "      <td>Lg Box</td>\n",
              "      <td>64</td>\n",
              "      <td>5664.0</td>\n",
              "    </tr>\n",
              "    <tr>\n",
              "      <th>White Irish Potatoes</th>\n",
              "      <td>Bag</td>\n",
              "      <td>110</td>\n",
              "      <td>3935.0</td>\n",
              "    </tr>\n",
              "    <tr>\n",
              "      <th rowspan=\"7\" valign=\"top\">6</th>\n",
              "      <th>Beans Canadian</th>\n",
              "      <td>Bag</td>\n",
              "      <td>90</td>\n",
              "      <td>7471.0</td>\n",
              "    </tr>\n",
              "    <tr>\n",
              "      <th>Carrots</th>\n",
              "      <td>Ext Bag</td>\n",
              "      <td>138</td>\n",
              "      <td>5715.0</td>\n",
              "    </tr>\n",
              "    <tr>\n",
              "      <th>Mwezi Moja</th>\n",
              "      <td>Bag</td>\n",
              "      <td>90</td>\n",
              "      <td>7279.0</td>\n",
              "    </tr>\n",
              "    <tr>\n",
              "      <th>Onions Dry</th>\n",
              "      <td>net</td>\n",
              "      <td>13</td>\n",
              "      <td>1259.0</td>\n",
              "    </tr>\n",
              "    <tr>\n",
              "      <th>Passion Fruits</th>\n",
              "      <td>Bag</td>\n",
              "      <td>57</td>\n",
              "      <td>4675.0</td>\n",
              "    </tr>\n",
              "    <tr>\n",
              "      <th>Sweet Potatoes</th>\n",
              "      <td>Bag</td>\n",
              "      <td>98</td>\n",
              "      <td>3259.0</td>\n",
              "    </tr>\n",
              "    <tr>\n",
              "      <th>Wheat</th>\n",
              "      <td>Bag</td>\n",
              "      <td>90</td>\n",
              "      <td>4540.0</td>\n",
              "    </tr>\n",
              "    <tr>\n",
              "      <th>7</th>\n",
              "      <th>Groundnuts</th>\n",
              "      <td>Bag</td>\n",
              "      <td>110</td>\n",
              "      <td>13713.0</td>\n",
              "    </tr>\n",
              "    <tr>\n",
              "      <th rowspan=\"5\" valign=\"top\">9</th>\n",
              "      <th>Chillies</th>\n",
              "      <td>Bag</td>\n",
              "      <td>38</td>\n",
              "      <td>3783.0</td>\n",
              "    </tr>\n",
              "    <tr>\n",
              "      <th>Lettuce</th>\n",
              "      <td>Bag</td>\n",
              "      <td>51</td>\n",
              "      <td>4983.0</td>\n",
              "    </tr>\n",
              "    <tr>\n",
              "      <th>Mangoes Local</th>\n",
              "      <td>Bag</td>\n",
              "      <td>126</td>\n",
              "      <td>2688.0</td>\n",
              "    </tr>\n",
              "    <tr>\n",
              "      <th>Mangoes Ngowe</th>\n",
              "      <td>Sm Basket</td>\n",
              "      <td>25</td>\n",
              "      <td>1262.0</td>\n",
              "    </tr>\n",
              "    <tr>\n",
              "      <th>Pineapples</th>\n",
              "      <td>Dozen</td>\n",
              "      <td>13</td>\n",
              "      <td>935.0</td>\n",
              "    </tr>\n",
              "    <tr>\n",
              "      <th rowspan=\"2\" valign=\"top\">12</th>\n",
              "      <th>Dolichos (Njahi)</th>\n",
              "      <td>Bag</td>\n",
              "      <td>90</td>\n",
              "      <td>12622.0</td>\n",
              "    </tr>\n",
              "    <tr>\n",
              "      <th>Dry Maize</th>\n",
              "      <td>Bag</td>\n",
              "      <td>90</td>\n",
              "      <td>3037.0</td>\n",
              "    </tr>\n",
              "  </tbody>\n",
              "</table>\n",
              "</div>"
            ],
            "text/plain": [
              "                                 Unit  Volume_in_Kgs  Values_in_Ksh\n",
              "Month Commodity_Type                                               \n",
              "1     Oranges                     Bag             93         3795.0\n",
              "2     Brinjals                    Bag             44         2126.0\n",
              "      Cooking Bananas       Med Bunch             22          629.0\n",
              "      Pawpaw                   Lg Box             54         2005.0\n",
              "      Ripe Bananas          Med Bunch             14          708.0\n",
              "      Sorghum                     Bag             90         4202.0\n",
              "3     Cabbages                Ext Bag            126         3049.0\n",
              "      Capsicums                   Bag             50         3247.0\n",
              "      Cucumber                    Bag             50         2742.0\n",
              "      Kales                       Bag             50         2359.0\n",
              "4     Cauliflower               crate             39         3781.0\n",
              "      Lemons                      Bag             95         2611.0\n",
              "5     Avocado                     Bag             90         2705.0\n",
              "      Beans Mwitemania            Bag             90         6903.0\n",
              "      Beans Rosecoco              Bag             90         7522.0\n",
              "      Cassava Fresh               Bag             99         2350.0\n",
              "      Cowpeas                     Bag             90         7509.0\n",
              "      Finger Millet               Bag             90         7216.0\n",
              "      Fresh Peas                  Bag             51         4343.0\n",
              "      Green Gram                  Bag             90        11905.0\n",
              "      Green Maize             Ext Bag            115         3872.0\n",
              "      Limes                       net             13         1135.0\n",
              "      Red Irish Potatoes          Bag            110         3812.0\n",
              "      Spring Onions               Bag            142         2571.0\n",
              "      Tomatoes                 Lg Box             64         5664.0\n",
              "      White Irish Potatoes        Bag            110         3935.0\n",
              "6     Beans Canadian              Bag             90         7471.0\n",
              "      Carrots                 Ext Bag            138         5715.0\n",
              "      Mwezi Moja                  Bag             90         7279.0\n",
              "      Onions Dry                  net             13         1259.0\n",
              "      Passion Fruits              Bag             57         4675.0\n",
              "      Sweet Potatoes              Bag             98         3259.0\n",
              "      Wheat                       Bag             90         4540.0\n",
              "7     Groundnuts                  Bag            110        13713.0\n",
              "9     Chillies                    Bag             38         3783.0\n",
              "      Lettuce                     Bag             51         4983.0\n",
              "      Mangoes Local               Bag            126         2688.0\n",
              "      Mangoes Ngowe         Sm Basket             25         1262.0\n",
              "      Pineapples                Dozen             13          935.0\n",
              "12    Dolichos (Njahi)            Bag             90        12622.0\n",
              "      Dry Maize                   Bag             90         3037.0"
            ]
          },
          "metadata": {},
          "execution_count": 276
        }
      ]
    },
    {
      "cell_type": "markdown",
      "metadata": {
        "id": "3Gbb7-UxrTnX"
      },
      "source": [
        "## 4. What is the best selling commodity in various counties?"
      ]
    },
    {
      "cell_type": "code",
      "metadata": {
        "colab": {
          "base_uri": "https://localhost:8080/",
          "height": 204
        },
        "id": "aYpWZj5XrZgg",
        "outputId": "6a3a2ec6-2be5-4997-b4b1-aee92efe8721"
      },
      "source": [
        "\n",
        "crops['value_per_kg']= (crops['Values_in_Ksh']/crops['Volume_in_Kgs']).round(2)\n",
        "crops.head()"
      ],
      "execution_count": 277,
      "outputs": [
        {
          "output_type": "execute_result",
          "data": {
            "text/html": [
              "<div>\n",
              "<style scoped>\n",
              "    .dataframe tbody tr th:only-of-type {\n",
              "        vertical-align: middle;\n",
              "    }\n",
              "\n",
              "    .dataframe tbody tr th {\n",
              "        vertical-align: top;\n",
              "    }\n",
              "\n",
              "    .dataframe thead th {\n",
              "        text-align: right;\n",
              "    }\n",
              "</style>\n",
              "<table border=\"1\" class=\"dataframe\">\n",
              "  <thead>\n",
              "    <tr style=\"text-align: right;\">\n",
              "      <th></th>\n",
              "      <th>Produce_Variety</th>\n",
              "      <th>Commodity_Type</th>\n",
              "      <th>Unit</th>\n",
              "      <th>Volume_in_Kgs</th>\n",
              "      <th>Values_in_Ksh</th>\n",
              "      <th>Date</th>\n",
              "      <th>OBJECTID</th>\n",
              "      <th>Month</th>\n",
              "      <th>value_per_kg</th>\n",
              "    </tr>\n",
              "  </thead>\n",
              "  <tbody>\n",
              "    <tr>\n",
              "      <th>0</th>\n",
              "      <td>Horticulture</td>\n",
              "      <td>Cabbages</td>\n",
              "      <td>Ext Bag</td>\n",
              "      <td>126</td>\n",
              "      <td>2205.0</td>\n",
              "      <td>2012-01-01</td>\n",
              "      <td>0</td>\n",
              "      <td>1</td>\n",
              "      <td>17.50</td>\n",
              "    </tr>\n",
              "    <tr>\n",
              "      <th>1</th>\n",
              "      <td>Horticulture</td>\n",
              "      <td>Cooking Bananas</td>\n",
              "      <td>Med Bunch</td>\n",
              "      <td>22</td>\n",
              "      <td>511.0</td>\n",
              "      <td>2012-01-01</td>\n",
              "      <td>1</td>\n",
              "      <td>1</td>\n",
              "      <td>23.23</td>\n",
              "    </tr>\n",
              "    <tr>\n",
              "      <th>2</th>\n",
              "      <td>Horticulture</td>\n",
              "      <td>Ripe Bananas</td>\n",
              "      <td>Med Bunch</td>\n",
              "      <td>14</td>\n",
              "      <td>616.0</td>\n",
              "      <td>2012-01-01</td>\n",
              "      <td>2</td>\n",
              "      <td>1</td>\n",
              "      <td>44.00</td>\n",
              "    </tr>\n",
              "    <tr>\n",
              "      <th>3</th>\n",
              "      <td>Horticulture</td>\n",
              "      <td>Carrots</td>\n",
              "      <td>Ext Bag</td>\n",
              "      <td>138</td>\n",
              "      <td>2833.0</td>\n",
              "      <td>2012-01-01</td>\n",
              "      <td>3</td>\n",
              "      <td>1</td>\n",
              "      <td>20.53</td>\n",
              "    </tr>\n",
              "    <tr>\n",
              "      <th>4</th>\n",
              "      <td>Horticulture</td>\n",
              "      <td>Tomatoes</td>\n",
              "      <td>Lg Box</td>\n",
              "      <td>64</td>\n",
              "      <td>3411.0</td>\n",
              "      <td>2012-01-01</td>\n",
              "      <td>4</td>\n",
              "      <td>1</td>\n",
              "      <td>53.30</td>\n",
              "    </tr>\n",
              "  </tbody>\n",
              "</table>\n",
              "</div>"
            ],
            "text/plain": [
              "  Produce_Variety   Commodity_Type       Unit  ...  OBJECTID  Month value_per_kg\n",
              "0    Horticulture         Cabbages    Ext Bag  ...         0      1        17.50\n",
              "1    Horticulture  Cooking Bananas  Med Bunch  ...         1      1        23.23\n",
              "2    Horticulture     Ripe Bananas  Med Bunch  ...         2      1        44.00\n",
              "3    Horticulture          Carrots    Ext Bag  ...         3      1        20.53\n",
              "4    Horticulture         Tomatoes     Lg Box  ...         4      1        53.30\n",
              "\n",
              "[5 rows x 9 columns]"
            ]
          },
          "metadata": {},
          "execution_count": 277
        }
      ]
    },
    {
      "cell_type": "code",
      "metadata": {
        "colab": {
          "base_uri": "https://localhost:8080/",
          "height": 204
        },
        "id": "qnRvNhZCDyOp",
        "outputId": "d1c484a5-fdd0-4cb0-add3-817cfaf2a676"
      },
      "source": [
        "counties.head()"
      ],
      "execution_count": 278,
      "outputs": [
        {
          "output_type": "execute_result",
          "data": {
            "text/html": [
              "<div>\n",
              "<style scoped>\n",
              "    .dataframe tbody tr th:only-of-type {\n",
              "        vertical-align: middle;\n",
              "    }\n",
              "\n",
              "    .dataframe tbody tr th {\n",
              "        vertical-align: top;\n",
              "    }\n",
              "\n",
              "    .dataframe thead th {\n",
              "        text-align: right;\n",
              "    }\n",
              "</style>\n",
              "<table border=\"1\" class=\"dataframe\">\n",
              "  <thead>\n",
              "    <tr style=\"text-align: right;\">\n",
              "      <th></th>\n",
              "      <th>_id</th>\n",
              "      <th>County</th>\n",
              "      <th>CROP</th>\n",
              "      <th>Area__HA</th>\n",
              "      <th>Production__Tons</th>\n",
              "      <th>Yield__Tons_per_HA</th>\n",
              "    </tr>\n",
              "  </thead>\n",
              "  <tbody>\n",
              "    <tr>\n",
              "      <th>0</th>\n",
              "      <td>1</td>\n",
              "      <td>BARINGO</td>\n",
              "      <td>Beans</td>\n",
              "      <td>15669</td>\n",
              "      <td>11034</td>\n",
              "      <td>0.7</td>\n",
              "    </tr>\n",
              "    <tr>\n",
              "      <th>1</th>\n",
              "      <td>2</td>\n",
              "      <td>BOMET</td>\n",
              "      <td>Beans</td>\n",
              "      <td>39002</td>\n",
              "      <td>50140.76</td>\n",
              "      <td>1.3</td>\n",
              "    </tr>\n",
              "    <tr>\n",
              "      <th>2</th>\n",
              "      <td>3</td>\n",
              "      <td>BUNGOMA</td>\n",
              "      <td>Beans</td>\n",
              "      <td>77367</td>\n",
              "      <td>61051.12</td>\n",
              "      <td>0.8</td>\n",
              "    </tr>\n",
              "    <tr>\n",
              "      <th>3</th>\n",
              "      <td>4</td>\n",
              "      <td>BUSIA</td>\n",
              "      <td>Beans</td>\n",
              "      <td>27351</td>\n",
              "      <td>36422</td>\n",
              "      <td>1.3</td>\n",
              "    </tr>\n",
              "    <tr>\n",
              "      <th>4</th>\n",
              "      <td>5</td>\n",
              "      <td>ELGEYO MARAKWET</td>\n",
              "      <td>Beans</td>\n",
              "      <td>14873</td>\n",
              "      <td>16354.62</td>\n",
              "      <td>1.1</td>\n",
              "    </tr>\n",
              "  </tbody>\n",
              "</table>\n",
              "</div>"
            ],
            "text/plain": [
              "   _id           County   CROP Area__HA Production__Tons  Yield__Tons_per_HA\n",
              "0    1          BARINGO  Beans    15669            11034                 0.7\n",
              "1    2            BOMET  Beans    39002         50140.76                 1.3\n",
              "2    3          BUNGOMA  Beans    77367         61051.12                 0.8\n",
              "3    4            BUSIA  Beans    27351            36422                 1.3\n",
              "4    5  ELGEYO MARAKWET  Beans    14873         16354.62                 1.1"
            ]
          },
          "metadata": {},
          "execution_count": 278
        }
      ]
    },
    {
      "cell_type": "code",
      "metadata": {
        "colab": {
          "base_uri": "https://localhost:8080/",
          "height": 266
        },
        "id": "d8B8zj-ID0GM",
        "outputId": "6cf8cfb5-df9c-444c-80b3-83620909b9c4"
      },
      "source": [
        "counties[maxmum]"
      ],
      "execution_count": 279,
      "outputs": [
        {
          "output_type": "execute_result",
          "data": {
            "text/html": [
              "<div>\n",
              "<style scoped>\n",
              "    .dataframe tbody tr th:only-of-type {\n",
              "        vertical-align: middle;\n",
              "    }\n",
              "\n",
              "    .dataframe tbody tr th {\n",
              "        vertical-align: top;\n",
              "    }\n",
              "\n",
              "    .dataframe thead th {\n",
              "        text-align: right;\n",
              "    }\n",
              "</style>\n",
              "<table border=\"1\" class=\"dataframe\">\n",
              "  <thead>\n",
              "    <tr style=\"text-align: right;\">\n",
              "      <th></th>\n",
              "      <th>_id</th>\n",
              "      <th>County</th>\n",
              "      <th>CROP</th>\n",
              "      <th>Area__HA</th>\n",
              "      <th>Production__Tons</th>\n",
              "      <th>Yield__Tons_per_HA</th>\n",
              "    </tr>\n",
              "  </thead>\n",
              "  <tbody>\n",
              "    <tr>\n",
              "      <th>1</th>\n",
              "      <td>2</td>\n",
              "      <td>BOMET</td>\n",
              "      <td>Beans</td>\n",
              "      <td>39002</td>\n",
              "      <td>50140.76</td>\n",
              "      <td>1.3</td>\n",
              "    </tr>\n",
              "    <tr>\n",
              "      <th>3</th>\n",
              "      <td>4</td>\n",
              "      <td>BUSIA</td>\n",
              "      <td>Beans</td>\n",
              "      <td>27351</td>\n",
              "      <td>36422</td>\n",
              "      <td>1.3</td>\n",
              "    </tr>\n",
              "    <tr>\n",
              "      <th>54</th>\n",
              "      <td>55</td>\n",
              "      <td>HOMA BAY</td>\n",
              "      <td>Sorghum</td>\n",
              "      <td>18,925</td>\n",
              "      <td>37440</td>\n",
              "      <td>2.0</td>\n",
              "    </tr>\n",
              "    <tr>\n",
              "      <th>56</th>\n",
              "      <td>57</td>\n",
              "      <td>KAJIADO</td>\n",
              "      <td>Sorghum</td>\n",
              "      <td>46</td>\n",
              "      <td>93</td>\n",
              "      <td>2.0</td>\n",
              "    </tr>\n",
              "    <tr>\n",
              "      <th>98</th>\n",
              "      <td>99</td>\n",
              "      <td>EMBU</td>\n",
              "      <td>Irish Potatoes</td>\n",
              "      <td>332</td>\n",
              "      <td>6980</td>\n",
              "      <td>21.0</td>\n",
              "    </tr>\n",
              "    <tr>\n",
              "      <th>129</th>\n",
              "      <td>130</td>\n",
              "      <td>MERU</td>\n",
              "      <td>Wheat</td>\n",
              "      <td>10180</td>\n",
              "      <td>49475</td>\n",
              "      <td>4.9</td>\n",
              "    </tr>\n",
              "    <tr>\n",
              "      <th>158</th>\n",
              "      <td>159</td>\n",
              "      <td>VIHIGA</td>\n",
              "      <td>Rice</td>\n",
              "      <td>4</td>\n",
              "      <td>18</td>\n",
              "      <td>4.5</td>\n",
              "    </tr>\n",
              "  </tbody>\n",
              "</table>\n",
              "</div>"
            ],
            "text/plain": [
              "     _id    County  ... Production__Tons Yield__Tons_per_HA\n",
              "1      2     BOMET  ...         50140.76                1.3\n",
              "3      4     BUSIA  ...            36422                1.3\n",
              "54    55  HOMA BAY  ...            37440                2.0\n",
              "56    57   KAJIADO  ...               93                2.0\n",
              "98    99      EMBU  ...             6980               21.0\n",
              "129  130      MERU  ...            49475                4.9\n",
              "158  159    VIHIGA  ...               18                4.5\n",
              "\n",
              "[7 rows x 6 columns]"
            ]
          },
          "metadata": {},
          "execution_count": 279
        }
      ]
    }
  ]
}