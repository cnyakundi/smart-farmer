{
 "cells": [
  {
   "cell_type": "markdown",
   "metadata": {
    "id": "9SWWGCtGn2AA"
   },
   "source": [
    "## Importing our libraries"
   ]
  },
  {
   "cell_type": "code",
   "execution_count": null,
   "metadata": {},
   "outputs": [],
   "source": []
  },
  {
   "cell_type": "code",
   "execution_count": null,
   "metadata": {
    "id": "yXywqh4WM-dd"
   },
   "outputs": [],
   "source": []
  },
  {
   "cell_type": "code",
   "execution_count": 1,
   "metadata": {
    "id": "ULUf6M1ul1cx"
   },
   "outputs": [],
   "source": [
    "import pandas as pd\n",
    "import numpy as np\n",
    "import requests"
   ]
  },
  {
   "cell_type": "markdown",
   "metadata": {
    "id": "BR0WOjGrfRe_"
   },
   "source": [
    "### Importing Visualizations \n"
   ]
  },
  {
   "cell_type": "code",
   "execution_count": null,
   "metadata": {},
   "outputs": [],
   "source": []
  },
  {
   "cell_type": "code",
   "execution_count": 2,
   "metadata": {
    "colab": {
     "base_uri": "https://localhost:8080/",
     "height": 17
    },
    "id": "bZx0NdoWfWUo",
    "outputId": "afeec323-f8cd-4024-ce01-fd9434b066a9"
   },
   "outputs": [
    {
     "data": {
      "text/html": [
       "        <script type=\"text/javascript\">\n",
       "        window.PlotlyConfig = {MathJaxConfig: 'local'};\n",
       "        if (window.MathJax) {MathJax.Hub.Config({SVG: {font: \"STIX-Web\"}});}\n",
       "        if (typeof require !== 'undefined') {\n",
       "        require.undef(\"plotly\");\n",
       "        requirejs.config({\n",
       "            paths: {\n",
       "                'plotly': ['https://cdn.plot.ly/plotly-2.3.1.min']\n",
       "            }\n",
       "        });\n",
       "        require(['plotly'], function(Plotly) {\n",
       "            window._Plotly = Plotly;\n",
       "        });\n",
       "        }\n",
       "        </script>\n",
       "        "
      ]
     },
     "metadata": {},
     "output_type": "display_data"
    },
    {
     "data": {
      "text/html": [
       "        <script type=\"text/javascript\">\n",
       "        window.PlotlyConfig = {MathJaxConfig: 'local'};\n",
       "        if (window.MathJax) {MathJax.Hub.Config({SVG: {font: \"STIX-Web\"}});}\n",
       "        if (typeof require !== 'undefined') {\n",
       "        require.undef(\"plotly\");\n",
       "        requirejs.config({\n",
       "            paths: {\n",
       "                'plotly': ['https://cdn.plot.ly/plotly-2.3.1.min']\n",
       "            }\n",
       "        });\n",
       "        require(['plotly'], function(Plotly) {\n",
       "            window._Plotly = Plotly;\n",
       "        });\n",
       "        }\n",
       "        </script>\n",
       "        "
      ]
     },
     "metadata": {},
     "output_type": "display_data"
    }
   ],
   "source": [
    "#For visalizations \n",
    "\n",
    "import cufflinks as cf\n",
    "\n",
    "from plotly.offline import download_plotlyjs, init_notebook_mode, plot, iplot\n",
    "\n",
    "init_notebook_mode(connected=True)\n",
    "\n",
    "cf.go_offline()\n",
    "\n",
    "%matplotlib inline"
   ]
  },
  {
   "cell_type": "markdown",
   "metadata": {
    "id": "GRbL2iRPoElM"
   },
   "source": [
    "## Uploading the data"
   ]
  },
  {
   "cell_type": "code",
   "execution_count": 3,
   "metadata": {
    "colab": {
     "base_uri": "https://localhost:8080/",
     "height": 204
    },
    "id": "LthO7aVIfPu0",
    "outputId": "63b0db5d-3c13-4fae-86c5-97c25c463c3c"
   },
   "outputs": [
    {
     "data": {
      "text/html": [
       "<div>\n",
       "<style scoped>\n",
       "    .dataframe tbody tr th:only-of-type {\n",
       "        vertical-align: middle;\n",
       "    }\n",
       "\n",
       "    .dataframe tbody tr th {\n",
       "        vertical-align: top;\n",
       "    }\n",
       "\n",
       "    .dataframe thead th {\n",
       "        text-align: right;\n",
       "    }\n",
       "</style>\n",
       "<table border=\"1\" class=\"dataframe\">\n",
       "  <thead>\n",
       "    <tr style=\"text-align: right;\">\n",
       "      <th></th>\n",
       "      <th>Produce_Variety</th>\n",
       "      <th>Commodity_Type</th>\n",
       "      <th>Unit</th>\n",
       "      <th>Volume_in_Kgs</th>\n",
       "      <th>Values_in_Ksh</th>\n",
       "      <th>Date</th>\n",
       "      <th>OBJECTID</th>\n",
       "    </tr>\n",
       "  </thead>\n",
       "  <tbody>\n",
       "    <tr>\n",
       "      <th>0</th>\n",
       "      <td>Horticulture</td>\n",
       "      <td>Cabbages</td>\n",
       "      <td>Ext Bag</td>\n",
       "      <td>126</td>\n",
       "      <td>KES2205.00</td>\n",
       "      <td>01/01/2012 12:00:00 AM</td>\n",
       "      <td>0</td>\n",
       "    </tr>\n",
       "    <tr>\n",
       "      <th>1</th>\n",
       "      <td>Horticulture</td>\n",
       "      <td>Cooking Bananas</td>\n",
       "      <td>Med Bunch</td>\n",
       "      <td>22</td>\n",
       "      <td>KES511.00</td>\n",
       "      <td>01/01/2012 12:00:00 AM</td>\n",
       "      <td>1</td>\n",
       "    </tr>\n",
       "    <tr>\n",
       "      <th>2</th>\n",
       "      <td>Horticulture</td>\n",
       "      <td>Ripe Bananas</td>\n",
       "      <td>Med Bunch</td>\n",
       "      <td>14</td>\n",
       "      <td>KES616.00</td>\n",
       "      <td>01/01/2012 12:00:00 AM</td>\n",
       "      <td>2</td>\n",
       "    </tr>\n",
       "    <tr>\n",
       "      <th>3</th>\n",
       "      <td>Horticulture</td>\n",
       "      <td>Carrots</td>\n",
       "      <td>Ext Bag</td>\n",
       "      <td>138</td>\n",
       "      <td>KES2833.00</td>\n",
       "      <td>01/01/2012 12:00:00 AM</td>\n",
       "      <td>3</td>\n",
       "    </tr>\n",
       "    <tr>\n",
       "      <th>4</th>\n",
       "      <td>Horticulture</td>\n",
       "      <td>Tomatoes</td>\n",
       "      <td>Lg Box</td>\n",
       "      <td>64</td>\n",
       "      <td>KES3411.00</td>\n",
       "      <td>01/01/2012 12:00:00 AM</td>\n",
       "      <td>4</td>\n",
       "    </tr>\n",
       "  </tbody>\n",
       "</table>\n",
       "</div>"
      ],
      "text/plain": [
       "  Produce_Variety   Commodity_Type       Unit  Volume_in_Kgs Values_in_Ksh  \\\n",
       "0    Horticulture         Cabbages    Ext Bag            126    KES2205.00   \n",
       "1    Horticulture  Cooking Bananas  Med Bunch             22     KES511.00   \n",
       "2    Horticulture     Ripe Bananas  Med Bunch             14     KES616.00   \n",
       "3    Horticulture          Carrots    Ext Bag            138    KES2833.00   \n",
       "4    Horticulture         Tomatoes     Lg Box             64    KES3411.00   \n",
       "\n",
       "                     Date  OBJECTID  \n",
       "0  01/01/2012 12:00:00 AM         0  \n",
       "1  01/01/2012 12:00:00 AM         1  \n",
       "2  01/01/2012 12:00:00 AM         2  \n",
       "3  01/01/2012 12:00:00 AM         3  \n",
       "4  01/01/2012 12:00:00 AM         4  "
      ]
     },
     "execution_count": 3,
     "metadata": {},
     "output_type": "execute_result"
    }
   ],
   "source": [
    "crops=pd.read_csv(\"crops.csv\")\n",
    "crops.head()"
   ]
  },
  {
   "cell_type": "code",
   "execution_count": 4,
   "metadata": {
    "id": "LFb8kY-TIrX3"
   },
   "outputs": [],
   "source": [
    "#Upload data set 2 for main food crops per counties "
   ]
  },
  {
   "cell_type": "code",
   "execution_count": 5,
   "metadata": {
    "colab": {
     "base_uri": "https://localhost:8080/",
     "height": 204
    },
    "id": "4Poufvm1g4f4",
    "outputId": "328178ee-92d3-4ecd-e295-95b0e3222fe5"
   },
   "outputs": [
    {
     "data": {
      "text/html": [
       "<div>\n",
       "<style scoped>\n",
       "    .dataframe tbody tr th:only-of-type {\n",
       "        vertical-align: middle;\n",
       "    }\n",
       "\n",
       "    .dataframe tbody tr th {\n",
       "        vertical-align: top;\n",
       "    }\n",
       "\n",
       "    .dataframe thead th {\n",
       "        text-align: right;\n",
       "    }\n",
       "</style>\n",
       "<table border=\"1\" class=\"dataframe\">\n",
       "  <thead>\n",
       "    <tr style=\"text-align: right;\">\n",
       "      <th></th>\n",
       "      <th>_id</th>\n",
       "      <th>County</th>\n",
       "      <th>CROP</th>\n",
       "      <th>Area  (HA)</th>\n",
       "      <th>Production  (Tons)</th>\n",
       "      <th>Yield ( Tons/HA)</th>\n",
       "    </tr>\n",
       "  </thead>\n",
       "  <tbody>\n",
       "    <tr>\n",
       "      <th>0</th>\n",
       "      <td>1</td>\n",
       "      <td>BARINGO</td>\n",
       "      <td>Beans</td>\n",
       "      <td>15669</td>\n",
       "      <td>11034</td>\n",
       "      <td>0.7</td>\n",
       "    </tr>\n",
       "    <tr>\n",
       "      <th>1</th>\n",
       "      <td>2</td>\n",
       "      <td>BOMET</td>\n",
       "      <td>Beans</td>\n",
       "      <td>39002</td>\n",
       "      <td>50140.76</td>\n",
       "      <td>1.3</td>\n",
       "    </tr>\n",
       "    <tr>\n",
       "      <th>2</th>\n",
       "      <td>3</td>\n",
       "      <td>BUNGOMA</td>\n",
       "      <td>Beans</td>\n",
       "      <td>77367</td>\n",
       "      <td>61051.12</td>\n",
       "      <td>0.8</td>\n",
       "    </tr>\n",
       "    <tr>\n",
       "      <th>3</th>\n",
       "      <td>4</td>\n",
       "      <td>BUSIA</td>\n",
       "      <td>Beans</td>\n",
       "      <td>27351</td>\n",
       "      <td>36422</td>\n",
       "      <td>1.3</td>\n",
       "    </tr>\n",
       "    <tr>\n",
       "      <th>4</th>\n",
       "      <td>5</td>\n",
       "      <td>ELGEYO MARAKWET</td>\n",
       "      <td>Beans</td>\n",
       "      <td>14873</td>\n",
       "      <td>16354.62</td>\n",
       "      <td>1.1</td>\n",
       "    </tr>\n",
       "  </tbody>\n",
       "</table>\n",
       "</div>"
      ],
      "text/plain": [
       "   _id           County   CROP Area  (HA) Production  (Tons)  Yield ( Tons/HA)\n",
       "0    1          BARINGO  Beans      15669              11034               0.7\n",
       "1    2            BOMET  Beans      39002           50140.76               1.3\n",
       "2    3          BUNGOMA  Beans      77367           61051.12               0.8\n",
       "3    4            BUSIA  Beans      27351              36422               1.3\n",
       "4    5  ELGEYO MARAKWET  Beans      14873           16354.62               1.1"
      ]
     },
     "execution_count": 5,
     "metadata": {},
     "output_type": "execute_result"
    }
   ],
   "source": [
    "counties = pd.read_csv('counties.csv')\n",
    "counties.head()"
   ]
  },
  {
   "cell_type": "code",
   "execution_count": 6,
   "metadata": {
    "colab": {
     "base_uri": "https://localhost:8080/",
     "height": 275
    },
    "id": "YH9jwfPxH5Na",
    "outputId": "2dfd01fd-66ee-430b-dfd3-832d61667a97"
   },
   "outputs": [
    {
     "data": {
      "text/html": [
       "<div>\n",
       "<style scoped>\n",
       "    .dataframe tbody tr th:only-of-type {\n",
       "        vertical-align: middle;\n",
       "    }\n",
       "\n",
       "    .dataframe tbody tr th {\n",
       "        vertical-align: top;\n",
       "    }\n",
       "\n",
       "    .dataframe thead th {\n",
       "        text-align: right;\n",
       "    }\n",
       "</style>\n",
       "<table border=\"1\" class=\"dataframe\">\n",
       "  <thead>\n",
       "    <tr style=\"text-align: right;\">\n",
       "      <th></th>\n",
       "      <th>COMMODITY</th>\n",
       "      <th>Unit</th>\n",
       "      <th>Kg</th>\n",
       "      <th>Nairobi</th>\n",
       "      <th>Mombasa</th>\n",
       "      <th>Kisumu</th>\n",
       "      <th>Nakuru</th>\n",
       "      <th>Eldoret</th>\n",
       "      <th>Malindi</th>\n",
       "      <th>Kitale</th>\n",
       "      <th>Kisii</th>\n",
       "      <th>Kitui</th>\n",
       "      <th>Busia</th>\n",
       "      <th>Loitoktok</th>\n",
       "      <th>Garissa</th>\n",
       "      <th>Karatina</th>\n",
       "      <th>Embu</th>\n",
       "      <th>Average</th>\n",
       "      <th>Maximum.</th>\n",
       "    </tr>\n",
       "  </thead>\n",
       "  <tbody>\n",
       "    <tr>\n",
       "      <th>0</th>\n",
       "      <td>Dry Maize</td>\n",
       "      <td>Bag</td>\n",
       "      <td>90.0</td>\n",
       "      <td>2995.000000</td>\n",
       "      <td>3100.000000</td>\n",
       "      <td>3200.000000</td>\n",
       "      <td>2380.000000</td>\n",
       "      <td>2600.0</td>\n",
       "      <td>3240.0</td>\n",
       "      <td>2261.111111</td>\n",
       "      <td>3200.0</td>\n",
       "      <td>3400.0</td>\n",
       "      <td>2373.75</td>\n",
       "      <td>3200.0</td>\n",
       "      <td>3600.0</td>\n",
       "      <td>2800.0</td>\n",
       "      <td>3000.0</td>\n",
       "      <td>2953.561508</td>\n",
       "      <td>3600.0</td>\n",
       "    </tr>\n",
       "    <tr>\n",
       "      <th>1</th>\n",
       "      <td>Green Maize</td>\n",
       "      <td>Ext Bag</td>\n",
       "      <td>115.0</td>\n",
       "      <td>3199.583333</td>\n",
       "      <td>5155.416667</td>\n",
       "      <td>1990.000000</td>\n",
       "      <td>1941.666667</td>\n",
       "      <td>1725.0</td>\n",
       "      <td>3000.0</td>\n",
       "      <td>1200.000000</td>\n",
       "      <td>3500.0</td>\n",
       "      <td>2000.0</td>\n",
       "      <td>1500.00</td>\n",
       "      <td>3250.0</td>\n",
       "      <td>6100.0</td>\n",
       "      <td>1000.0</td>\n",
       "      <td>2000.0</td>\n",
       "      <td>2682.976190</td>\n",
       "      <td>6100.0</td>\n",
       "    </tr>\n",
       "    <tr>\n",
       "      <th>2</th>\n",
       "      <td>Finger Millet</td>\n",
       "      <td>Bag</td>\n",
       "      <td>90.0</td>\n",
       "      <td>5530.000000</td>\n",
       "      <td>6525.000000</td>\n",
       "      <td>7200.000000</td>\n",
       "      <td>5311.250000</td>\n",
       "      <td>7200.0</td>\n",
       "      <td>5602.5</td>\n",
       "      <td>4500.000000</td>\n",
       "      <td>7300.0</td>\n",
       "      <td>7800.0</td>\n",
       "      <td>4725.00</td>\n",
       "      <td>NaN</td>\n",
       "      <td>7200.0</td>\n",
       "      <td>6000.0</td>\n",
       "      <td>5200.0</td>\n",
       "      <td>6161.057692</td>\n",
       "      <td>7800.0</td>\n",
       "    </tr>\n",
       "    <tr>\n",
       "      <th>3</th>\n",
       "      <td>Sorghum</td>\n",
       "      <td>Bag</td>\n",
       "      <td>90.0</td>\n",
       "      <td>3470.000000</td>\n",
       "      <td>3366.666667</td>\n",
       "      <td>3416.666667</td>\n",
       "      <td>3100.000000</td>\n",
       "      <td>3200.0</td>\n",
       "      <td>4357.5</td>\n",
       "      <td>1830.000000</td>\n",
       "      <td>NaN</td>\n",
       "      <td>4500.0</td>\n",
       "      <td>2475.00</td>\n",
       "      <td>NaN</td>\n",
       "      <td>6500.0</td>\n",
       "      <td>3000.0</td>\n",
       "      <td>4800.0</td>\n",
       "      <td>3667.986111</td>\n",
       "      <td>6500.0</td>\n",
       "    </tr>\n",
       "    <tr>\n",
       "      <th>4</th>\n",
       "      <td>Wheat</td>\n",
       "      <td>Bag</td>\n",
       "      <td>90.0</td>\n",
       "      <td>NaN</td>\n",
       "      <td>NaN</td>\n",
       "      <td>NaN</td>\n",
       "      <td>3515.000000</td>\n",
       "      <td>2800.0</td>\n",
       "      <td>4500.0</td>\n",
       "      <td>NaN</td>\n",
       "      <td>NaN</td>\n",
       "      <td>NaN</td>\n",
       "      <td>NaN</td>\n",
       "      <td>NaN</td>\n",
       "      <td>5500.0</td>\n",
       "      <td>3500.0</td>\n",
       "      <td>4000.0</td>\n",
       "      <td>3969.166667</td>\n",
       "      <td>5500.0</td>\n",
       "    </tr>\n",
       "  </tbody>\n",
       "</table>\n",
       "</div>"
      ],
      "text/plain": [
       "       COMMODITY     Unit     Kg      Nairobi      Mombasa       Kisumu  \\\n",
       "0      Dry Maize      Bag   90.0  2995.000000  3100.000000  3200.000000   \n",
       "1    Green Maize  Ext Bag  115.0  3199.583333  5155.416667  1990.000000   \n",
       "2  Finger Millet      Bag   90.0  5530.000000  6525.000000  7200.000000   \n",
       "3        Sorghum      Bag   90.0  3470.000000  3366.666667  3416.666667   \n",
       "4          Wheat      Bag   90.0          NaN          NaN          NaN   \n",
       "\n",
       "        Nakuru  Eldoret  Malindi       Kitale   Kisii   Kitui    Busia  \\\n",
       "0  2380.000000   2600.0   3240.0  2261.111111  3200.0  3400.0  2373.75   \n",
       "1  1941.666667   1725.0   3000.0  1200.000000  3500.0  2000.0  1500.00   \n",
       "2  5311.250000   7200.0   5602.5  4500.000000  7300.0  7800.0  4725.00   \n",
       "3  3100.000000   3200.0   4357.5  1830.000000     NaN  4500.0  2475.00   \n",
       "4  3515.000000   2800.0   4500.0          NaN     NaN     NaN      NaN   \n",
       "\n",
       "   Loitoktok  Garissa  Karatina    Embu      Average  Maximum.  \n",
       "0     3200.0   3600.0    2800.0  3000.0  2953.561508    3600.0  \n",
       "1     3250.0   6100.0    1000.0  2000.0  2682.976190    6100.0  \n",
       "2        NaN   7200.0    6000.0  5200.0  6161.057692    7800.0  \n",
       "3        NaN   6500.0    3000.0  4800.0  3667.986111    6500.0  \n",
       "4        NaN   5500.0    3500.0  4000.0  3969.166667    5500.0  "
      ]
     },
     "execution_count": 6,
     "metadata": {},
     "output_type": "execute_result"
    }
   ],
   "source": [
    "# prices dataset\n",
    "prices = pd.read_excel('prices.xlsx')\n",
    "prices.drop(columns =['Unnamed: 0','Minimum.' ], inplace = True )\n",
    "prices.head()"
   ]
  },
  {
   "cell_type": "code",
   "execution_count": 7,
   "metadata": {
    "colab": {
     "base_uri": "https://localhost:8080/",
     "height": 204
    },
    "id": "J-k0_Q8Vk7sM",
    "outputId": "71349859-a399-4a9f-a522-1b3eb7501c3e"
   },
   "outputs": [
    {
     "data": {
      "text/html": [
       "<div>\n",
       "<style scoped>\n",
       "    .dataframe tbody tr th:only-of-type {\n",
       "        vertical-align: middle;\n",
       "    }\n",
       "\n",
       "    .dataframe tbody tr th {\n",
       "        vertical-align: top;\n",
       "    }\n",
       "\n",
       "    .dataframe thead th {\n",
       "        text-align: right;\n",
       "    }\n",
       "</style>\n",
       "<table border=\"1\" class=\"dataframe\">\n",
       "  <thead>\n",
       "    <tr style=\"text-align: right;\">\n",
       "      <th></th>\n",
       "      <th>Produce_Variety</th>\n",
       "      <th>Commodity_Type</th>\n",
       "      <th>Unit</th>\n",
       "      <th>Volume_in_Kgs</th>\n",
       "      <th>Values_in_Ksh</th>\n",
       "      <th>Date</th>\n",
       "      <th>OBJECTID</th>\n",
       "    </tr>\n",
       "  </thead>\n",
       "  <tbody>\n",
       "    <tr>\n",
       "      <th>0</th>\n",
       "      <td>Horticulture</td>\n",
       "      <td>Cabbages</td>\n",
       "      <td>Ext Bag</td>\n",
       "      <td>126</td>\n",
       "      <td>KES2205.00</td>\n",
       "      <td>01/01/2012 12:00:00 AM</td>\n",
       "      <td>0</td>\n",
       "    </tr>\n",
       "    <tr>\n",
       "      <th>1</th>\n",
       "      <td>Horticulture</td>\n",
       "      <td>Cooking Bananas</td>\n",
       "      <td>Med Bunch</td>\n",
       "      <td>22</td>\n",
       "      <td>KES511.00</td>\n",
       "      <td>01/01/2012 12:00:00 AM</td>\n",
       "      <td>1</td>\n",
       "    </tr>\n",
       "    <tr>\n",
       "      <th>2</th>\n",
       "      <td>Horticulture</td>\n",
       "      <td>Ripe Bananas</td>\n",
       "      <td>Med Bunch</td>\n",
       "      <td>14</td>\n",
       "      <td>KES616.00</td>\n",
       "      <td>01/01/2012 12:00:00 AM</td>\n",
       "      <td>2</td>\n",
       "    </tr>\n",
       "    <tr>\n",
       "      <th>3</th>\n",
       "      <td>Horticulture</td>\n",
       "      <td>Carrots</td>\n",
       "      <td>Ext Bag</td>\n",
       "      <td>138</td>\n",
       "      <td>KES2833.00</td>\n",
       "      <td>01/01/2012 12:00:00 AM</td>\n",
       "      <td>3</td>\n",
       "    </tr>\n",
       "    <tr>\n",
       "      <th>4</th>\n",
       "      <td>Horticulture</td>\n",
       "      <td>Tomatoes</td>\n",
       "      <td>Lg Box</td>\n",
       "      <td>64</td>\n",
       "      <td>KES3411.00</td>\n",
       "      <td>01/01/2012 12:00:00 AM</td>\n",
       "      <td>4</td>\n",
       "    </tr>\n",
       "  </tbody>\n",
       "</table>\n",
       "</div>"
      ],
      "text/plain": [
       "  Produce_Variety   Commodity_Type       Unit  Volume_in_Kgs Values_in_Ksh  \\\n",
       "0    Horticulture         Cabbages    Ext Bag            126    KES2205.00   \n",
       "1    Horticulture  Cooking Bananas  Med Bunch             22     KES511.00   \n",
       "2    Horticulture     Ripe Bananas  Med Bunch             14     KES616.00   \n",
       "3    Horticulture          Carrots    Ext Bag            138    KES2833.00   \n",
       "4    Horticulture         Tomatoes     Lg Box             64    KES3411.00   \n",
       "\n",
       "                     Date  OBJECTID  \n",
       "0  01/01/2012 12:00:00 AM         0  \n",
       "1  01/01/2012 12:00:00 AM         1  \n",
       "2  01/01/2012 12:00:00 AM         2  \n",
       "3  01/01/2012 12:00:00 AM         3  \n",
       "4  01/01/2012 12:00:00 AM         4  "
      ]
     },
     "execution_count": 7,
     "metadata": {},
     "output_type": "execute_result"
    }
   ],
   "source": [
    "crops.head(5)"
   ]
  },
  {
   "cell_type": "markdown",
   "metadata": {
    "id": "yqCCii63oq9d"
   },
   "source": [
    "## Getting information on our dataset"
   ]
  },
  {
   "cell_type": "code",
   "execution_count": 8,
   "metadata": {
    "colab": {
     "base_uri": "https://localhost:8080/"
    },
    "id": "tomHzIW8njGt",
    "outputId": "a740ee00-73d2-4917-ebb1-09a655f901c1"
   },
   "outputs": [
    {
     "name": "stdout",
     "output_type": "stream",
     "text": [
      "<class 'pandas.core.frame.DataFrame'>\n",
      "RangeIndex: 1145 entries, 0 to 1144\n",
      "Data columns (total 7 columns):\n",
      " #   Column           Non-Null Count  Dtype \n",
      "---  ------           --------------  ----- \n",
      " 0   Produce_Variety  1145 non-null   object\n",
      " 1   Commodity_Type   1145 non-null   object\n",
      " 2   Unit             1145 non-null   object\n",
      " 3   Volume_in_Kgs    1145 non-null   int64 \n",
      " 4   Values_in_Ksh    1143 non-null   object\n",
      " 5   Date             1145 non-null   object\n",
      " 6   OBJECTID         1145 non-null   int64 \n",
      "dtypes: int64(2), object(5)\n",
      "memory usage: 62.7+ KB\n"
     ]
    }
   ],
   "source": [
    "crops.info()"
   ]
  },
  {
   "cell_type": "markdown",
   "metadata": {
    "id": "LLteXuqWfguF"
   },
   "source": [
    "## Functions"
   ]
  },
  {
   "cell_type": "code",
   "execution_count": 9,
   "metadata": {
    "id": "MhF9kuM4flfu"
   },
   "outputs": [],
   "source": [
    "#We will define all our functions here to use\n",
    "#def means(values):\n",
    "#  the_mean = sum(values)/len(values)\n",
    "#  return the_mean\n",
    "\n",
    "#Function to take in columns with spaces bewteen and retutn striped\n",
    "#def strip(val):\n",
    " # striped = val.str.strip()\n",
    " # return striped\n",
    "\n",
    "#checking for null\n",
    "\n",
    "#def nuls(val):\n",
    "#  no_null = val.isnull().sum()\n",
    "#  return no_null\n",
    "\n",
    "# Check for duplicates \n",
    "#def duplicates(val):\n",
    "#  no_duplicate=val.duplicated().sum()\n",
    "#  return no_duplicate"
   ]
  },
  {
   "cell_type": "markdown",
   "metadata": {
    "id": "ZMKeivhEoyRA"
   },
   "source": [
    "## Data cleaning"
   ]
  },
  {
   "cell_type": "markdown",
   "metadata": {
    "id": "fXgSKY9hFRRL"
   },
   "source": [
    "### Validity "
   ]
  },
  {
   "cell_type": "code",
   "execution_count": null,
   "metadata": {
    "id": "pAceKYcsw22j"
   },
   "outputs": [],
   "source": []
  },
  {
   "cell_type": "code",
   "execution_count": 10,
   "metadata": {
    "colab": {
     "base_uri": "https://localhost:8080/",
     "height": 204
    },
    "id": "FIIN0_VVw2tq",
    "outputId": "8226566b-743d-4239-ade4-511028d96d74"
   },
   "outputs": [
    {
     "data": {
      "text/html": [
       "<div>\n",
       "<style scoped>\n",
       "    .dataframe tbody tr th:only-of-type {\n",
       "        vertical-align: middle;\n",
       "    }\n",
       "\n",
       "    .dataframe tbody tr th {\n",
       "        vertical-align: top;\n",
       "    }\n",
       "\n",
       "    .dataframe thead th {\n",
       "        text-align: right;\n",
       "    }\n",
       "</style>\n",
       "<table border=\"1\" class=\"dataframe\">\n",
       "  <thead>\n",
       "    <tr style=\"text-align: right;\">\n",
       "      <th></th>\n",
       "      <th>_id</th>\n",
       "      <th>County</th>\n",
       "      <th>CROP</th>\n",
       "      <th>Area  (HA)</th>\n",
       "      <th>Production  (Tons)</th>\n",
       "      <th>Yield ( Tons/HA)</th>\n",
       "    </tr>\n",
       "  </thead>\n",
       "  <tbody>\n",
       "    <tr>\n",
       "      <th>0</th>\n",
       "      <td>1</td>\n",
       "      <td>BARINGO</td>\n",
       "      <td>Beans</td>\n",
       "      <td>15669</td>\n",
       "      <td>11034</td>\n",
       "      <td>0.7</td>\n",
       "    </tr>\n",
       "    <tr>\n",
       "      <th>1</th>\n",
       "      <td>2</td>\n",
       "      <td>BOMET</td>\n",
       "      <td>Beans</td>\n",
       "      <td>39002</td>\n",
       "      <td>50140.76</td>\n",
       "      <td>1.3</td>\n",
       "    </tr>\n",
       "    <tr>\n",
       "      <th>2</th>\n",
       "      <td>3</td>\n",
       "      <td>BUNGOMA</td>\n",
       "      <td>Beans</td>\n",
       "      <td>77367</td>\n",
       "      <td>61051.12</td>\n",
       "      <td>0.8</td>\n",
       "    </tr>\n",
       "    <tr>\n",
       "      <th>3</th>\n",
       "      <td>4</td>\n",
       "      <td>BUSIA</td>\n",
       "      <td>Beans</td>\n",
       "      <td>27351</td>\n",
       "      <td>36422</td>\n",
       "      <td>1.3</td>\n",
       "    </tr>\n",
       "    <tr>\n",
       "      <th>4</th>\n",
       "      <td>5</td>\n",
       "      <td>ELGEYO MARAKWET</td>\n",
       "      <td>Beans</td>\n",
       "      <td>14873</td>\n",
       "      <td>16354.62</td>\n",
       "      <td>1.1</td>\n",
       "    </tr>\n",
       "  </tbody>\n",
       "</table>\n",
       "</div>"
      ],
      "text/plain": [
       "   _id           County   CROP Area  (HA) Production  (Tons)  Yield ( Tons/HA)\n",
       "0    1          BARINGO  Beans      15669              11034               0.7\n",
       "1    2            BOMET  Beans      39002           50140.76               1.3\n",
       "2    3          BUNGOMA  Beans      77367           61051.12               0.8\n",
       "3    4            BUSIA  Beans      27351              36422               1.3\n",
       "4    5  ELGEYO MARAKWET  Beans      14873           16354.62               1.1"
      ]
     },
     "execution_count": 10,
     "metadata": {},
     "output_type": "execute_result"
    }
   ],
   "source": [
    "counties.head()"
   ]
  },
  {
   "cell_type": "code",
   "execution_count": 11,
   "metadata": {
    "id": "O_oceJiYGwPr"
   },
   "outputs": [],
   "source": [
    "# Ronald\n",
    "#Drop illerevant columns, remove spaces at the beginign and end of  the columns\n",
    "\n",
    "#Strip spaces within\n",
    "strip((crops.Produce_Variety))\n",
    "strip((crops.Commodity_Type))\n",
    "#strip counties dataset\n",
    "strip((counties.County))\n",
    "strip((counties.CROP))\n",
    "#Replace KES with empty \n",
    "\n",
    "crops['Values_in_Ksh'] = crops['Values_in_Ksh'].str.replace(\"KES\",\"\")\n",
    "\n",
    "#Dataset 2 \n",
    "counties['County']= counties['County'].str.strip()\n"
   ]
  },
  {
   "cell_type": "markdown",
   "metadata": {
    "id": "Q2nqhf44Gapq"
   },
   "source": [
    "### Accuracy "
   ]
  },
  {
   "cell_type": "code",
   "execution_count": 12,
   "metadata": {
    "id": "RPfpR99EGxcw"
   },
   "outputs": [],
   "source": [
    "#checking if related columns match"
   ]
  },
  {
   "cell_type": "markdown",
   "metadata": {
    "id": "OrQpkEFKF5_n"
   },
   "source": [
    "### Completeness "
   ]
  },
  {
   "cell_type": "code",
   "execution_count": 13,
   "metadata": {
    "id": "HlD833SXGyo7"
   },
   "outputs": [],
   "source": [
    "# check for null values and either drop or fill\n",
    "#fill null values in prices since we assume that all null means its not sold there \n",
    "prices.fillna(0, inplace=True)"
   ]
  },
  {
   "cell_type": "code",
   "execution_count": 14,
   "metadata": {},
   "outputs": [
    {
     "data": {
      "text/html": [
       "<div>\n",
       "<style scoped>\n",
       "    .dataframe tbody tr th:only-of-type {\n",
       "        vertical-align: middle;\n",
       "    }\n",
       "\n",
       "    .dataframe tbody tr th {\n",
       "        vertical-align: top;\n",
       "    }\n",
       "\n",
       "    .dataframe thead th {\n",
       "        text-align: right;\n",
       "    }\n",
       "</style>\n",
       "<table border=\"1\" class=\"dataframe\">\n",
       "  <thead>\n",
       "    <tr style=\"text-align: right;\">\n",
       "      <th></th>\n",
       "      <th>COMMODITY</th>\n",
       "      <th>Unit</th>\n",
       "      <th>Kg</th>\n",
       "      <th>Nairobi</th>\n",
       "      <th>Mombasa</th>\n",
       "      <th>Kisumu</th>\n",
       "      <th>Nakuru</th>\n",
       "      <th>Eldoret</th>\n",
       "      <th>Malindi</th>\n",
       "      <th>Kitale</th>\n",
       "      <th>Kisii</th>\n",
       "      <th>Kitui</th>\n",
       "      <th>Busia</th>\n",
       "      <th>Loitoktok</th>\n",
       "      <th>Garissa</th>\n",
       "      <th>Karatina</th>\n",
       "      <th>Embu</th>\n",
       "      <th>Average</th>\n",
       "      <th>Maximum.</th>\n",
       "    </tr>\n",
       "  </thead>\n",
       "  <tbody>\n",
       "    <tr>\n",
       "      <th>0</th>\n",
       "      <td>Dry Maize</td>\n",
       "      <td>Bag</td>\n",
       "      <td>90.0</td>\n",
       "      <td>2995.000000</td>\n",
       "      <td>3100.000000</td>\n",
       "      <td>3200.000000</td>\n",
       "      <td>2380.000000</td>\n",
       "      <td>2600.0</td>\n",
       "      <td>3240.0</td>\n",
       "      <td>2261.111111</td>\n",
       "      <td>3200.0</td>\n",
       "      <td>3400.0</td>\n",
       "      <td>2373.75</td>\n",
       "      <td>3200.0</td>\n",
       "      <td>3600.0</td>\n",
       "      <td>2800.0</td>\n",
       "      <td>3000.0</td>\n",
       "      <td>2953.561508</td>\n",
       "      <td>3600.0</td>\n",
       "    </tr>\n",
       "    <tr>\n",
       "      <th>1</th>\n",
       "      <td>Green Maize</td>\n",
       "      <td>Ext Bag</td>\n",
       "      <td>115.0</td>\n",
       "      <td>3199.583333</td>\n",
       "      <td>5155.416667</td>\n",
       "      <td>1990.000000</td>\n",
       "      <td>1941.666667</td>\n",
       "      <td>1725.0</td>\n",
       "      <td>3000.0</td>\n",
       "      <td>1200.000000</td>\n",
       "      <td>3500.0</td>\n",
       "      <td>2000.0</td>\n",
       "      <td>1500.00</td>\n",
       "      <td>3250.0</td>\n",
       "      <td>6100.0</td>\n",
       "      <td>1000.0</td>\n",
       "      <td>2000.0</td>\n",
       "      <td>2682.976190</td>\n",
       "      <td>6100.0</td>\n",
       "    </tr>\n",
       "    <tr>\n",
       "      <th>2</th>\n",
       "      <td>Finger Millet</td>\n",
       "      <td>Bag</td>\n",
       "      <td>90.0</td>\n",
       "      <td>5530.000000</td>\n",
       "      <td>6525.000000</td>\n",
       "      <td>7200.000000</td>\n",
       "      <td>5311.250000</td>\n",
       "      <td>7200.0</td>\n",
       "      <td>5602.5</td>\n",
       "      <td>4500.000000</td>\n",
       "      <td>7300.0</td>\n",
       "      <td>7800.0</td>\n",
       "      <td>4725.00</td>\n",
       "      <td>0.0</td>\n",
       "      <td>7200.0</td>\n",
       "      <td>6000.0</td>\n",
       "      <td>5200.0</td>\n",
       "      <td>6161.057692</td>\n",
       "      <td>7800.0</td>\n",
       "    </tr>\n",
       "    <tr>\n",
       "      <th>3</th>\n",
       "      <td>Sorghum</td>\n",
       "      <td>Bag</td>\n",
       "      <td>90.0</td>\n",
       "      <td>3470.000000</td>\n",
       "      <td>3366.666667</td>\n",
       "      <td>3416.666667</td>\n",
       "      <td>3100.000000</td>\n",
       "      <td>3200.0</td>\n",
       "      <td>4357.5</td>\n",
       "      <td>1830.000000</td>\n",
       "      <td>0.0</td>\n",
       "      <td>4500.0</td>\n",
       "      <td>2475.00</td>\n",
       "      <td>0.0</td>\n",
       "      <td>6500.0</td>\n",
       "      <td>3000.0</td>\n",
       "      <td>4800.0</td>\n",
       "      <td>3667.986111</td>\n",
       "      <td>6500.0</td>\n",
       "    </tr>\n",
       "    <tr>\n",
       "      <th>4</th>\n",
       "      <td>Wheat</td>\n",
       "      <td>Bag</td>\n",
       "      <td>90.0</td>\n",
       "      <td>0.000000</td>\n",
       "      <td>0.000000</td>\n",
       "      <td>0.000000</td>\n",
       "      <td>3515.000000</td>\n",
       "      <td>2800.0</td>\n",
       "      <td>4500.0</td>\n",
       "      <td>0.000000</td>\n",
       "      <td>0.0</td>\n",
       "      <td>0.0</td>\n",
       "      <td>0.00</td>\n",
       "      <td>0.0</td>\n",
       "      <td>5500.0</td>\n",
       "      <td>3500.0</td>\n",
       "      <td>4000.0</td>\n",
       "      <td>3969.166667</td>\n",
       "      <td>5500.0</td>\n",
       "    </tr>\n",
       "  </tbody>\n",
       "</table>\n",
       "</div>"
      ],
      "text/plain": [
       "       COMMODITY     Unit     Kg      Nairobi      Mombasa       Kisumu  \\\n",
       "0      Dry Maize      Bag   90.0  2995.000000  3100.000000  3200.000000   \n",
       "1    Green Maize  Ext Bag  115.0  3199.583333  5155.416667  1990.000000   \n",
       "2  Finger Millet      Bag   90.0  5530.000000  6525.000000  7200.000000   \n",
       "3        Sorghum      Bag   90.0  3470.000000  3366.666667  3416.666667   \n",
       "4          Wheat      Bag   90.0     0.000000     0.000000     0.000000   \n",
       "\n",
       "        Nakuru  Eldoret  Malindi       Kitale   Kisii   Kitui    Busia  \\\n",
       "0  2380.000000   2600.0   3240.0  2261.111111  3200.0  3400.0  2373.75   \n",
       "1  1941.666667   1725.0   3000.0  1200.000000  3500.0  2000.0  1500.00   \n",
       "2  5311.250000   7200.0   5602.5  4500.000000  7300.0  7800.0  4725.00   \n",
       "3  3100.000000   3200.0   4357.5  1830.000000     0.0  4500.0  2475.00   \n",
       "4  3515.000000   2800.0   4500.0     0.000000     0.0     0.0     0.00   \n",
       "\n",
       "   Loitoktok  Garissa  Karatina    Embu      Average  Maximum.  \n",
       "0     3200.0   3600.0    2800.0  3000.0  2953.561508    3600.0  \n",
       "1     3250.0   6100.0    1000.0  2000.0  2682.976190    6100.0  \n",
       "2        0.0   7200.0    6000.0  5200.0  6161.057692    7800.0  \n",
       "3        0.0   6500.0    3000.0  4800.0  3667.986111    6500.0  \n",
       "4        0.0   5500.0    3500.0  4000.0  3969.166667    5500.0  "
      ]
     },
     "execution_count": 14,
     "metadata": {},
     "output_type": "execute_result"
    }
   ],
   "source": [
    "prices.head()"
   ]
  },
  {
   "cell_type": "markdown",
   "metadata": {
    "id": "b-raTyU2o63d"
   },
   "source": [
    "#### checking for null values"
   ]
  },
  {
   "cell_type": "code",
   "execution_count": 15,
   "metadata": {
    "colab": {
     "base_uri": "https://localhost:8080/"
    },
    "id": "gEoFbuaBo1kZ",
    "outputId": "dc0744e0-9a72-4e7a-993d-9b56b8dcb81e"
   },
   "outputs": [
    {
     "data": {
      "text/plain": [
       "Produce_Variety    0\n",
       "Commodity_Type     0\n",
       "Unit               0\n",
       "Volume_in_Kgs      0\n",
       "Values_in_Ksh      2\n",
       "Date               0\n",
       "OBJECTID           0\n",
       "dtype: int64"
      ]
     },
     "execution_count": 15,
     "metadata": {},
     "output_type": "execute_result"
    }
   ],
   "source": [
    "#checking nulls on crops dataset\n",
    "#crops.isnull().sum()\n",
    "nuls(crops)"
   ]
  },
  {
   "cell_type": "code",
   "execution_count": 16,
   "metadata": {},
   "outputs": [
    {
     "data": {
      "text/plain": [
       "COMMODITY    0\n",
       "Unit         0\n",
       "Kg           0\n",
       "Nairobi      0\n",
       "Mombasa      0\n",
       "Kisumu       0\n",
       "Nakuru       0\n",
       "Eldoret      0\n",
       "Malindi      0\n",
       "Kitale       0\n",
       "Kisii        0\n",
       "Kitui        0\n",
       "Busia        0\n",
       "Loitoktok    0\n",
       "Garissa      0\n",
       "Karatina     0\n",
       "Embu         0\n",
       "Average      0\n",
       "Maximum.     0\n",
       "dtype: int64"
      ]
     },
     "execution_count": 16,
     "metadata": {},
     "output_type": "execute_result"
    }
   ],
   "source": [
    "#chuck nuls in prices \n",
    "nuls(prices)"
   ]
  },
  {
   "cell_type": "code",
   "execution_count": 17,
   "metadata": {
    "colab": {
     "base_uri": "https://localhost:8080/"
    },
    "id": "5PJUQ4Q8yKN3",
    "outputId": "90378da6-fb56-4d1f-f45f-cefb7e81bb4a"
   },
   "outputs": [
    {
     "name": "stdout",
     "output_type": "stream",
     "text": [
      "<class 'pandas.core.frame.DataFrame'>\n",
      "RangeIndex: 42 entries, 0 to 41\n",
      "Data columns (total 19 columns):\n",
      " #   Column     Non-Null Count  Dtype  \n",
      "---  ------     --------------  -----  \n",
      " 0   COMMODITY  42 non-null     object \n",
      " 1   Unit       42 non-null     object \n",
      " 2   Kg         42 non-null     float64\n",
      " 3   Nairobi    42 non-null     float64\n",
      " 4   Mombasa    42 non-null     float64\n",
      " 5   Kisumu     42 non-null     float64\n",
      " 6   Nakuru     42 non-null     float64\n",
      " 7   Eldoret    42 non-null     float64\n",
      " 8   Malindi    42 non-null     float64\n",
      " 9   Kitale     42 non-null     float64\n",
      " 10  Kisii      42 non-null     float64\n",
      " 11  Kitui      42 non-null     float64\n",
      " 12  Busia      42 non-null     float64\n",
      " 13  Loitoktok  42 non-null     float64\n",
      " 14  Garissa    42 non-null     float64\n",
      " 15  Karatina   42 non-null     float64\n",
      " 16  Embu       42 non-null     float64\n",
      " 17  Average    42 non-null     float64\n",
      " 18  Maximum.   42 non-null     float64\n",
      "dtypes: float64(17), object(2)\n",
      "memory usage: 6.4+ KB\n"
     ]
    }
   ],
   "source": [
    "#checking nulls on counties dataset\n",
    "prices.info()"
   ]
  },
  {
   "cell_type": "markdown",
   "metadata": {
    "id": "klZRAxYWGGBO"
   },
   "source": [
    "###Consistency "
   ]
  },
  {
   "cell_type": "code",
   "execution_count": 18,
   "metadata": {
    "colab": {
     "base_uri": "https://localhost:8080/"
    },
    "id": "L3bTep87G0Qb",
    "outputId": "9f94572d-9c7d-44cc-e07d-1da2fa503989"
   },
   "outputs": [
    {
     "data": {
      "text/plain": [
       "0"
      ]
     },
     "execution_count": 18,
     "metadata": {},
     "output_type": "execute_result"
    }
   ],
   "source": [
    "#dealing with duplicates \n",
    "#checking for duplicates in crops\n",
    "duplicates(crops)\n",
    "\n",
    "\n",
    "#No duplicates in the two datasets \n"
   ]
  },
  {
   "cell_type": "code",
   "execution_count": 19,
   "metadata": {},
   "outputs": [
    {
     "data": {
      "text/plain": [
       "0"
      ]
     },
     "execution_count": 19,
     "metadata": {},
     "output_type": "execute_result"
    }
   ],
   "source": [
    "duplicates(prices)"
   ]
  },
  {
   "cell_type": "code",
   "execution_count": 20,
   "metadata": {
    "colab": {
     "base_uri": "https://localhost:8080/"
    },
    "id": "nibDIEd8zCml",
    "outputId": "02c8d070-5449-497a-bee7-226b8013d76c"
   },
   "outputs": [
    {
     "data": {
      "text/plain": [
       "0"
      ]
     },
     "execution_count": 20,
     "metadata": {},
     "output_type": "execute_result"
    }
   ],
   "source": [
    "#checking for duplicates in counties\n",
    "duplicates(counties)"
   ]
  },
  {
   "cell_type": "markdown",
   "metadata": {
    "id": "pSbYLNVXGOIA"
   },
   "source": [
    "### Uniformity "
   ]
  },
  {
   "cell_type": "markdown",
   "metadata": {
    "id": "YUmlKftBlQxX"
   },
   "source": [
    "#### Columns"
   ]
  },
  {
   "cell_type": "code",
   "execution_count": 21,
   "metadata": {
    "id": "aX4zb1mLG1Rc"
   },
   "outputs": [],
   "source": [
    "# Standaridization to fix messy columns to rename \n",
    "# example; officials_data.columns = officials_data.columns.str.strip().str.lower().str.replace(' ', '_').str.replace('(', '').str.replace(')','') \n",
    "# data type conversions like to pd.to_datetime \n",
    "counties.columns = counties.columns.str.strip().str.replace('(','').str.replace(')',\"\").str.replace(')',\"\").str.replace('/',\"_per_\").str.replace(' ',\"_\") "
   ]
  },
  {
   "cell_type": "code",
   "execution_count": 62,
   "metadata": {},
   "outputs": [],
   "source": [
    "#Drop columns \n",
    "crops.drop(['OBJECTID'], axis = 1, inplace=True)"
   ]
  },
  {
   "cell_type": "markdown",
   "metadata": {
    "id": "oFg09AatlVEy"
   },
   "source": [
    "#### Data type conversion"
   ]
  },
  {
   "cell_type": "code",
   "execution_count": 22,
   "metadata": {
    "id": "6luBqfoRlakY"
   },
   "outputs": [],
   "source": [
    "# "
   ]
  },
  {
   "cell_type": "code",
   "execution_count": 23,
   "metadata": {
    "id": "eQPKzYRmpfY5"
   },
   "outputs": [],
   "source": [
    "#removing KES from Values in Ksh column\n",
    "crops[\"Values_in_Ksh\"]=crops[\"Values_in_Ksh\"].str.replace(\"KES\",\"\")"
   ]
  },
  {
   "cell_type": "code",
   "execution_count": 24,
   "metadata": {
    "colab": {
     "base_uri": "https://localhost:8080/",
     "height": 204
    },
    "id": "VACwQrFaqZF_",
    "outputId": "4d3febb7-bdd5-4567-e693-93b5ac619ca6"
   },
   "outputs": [
    {
     "data": {
      "text/html": [
       "<div>\n",
       "<style scoped>\n",
       "    .dataframe tbody tr th:only-of-type {\n",
       "        vertical-align: middle;\n",
       "    }\n",
       "\n",
       "    .dataframe tbody tr th {\n",
       "        vertical-align: top;\n",
       "    }\n",
       "\n",
       "    .dataframe thead th {\n",
       "        text-align: right;\n",
       "    }\n",
       "</style>\n",
       "<table border=\"1\" class=\"dataframe\">\n",
       "  <thead>\n",
       "    <tr style=\"text-align: right;\">\n",
       "      <th></th>\n",
       "      <th>Produce_Variety</th>\n",
       "      <th>Commodity_Type</th>\n",
       "      <th>Unit</th>\n",
       "      <th>Volume_in_Kgs</th>\n",
       "      <th>Values_in_Ksh</th>\n",
       "      <th>Date</th>\n",
       "      <th>OBJECTID</th>\n",
       "    </tr>\n",
       "  </thead>\n",
       "  <tbody>\n",
       "    <tr>\n",
       "      <th>0</th>\n",
       "      <td>Horticulture</td>\n",
       "      <td>Cabbages</td>\n",
       "      <td>Ext Bag</td>\n",
       "      <td>126</td>\n",
       "      <td>2205.00</td>\n",
       "      <td>01/01/2012 12:00:00 AM</td>\n",
       "      <td>0</td>\n",
       "    </tr>\n",
       "    <tr>\n",
       "      <th>1</th>\n",
       "      <td>Horticulture</td>\n",
       "      <td>Cooking Bananas</td>\n",
       "      <td>Med Bunch</td>\n",
       "      <td>22</td>\n",
       "      <td>511.00</td>\n",
       "      <td>01/01/2012 12:00:00 AM</td>\n",
       "      <td>1</td>\n",
       "    </tr>\n",
       "    <tr>\n",
       "      <th>2</th>\n",
       "      <td>Horticulture</td>\n",
       "      <td>Ripe Bananas</td>\n",
       "      <td>Med Bunch</td>\n",
       "      <td>14</td>\n",
       "      <td>616.00</td>\n",
       "      <td>01/01/2012 12:00:00 AM</td>\n",
       "      <td>2</td>\n",
       "    </tr>\n",
       "    <tr>\n",
       "      <th>3</th>\n",
       "      <td>Horticulture</td>\n",
       "      <td>Carrots</td>\n",
       "      <td>Ext Bag</td>\n",
       "      <td>138</td>\n",
       "      <td>2833.00</td>\n",
       "      <td>01/01/2012 12:00:00 AM</td>\n",
       "      <td>3</td>\n",
       "    </tr>\n",
       "    <tr>\n",
       "      <th>4</th>\n",
       "      <td>Horticulture</td>\n",
       "      <td>Tomatoes</td>\n",
       "      <td>Lg Box</td>\n",
       "      <td>64</td>\n",
       "      <td>3411.00</td>\n",
       "      <td>01/01/2012 12:00:00 AM</td>\n",
       "      <td>4</td>\n",
       "    </tr>\n",
       "  </tbody>\n",
       "</table>\n",
       "</div>"
      ],
      "text/plain": [
       "  Produce_Variety   Commodity_Type       Unit  Volume_in_Kgs Values_in_Ksh  \\\n",
       "0    Horticulture         Cabbages    Ext Bag            126       2205.00   \n",
       "1    Horticulture  Cooking Bananas  Med Bunch             22        511.00   \n",
       "2    Horticulture     Ripe Bananas  Med Bunch             14        616.00   \n",
       "3    Horticulture          Carrots    Ext Bag            138       2833.00   \n",
       "4    Horticulture         Tomatoes     Lg Box             64       3411.00   \n",
       "\n",
       "                     Date  OBJECTID  \n",
       "0  01/01/2012 12:00:00 AM         0  \n",
       "1  01/01/2012 12:00:00 AM         1  \n",
       "2  01/01/2012 12:00:00 AM         2  \n",
       "3  01/01/2012 12:00:00 AM         3  \n",
       "4  01/01/2012 12:00:00 AM         4  "
      ]
     },
     "execution_count": 24,
     "metadata": {},
     "output_type": "execute_result"
    }
   ],
   "source": [
    "crops.head(5)"
   ]
  },
  {
   "cell_type": "code",
   "execution_count": 25,
   "metadata": {
    "id": "RoOAEuqoq1DJ"
   },
   "outputs": [],
   "source": [
    "#convert crops value in ksh to integer\n",
    "crops[\"Values_in_Ksh\"]=crops[\"Values_in_Ksh\"].astype(float)"
   ]
  },
  {
   "cell_type": "code",
   "execution_count": 26,
   "metadata": {
    "colab": {
     "base_uri": "https://localhost:8080/",
     "height": 204
    },
    "id": "ILJmYVeprYRO",
    "outputId": "114fa27c-e44e-47c9-ca17-982d694a65f1"
   },
   "outputs": [
    {
     "data": {
      "text/html": [
       "<div>\n",
       "<style scoped>\n",
       "    .dataframe tbody tr th:only-of-type {\n",
       "        vertical-align: middle;\n",
       "    }\n",
       "\n",
       "    .dataframe tbody tr th {\n",
       "        vertical-align: top;\n",
       "    }\n",
       "\n",
       "    .dataframe thead th {\n",
       "        text-align: right;\n",
       "    }\n",
       "</style>\n",
       "<table border=\"1\" class=\"dataframe\">\n",
       "  <thead>\n",
       "    <tr style=\"text-align: right;\">\n",
       "      <th></th>\n",
       "      <th>Produce_Variety</th>\n",
       "      <th>Commodity_Type</th>\n",
       "      <th>Unit</th>\n",
       "      <th>Volume_in_Kgs</th>\n",
       "      <th>Values_in_Ksh</th>\n",
       "      <th>Date</th>\n",
       "      <th>OBJECTID</th>\n",
       "    </tr>\n",
       "  </thead>\n",
       "  <tbody>\n",
       "    <tr>\n",
       "      <th>0</th>\n",
       "      <td>Horticulture</td>\n",
       "      <td>Cabbages</td>\n",
       "      <td>Ext Bag</td>\n",
       "      <td>126</td>\n",
       "      <td>2205.0</td>\n",
       "      <td>01/01/2012 12:00:00 AM</td>\n",
       "      <td>0</td>\n",
       "    </tr>\n",
       "    <tr>\n",
       "      <th>1</th>\n",
       "      <td>Horticulture</td>\n",
       "      <td>Cooking Bananas</td>\n",
       "      <td>Med Bunch</td>\n",
       "      <td>22</td>\n",
       "      <td>511.0</td>\n",
       "      <td>01/01/2012 12:00:00 AM</td>\n",
       "      <td>1</td>\n",
       "    </tr>\n",
       "    <tr>\n",
       "      <th>2</th>\n",
       "      <td>Horticulture</td>\n",
       "      <td>Ripe Bananas</td>\n",
       "      <td>Med Bunch</td>\n",
       "      <td>14</td>\n",
       "      <td>616.0</td>\n",
       "      <td>01/01/2012 12:00:00 AM</td>\n",
       "      <td>2</td>\n",
       "    </tr>\n",
       "    <tr>\n",
       "      <th>3</th>\n",
       "      <td>Horticulture</td>\n",
       "      <td>Carrots</td>\n",
       "      <td>Ext Bag</td>\n",
       "      <td>138</td>\n",
       "      <td>2833.0</td>\n",
       "      <td>01/01/2012 12:00:00 AM</td>\n",
       "      <td>3</td>\n",
       "    </tr>\n",
       "    <tr>\n",
       "      <th>4</th>\n",
       "      <td>Horticulture</td>\n",
       "      <td>Tomatoes</td>\n",
       "      <td>Lg Box</td>\n",
       "      <td>64</td>\n",
       "      <td>3411.0</td>\n",
       "      <td>01/01/2012 12:00:00 AM</td>\n",
       "      <td>4</td>\n",
       "    </tr>\n",
       "  </tbody>\n",
       "</table>\n",
       "</div>"
      ],
      "text/plain": [
       "  Produce_Variety   Commodity_Type       Unit  Volume_in_Kgs  Values_in_Ksh  \\\n",
       "0    Horticulture         Cabbages    Ext Bag            126         2205.0   \n",
       "1    Horticulture  Cooking Bananas  Med Bunch             22          511.0   \n",
       "2    Horticulture     Ripe Bananas  Med Bunch             14          616.0   \n",
       "3    Horticulture          Carrots    Ext Bag            138         2833.0   \n",
       "4    Horticulture         Tomatoes     Lg Box             64         3411.0   \n",
       "\n",
       "                     Date  OBJECTID  \n",
       "0  01/01/2012 12:00:00 AM         0  \n",
       "1  01/01/2012 12:00:00 AM         1  \n",
       "2  01/01/2012 12:00:00 AM         2  \n",
       "3  01/01/2012 12:00:00 AM         3  \n",
       "4  01/01/2012 12:00:00 AM         4  "
      ]
     },
     "execution_count": 26,
     "metadata": {},
     "output_type": "execute_result"
    }
   ],
   "source": [
    "crops.head(5)"
   ]
  },
  {
   "cell_type": "code",
   "execution_count": 27,
   "metadata": {
    "colab": {
     "base_uri": "https://localhost:8080/"
    },
    "id": "vIhlX60irYJL",
    "outputId": "06578a81-667a-45b7-cf73-6f921f7dd341"
   },
   "outputs": [
    {
     "name": "stdout",
     "output_type": "stream",
     "text": [
      "<class 'pandas.core.frame.DataFrame'>\n",
      "RangeIndex: 1145 entries, 0 to 1144\n",
      "Data columns (total 7 columns):\n",
      " #   Column           Non-Null Count  Dtype  \n",
      "---  ------           --------------  -----  \n",
      " 0   Produce_Variety  1145 non-null   object \n",
      " 1   Commodity_Type   1145 non-null   object \n",
      " 2   Unit             1145 non-null   object \n",
      " 3   Volume_in_Kgs    1145 non-null   int64  \n",
      " 4   Values_in_Ksh    1143 non-null   float64\n",
      " 5   Date             1145 non-null   object \n",
      " 6   OBJECTID         1145 non-null   int64  \n",
      "dtypes: float64(1), int64(2), object(4)\n",
      "memory usage: 62.7+ KB\n"
     ]
    }
   ],
   "source": [
    "crops.info()"
   ]
  },
  {
   "cell_type": "code",
   "execution_count": 28,
   "metadata": {
    "id": "q-EY9rbVrmS6"
   },
   "outputs": [],
   "source": [
    "#changing date\n",
    "crops['Date'] =  pd.to_datetime(crops['Date'])"
   ]
  },
  {
   "cell_type": "code",
   "execution_count": 29,
   "metadata": {
    "colab": {
     "base_uri": "https://localhost:8080/"
    },
    "id": "IDTauYpvtFgM",
    "outputId": "c6dc4775-c796-465e-ec09-aa707f18f238"
   },
   "outputs": [
    {
     "name": "stdout",
     "output_type": "stream",
     "text": [
      "<class 'pandas.core.frame.DataFrame'>\n",
      "RangeIndex: 1145 entries, 0 to 1144\n",
      "Data columns (total 7 columns):\n",
      " #   Column           Non-Null Count  Dtype         \n",
      "---  ------           --------------  -----         \n",
      " 0   Produce_Variety  1145 non-null   object        \n",
      " 1   Commodity_Type   1145 non-null   object        \n",
      " 2   Unit             1145 non-null   object        \n",
      " 3   Volume_in_Kgs    1145 non-null   int64         \n",
      " 4   Values_in_Ksh    1143 non-null   float64       \n",
      " 5   Date             1145 non-null   datetime64[ns]\n",
      " 6   OBJECTID         1145 non-null   int64         \n",
      "dtypes: datetime64[ns](1), float64(1), int64(2), object(3)\n",
      "memory usage: 62.7+ KB\n"
     ]
    }
   ],
   "source": [
    "crops.info()"
   ]
  },
  {
   "cell_type": "markdown",
   "metadata": {
    "id": "ZwP8SD4DnycJ"
   },
   "source": [
    "### Filling N/A Values with Average"
   ]
  },
  {
   "cell_type": "code",
   "execution_count": 30,
   "metadata": {
    "colab": {
     "base_uri": "https://localhost:8080/"
    },
    "id": "EZ5utgpWwvVj",
    "outputId": "4a24df91-63b9-4901-c728-9b1820cce49d"
   },
   "outputs": [
    {
     "data": {
      "text/plain": [
       "0        2205.0\n",
       "1         511.0\n",
       "2         616.0\n",
       "3        2833.0\n",
       "4        3411.0\n",
       "         ...   \n",
       "1140    12986.0\n",
       "1141     2805.0\n",
       "1142     2885.0\n",
       "1143     2097.0\n",
       "1144     3067.0\n",
       "Name: Values_in_Ksh, Length: 1145, dtype: float64"
      ]
     },
     "execution_count": 30,
     "metadata": {},
     "output_type": "execute_result"
    }
   ],
   "source": [
    "crops['Values_in_Ksh'].fillna(0)"
   ]
  },
  {
   "cell_type": "code",
   "execution_count": 31,
   "metadata": {
    "colab": {
     "base_uri": "https://localhost:8080/"
    },
    "id": "PV9vf7h-xDRW",
    "outputId": "f3ad31fe-a750-47ec-d315-edcd1867c9bb"
   },
   "outputs": [
    {
     "data": {
      "text/plain": [
       "Produce_Variety    0\n",
       "Commodity_Type     0\n",
       "Unit               0\n",
       "Volume_in_Kgs      0\n",
       "Values_in_Ksh      2\n",
       "Date               0\n",
       "OBJECTID           0\n",
       "dtype: int64"
      ]
     },
     "execution_count": 31,
     "metadata": {},
     "output_type": "execute_result"
    }
   ],
   "source": [
    "crops.isnull().sum()"
   ]
  },
  {
   "cell_type": "code",
   "execution_count": 32,
   "metadata": {
    "colab": {
     "base_uri": "https://localhost:8080/"
    },
    "id": "QQDyCTj8301Q",
    "outputId": "45bf3c35-a5b8-4c5b-da52-c1f7dd270e3b"
   },
   "outputs": [
    {
     "data": {
      "text/plain": [
       "0        2205.0\n",
       "1         511.0\n",
       "2         616.0\n",
       "3        2833.0\n",
       "4        3411.0\n",
       "         ...   \n",
       "1140    12986.0\n",
       "1141     2805.0\n",
       "1142     2885.0\n",
       "1143     2097.0\n",
       "1144     3067.0\n",
       "Name: Values_in_Ksh, Length: 1145, dtype: float64"
      ]
     },
     "execution_count": 32,
     "metadata": {},
     "output_type": "execute_result"
    }
   ],
   "source": [
    "crops['Values_in_Ksh'].ffill(0)"
   ]
  },
  {
   "cell_type": "code",
   "execution_count": 33,
   "metadata": {
    "id": "UgPyOK6H4Uau"
   },
   "outputs": [],
   "source": [
    "crops['Values_in_Ksh'] = crops['Values_in_Ksh'].ffill(0)"
   ]
  },
  {
   "cell_type": "code",
   "execution_count": 34,
   "metadata": {
    "colab": {
     "base_uri": "https://localhost:8080/"
    },
    "id": "JlFQy-r138iI",
    "outputId": "3b34f3ec-a8da-49d3-e91d-85cd722239b7"
   },
   "outputs": [
    {
     "data": {
      "text/plain": [
       "Produce_Variety    0\n",
       "Commodity_Type     0\n",
       "Unit               0\n",
       "Volume_in_Kgs      0\n",
       "Values_in_Ksh      0\n",
       "Date               0\n",
       "OBJECTID           0\n",
       "dtype: int64"
      ]
     },
     "execution_count": 34,
     "metadata": {},
     "output_type": "execute_result"
    }
   ],
   "source": [
    "crops.isnull().sum()"
   ]
  },
  {
   "cell_type": "code",
   "execution_count": 35,
   "metadata": {
    "colab": {
     "base_uri": "https://localhost:8080/",
     "height": 419
    },
    "id": "mCHMfMptohBs",
    "outputId": "52f2e754-4ff7-45f6-92d4-37facb667832"
   },
   "outputs": [
    {
     "data": {
      "text/html": [
       "<div>\n",
       "<style scoped>\n",
       "    .dataframe tbody tr th:only-of-type {\n",
       "        vertical-align: middle;\n",
       "    }\n",
       "\n",
       "    .dataframe tbody tr th {\n",
       "        vertical-align: top;\n",
       "    }\n",
       "\n",
       "    .dataframe thead th {\n",
       "        text-align: right;\n",
       "    }\n",
       "</style>\n",
       "<table border=\"1\" class=\"dataframe\">\n",
       "  <thead>\n",
       "    <tr style=\"text-align: right;\">\n",
       "      <th></th>\n",
       "      <th>_id</th>\n",
       "      <th>County</th>\n",
       "      <th>CROP</th>\n",
       "      <th>Area__HA</th>\n",
       "      <th>Production__Tons</th>\n",
       "      <th>Yield__Tons_per_HA</th>\n",
       "    </tr>\n",
       "  </thead>\n",
       "  <tbody>\n",
       "    <tr>\n",
       "      <th>0</th>\n",
       "      <td>1</td>\n",
       "      <td>BARINGO</td>\n",
       "      <td>Beans</td>\n",
       "      <td>15669</td>\n",
       "      <td>11034</td>\n",
       "      <td>0.7</td>\n",
       "    </tr>\n",
       "    <tr>\n",
       "      <th>1</th>\n",
       "      <td>2</td>\n",
       "      <td>BOMET</td>\n",
       "      <td>Beans</td>\n",
       "      <td>39002</td>\n",
       "      <td>50140.76</td>\n",
       "      <td>1.3</td>\n",
       "    </tr>\n",
       "    <tr>\n",
       "      <th>2</th>\n",
       "      <td>3</td>\n",
       "      <td>BUNGOMA</td>\n",
       "      <td>Beans</td>\n",
       "      <td>77367</td>\n",
       "      <td>61051.12</td>\n",
       "      <td>0.8</td>\n",
       "    </tr>\n",
       "    <tr>\n",
       "      <th>3</th>\n",
       "      <td>4</td>\n",
       "      <td>BUSIA</td>\n",
       "      <td>Beans</td>\n",
       "      <td>27351</td>\n",
       "      <td>36422</td>\n",
       "      <td>1.3</td>\n",
       "    </tr>\n",
       "    <tr>\n",
       "      <th>4</th>\n",
       "      <td>5</td>\n",
       "      <td>ELGEYO MARAKWET</td>\n",
       "      <td>Beans</td>\n",
       "      <td>14873</td>\n",
       "      <td>16354.62</td>\n",
       "      <td>1.1</td>\n",
       "    </tr>\n",
       "    <tr>\n",
       "      <th>...</th>\n",
       "      <td>...</td>\n",
       "      <td>...</td>\n",
       "      <td>...</td>\n",
       "      <td>...</td>\n",
       "      <td>...</td>\n",
       "      <td>...</td>\n",
       "    </tr>\n",
       "    <tr>\n",
       "      <th>154</th>\n",
       "      <td>155</td>\n",
       "      <td>TAITA TAVETA</td>\n",
       "      <td>Rice</td>\n",
       "      <td>380</td>\n",
       "      <td>1320</td>\n",
       "      <td>3.5</td>\n",
       "    </tr>\n",
       "    <tr>\n",
       "      <th>155</th>\n",
       "      <td>156</td>\n",
       "      <td>TANA RIVER</td>\n",
       "      <td>Rice</td>\n",
       "      <td>1210</td>\n",
       "      <td>3855</td>\n",
       "      <td>3.2</td>\n",
       "    </tr>\n",
       "    <tr>\n",
       "      <th>156</th>\n",
       "      <td>157</td>\n",
       "      <td>THARAKA NITHI</td>\n",
       "      <td>Rice</td>\n",
       "      <td>28</td>\n",
       "      <td>79</td>\n",
       "      <td>2.8</td>\n",
       "    </tr>\n",
       "    <tr>\n",
       "      <th>157</th>\n",
       "      <td>158</td>\n",
       "      <td>WEST POKOT</td>\n",
       "      <td>Rice</td>\n",
       "      <td>20</td>\n",
       "      <td>72</td>\n",
       "      <td>3.6</td>\n",
       "    </tr>\n",
       "    <tr>\n",
       "      <th>158</th>\n",
       "      <td>159</td>\n",
       "      <td>VIHIGA</td>\n",
       "      <td>Rice</td>\n",
       "      <td>4</td>\n",
       "      <td>18</td>\n",
       "      <td>4.5</td>\n",
       "    </tr>\n",
       "  </tbody>\n",
       "</table>\n",
       "<p>159 rows × 6 columns</p>\n",
       "</div>"
      ],
      "text/plain": [
       "     _id           County   CROP Area__HA Production__Tons  Yield__Tons_per_HA\n",
       "0      1          BARINGO  Beans    15669            11034                 0.7\n",
       "1      2            BOMET  Beans    39002         50140.76                 1.3\n",
       "2      3          BUNGOMA  Beans    77367         61051.12                 0.8\n",
       "3      4            BUSIA  Beans    27351            36422                 1.3\n",
       "4      5  ELGEYO MARAKWET  Beans    14873         16354.62                 1.1\n",
       "..   ...              ...    ...      ...              ...                 ...\n",
       "154  155     TAITA TAVETA   Rice      380             1320                 3.5\n",
       "155  156       TANA RIVER   Rice     1210             3855                 3.2\n",
       "156  157    THARAKA NITHI   Rice       28               79                 2.8\n",
       "157  158       WEST POKOT   Rice       20               72                 3.6\n",
       "158  159           VIHIGA   Rice        4               18                 4.5\n",
       "\n",
       "[159 rows x 6 columns]"
      ]
     },
     "execution_count": 35,
     "metadata": {},
     "output_type": "execute_result"
    }
   ],
   "source": [
    "counties"
   ]
  },
  {
   "cell_type": "code",
   "execution_count": 36,
   "metadata": {
    "colab": {
     "base_uri": "https://localhost:8080/"
    },
    "id": "EcTw_pHzo9xn",
    "outputId": "c64949bf-b58a-4d16-a725-c78c4cca8d26"
   },
   "outputs": [
    {
     "data": {
      "text/plain": [
       "<bound method DataFrame.info of      _id           County   CROP Area__HA Production__Tons  Yield__Tons_per_HA\n",
       "0      1          BARINGO  Beans    15669            11034                 0.7\n",
       "1      2            BOMET  Beans    39002         50140.76                 1.3\n",
       "2      3          BUNGOMA  Beans    77367         61051.12                 0.8\n",
       "3      4            BUSIA  Beans    27351            36422                 1.3\n",
       "4      5  ELGEYO MARAKWET  Beans    14873         16354.62                 1.1\n",
       "..   ...              ...    ...      ...              ...                 ...\n",
       "154  155     TAITA TAVETA   Rice      380             1320                 3.5\n",
       "155  156       TANA RIVER   Rice     1210             3855                 3.2\n",
       "156  157    THARAKA NITHI   Rice       28               79                 2.8\n",
       "157  158       WEST POKOT   Rice       20               72                 3.6\n",
       "158  159           VIHIGA   Rice        4               18                 4.5\n",
       "\n",
       "[159 rows x 6 columns]>"
      ]
     },
     "execution_count": 36,
     "metadata": {},
     "output_type": "execute_result"
    }
   ],
   "source": [
    "counties.info"
   ]
  },
  {
   "cell_type": "code",
   "execution_count": null,
   "metadata": {
    "id": "3iCCPQXBqS4E"
   },
   "outputs": [],
   "source": []
  },
  {
   "cell_type": "markdown",
   "metadata": {
    "id": "n7-NbWnyqQZp"
   },
   "source": [
    "#**Analysis Questions**"
   ]
  },
  {
   "cell_type": "markdown",
   "metadata": {
    "id": "pJPr7v5Kqeap"
   },
   "source": [
    "## 1. What are the average market prices of various products?"
   ]
  },
  {
   "cell_type": "code",
   "execution_count": 37,
   "metadata": {
    "colab": {
     "base_uri": "https://localhost:8080/"
    },
    "id": "cwsL5pPBq_ZK",
    "outputId": "4ebc5f51-7741-4296-9700-f21a50c8ccb0"
   },
   "outputs": [
    {
     "data": {
      "text/plain": [
       "<bound method IndexOpsMixin.nunique of 0      Beans\n",
       "1      Beans\n",
       "2      Beans\n",
       "3      Beans\n",
       "4      Beans\n",
       "       ...  \n",
       "154     Rice\n",
       "155     Rice\n",
       "156     Rice\n",
       "157     Rice\n",
       "158     Rice\n",
       "Name: CROP, Length: 159, dtype: object>"
      ]
     },
     "execution_count": 37,
     "metadata": {},
     "output_type": "execute_result"
    }
   ],
   "source": [
    "counties['CROP'].nunique\n"
   ]
  },
  {
   "cell_type": "code",
   "execution_count": 38,
   "metadata": {
    "colab": {
     "base_uri": "https://localhost:8080/",
     "height": 419
    },
    "id": "VgJMZLR-tHOG",
    "outputId": "94f947ef-132d-4127-af51-aa1cac8f898d"
   },
   "outputs": [
    {
     "data": {
      "text/html": [
       "<div>\n",
       "<style scoped>\n",
       "    .dataframe tbody tr th:only-of-type {\n",
       "        vertical-align: middle;\n",
       "    }\n",
       "\n",
       "    .dataframe tbody tr th {\n",
       "        vertical-align: top;\n",
       "    }\n",
       "\n",
       "    .dataframe thead th {\n",
       "        text-align: right;\n",
       "    }\n",
       "</style>\n",
       "<table border=\"1\" class=\"dataframe\">\n",
       "  <thead>\n",
       "    <tr style=\"text-align: right;\">\n",
       "      <th></th>\n",
       "      <th>_id</th>\n",
       "      <th>County</th>\n",
       "      <th>CROP</th>\n",
       "      <th>Area__HA</th>\n",
       "      <th>Production__Tons</th>\n",
       "      <th>Yield__Tons_per_HA</th>\n",
       "    </tr>\n",
       "  </thead>\n",
       "  <tbody>\n",
       "    <tr>\n",
       "      <th>0</th>\n",
       "      <td>1</td>\n",
       "      <td>BARINGO</td>\n",
       "      <td>Beans</td>\n",
       "      <td>15669</td>\n",
       "      <td>11034</td>\n",
       "      <td>0.7</td>\n",
       "    </tr>\n",
       "    <tr>\n",
       "      <th>1</th>\n",
       "      <td>2</td>\n",
       "      <td>BOMET</td>\n",
       "      <td>Beans</td>\n",
       "      <td>39002</td>\n",
       "      <td>50140.76</td>\n",
       "      <td>1.3</td>\n",
       "    </tr>\n",
       "    <tr>\n",
       "      <th>2</th>\n",
       "      <td>3</td>\n",
       "      <td>BUNGOMA</td>\n",
       "      <td>Beans</td>\n",
       "      <td>77367</td>\n",
       "      <td>61051.12</td>\n",
       "      <td>0.8</td>\n",
       "    </tr>\n",
       "    <tr>\n",
       "      <th>3</th>\n",
       "      <td>4</td>\n",
       "      <td>BUSIA</td>\n",
       "      <td>Beans</td>\n",
       "      <td>27351</td>\n",
       "      <td>36422</td>\n",
       "      <td>1.3</td>\n",
       "    </tr>\n",
       "    <tr>\n",
       "      <th>4</th>\n",
       "      <td>5</td>\n",
       "      <td>ELGEYO MARAKWET</td>\n",
       "      <td>Beans</td>\n",
       "      <td>14873</td>\n",
       "      <td>16354.62</td>\n",
       "      <td>1.1</td>\n",
       "    </tr>\n",
       "    <tr>\n",
       "      <th>...</th>\n",
       "      <td>...</td>\n",
       "      <td>...</td>\n",
       "      <td>...</td>\n",
       "      <td>...</td>\n",
       "      <td>...</td>\n",
       "      <td>...</td>\n",
       "    </tr>\n",
       "    <tr>\n",
       "      <th>154</th>\n",
       "      <td>155</td>\n",
       "      <td>TAITA TAVETA</td>\n",
       "      <td>Rice</td>\n",
       "      <td>380</td>\n",
       "      <td>1320</td>\n",
       "      <td>3.5</td>\n",
       "    </tr>\n",
       "    <tr>\n",
       "      <th>155</th>\n",
       "      <td>156</td>\n",
       "      <td>TANA RIVER</td>\n",
       "      <td>Rice</td>\n",
       "      <td>1210</td>\n",
       "      <td>3855</td>\n",
       "      <td>3.2</td>\n",
       "    </tr>\n",
       "    <tr>\n",
       "      <th>156</th>\n",
       "      <td>157</td>\n",
       "      <td>THARAKA NITHI</td>\n",
       "      <td>Rice</td>\n",
       "      <td>28</td>\n",
       "      <td>79</td>\n",
       "      <td>2.8</td>\n",
       "    </tr>\n",
       "    <tr>\n",
       "      <th>157</th>\n",
       "      <td>158</td>\n",
       "      <td>WEST POKOT</td>\n",
       "      <td>Rice</td>\n",
       "      <td>20</td>\n",
       "      <td>72</td>\n",
       "      <td>3.6</td>\n",
       "    </tr>\n",
       "    <tr>\n",
       "      <th>158</th>\n",
       "      <td>159</td>\n",
       "      <td>VIHIGA</td>\n",
       "      <td>Rice</td>\n",
       "      <td>4</td>\n",
       "      <td>18</td>\n",
       "      <td>4.5</td>\n",
       "    </tr>\n",
       "  </tbody>\n",
       "</table>\n",
       "<p>159 rows × 6 columns</p>\n",
       "</div>"
      ],
      "text/plain": [
       "     _id           County   CROP Area__HA Production__Tons  Yield__Tons_per_HA\n",
       "0      1          BARINGO  Beans    15669            11034                 0.7\n",
       "1      2            BOMET  Beans    39002         50140.76                 1.3\n",
       "2      3          BUNGOMA  Beans    77367         61051.12                 0.8\n",
       "3      4            BUSIA  Beans    27351            36422                 1.3\n",
       "4      5  ELGEYO MARAKWET  Beans    14873         16354.62                 1.1\n",
       "..   ...              ...    ...      ...              ...                 ...\n",
       "154  155     TAITA TAVETA   Rice      380             1320                 3.5\n",
       "155  156       TANA RIVER   Rice     1210             3855                 3.2\n",
       "156  157    THARAKA NITHI   Rice       28               79                 2.8\n",
       "157  158       WEST POKOT   Rice       20               72                 3.6\n",
       "158  159           VIHIGA   Rice        4               18                 4.5\n",
       "\n",
       "[159 rows x 6 columns]"
      ]
     },
     "execution_count": 38,
     "metadata": {},
     "output_type": "execute_result"
    }
   ],
   "source": [
    "uniquecrops = counties.groupby('CROP')\n",
    "counties"
   ]
  },
  {
   "cell_type": "code",
   "execution_count": 39,
   "metadata": {
    "colab": {
     "base_uri": "https://localhost:8080/"
    },
    "id": "MPBDtCoEus1J",
    "outputId": "e6561e05-b911-417e-f306-47b11cb4b841"
   },
   "outputs": [
    {
     "data": {
      "text/plain": [
       "Sorghum           47\n",
       "Beans             47\n",
       "Irish Potatoes    30\n",
       "Rice              21\n",
       "Wheat             14\n",
       "Name: CROP, dtype: int64"
      ]
     },
     "execution_count": 39,
     "metadata": {},
     "output_type": "execute_result"
    }
   ],
   "source": [
    "# Grouping each crop by value counts to give the total of each commodity\n",
    "\n",
    "counties['CROP'].value_counts()"
   ]
  },
  {
   "cell_type": "code",
   "execution_count": 40,
   "metadata": {
    "colab": {
     "base_uri": "https://localhost:8080/"
    },
    "id": "3TLfRW6R7FYC",
    "outputId": "b5e4313c-90d6-46ad-93df-3ee0bc6fce71"
   },
   "outputs": [
    {
     "data": {
      "text/plain": [
       "0       True\n",
       "1       True\n",
       "2       True\n",
       "3       True\n",
       "4       True\n",
       "       ...  \n",
       "154    False\n",
       "155    False\n",
       "156    False\n",
       "157    False\n",
       "158    False\n",
       "Name: CROP, Length: 159, dtype: bool"
      ]
     },
     "execution_count": 40,
     "metadata": {},
     "output_type": "execute_result"
    }
   ],
   "source": [
    "# Out\n",
    "\n",
    "counties['CROP'] == \"Beans\""
   ]
  },
  {
   "cell_type": "code",
   "execution_count": 41,
   "metadata": {
    "colab": {
     "base_uri": "https://localhost:8080/",
     "height": 386
    },
    "id": "3kC1qSQrgOzt",
    "outputId": "358410aa-1f5b-461e-cbe4-b57e90241143"
   },
   "outputs": [
    {
     "data": {
      "text/plain": [
       "<AxesSubplot:xlabel='County'>"
      ]
     },
     "execution_count": 41,
     "metadata": {},
     "output_type": "execute_result"
    },
    {
     "data": {
      "image/png": "[encoded data removed]",
      "text/plain": [
       "<Figure size 432x288 with 1 Axes>"
      ]
     },
     "metadata": {
      "needs_background": "light"
     },
     "output_type": "display_data"
    }
   ],
   "source": [
    "#using plotly here \n",
    "\n",
    "counties.plot(kind='bar', x='County', y='Yield__Tons_per_HA')"
   ]
  },
  {
   "cell_type": "code",
   "execution_count": 42,
   "metadata": {
    "colab": {
     "base_uri": "https://localhost:8080/"
    },
    "id": "ST48XDOd7hv_",
    "outputId": "7c6aee8a-aba1-459e-a0f4-e5b5b53d93c6"
   },
   "outputs": [
    {
     "data": {
      "text/plain": [
       "Commodity_Type\n",
       "Avocado                  2158.064516\n",
       "Beans Canadian           6133.791667\n",
       "Beans Mwitemania         5628.666667\n",
       "Beans Rosecoco           6134.708333\n",
       "Brinjals                 1637.935484\n",
       "Cabbages                 2121.967742\n",
       "Capsicums                2612.838710\n",
       "Carrots                  3565.000000\n",
       "Cassava Fresh            1973.041667\n",
       "Cauliflower              2528.451613\n",
       "Chillies                 2679.838710\n",
       "Cooking Bananas           553.806452\n",
       "Cowpeas                  6094.166667\n",
       "Cucumber                 2072.870968\n",
       "Dolichos (Njahi)         8741.291667\n",
       "Dry Maize                2782.875000\n",
       "Finger Millet            6416.041667\n",
       "Fresh Peas               2928.083333\n",
       "Green Gram               8951.625000\n",
       "Green Maize              2907.000000\n",
       "Groundnuts              11244.416667\n",
       "Kales                    1227.774194\n",
       "Lemons                   1978.322581\n",
       "Lettuce                  3342.419355\n",
       "Limes                     723.838710\n",
       "Mangoes Local            2083.774194\n",
       "Mangoes Ngowe            1025.483871\n",
       "Mwezi Moja               5722.791667\n",
       "Onions Dry                962.935484\n",
       "Oranges                  2966.483871\n",
       "Passion Fruits           3810.129032\n",
       "Pawpaw                   1563.741935\n",
       "Pineapples                775.193548\n",
       "Red Irish Potatoes       2926.791667\n",
       "Ripe Bananas              593.483871\n",
       "Sorghum                  3710.458333\n",
       "Spring Onions            2007.612903\n",
       "Sweet Potatoes           2820.458333\n",
       "Tomatoes                 3637.064516\n",
       "Wheat                    3854.958333\n",
       "White Irish Potatoes     2931.583333\n",
       "Name: Values_in_Ksh, dtype: float64"
      ]
     },
     "execution_count": 42,
     "metadata": {},
     "output_type": "execute_result"
    }
   ],
   "source": [
    "# This output is the average value in Ksh per Commodity Type\n",
    "crops.groupby('Commodity_Type').mean()['Values_in_Ksh']"
   ]
  },
  {
   "cell_type": "code",
   "execution_count": 43,
   "metadata": {
    "colab": {
     "base_uri": "https://localhost:8080/"
    },
    "id": "8QDUtVuX_5dA",
    "outputId": "3b0032bc-979c-4ce4-8878-19964457b369"
   },
   "outputs": [
    {
     "data": {
      "text/plain": [
       "Produce_Variety\n",
       "Cereals           3934.266667\n",
       "Horticulture      2027.349229\n",
       "Legumes           6842.171296\n",
       "Roots & Tubers    2662.968750\n",
       "Name: Values_in_Ksh, dtype: float64"
      ]
     },
     "execution_count": 43,
     "metadata": {},
     "output_type": "execute_result"
    }
   ],
   "source": [
    "# This output is the average value in Ksh per Produce Variety\n",
    "\n",
    "crops.groupby('Produce_Variety').mean()['Values_in_Ksh']"
   ]
  },
  {
   "cell_type": "markdown",
   "metadata": {
    "id": "7gLHISJ-qlkS"
   },
   "source": [
    "## 2. What are the best regions to plant various commodities?"
   ]
  },
  {
   "cell_type": "code",
   "execution_count": 44,
   "metadata": {
    "colab": {
     "base_uri": "https://localhost:8080/",
     "height": 204
    },
    "id": "doKa6PL7rGhI",
    "outputId": "f822fc27-0baf-4ec1-b092-6e552eb34042"
   },
   "outputs": [
    {
     "data": {
      "text/html": [
       "<div>\n",
       "<style scoped>\n",
       "    .dataframe tbody tr th:only-of-type {\n",
       "        vertical-align: middle;\n",
       "    }\n",
       "\n",
       "    .dataframe tbody tr th {\n",
       "        vertical-align: top;\n",
       "    }\n",
       "\n",
       "    .dataframe thead th {\n",
       "        text-align: right;\n",
       "    }\n",
       "</style>\n",
       "<table border=\"1\" class=\"dataframe\">\n",
       "  <thead>\n",
       "    <tr style=\"text-align: right;\">\n",
       "      <th></th>\n",
       "      <th>_id</th>\n",
       "      <th>County</th>\n",
       "      <th>CROP</th>\n",
       "      <th>Area__HA</th>\n",
       "      <th>Production__Tons</th>\n",
       "      <th>Yield__Tons_per_HA</th>\n",
       "    </tr>\n",
       "  </thead>\n",
       "  <tbody>\n",
       "    <tr>\n",
       "      <th>0</th>\n",
       "      <td>1</td>\n",
       "      <td>BARINGO</td>\n",
       "      <td>Beans</td>\n",
       "      <td>15669</td>\n",
       "      <td>11034</td>\n",
       "      <td>0.7</td>\n",
       "    </tr>\n",
       "    <tr>\n",
       "      <th>1</th>\n",
       "      <td>2</td>\n",
       "      <td>BOMET</td>\n",
       "      <td>Beans</td>\n",
       "      <td>39002</td>\n",
       "      <td>50140.76</td>\n",
       "      <td>1.3</td>\n",
       "    </tr>\n",
       "    <tr>\n",
       "      <th>2</th>\n",
       "      <td>3</td>\n",
       "      <td>BUNGOMA</td>\n",
       "      <td>Beans</td>\n",
       "      <td>77367</td>\n",
       "      <td>61051.12</td>\n",
       "      <td>0.8</td>\n",
       "    </tr>\n",
       "    <tr>\n",
       "      <th>3</th>\n",
       "      <td>4</td>\n",
       "      <td>BUSIA</td>\n",
       "      <td>Beans</td>\n",
       "      <td>27351</td>\n",
       "      <td>36422</td>\n",
       "      <td>1.3</td>\n",
       "    </tr>\n",
       "    <tr>\n",
       "      <th>4</th>\n",
       "      <td>5</td>\n",
       "      <td>ELGEYO MARAKWET</td>\n",
       "      <td>Beans</td>\n",
       "      <td>14873</td>\n",
       "      <td>16354.62</td>\n",
       "      <td>1.1</td>\n",
       "    </tr>\n",
       "  </tbody>\n",
       "</table>\n",
       "</div>"
      ],
      "text/plain": [
       "   _id           County   CROP Area__HA Production__Tons  Yield__Tons_per_HA\n",
       "0    1          BARINGO  Beans    15669            11034                 0.7\n",
       "1    2            BOMET  Beans    39002         50140.76                 1.3\n",
       "2    3          BUNGOMA  Beans    77367         61051.12                 0.8\n",
       "3    4            BUSIA  Beans    27351            36422                 1.3\n",
       "4    5  ELGEYO MARAKWET  Beans    14873         16354.62                 1.1"
      ]
     },
     "execution_count": 44,
     "metadata": {},
     "output_type": "execute_result"
    }
   ],
   "source": [
    "counties.head()"
   ]
  },
  {
   "cell_type": "code",
   "execution_count": 45,
   "metadata": {
    "id": "XejdgYxhA5jv"
   },
   "outputs": [],
   "source": [
    "#Get a dataframe for max values\n",
    "maxmum = counties.groupby(['CROP'])['Yield__Tons_per_HA'].transform(max) == counties['Yield__Tons_per_HA']"
   ]
  },
  {
   "cell_type": "code",
   "execution_count": 46,
   "metadata": {
    "colab": {
     "base_uri": "https://localhost:8080/",
     "height": 266
    },
    "id": "KSVC06m6BWMo",
    "outputId": "0fe6fbec-90b3-4c57-8610-082e4e2e77b8"
   },
   "outputs": [
    {
     "data": {
      "text/html": [
       "<div>\n",
       "<style scoped>\n",
       "    .dataframe tbody tr th:only-of-type {\n",
       "        vertical-align: middle;\n",
       "    }\n",
       "\n",
       "    .dataframe tbody tr th {\n",
       "        vertical-align: top;\n",
       "    }\n",
       "\n",
       "    .dataframe thead th {\n",
       "        text-align: right;\n",
       "    }\n",
       "</style>\n",
       "<table border=\"1\" class=\"dataframe\">\n",
       "  <thead>\n",
       "    <tr style=\"text-align: right;\">\n",
       "      <th></th>\n",
       "      <th>_id</th>\n",
       "      <th>County</th>\n",
       "      <th>CROP</th>\n",
       "      <th>Area__HA</th>\n",
       "      <th>Production__Tons</th>\n",
       "      <th>Yield__Tons_per_HA</th>\n",
       "    </tr>\n",
       "  </thead>\n",
       "  <tbody>\n",
       "    <tr>\n",
       "      <th>1</th>\n",
       "      <td>2</td>\n",
       "      <td>BOMET</td>\n",
       "      <td>Beans</td>\n",
       "      <td>39002</td>\n",
       "      <td>50140.76</td>\n",
       "      <td>1.3</td>\n",
       "    </tr>\n",
       "    <tr>\n",
       "      <th>3</th>\n",
       "      <td>4</td>\n",
       "      <td>BUSIA</td>\n",
       "      <td>Beans</td>\n",
       "      <td>27351</td>\n",
       "      <td>36422</td>\n",
       "      <td>1.3</td>\n",
       "    </tr>\n",
       "    <tr>\n",
       "      <th>54</th>\n",
       "      <td>55</td>\n",
       "      <td>HOMA BAY</td>\n",
       "      <td>Sorghum</td>\n",
       "      <td>18,925</td>\n",
       "      <td>37,440</td>\n",
       "      <td>2.0</td>\n",
       "    </tr>\n",
       "    <tr>\n",
       "      <th>56</th>\n",
       "      <td>57</td>\n",
       "      <td>KAJIADO</td>\n",
       "      <td>Sorghum</td>\n",
       "      <td>46</td>\n",
       "      <td>93</td>\n",
       "      <td>2.0</td>\n",
       "    </tr>\n",
       "    <tr>\n",
       "      <th>98</th>\n",
       "      <td>99</td>\n",
       "      <td>EMBU</td>\n",
       "      <td>Irish Potatoes</td>\n",
       "      <td>332</td>\n",
       "      <td>6980</td>\n",
       "      <td>21.0</td>\n",
       "    </tr>\n",
       "    <tr>\n",
       "      <th>129</th>\n",
       "      <td>130</td>\n",
       "      <td>MERU</td>\n",
       "      <td>Wheat</td>\n",
       "      <td>10180</td>\n",
       "      <td>49475</td>\n",
       "      <td>4.9</td>\n",
       "    </tr>\n",
       "    <tr>\n",
       "      <th>158</th>\n",
       "      <td>159</td>\n",
       "      <td>VIHIGA</td>\n",
       "      <td>Rice</td>\n",
       "      <td>4</td>\n",
       "      <td>18</td>\n",
       "      <td>4.5</td>\n",
       "    </tr>\n",
       "  </tbody>\n",
       "</table>\n",
       "</div>"
      ],
      "text/plain": [
       "     _id    County            CROP Area__HA Production__Tons  \\\n",
       "1      2     BOMET           Beans    39002         50140.76   \n",
       "3      4     BUSIA           Beans    27351            36422   \n",
       "54    55  HOMA BAY         Sorghum   18,925           37,440   \n",
       "56    57   KAJIADO         Sorghum       46               93   \n",
       "98    99      EMBU  Irish Potatoes      332             6980   \n",
       "129  130      MERU           Wheat    10180            49475   \n",
       "158  159    VIHIGA            Rice        4               18   \n",
       "\n",
       "     Yield__Tons_per_HA  \n",
       "1                   1.3  \n",
       "3                   1.3  \n",
       "54                  2.0  \n",
       "56                  2.0  \n",
       "98                 21.0  \n",
       "129                 4.9  \n",
       "158                 4.5  "
      ]
     },
     "execution_count": 46,
     "metadata": {},
     "output_type": "execute_result"
    }
   ],
   "source": [
    "counties[maxmum]"
   ]
  },
  {
   "cell_type": "markdown",
   "metadata": {
    "id": "RThkGthMqs_C"
   },
   "source": [
    "## 3. Which is the best duration to sell a specific commodity?"
   ]
  },
  {
   "cell_type": "code",
   "execution_count": 47,
   "metadata": {
    "colab": {
     "base_uri": "https://localhost:8080/",
     "height": 204
    },
    "id": "z2Qvxw8YrHgI",
    "outputId": "da60e9d8-eafe-4bec-abd2-2989c7732c3c"
   },
   "outputs": [
    {
     "data": {
      "text/html": [
       "<div>\n",
       "<style scoped>\n",
       "    .dataframe tbody tr th:only-of-type {\n",
       "        vertical-align: middle;\n",
       "    }\n",
       "\n",
       "    .dataframe tbody tr th {\n",
       "        vertical-align: top;\n",
       "    }\n",
       "\n",
       "    .dataframe thead th {\n",
       "        text-align: right;\n",
       "    }\n",
       "</style>\n",
       "<table border=\"1\" class=\"dataframe\">\n",
       "  <thead>\n",
       "    <tr style=\"text-align: right;\">\n",
       "      <th></th>\n",
       "      <th>Produce_Variety</th>\n",
       "      <th>Commodity_Type</th>\n",
       "      <th>Unit</th>\n",
       "      <th>Volume_in_Kgs</th>\n",
       "      <th>Values_in_Ksh</th>\n",
       "      <th>Date</th>\n",
       "      <th>OBJECTID</th>\n",
       "      <th>Month</th>\n",
       "    </tr>\n",
       "  </thead>\n",
       "  <tbody>\n",
       "    <tr>\n",
       "      <th>0</th>\n",
       "      <td>Horticulture</td>\n",
       "      <td>Cabbages</td>\n",
       "      <td>Ext Bag</td>\n",
       "      <td>126</td>\n",
       "      <td>2205.0</td>\n",
       "      <td>2012-01-01</td>\n",
       "      <td>0</td>\n",
       "      <td>1</td>\n",
       "    </tr>\n",
       "    <tr>\n",
       "      <th>1</th>\n",
       "      <td>Horticulture</td>\n",
       "      <td>Cooking Bananas</td>\n",
       "      <td>Med Bunch</td>\n",
       "      <td>22</td>\n",
       "      <td>511.0</td>\n",
       "      <td>2012-01-01</td>\n",
       "      <td>1</td>\n",
       "      <td>1</td>\n",
       "    </tr>\n",
       "    <tr>\n",
       "      <th>2</th>\n",
       "      <td>Horticulture</td>\n",
       "      <td>Ripe Bananas</td>\n",
       "      <td>Med Bunch</td>\n",
       "      <td>14</td>\n",
       "      <td>616.0</td>\n",
       "      <td>2012-01-01</td>\n",
       "      <td>2</td>\n",
       "      <td>1</td>\n",
       "    </tr>\n",
       "    <tr>\n",
       "      <th>3</th>\n",
       "      <td>Horticulture</td>\n",
       "      <td>Carrots</td>\n",
       "      <td>Ext Bag</td>\n",
       "      <td>138</td>\n",
       "      <td>2833.0</td>\n",
       "      <td>2012-01-01</td>\n",
       "      <td>3</td>\n",
       "      <td>1</td>\n",
       "    </tr>\n",
       "    <tr>\n",
       "      <th>4</th>\n",
       "      <td>Horticulture</td>\n",
       "      <td>Tomatoes</td>\n",
       "      <td>Lg Box</td>\n",
       "      <td>64</td>\n",
       "      <td>3411.0</td>\n",
       "      <td>2012-01-01</td>\n",
       "      <td>4</td>\n",
       "      <td>1</td>\n",
       "    </tr>\n",
       "  </tbody>\n",
       "</table>\n",
       "</div>"
      ],
      "text/plain": [
       "  Produce_Variety   Commodity_Type       Unit  Volume_in_Kgs  Values_in_Ksh  \\\n",
       "0    Horticulture         Cabbages    Ext Bag            126         2205.0   \n",
       "1    Horticulture  Cooking Bananas  Med Bunch             22          511.0   \n",
       "2    Horticulture     Ripe Bananas  Med Bunch             14          616.0   \n",
       "3    Horticulture          Carrots    Ext Bag            138         2833.0   \n",
       "4    Horticulture         Tomatoes     Lg Box             64         3411.0   \n",
       "\n",
       "        Date  OBJECTID  Month  \n",
       "0 2012-01-01         0      1  \n",
       "1 2012-01-01         1      1  \n",
       "2 2012-01-01         2      1  \n",
       "3 2012-01-01         3      1  \n",
       "4 2012-01-01         4      1  "
      ]
     },
     "execution_count": 47,
     "metadata": {},
     "output_type": "execute_result"
    }
   ],
   "source": [
    "#Add months column to group by\n",
    "crops['Month'] = crops['Date'].dt.month\n",
    "crops.head()\n"
   ]
  },
  {
   "cell_type": "code",
   "execution_count": 48,
   "metadata": {
    "colab": {
     "base_uri": "https://localhost:8080/",
     "height": 1000
    },
    "id": "VcaN6FNIoO7w",
    "outputId": "e2f1c8a7-1805-4aea-de0a-b8a3245634e0"
   },
   "outputs": [
    {
     "data": {
      "text/html": [
       "<div>\n",
       "<style scoped>\n",
       "    .dataframe tbody tr th:only-of-type {\n",
       "        vertical-align: middle;\n",
       "    }\n",
       "\n",
       "    .dataframe tbody tr th {\n",
       "        vertical-align: top;\n",
       "    }\n",
       "\n",
       "    .dataframe thead th {\n",
       "        text-align: right;\n",
       "    }\n",
       "</style>\n",
       "<table border=\"1\" class=\"dataframe\">\n",
       "  <thead>\n",
       "    <tr style=\"text-align: right;\">\n",
       "      <th></th>\n",
       "      <th></th>\n",
       "      <th>Unit</th>\n",
       "      <th>Volume_in_Kgs</th>\n",
       "      <th>Values_in_Ksh</th>\n",
       "    </tr>\n",
       "    <tr>\n",
       "      <th>Month</th>\n",
       "      <th>Commodity_Type</th>\n",
       "      <th></th>\n",
       "      <th></th>\n",
       "      <th></th>\n",
       "    </tr>\n",
       "  </thead>\n",
       "  <tbody>\n",
       "    <tr>\n",
       "      <th>1</th>\n",
       "      <th>Oranges</th>\n",
       "      <td>Bag</td>\n",
       "      <td>93</td>\n",
       "      <td>3795.0</td>\n",
       "    </tr>\n",
       "    <tr>\n",
       "      <th rowspan=\"5\" valign=\"top\">2</th>\n",
       "      <th>Brinjals</th>\n",
       "      <td>Bag</td>\n",
       "      <td>44</td>\n",
       "      <td>2126.0</td>\n",
       "    </tr>\n",
       "    <tr>\n",
       "      <th>Cooking Bananas</th>\n",
       "      <td>Med Bunch</td>\n",
       "      <td>22</td>\n",
       "      <td>629.0</td>\n",
       "    </tr>\n",
       "    <tr>\n",
       "      <th>Pawpaw</th>\n",
       "      <td>Lg Box</td>\n",
       "      <td>54</td>\n",
       "      <td>2005.0</td>\n",
       "    </tr>\n",
       "    <tr>\n",
       "      <th>Ripe Bananas</th>\n",
       "      <td>Med Bunch</td>\n",
       "      <td>14</td>\n",
       "      <td>708.0</td>\n",
       "    </tr>\n",
       "    <tr>\n",
       "      <th>Sorghum</th>\n",
       "      <td>Bag</td>\n",
       "      <td>90</td>\n",
       "      <td>4202.0</td>\n",
       "    </tr>\n",
       "    <tr>\n",
       "      <th rowspan=\"4\" valign=\"top\">3</th>\n",
       "      <th>Cabbages</th>\n",
       "      <td>Ext Bag</td>\n",
       "      <td>126</td>\n",
       "      <td>3049.0</td>\n",
       "    </tr>\n",
       "    <tr>\n",
       "      <th>Capsicums</th>\n",
       "      <td>Bag</td>\n",
       "      <td>50</td>\n",
       "      <td>3247.0</td>\n",
       "    </tr>\n",
       "    <tr>\n",
       "      <th>Cucumber</th>\n",
       "      <td>Bag</td>\n",
       "      <td>50</td>\n",
       "      <td>2742.0</td>\n",
       "    </tr>\n",
       "    <tr>\n",
       "      <th>Kales</th>\n",
       "      <td>Bag</td>\n",
       "      <td>50</td>\n",
       "      <td>2359.0</td>\n",
       "    </tr>\n",
       "    <tr>\n",
       "      <th rowspan=\"2\" valign=\"top\">4</th>\n",
       "      <th>Cauliflower</th>\n",
       "      <td>crate</td>\n",
       "      <td>39</td>\n",
       "      <td>3781.0</td>\n",
       "    </tr>\n",
       "    <tr>\n",
       "      <th>Lemons</th>\n",
       "      <td>Bag</td>\n",
       "      <td>95</td>\n",
       "      <td>2611.0</td>\n",
       "    </tr>\n",
       "    <tr>\n",
       "      <th rowspan=\"14\" valign=\"top\">5</th>\n",
       "      <th>Avocado</th>\n",
       "      <td>Bag</td>\n",
       "      <td>90</td>\n",
       "      <td>2705.0</td>\n",
       "    </tr>\n",
       "    <tr>\n",
       "      <th>Beans Mwitemania</th>\n",
       "      <td>Bag</td>\n",
       "      <td>90</td>\n",
       "      <td>6903.0</td>\n",
       "    </tr>\n",
       "    <tr>\n",
       "      <th>Beans Rosecoco</th>\n",
       "      <td>Bag</td>\n",
       "      <td>90</td>\n",
       "      <td>7522.0</td>\n",
       "    </tr>\n",
       "    <tr>\n",
       "      <th>Cassava Fresh</th>\n",
       "      <td>Bag</td>\n",
       "      <td>99</td>\n",
       "      <td>2350.0</td>\n",
       "    </tr>\n",
       "    <tr>\n",
       "      <th>Cowpeas</th>\n",
       "      <td>Bag</td>\n",
       "      <td>90</td>\n",
       "      <td>7509.0</td>\n",
       "    </tr>\n",
       "    <tr>\n",
       "      <th>Finger Millet</th>\n",
       "      <td>Bag</td>\n",
       "      <td>90</td>\n",
       "      <td>7216.0</td>\n",
       "    </tr>\n",
       "    <tr>\n",
       "      <th>Fresh Peas</th>\n",
       "      <td>Bag</td>\n",
       "      <td>51</td>\n",
       "      <td>4343.0</td>\n",
       "    </tr>\n",
       "    <tr>\n",
       "      <th>Green Gram</th>\n",
       "      <td>Bag</td>\n",
       "      <td>90</td>\n",
       "      <td>11905.0</td>\n",
       "    </tr>\n",
       "    <tr>\n",
       "      <th>Green Maize</th>\n",
       "      <td>Ext Bag</td>\n",
       "      <td>115</td>\n",
       "      <td>3872.0</td>\n",
       "    </tr>\n",
       "    <tr>\n",
       "      <th>Limes</th>\n",
       "      <td>net</td>\n",
       "      <td>13</td>\n",
       "      <td>1135.0</td>\n",
       "    </tr>\n",
       "    <tr>\n",
       "      <th>Red Irish Potatoes</th>\n",
       "      <td>Bag</td>\n",
       "      <td>110</td>\n",
       "      <td>3812.0</td>\n",
       "    </tr>\n",
       "    <tr>\n",
       "      <th>Spring Onions</th>\n",
       "      <td>Bag</td>\n",
       "      <td>142</td>\n",
       "      <td>2571.0</td>\n",
       "    </tr>\n",
       "    <tr>\n",
       "      <th>Tomatoes</th>\n",
       "      <td>Lg Box</td>\n",
       "      <td>64</td>\n",
       "      <td>5664.0</td>\n",
       "    </tr>\n",
       "    <tr>\n",
       "      <th>White Irish Potatoes</th>\n",
       "      <td>Bag</td>\n",
       "      <td>110</td>\n",
       "      <td>3935.0</td>\n",
       "    </tr>\n",
       "    <tr>\n",
       "      <th rowspan=\"7\" valign=\"top\">6</th>\n",
       "      <th>Beans Canadian</th>\n",
       "      <td>Bag</td>\n",
       "      <td>90</td>\n",
       "      <td>7471.0</td>\n",
       "    </tr>\n",
       "    <tr>\n",
       "      <th>Carrots</th>\n",
       "      <td>Ext Bag</td>\n",
       "      <td>138</td>\n",
       "      <td>5715.0</td>\n",
       "    </tr>\n",
       "    <tr>\n",
       "      <th>Mwezi Moja</th>\n",
       "      <td>Bag</td>\n",
       "      <td>90</td>\n",
       "      <td>7279.0</td>\n",
       "    </tr>\n",
       "    <tr>\n",
       "      <th>Onions Dry</th>\n",
       "      <td>net</td>\n",
       "      <td>13</td>\n",
       "      <td>1259.0</td>\n",
       "    </tr>\n",
       "    <tr>\n",
       "      <th>Passion Fruits</th>\n",
       "      <td>Bag</td>\n",
       "      <td>57</td>\n",
       "      <td>4675.0</td>\n",
       "    </tr>\n",
       "    <tr>\n",
       "      <th>Sweet Potatoes</th>\n",
       "      <td>Bag</td>\n",
       "      <td>98</td>\n",
       "      <td>3259.0</td>\n",
       "    </tr>\n",
       "    <tr>\n",
       "      <th>Wheat</th>\n",
       "      <td>Bag</td>\n",
       "      <td>90</td>\n",
       "      <td>4540.0</td>\n",
       "    </tr>\n",
       "    <tr>\n",
       "      <th>7</th>\n",
       "      <th>Groundnuts</th>\n",
       "      <td>Bag</td>\n",
       "      <td>110</td>\n",
       "      <td>13713.0</td>\n",
       "    </tr>\n",
       "    <tr>\n",
       "      <th rowspan=\"5\" valign=\"top\">9</th>\n",
       "      <th>Chillies</th>\n",
       "      <td>Bag</td>\n",
       "      <td>38</td>\n",
       "      <td>3783.0</td>\n",
       "    </tr>\n",
       "    <tr>\n",
       "      <th>Lettuce</th>\n",
       "      <td>Bag</td>\n",
       "      <td>51</td>\n",
       "      <td>4983.0</td>\n",
       "    </tr>\n",
       "    <tr>\n",
       "      <th>Mangoes Local</th>\n",
       "      <td>Bag</td>\n",
       "      <td>126</td>\n",
       "      <td>2688.0</td>\n",
       "    </tr>\n",
       "    <tr>\n",
       "      <th>Mangoes Ngowe</th>\n",
       "      <td>Sm Basket</td>\n",
       "      <td>25</td>\n",
       "      <td>1262.0</td>\n",
       "    </tr>\n",
       "    <tr>\n",
       "      <th>Pineapples</th>\n",
       "      <td>Dozen</td>\n",
       "      <td>13</td>\n",
       "      <td>935.0</td>\n",
       "    </tr>\n",
       "    <tr>\n",
       "      <th rowspan=\"2\" valign=\"top\">12</th>\n",
       "      <th>Dolichos (Njahi)</th>\n",
       "      <td>Bag</td>\n",
       "      <td>90</td>\n",
       "      <td>12622.0</td>\n",
       "    </tr>\n",
       "    <tr>\n",
       "      <th>Dry Maize</th>\n",
       "      <td>Bag</td>\n",
       "      <td>90</td>\n",
       "      <td>3037.0</td>\n",
       "    </tr>\n",
       "  </tbody>\n",
       "</table>\n",
       "</div>"
      ],
      "text/plain": [
       "                                 Unit  Volume_in_Kgs  Values_in_Ksh\n",
       "Month Commodity_Type                                               \n",
       "1     Oranges                     Bag             93         3795.0\n",
       "2     Brinjals                    Bag             44         2126.0\n",
       "      Cooking Bananas       Med Bunch             22          629.0\n",
       "      Pawpaw                   Lg Box             54         2005.0\n",
       "      Ripe Bananas          Med Bunch             14          708.0\n",
       "      Sorghum                     Bag             90         4202.0\n",
       "3     Cabbages                Ext Bag            126         3049.0\n",
       "      Capsicums                   Bag             50         3247.0\n",
       "      Cucumber                    Bag             50         2742.0\n",
       "      Kales                       Bag             50         2359.0\n",
       "4     Cauliflower               crate             39         3781.0\n",
       "      Lemons                      Bag             95         2611.0\n",
       "5     Avocado                     Bag             90         2705.0\n",
       "      Beans Mwitemania            Bag             90         6903.0\n",
       "      Beans Rosecoco              Bag             90         7522.0\n",
       "      Cassava Fresh               Bag             99         2350.0\n",
       "      Cowpeas                     Bag             90         7509.0\n",
       "      Finger Millet               Bag             90         7216.0\n",
       "      Fresh Peas                  Bag             51         4343.0\n",
       "      Green Gram                  Bag             90        11905.0\n",
       "      Green Maize             Ext Bag            115         3872.0\n",
       "      Limes                       net             13         1135.0\n",
       "      Red Irish Potatoes          Bag            110         3812.0\n",
       "      Spring Onions               Bag            142         2571.0\n",
       "      Tomatoes                 Lg Box             64         5664.0\n",
       "      White Irish Potatoes        Bag            110         3935.0\n",
       "6     Beans Canadian              Bag             90         7471.0\n",
       "      Carrots                 Ext Bag            138         5715.0\n",
       "      Mwezi Moja                  Bag             90         7279.0\n",
       "      Onions Dry                  net             13         1259.0\n",
       "      Passion Fruits              Bag             57         4675.0\n",
       "      Sweet Potatoes              Bag             98         3259.0\n",
       "      Wheat                       Bag             90         4540.0\n",
       "7     Groundnuts                  Bag            110        13713.0\n",
       "9     Chillies                    Bag             38         3783.0\n",
       "      Lettuce                     Bag             51         4983.0\n",
       "      Mangoes Local               Bag            126         2688.0\n",
       "      Mangoes Ngowe         Sm Basket             25         1262.0\n",
       "      Pineapples                Dozen             13          935.0\n",
       "12    Dolichos (Njahi)            Bag             90        12622.0\n",
       "      Dry Maize                   Bag             90         3037.0"
      ]
     },
     "execution_count": 48,
     "metadata": {},
     "output_type": "execute_result"
    }
   ],
   "source": [
    "a=crops.groupby(['Commodity_Type'])['Values_in_Ksh'].transform(max) == crops['Values_in_Ksh']\n",
    "b=crops[a].groupby(['Month','Commodity_Type']).max()\n",
    "b.drop(columns=['Produce_Variety','Date','OBJECTID'])"
   ]
  },
  {
   "cell_type": "markdown",
   "metadata": {
    "id": "3Gbb7-UxrTnX"
   },
   "source": [
    "## 4. What is the best selling commodity in various counties?"
   ]
  },
  {
   "cell_type": "code",
   "execution_count": 49,
   "metadata": {
    "colab": {
     "base_uri": "https://localhost:8080/",
     "height": 204
    },
    "id": "aYpWZj5XrZgg",
    "outputId": "cbe2158d-953d-411a-e379-ec64520b2cd9"
   },
   "outputs": [
    {
     "data": {
      "text/html": [
       "<div>\n",
       "<style scoped>\n",
       "    .dataframe tbody tr th:only-of-type {\n",
       "        vertical-align: middle;\n",
       "    }\n",
       "\n",
       "    .dataframe tbody tr th {\n",
       "        vertical-align: top;\n",
       "    }\n",
       "\n",
       "    .dataframe thead th {\n",
       "        text-align: right;\n",
       "    }\n",
       "</style>\n",
       "<table border=\"1\" class=\"dataframe\">\n",
       "  <thead>\n",
       "    <tr style=\"text-align: right;\">\n",
       "      <th></th>\n",
       "      <th>Produce_Variety</th>\n",
       "      <th>Commodity_Type</th>\n",
       "      <th>Unit</th>\n",
       "      <th>Volume_in_Kgs</th>\n",
       "      <th>Values_in_Ksh</th>\n",
       "      <th>Date</th>\n",
       "      <th>OBJECTID</th>\n",
       "      <th>Month</th>\n",
       "      <th>value_per_kg</th>\n",
       "    </tr>\n",
       "  </thead>\n",
       "  <tbody>\n",
       "    <tr>\n",
       "      <th>0</th>\n",
       "      <td>Horticulture</td>\n",
       "      <td>Cabbages</td>\n",
       "      <td>Ext Bag</td>\n",
       "      <td>126</td>\n",
       "      <td>2205.0</td>\n",
       "      <td>2012-01-01</td>\n",
       "      <td>0</td>\n",
       "      <td>1</td>\n",
       "      <td>17.50</td>\n",
       "    </tr>\n",
       "    <tr>\n",
       "      <th>1</th>\n",
       "      <td>Horticulture</td>\n",
       "      <td>Cooking Bananas</td>\n",
       "      <td>Med Bunch</td>\n",
       "      <td>22</td>\n",
       "      <td>511.0</td>\n",
       "      <td>2012-01-01</td>\n",
       "      <td>1</td>\n",
       "      <td>1</td>\n",
       "      <td>23.23</td>\n",
       "    </tr>\n",
       "    <tr>\n",
       "      <th>2</th>\n",
       "      <td>Horticulture</td>\n",
       "      <td>Ripe Bananas</td>\n",
       "      <td>Med Bunch</td>\n",
       "      <td>14</td>\n",
       "      <td>616.0</td>\n",
       "      <td>2012-01-01</td>\n",
       "      <td>2</td>\n",
       "      <td>1</td>\n",
       "      <td>44.00</td>\n",
       "    </tr>\n",
       "    <tr>\n",
       "      <th>3</th>\n",
       "      <td>Horticulture</td>\n",
       "      <td>Carrots</td>\n",
       "      <td>Ext Bag</td>\n",
       "      <td>138</td>\n",
       "      <td>2833.0</td>\n",
       "      <td>2012-01-01</td>\n",
       "      <td>3</td>\n",
       "      <td>1</td>\n",
       "      <td>20.53</td>\n",
       "    </tr>\n",
       "    <tr>\n",
       "      <th>4</th>\n",
       "      <td>Horticulture</td>\n",
       "      <td>Tomatoes</td>\n",
       "      <td>Lg Box</td>\n",
       "      <td>64</td>\n",
       "      <td>3411.0</td>\n",
       "      <td>2012-01-01</td>\n",
       "      <td>4</td>\n",
       "      <td>1</td>\n",
       "      <td>53.30</td>\n",
       "    </tr>\n",
       "  </tbody>\n",
       "</table>\n",
       "</div>"
      ],
      "text/plain": [
       "  Produce_Variety   Commodity_Type       Unit  Volume_in_Kgs  Values_in_Ksh  \\\n",
       "0    Horticulture         Cabbages    Ext Bag            126         2205.0   \n",
       "1    Horticulture  Cooking Bananas  Med Bunch             22          511.0   \n",
       "2    Horticulture     Ripe Bananas  Med Bunch             14          616.0   \n",
       "3    Horticulture          Carrots    Ext Bag            138         2833.0   \n",
       "4    Horticulture         Tomatoes     Lg Box             64         3411.0   \n",
       "\n",
       "        Date  OBJECTID  Month  value_per_kg  \n",
       "0 2012-01-01         0      1         17.50  \n",
       "1 2012-01-01         1      1         23.23  \n",
       "2 2012-01-01         2      1         44.00  \n",
       "3 2012-01-01         3      1         20.53  \n",
       "4 2012-01-01         4      1         53.30  "
      ]
     },
     "execution_count": 49,
     "metadata": {},
     "output_type": "execute_result"
    }
   ],
   "source": [
    "\n",
    "crops['value_per_kg']= (crops['Values_in_Ksh']/crops['Volume_in_Kgs']).round(2)\n",
    "crops.head()"
   ]
  },
  {
   "cell_type": "code",
   "execution_count": 50,
   "metadata": {
    "colab": {
     "base_uri": "https://localhost:8080/",
     "height": 204
    },
    "id": "qnRvNhZCDyOp",
    "outputId": "a8dfded5-5344-4354-b8e5-a61f03732f3b"
   },
   "outputs": [
    {
     "data": {
      "text/html": [
       "<div>\n",
       "<style scoped>\n",
       "    .dataframe tbody tr th:only-of-type {\n",
       "        vertical-align: middle;\n",
       "    }\n",
       "\n",
       "    .dataframe tbody tr th {\n",
       "        vertical-align: top;\n",
       "    }\n",
       "\n",
       "    .dataframe thead th {\n",
       "        text-align: right;\n",
       "    }\n",
       "</style>\n",
       "<table border=\"1\" class=\"dataframe\">\n",
       "  <thead>\n",
       "    <tr style=\"text-align: right;\">\n",
       "      <th></th>\n",
       "      <th>_id</th>\n",
       "      <th>County</th>\n",
       "      <th>CROP</th>\n",
       "      <th>Area__HA</th>\n",
       "      <th>Production__Tons</th>\n",
       "      <th>Yield__Tons_per_HA</th>\n",
       "    </tr>\n",
       "  </thead>\n",
       "  <tbody>\n",
       "    <tr>\n",
       "      <th>0</th>\n",
       "      <td>1</td>\n",
       "      <td>BARINGO</td>\n",
       "      <td>Beans</td>\n",
       "      <td>15669</td>\n",
       "      <td>11034</td>\n",
       "      <td>0.7</td>\n",
       "    </tr>\n",
       "    <tr>\n",
       "      <th>1</th>\n",
       "      <td>2</td>\n",
       "      <td>BOMET</td>\n",
       "      <td>Beans</td>\n",
       "      <td>39002</td>\n",
       "      <td>50140.76</td>\n",
       "      <td>1.3</td>\n",
       "    </tr>\n",
       "    <tr>\n",
       "      <th>2</th>\n",
       "      <td>3</td>\n",
       "      <td>BUNGOMA</td>\n",
       "      <td>Beans</td>\n",
       "      <td>77367</td>\n",
       "      <td>61051.12</td>\n",
       "      <td>0.8</td>\n",
       "    </tr>\n",
       "    <tr>\n",
       "      <th>3</th>\n",
       "      <td>4</td>\n",
       "      <td>BUSIA</td>\n",
       "      <td>Beans</td>\n",
       "      <td>27351</td>\n",
       "      <td>36422</td>\n",
       "      <td>1.3</td>\n",
       "    </tr>\n",
       "    <tr>\n",
       "      <th>4</th>\n",
       "      <td>5</td>\n",
       "      <td>ELGEYO MARAKWET</td>\n",
       "      <td>Beans</td>\n",
       "      <td>14873</td>\n",
       "      <td>16354.62</td>\n",
       "      <td>1.1</td>\n",
       "    </tr>\n",
       "  </tbody>\n",
       "</table>\n",
       "</div>"
      ],
      "text/plain": [
       "   _id           County   CROP Area__HA Production__Tons  Yield__Tons_per_HA\n",
       "0    1          BARINGO  Beans    15669            11034                 0.7\n",
       "1    2            BOMET  Beans    39002         50140.76                 1.3\n",
       "2    3          BUNGOMA  Beans    77367         61051.12                 0.8\n",
       "3    4            BUSIA  Beans    27351            36422                 1.3\n",
       "4    5  ELGEYO MARAKWET  Beans    14873         16354.62                 1.1"
      ]
     },
     "execution_count": 50,
     "metadata": {},
     "output_type": "execute_result"
    }
   ],
   "source": [
    "counties.head()"
   ]
  },
  {
   "cell_type": "code",
   "execution_count": 51,
   "metadata": {
    "colab": {
     "base_uri": "https://localhost:8080/",
     "height": 266
    },
    "id": "d8B8zj-ID0GM",
    "outputId": "b4c5498d-3864-45e5-d95a-fe0066b4d2e9"
   },
   "outputs": [
    {
     "data": {
      "text/html": [
       "<div>\n",
       "<style scoped>\n",
       "    .dataframe tbody tr th:only-of-type {\n",
       "        vertical-align: middle;\n",
       "    }\n",
       "\n",
       "    .dataframe tbody tr th {\n",
       "        vertical-align: top;\n",
       "    }\n",
       "\n",
       "    .dataframe thead th {\n",
       "        text-align: right;\n",
       "    }\n",
       "</style>\n",
       "<table border=\"1\" class=\"dataframe\">\n",
       "  <thead>\n",
       "    <tr style=\"text-align: right;\">\n",
       "      <th></th>\n",
       "      <th>_id</th>\n",
       "      <th>County</th>\n",
       "      <th>CROP</th>\n",
       "      <th>Area__HA</th>\n",
       "      <th>Production__Tons</th>\n",
       "      <th>Yield__Tons_per_HA</th>\n",
       "    </tr>\n",
       "  </thead>\n",
       "  <tbody>\n",
       "    <tr>\n",
       "      <th>1</th>\n",
       "      <td>2</td>\n",
       "      <td>BOMET</td>\n",
       "      <td>Beans</td>\n",
       "      <td>39002</td>\n",
       "      <td>50140.76</td>\n",
       "      <td>1.3</td>\n",
       "    </tr>\n",
       "    <tr>\n",
       "      <th>3</th>\n",
       "      <td>4</td>\n",
       "      <td>BUSIA</td>\n",
       "      <td>Beans</td>\n",
       "      <td>27351</td>\n",
       "      <td>36422</td>\n",
       "      <td>1.3</td>\n",
       "    </tr>\n",
       "    <tr>\n",
       "      <th>54</th>\n",
       "      <td>55</td>\n",
       "      <td>HOMA BAY</td>\n",
       "      <td>Sorghum</td>\n",
       "      <td>18,925</td>\n",
       "      <td>37,440</td>\n",
       "      <td>2.0</td>\n",
       "    </tr>\n",
       "    <tr>\n",
       "      <th>56</th>\n",
       "      <td>57</td>\n",
       "      <td>KAJIADO</td>\n",
       "      <td>Sorghum</td>\n",
       "      <td>46</td>\n",
       "      <td>93</td>\n",
       "      <td>2.0</td>\n",
       "    </tr>\n",
       "    <tr>\n",
       "      <th>98</th>\n",
       "      <td>99</td>\n",
       "      <td>EMBU</td>\n",
       "      <td>Irish Potatoes</td>\n",
       "      <td>332</td>\n",
       "      <td>6980</td>\n",
       "      <td>21.0</td>\n",
       "    </tr>\n",
       "    <tr>\n",
       "      <th>129</th>\n",
       "      <td>130</td>\n",
       "      <td>MERU</td>\n",
       "      <td>Wheat</td>\n",
       "      <td>10180</td>\n",
       "      <td>49475</td>\n",
       "      <td>4.9</td>\n",
       "    </tr>\n",
       "    <tr>\n",
       "      <th>158</th>\n",
       "      <td>159</td>\n",
       "      <td>VIHIGA</td>\n",
       "      <td>Rice</td>\n",
       "      <td>4</td>\n",
       "      <td>18</td>\n",
       "      <td>4.5</td>\n",
       "    </tr>\n",
       "  </tbody>\n",
       "</table>\n",
       "</div>"
      ],
      "text/plain": [
       "     _id    County            CROP Area__HA Production__Tons  \\\n",
       "1      2     BOMET           Beans    39002         50140.76   \n",
       "3      4     BUSIA           Beans    27351            36422   \n",
       "54    55  HOMA BAY         Sorghum   18,925           37,440   \n",
       "56    57   KAJIADO         Sorghum       46               93   \n",
       "98    99      EMBU  Irish Potatoes      332             6980   \n",
       "129  130      MERU           Wheat    10180            49475   \n",
       "158  159    VIHIGA            Rice        4               18   \n",
       "\n",
       "     Yield__Tons_per_HA  \n",
       "1                   1.3  \n",
       "3                   1.3  \n",
       "54                  2.0  \n",
       "56                  2.0  \n",
       "98                 21.0  \n",
       "129                 4.9  \n",
       "158                 4.5  "
      ]
     },
     "execution_count": 51,
     "metadata": {},
     "output_type": "execute_result"
    }
   ],
   "source": [
    "counties[maxmum]"
   ]
  },
  {
   "cell_type": "code",
   "execution_count": 52,
   "metadata": {
    "colab": {
     "base_uri": "https://localhost:8080/"
    },
    "id": "C-_tNGKLJ3ex",
    "outputId": "97da3f08-71f6-43f9-aff8-eb1e77e605c5"
   },
   "outputs": [
    {
     "data": {
      "text/html": [
       "<div>\n",
       "<style scoped>\n",
       "    .dataframe tbody tr th:only-of-type {\n",
       "        vertical-align: middle;\n",
       "    }\n",
       "\n",
       "    .dataframe tbody tr th {\n",
       "        vertical-align: top;\n",
       "    }\n",
       "\n",
       "    .dataframe thead th {\n",
       "        text-align: right;\n",
       "    }\n",
       "</style>\n",
       "<table border=\"1\" class=\"dataframe\">\n",
       "  <thead>\n",
       "    <tr style=\"text-align: right;\">\n",
       "      <th></th>\n",
       "      <th>COMMODITY</th>\n",
       "      <th>Unit</th>\n",
       "      <th>Kg</th>\n",
       "      <th>Nairobi</th>\n",
       "      <th>Mombasa</th>\n",
       "      <th>Kisumu</th>\n",
       "      <th>Nakuru</th>\n",
       "      <th>Eldoret</th>\n",
       "      <th>Malindi</th>\n",
       "      <th>Kitale</th>\n",
       "      <th>Kisii</th>\n",
       "      <th>Kitui</th>\n",
       "      <th>Busia</th>\n",
       "      <th>Loitoktok</th>\n",
       "      <th>Garissa</th>\n",
       "      <th>Karatina</th>\n",
       "      <th>Embu</th>\n",
       "      <th>Average</th>\n",
       "      <th>Maximum.</th>\n",
       "    </tr>\n",
       "  </thead>\n",
       "  <tbody>\n",
       "    <tr>\n",
       "      <th>0</th>\n",
       "      <td>Dry Maize</td>\n",
       "      <td>Bag</td>\n",
       "      <td>90.0</td>\n",
       "      <td>2995.000000</td>\n",
       "      <td>3100.000000</td>\n",
       "      <td>3200.000000</td>\n",
       "      <td>2380.000000</td>\n",
       "      <td>2600.000000</td>\n",
       "      <td>3240.0000</td>\n",
       "      <td>2261.111111</td>\n",
       "      <td>3200.000000</td>\n",
       "      <td>3400.0</td>\n",
       "      <td>2373.750000</td>\n",
       "      <td>3200.0</td>\n",
       "      <td>3600.0</td>\n",
       "      <td>2800.0</td>\n",
       "      <td>3000.0</td>\n",
       "      <td>2953.561508</td>\n",
       "      <td>3600.0000</td>\n",
       "    </tr>\n",
       "    <tr>\n",
       "      <th>1</th>\n",
       "      <td>Green Maize</td>\n",
       "      <td>Ext Bag</td>\n",
       "      <td>115.0</td>\n",
       "      <td>3199.583333</td>\n",
       "      <td>5155.416667</td>\n",
       "      <td>1990.000000</td>\n",
       "      <td>1941.666667</td>\n",
       "      <td>1725.000000</td>\n",
       "      <td>3000.0000</td>\n",
       "      <td>1200.000000</td>\n",
       "      <td>3500.000000</td>\n",
       "      <td>2000.0</td>\n",
       "      <td>1500.000000</td>\n",
       "      <td>3250.0</td>\n",
       "      <td>6100.0</td>\n",
       "      <td>1000.0</td>\n",
       "      <td>2000.0</td>\n",
       "      <td>2682.976190</td>\n",
       "      <td>6100.0000</td>\n",
       "    </tr>\n",
       "    <tr>\n",
       "      <th>2</th>\n",
       "      <td>Finger Millet</td>\n",
       "      <td>Bag</td>\n",
       "      <td>90.0</td>\n",
       "      <td>5530.000000</td>\n",
       "      <td>6525.000000</td>\n",
       "      <td>7200.000000</td>\n",
       "      <td>5311.250000</td>\n",
       "      <td>7200.000000</td>\n",
       "      <td>5602.5000</td>\n",
       "      <td>4500.000000</td>\n",
       "      <td>7300.000000</td>\n",
       "      <td>7800.0</td>\n",
       "      <td>4725.000000</td>\n",
       "      <td>0.0</td>\n",
       "      <td>7200.0</td>\n",
       "      <td>6000.0</td>\n",
       "      <td>5200.0</td>\n",
       "      <td>6161.057692</td>\n",
       "      <td>7800.0000</td>\n",
       "    </tr>\n",
       "    <tr>\n",
       "      <th>3</th>\n",
       "      <td>Sorghum</td>\n",
       "      <td>Bag</td>\n",
       "      <td>90.0</td>\n",
       "      <td>3470.000000</td>\n",
       "      <td>3366.666667</td>\n",
       "      <td>3416.666667</td>\n",
       "      <td>3100.000000</td>\n",
       "      <td>3200.000000</td>\n",
       "      <td>4357.5000</td>\n",
       "      <td>1830.000000</td>\n",
       "      <td>0.000000</td>\n",
       "      <td>4500.0</td>\n",
       "      <td>2475.000000</td>\n",
       "      <td>0.0</td>\n",
       "      <td>6500.0</td>\n",
       "      <td>3000.0</td>\n",
       "      <td>4800.0</td>\n",
       "      <td>3667.986111</td>\n",
       "      <td>6500.0000</td>\n",
       "    </tr>\n",
       "    <tr>\n",
       "      <th>4</th>\n",
       "      <td>Wheat</td>\n",
       "      <td>Bag</td>\n",
       "      <td>90.0</td>\n",
       "      <td>0.000000</td>\n",
       "      <td>0.000000</td>\n",
       "      <td>0.000000</td>\n",
       "      <td>3515.000000</td>\n",
       "      <td>2800.000000</td>\n",
       "      <td>4500.0000</td>\n",
       "      <td>0.000000</td>\n",
       "      <td>0.000000</td>\n",
       "      <td>0.0</td>\n",
       "      <td>0.000000</td>\n",
       "      <td>0.0</td>\n",
       "      <td>5500.0</td>\n",
       "      <td>3500.0</td>\n",
       "      <td>4000.0</td>\n",
       "      <td>3969.166667</td>\n",
       "      <td>5500.0000</td>\n",
       "    </tr>\n",
       "    <tr>\n",
       "      <th>5</th>\n",
       "      <td>Beans Canadian</td>\n",
       "      <td>Bag</td>\n",
       "      <td>90.0</td>\n",
       "      <td>5315.000000</td>\n",
       "      <td>0.000000</td>\n",
       "      <td>6200.000000</td>\n",
       "      <td>0.000000</td>\n",
       "      <td>0.000000</td>\n",
       "      <td>6300.0000</td>\n",
       "      <td>3733.333333</td>\n",
       "      <td>0.000000</td>\n",
       "      <td>0.0</td>\n",
       "      <td>4500.000000</td>\n",
       "      <td>0.0</td>\n",
       "      <td>5400.0</td>\n",
       "      <td>6500.0</td>\n",
       "      <td>5000.0</td>\n",
       "      <td>5368.541667</td>\n",
       "      <td>6500.0000</td>\n",
       "    </tr>\n",
       "    <tr>\n",
       "      <th>6</th>\n",
       "      <td>Beans Rosecoco</td>\n",
       "      <td>Bag</td>\n",
       "      <td>90.0</td>\n",
       "      <td>5200.000000</td>\n",
       "      <td>4995.000000</td>\n",
       "      <td>6000.000000</td>\n",
       "      <td>4800.000000</td>\n",
       "      <td>5850.000000</td>\n",
       "      <td>6015.0000</td>\n",
       "      <td>3733.333333</td>\n",
       "      <td>4900.000000</td>\n",
       "      <td>5600.0</td>\n",
       "      <td>4556.250000</td>\n",
       "      <td>0.0</td>\n",
       "      <td>5400.0</td>\n",
       "      <td>5500.0</td>\n",
       "      <td>5500.0</td>\n",
       "      <td>5234.583333</td>\n",
       "      <td>6015.0000</td>\n",
       "    </tr>\n",
       "    <tr>\n",
       "      <th>7</th>\n",
       "      <td>Beans Mwitemania</td>\n",
       "      <td>Bag</td>\n",
       "      <td>90.0</td>\n",
       "      <td>5070.000000</td>\n",
       "      <td>5868.750000</td>\n",
       "      <td>0.000000</td>\n",
       "      <td>4050.000000</td>\n",
       "      <td>4557.000000</td>\n",
       "      <td>6015.0000</td>\n",
       "      <td>3733.333333</td>\n",
       "      <td>0.000000</td>\n",
       "      <td>6000.0</td>\n",
       "      <td>0.000000</td>\n",
       "      <td>5750.0</td>\n",
       "      <td>5500.0</td>\n",
       "      <td>4560.0</td>\n",
       "      <td>4000.0</td>\n",
       "      <td>5009.462121</td>\n",
       "      <td>6015.0000</td>\n",
       "    </tr>\n",
       "    <tr>\n",
       "      <th>8</th>\n",
       "      <td>Mwezi Moja</td>\n",
       "      <td>Bag</td>\n",
       "      <td>90.0</td>\n",
       "      <td>5030.000000</td>\n",
       "      <td>0.000000</td>\n",
       "      <td>0.000000</td>\n",
       "      <td>4333.333333</td>\n",
       "      <td>0.000000</td>\n",
       "      <td>6150.0000</td>\n",
       "      <td>0.000000</td>\n",
       "      <td>0.000000</td>\n",
       "      <td>6200.0</td>\n",
       "      <td>0.000000</td>\n",
       "      <td>6000.0</td>\n",
       "      <td>5400.0</td>\n",
       "      <td>0.0</td>\n",
       "      <td>0.0</td>\n",
       "      <td>5518.888889</td>\n",
       "      <td>6200.0000</td>\n",
       "    </tr>\n",
       "    <tr>\n",
       "      <th>9</th>\n",
       "      <td>Beans Dolichos (Njahi)</td>\n",
       "      <td>Bag</td>\n",
       "      <td>90.0</td>\n",
       "      <td>6495.000000</td>\n",
       "      <td>7166.250000</td>\n",
       "      <td>0.000000</td>\n",
       "      <td>7965.000000</td>\n",
       "      <td>7200.000000</td>\n",
       "      <td>9000.0000</td>\n",
       "      <td>8400.000000</td>\n",
       "      <td>0.000000</td>\n",
       "      <td>6800.0</td>\n",
       "      <td>0.000000</td>\n",
       "      <td>7200.0</td>\n",
       "      <td>9000.0</td>\n",
       "      <td>8000.0</td>\n",
       "      <td>8500.0</td>\n",
       "      <td>7793.295455</td>\n",
       "      <td>9000.0000</td>\n",
       "    </tr>\n",
       "    <tr>\n",
       "      <th>10</th>\n",
       "      <td>Green Gram</td>\n",
       "      <td>Bag</td>\n",
       "      <td>90.0</td>\n",
       "      <td>6800.000000</td>\n",
       "      <td>7515.000000</td>\n",
       "      <td>7200.000000</td>\n",
       "      <td>6300.000000</td>\n",
       "      <td>7600.000000</td>\n",
       "      <td>8005.0000</td>\n",
       "      <td>7200.000000</td>\n",
       "      <td>0.000000</td>\n",
       "      <td>6800.0</td>\n",
       "      <td>6300.000000</td>\n",
       "      <td>10800.0</td>\n",
       "      <td>8800.0</td>\n",
       "      <td>6500.0</td>\n",
       "      <td>6000.0</td>\n",
       "      <td>7370.769231</td>\n",
       "      <td>10800.0000</td>\n",
       "    </tr>\n",
       "    <tr>\n",
       "      <th>11</th>\n",
       "      <td>Cowpeas</td>\n",
       "      <td>Bag</td>\n",
       "      <td>90.0</td>\n",
       "      <td>5515.000000</td>\n",
       "      <td>4958.333333</td>\n",
       "      <td>7200.000000</td>\n",
       "      <td>6300.000000</td>\n",
       "      <td>4950.000000</td>\n",
       "      <td>6300.0000</td>\n",
       "      <td>5333.333333</td>\n",
       "      <td>0.000000</td>\n",
       "      <td>5000.0</td>\n",
       "      <td>6300.000000</td>\n",
       "      <td>0.0</td>\n",
       "      <td>7200.0</td>\n",
       "      <td>6000.0</td>\n",
       "      <td>4000.0</td>\n",
       "      <td>5754.722222</td>\n",
       "      <td>7200.0000</td>\n",
       "    </tr>\n",
       "    <tr>\n",
       "      <th>12</th>\n",
       "      <td>Fresh Peas</td>\n",
       "      <td>Bag</td>\n",
       "      <td>51.0</td>\n",
       "      <td>2827.083333</td>\n",
       "      <td>2852.083333</td>\n",
       "      <td>2468.333333</td>\n",
       "      <td>2611.250000</td>\n",
       "      <td>2084.750000</td>\n",
       "      <td>0.0000</td>\n",
       "      <td>2210.000000</td>\n",
       "      <td>0.000000</td>\n",
       "      <td>2250.0</td>\n",
       "      <td>0.000000</td>\n",
       "      <td>0.0</td>\n",
       "      <td>8000.0</td>\n",
       "      <td>3600.0</td>\n",
       "      <td>0.0</td>\n",
       "      <td>3211.500000</td>\n",
       "      <td>8000.0000</td>\n",
       "    </tr>\n",
       "    <tr>\n",
       "      <th>13</th>\n",
       "      <td>Groundnuts</td>\n",
       "      <td>Bag</td>\n",
       "      <td>110.0</td>\n",
       "      <td>12000.000000</td>\n",
       "      <td>12787.500000</td>\n",
       "      <td>9937.500000</td>\n",
       "      <td>11000.000000</td>\n",
       "      <td>10170.000000</td>\n",
       "      <td>13882.5000</td>\n",
       "      <td>11550.000000</td>\n",
       "      <td>9800.000000</td>\n",
       "      <td>13500.0</td>\n",
       "      <td>12237.500000</td>\n",
       "      <td>0.0</td>\n",
       "      <td>15000.0</td>\n",
       "      <td>15000.0</td>\n",
       "      <td>15000.0</td>\n",
       "      <td>12451.153846</td>\n",
       "      <td>15000.0000</td>\n",
       "    </tr>\n",
       "    <tr>\n",
       "      <th>14</th>\n",
       "      <td>Red Irish Potatoes</td>\n",
       "      <td>Bag</td>\n",
       "      <td>110.0</td>\n",
       "      <td>3296.666667</td>\n",
       "      <td>2200.000000</td>\n",
       "      <td>4108.333333</td>\n",
       "      <td>3110.000000</td>\n",
       "      <td>3331.666667</td>\n",
       "      <td>0.0000</td>\n",
       "      <td>2444.444444</td>\n",
       "      <td>4083.333333</td>\n",
       "      <td>4150.0</td>\n",
       "      <td>3100.000000</td>\n",
       "      <td>5650.0</td>\n",
       "      <td>5200.0</td>\n",
       "      <td>2900.0</td>\n",
       "      <td>2700.0</td>\n",
       "      <td>3559.572650</td>\n",
       "      <td>5650.0000</td>\n",
       "    </tr>\n",
       "    <tr>\n",
       "      <th>15</th>\n",
       "      <td>White Irish Potatoes</td>\n",
       "      <td>Bag</td>\n",
       "      <td>110.0</td>\n",
       "      <td>3418.333333</td>\n",
       "      <td>2694.166667</td>\n",
       "      <td>4108.333333</td>\n",
       "      <td>3110.000000</td>\n",
       "      <td>3131.666667</td>\n",
       "      <td>3486.2500</td>\n",
       "      <td>2444.444444</td>\n",
       "      <td>0.000000</td>\n",
       "      <td>3500.0</td>\n",
       "      <td>2875.000000</td>\n",
       "      <td>5650.0</td>\n",
       "      <td>5200.0</td>\n",
       "      <td>0.0</td>\n",
       "      <td>3200.0</td>\n",
       "      <td>3568.182870</td>\n",
       "      <td>5650.0000</td>\n",
       "    </tr>\n",
       "    <tr>\n",
       "      <th>16</th>\n",
       "      <td>Cassava Fresh</td>\n",
       "      <td>Bag</td>\n",
       "      <td>98.8</td>\n",
       "      <td>2101.250000</td>\n",
       "      <td>2231.250000</td>\n",
       "      <td>1752.083333</td>\n",
       "      <td>0.000000</td>\n",
       "      <td>0.000000</td>\n",
       "      <td>2873.0625</td>\n",
       "      <td>1700.000000</td>\n",
       "      <td>0.000000</td>\n",
       "      <td>800.0</td>\n",
       "      <td>0.000000</td>\n",
       "      <td>0.0</td>\n",
       "      <td>0.0</td>\n",
       "      <td>0.0</td>\n",
       "      <td>1300.0</td>\n",
       "      <td>1822.520833</td>\n",
       "      <td>2873.0625</td>\n",
       "    </tr>\n",
       "    <tr>\n",
       "      <th>17</th>\n",
       "      <td>Sweet Potatoes</td>\n",
       "      <td>Bag</td>\n",
       "      <td>98.0</td>\n",
       "      <td>3290.000000</td>\n",
       "      <td>3176.458333</td>\n",
       "      <td>1879.166667</td>\n",
       "      <td>2525.000000</td>\n",
       "      <td>1722.500000</td>\n",
       "      <td>3413.4375</td>\n",
       "      <td>1827.777778</td>\n",
       "      <td>1562.500000</td>\n",
       "      <td>4500.0</td>\n",
       "      <td>1975.000000</td>\n",
       "      <td>2500.0</td>\n",
       "      <td>8000.0</td>\n",
       "      <td>3800.0</td>\n",
       "      <td>2500.0</td>\n",
       "      <td>3047.988591</td>\n",
       "      <td>8000.0000</td>\n",
       "    </tr>\n",
       "    <tr>\n",
       "      <th>18</th>\n",
       "      <td>Cabbages</td>\n",
       "      <td>Ext Bag</td>\n",
       "      <td>126.0</td>\n",
       "      <td>1835.833333</td>\n",
       "      <td>2576.250000</td>\n",
       "      <td>866.666667</td>\n",
       "      <td>800.000000</td>\n",
       "      <td>980.000000</td>\n",
       "      <td>2000.0000</td>\n",
       "      <td>833.333333</td>\n",
       "      <td>800.000000</td>\n",
       "      <td>1500.0</td>\n",
       "      <td>2633.333333</td>\n",
       "      <td>3000.0</td>\n",
       "      <td>3000.0</td>\n",
       "      <td>700.0</td>\n",
       "      <td>480.0</td>\n",
       "      <td>1571.815476</td>\n",
       "      <td>3000.0000</td>\n",
       "    </tr>\n",
       "    <tr>\n",
       "      <th>19</th>\n",
       "      <td>Cooking Bananas</td>\n",
       "      <td>Med Bunch</td>\n",
       "      <td>22.0</td>\n",
       "      <td>622.666667</td>\n",
       "      <td>712.166667</td>\n",
       "      <td>300.000000</td>\n",
       "      <td>500.000000</td>\n",
       "      <td>890.000000</td>\n",
       "      <td>900.0000</td>\n",
       "      <td>327.777778</td>\n",
       "      <td>400.000000</td>\n",
       "      <td>450.0</td>\n",
       "      <td>850.000000</td>\n",
       "      <td>600.0</td>\n",
       "      <td>615.0</td>\n",
       "      <td>400.0</td>\n",
       "      <td>450.0</td>\n",
       "      <td>572.686508</td>\n",
       "      <td>900.0000</td>\n",
       "    </tr>\n",
       "  </tbody>\n",
       "</table>\n",
       "</div>"
      ],
      "text/plain": [
       "                 COMMODITY       Unit     Kg       Nairobi       Mombasa  \\\n",
       "0                Dry Maize        Bag   90.0   2995.000000   3100.000000   \n",
       "1              Green Maize    Ext Bag  115.0   3199.583333   5155.416667   \n",
       "2            Finger Millet        Bag   90.0   5530.000000   6525.000000   \n",
       "3                  Sorghum        Bag   90.0   3470.000000   3366.666667   \n",
       "4                    Wheat        Bag   90.0      0.000000      0.000000   \n",
       "5           Beans Canadian        Bag   90.0   5315.000000      0.000000   \n",
       "6           Beans Rosecoco        Bag   90.0   5200.000000   4995.000000   \n",
       "7         Beans Mwitemania        Bag   90.0   5070.000000   5868.750000   \n",
       "8               Mwezi Moja        Bag   90.0   5030.000000      0.000000   \n",
       "9   Beans Dolichos (Njahi)        Bag   90.0   6495.000000   7166.250000   \n",
       "10              Green Gram        Bag   90.0   6800.000000   7515.000000   \n",
       "11                 Cowpeas        Bag   90.0   5515.000000   4958.333333   \n",
       "12              Fresh Peas        Bag   51.0   2827.083333   2852.083333   \n",
       "13              Groundnuts        Bag  110.0  12000.000000  12787.500000   \n",
       "14      Red Irish Potatoes        Bag  110.0   3296.666667   2200.000000   \n",
       "15    White Irish Potatoes        Bag  110.0   3418.333333   2694.166667   \n",
       "16           Cassava Fresh        Bag   98.8   2101.250000   2231.250000   \n",
       "17          Sweet Potatoes        Bag   98.0   3290.000000   3176.458333   \n",
       "18                Cabbages    Ext Bag  126.0   1835.833333   2576.250000   \n",
       "19         Cooking Bananas  Med Bunch   22.0    622.666667    712.166667   \n",
       "\n",
       "         Kisumu        Nakuru       Eldoret     Malindi        Kitale  \\\n",
       "0   3200.000000   2380.000000   2600.000000   3240.0000   2261.111111   \n",
       "1   1990.000000   1941.666667   1725.000000   3000.0000   1200.000000   \n",
       "2   7200.000000   5311.250000   7200.000000   5602.5000   4500.000000   \n",
       "3   3416.666667   3100.000000   3200.000000   4357.5000   1830.000000   \n",
       "4      0.000000   3515.000000   2800.000000   4500.0000      0.000000   \n",
       "5   6200.000000      0.000000      0.000000   6300.0000   3733.333333   \n",
       "6   6000.000000   4800.000000   5850.000000   6015.0000   3733.333333   \n",
       "7      0.000000   4050.000000   4557.000000   6015.0000   3733.333333   \n",
       "8      0.000000   4333.333333      0.000000   6150.0000      0.000000   \n",
       "9      0.000000   7965.000000   7200.000000   9000.0000   8400.000000   \n",
       "10  7200.000000   6300.000000   7600.000000   8005.0000   7200.000000   \n",
       "11  7200.000000   6300.000000   4950.000000   6300.0000   5333.333333   \n",
       "12  2468.333333   2611.250000   2084.750000      0.0000   2210.000000   \n",
       "13  9937.500000  11000.000000  10170.000000  13882.5000  11550.000000   \n",
       "14  4108.333333   3110.000000   3331.666667      0.0000   2444.444444   \n",
       "15  4108.333333   3110.000000   3131.666667   3486.2500   2444.444444   \n",
       "16  1752.083333      0.000000      0.000000   2873.0625   1700.000000   \n",
       "17  1879.166667   2525.000000   1722.500000   3413.4375   1827.777778   \n",
       "18   866.666667    800.000000    980.000000   2000.0000    833.333333   \n",
       "19   300.000000    500.000000    890.000000    900.0000    327.777778   \n",
       "\n",
       "          Kisii    Kitui         Busia  Loitoktok  Garissa  Karatina     Embu  \\\n",
       "0   3200.000000   3400.0   2373.750000     3200.0   3600.0    2800.0   3000.0   \n",
       "1   3500.000000   2000.0   1500.000000     3250.0   6100.0    1000.0   2000.0   \n",
       "2   7300.000000   7800.0   4725.000000        0.0   7200.0    6000.0   5200.0   \n",
       "3      0.000000   4500.0   2475.000000        0.0   6500.0    3000.0   4800.0   \n",
       "4      0.000000      0.0      0.000000        0.0   5500.0    3500.0   4000.0   \n",
       "5      0.000000      0.0   4500.000000        0.0   5400.0    6500.0   5000.0   \n",
       "6   4900.000000   5600.0   4556.250000        0.0   5400.0    5500.0   5500.0   \n",
       "7      0.000000   6000.0      0.000000     5750.0   5500.0    4560.0   4000.0   \n",
       "8      0.000000   6200.0      0.000000     6000.0   5400.0       0.0      0.0   \n",
       "9      0.000000   6800.0      0.000000     7200.0   9000.0    8000.0   8500.0   \n",
       "10     0.000000   6800.0   6300.000000    10800.0   8800.0    6500.0   6000.0   \n",
       "11     0.000000   5000.0   6300.000000        0.0   7200.0    6000.0   4000.0   \n",
       "12     0.000000   2250.0      0.000000        0.0   8000.0    3600.0      0.0   \n",
       "13  9800.000000  13500.0  12237.500000        0.0  15000.0   15000.0  15000.0   \n",
       "14  4083.333333   4150.0   3100.000000     5650.0   5200.0    2900.0   2700.0   \n",
       "15     0.000000   3500.0   2875.000000     5650.0   5200.0       0.0   3200.0   \n",
       "16     0.000000    800.0      0.000000        0.0      0.0       0.0   1300.0   \n",
       "17  1562.500000   4500.0   1975.000000     2500.0   8000.0    3800.0   2500.0   \n",
       "18   800.000000   1500.0   2633.333333     3000.0   3000.0     700.0    480.0   \n",
       "19   400.000000    450.0    850.000000      600.0    615.0     400.0    450.0   \n",
       "\n",
       "         Average    Maximum.  \n",
       "0    2953.561508   3600.0000  \n",
       "1    2682.976190   6100.0000  \n",
       "2    6161.057692   7800.0000  \n",
       "3    3667.986111   6500.0000  \n",
       "4    3969.166667   5500.0000  \n",
       "5    5368.541667   6500.0000  \n",
       "6    5234.583333   6015.0000  \n",
       "7    5009.462121   6015.0000  \n",
       "8    5518.888889   6200.0000  \n",
       "9    7793.295455   9000.0000  \n",
       "10   7370.769231  10800.0000  \n",
       "11   5754.722222   7200.0000  \n",
       "12   3211.500000   8000.0000  \n",
       "13  12451.153846  15000.0000  \n",
       "14   3559.572650   5650.0000  \n",
       "15   3568.182870   5650.0000  \n",
       "16   1822.520833   2873.0625  \n",
       "17   3047.988591   8000.0000  \n",
       "18   1571.815476   3000.0000  \n",
       "19    572.686508    900.0000  "
      ]
     },
     "execution_count": 52,
     "metadata": {},
     "output_type": "execute_result"
    }
   ],
   "source": [
    "#Best selling commidity in various counties \n",
    "prices.head(20)"
   ]
  },
  {
   "cell_type": "code",
   "execution_count": 55,
   "metadata": {
    "id": "wVkO1OeyFrIw"
   },
   "outputs": [
    {
     "data": {
      "text/plain": [
       "Nairobi      13\n",
       "Mombasa      13\n",
       "Kisumu       13\n",
       "Nakuru       13\n",
       "Eldoret      13\n",
       "Malindi      13\n",
       "Kitale       13\n",
       "Kisii        13\n",
       "Kitui        13\n",
       "Busia        13\n",
       "Loitoktok    10\n",
       "Garissa      13\n",
       "Karatina     13\n",
       "Embu         13\n",
       "Average      13\n",
       "Maximum.     13\n",
       "dtype: int64"
      ]
     },
     "execution_count": 55,
     "metadata": {},
     "output_type": "execute_result"
    }
   ],
   "source": [
    "#Most popular popular product across the country\n",
    "prices.drop(columns = ['COMMODITY','Unit','Kg']).idxmax()\n",
    "\n",
    "# This shows that column that contains most expensive commodity across many counties and thats Groundnuts"
   ]
  },
  {
   "cell_type": "code",
   "execution_count": null,
   "metadata": {
    "id": "IIs6qyTBVEFD"
   },
   "outputs": [],
   "source": []
  },
  {
   "cell_type": "code",
   "execution_count": null,
   "metadata": {},
   "outputs": [],
   "source": []
  }
 ],
 "metadata": {
  "colab": {
   "collapsed_sections": [
    "GRbL2iRPoElM"
   ],
   "name": "Group Project. ipynb",
   "provenance": []
  },
  "kernelspec": {
   "display_name": "Python 3",
   "language": "python",
   "name": "python3"
  },
  "language_info": {
   "codemirror_mode": {
    "name": "ipython",
    "version": 3
   },
   "file_extension": ".py",
   "mimetype": "text/x-python",
   "name": "python",
   "nbconvert_exporter": "python",
   "pygments_lexer": "ipython3",
   "version": "3.8.5"
  }
 },
 "nbformat": 4,
 "nbformat_minor": 2
}
